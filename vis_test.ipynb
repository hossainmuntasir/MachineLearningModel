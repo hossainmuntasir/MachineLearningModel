{
 "cells": [
  {
   "cell_type": "code",
   "execution_count": 1,
   "metadata": {},
   "outputs": [],
   "source": [
    "from viz_classes import BarChartCreator, LineChartCreator, PieChartCreator\n",
    "from dash import Dash, html, Input,Output,State, callback, dcc, ctx\n",
    "import dash_bootstrap_components as dbc\n",
    "import pandas as pd\n",
    "import plotly.express as go\n",
    "import plotly.graph_objects as go\n",
    "import datetime"
   ]
  },
  {
   "cell_type": "code",
   "execution_count": 2,
   "metadata": {},
   "outputs": [
    {
     "data": {
      "text/html": [
       "<div>\n",
       "<style scoped>\n",
       "    .dataframe tbody tr th:only-of-type {\n",
       "        vertical-align: middle;\n",
       "    }\n",
       "\n",
       "    .dataframe tbody tr th {\n",
       "        vertical-align: top;\n",
       "    }\n",
       "\n",
       "    .dataframe thead th {\n",
       "        text-align: right;\n",
       "    }\n",
       "</style>\n",
       "<table border=\"1\" class=\"dataframe\">\n",
       "  <thead>\n",
       "    <tr style=\"text-align: right;\">\n",
       "      <th></th>\n",
       "      <th>building_no</th>\n",
       "      <th>Zone_name</th>\n",
       "      <th>Datetime</th>\n",
       "      <th>Season</th>\n",
       "      <th>Faulty</th>\n",
       "      <th>Fan_status</th>\n",
       "      <th>Fan_time_diff</th>\n",
       "      <th>Predicted</th>\n",
       "    </tr>\n",
       "  </thead>\n",
       "  <tbody>\n",
       "    <tr>\n",
       "      <th>0</th>\n",
       "      <td>1</td>\n",
       "      <td>ActEast</td>\n",
       "      <td>2023-03-23</td>\n",
       "      <td>2</td>\n",
       "      <td>True</td>\n",
       "      <td>None</td>\n",
       "      <td>34200.0</td>\n",
       "      <td>31053.130335</td>\n",
       "    </tr>\n",
       "    <tr>\n",
       "      <th>1</th>\n",
       "      <td>1</td>\n",
       "      <td>ActEast</td>\n",
       "      <td>2023-03-24</td>\n",
       "      <td>2</td>\n",
       "      <td>True</td>\n",
       "      <td>None</td>\n",
       "      <td>86640.0</td>\n",
       "      <td>52959.389325</td>\n",
       "    </tr>\n",
       "    <tr>\n",
       "      <th>2</th>\n",
       "      <td>1</td>\n",
       "      <td>ActEast</td>\n",
       "      <td>2023-03-25</td>\n",
       "      <td>2</td>\n",
       "      <td>True</td>\n",
       "      <td>None</td>\n",
       "      <td>86400.0</td>\n",
       "      <td>72425.248406</td>\n",
       "    </tr>\n",
       "    <tr>\n",
       "      <th>3</th>\n",
       "      <td>1</td>\n",
       "      <td>ActEast</td>\n",
       "      <td>2023-03-26</td>\n",
       "      <td>2</td>\n",
       "      <td>True</td>\n",
       "      <td>None</td>\n",
       "      <td>86400.0</td>\n",
       "      <td>56703.078787</td>\n",
       "    </tr>\n",
       "    <tr>\n",
       "      <th>4</th>\n",
       "      <td>1</td>\n",
       "      <td>ActEast</td>\n",
       "      <td>2023-03-27</td>\n",
       "      <td>2</td>\n",
       "      <td>True</td>\n",
       "      <td>None</td>\n",
       "      <td>86400.0</td>\n",
       "      <td>42406.888444</td>\n",
       "    </tr>\n",
       "  </tbody>\n",
       "</table>\n",
       "</div>"
      ],
      "text/plain": [
       "   building_no Zone_name    Datetime  Season  Faulty Fan_status  \\\n",
       "0            1   ActEast  2023-03-23       2    True       None   \n",
       "1            1   ActEast  2023-03-24       2    True       None   \n",
       "2            1   ActEast  2023-03-25       2    True       None   \n",
       "3            1   ActEast  2023-03-26       2    True       None   \n",
       "4            1   ActEast  2023-03-27       2    True       None   \n",
       "\n",
       "   Fan_time_diff     Predicted  \n",
       "0        34200.0  31053.130335  \n",
       "1        86640.0  52959.389325  \n",
       "2        86400.0  72425.248406  \n",
       "3        86400.0  56703.078787  \n",
       "4        86400.0  42406.888444  "
      ]
     },
     "execution_count": 2,
     "metadata": {},
     "output_type": "execute_result"
    }
   ],
   "source": [
    "df = pd.read_parquet(\"summary_all.parquet\")\n",
    "df.head()"
   ]
  },
  {
   "cell_type": "code",
   "execution_count": 3,
   "metadata": {},
   "outputs": [
    {
     "data": {
      "application/vnd.plotly.v1+json": {
       "config": {
        "plotlyServerURL": "https://plot.ly"
       },
       "data": [
        {
         "marker": {
          "color": "#EF553B",
          "cornerradius": 5,
          "line": {
           "color": "black",
           "width": 0.5
          },
          "opacity": 0.6
         },
         "name": "Acu101",
         "opacity": 0.6,
         "showlegend": false,
         "type": "bar",
         "x": [
          "Acu101"
         ],
         "y": [
          5856.6466666666665
         ]
        },
        {
         "marker": {
          "color": "#00CC96",
          "cornerradius": 5,
          "line": {
           "color": "black",
           "width": 0.5
          },
          "opacity": 0.6
         },
         "name": "Acu101",
         "opacity": 0.6,
         "showlegend": false,
         "type": "bar",
         "width": 0.65,
         "x": [
          "Acu101"
         ],
         "y": [
          4013.719971309773
         ]
        },
        {
         "marker": {
          "color": "#EF553B",
          "cornerradius": 5,
          "line": {
           "color": "black",
           "width": 0.5
          },
          "opacity": 0.6
         },
         "name": "Acu102",
         "opacity": 0.6,
         "showlegend": false,
         "type": "bar",
         "x": [
          "Acu102"
         ],
         "y": [
          5856.6466666666665
         ]
        },
        {
         "marker": {
          "color": "#00CC96",
          "cornerradius": 5,
          "line": {
           "color": "black",
           "width": 0.5
          },
          "opacity": 0.6
         },
         "name": "Acu102",
         "opacity": 0.6,
         "showlegend": false,
         "type": "bar",
         "width": 0.65,
         "x": [
          "Acu102"
         ],
         "y": [
          3993.6965305208855
         ]
        },
        {
         "marker": {
          "color": "#EF553B",
          "cornerradius": 5,
          "line": {
           "color": "black",
           "width": 0.5
          },
          "opacity": 0.6
         },
         "name": "Acu103",
         "opacity": 0.6,
         "showlegend": false,
         "type": "bar",
         "x": [
          "Acu103"
         ],
         "y": [
          5856.6466666666665
         ]
        },
        {
         "marker": {
          "color": "#00CC96",
          "cornerradius": 5,
          "line": {
           "color": "black",
           "width": 0.5
          },
          "opacity": 0.6
         },
         "name": "Acu103",
         "opacity": 0.6,
         "showlegend": false,
         "type": "bar",
         "width": 0.65,
         "x": [
          "Acu103"
         ],
         "y": [
          3997.2784468037903
         ]
        },
        {
         "marker": {
          "color": "#EF553B",
          "cornerradius": 5,
          "line": {
           "color": "black",
           "width": 0.5
          },
          "opacity": 0.6
         },
         "name": "Acu104",
         "opacity": 0.6,
         "showlegend": false,
         "type": "bar",
         "x": [
          "Acu104"
         ],
         "y": [
          5772.814722222222
         ]
        },
        {
         "marker": {
          "color": "#00CC96",
          "cornerradius": 5,
          "line": {
           "color": "black",
           "width": 0.5
          },
          "opacity": 0.6
         },
         "name": "Acu104",
         "opacity": 0.6,
         "showlegend": false,
         "type": "bar",
         "width": 0.65,
         "x": [
          "Acu104"
         ],
         "y": [
          3902.100328775281
         ]
        },
        {
         "marker": {
          "color": "#EF553B",
          "cornerradius": 5,
          "line": {
           "color": "black",
           "width": 0.5
          },
          "opacity": 0.6
         },
         "name": "Acu105",
         "opacity": 0.6,
         "showlegend": false,
         "type": "bar",
         "x": [
          "Acu105"
         ],
         "y": [
          5762.316666666667
         ]
        },
        {
         "marker": {
          "color": "#00CC96",
          "cornerradius": 5,
          "line": {
           "color": "black",
           "width": 0.5
          },
          "opacity": 0.6
         },
         "name": "Acu105",
         "opacity": 0.6,
         "showlegend": false,
         "type": "bar",
         "width": 0.65,
         "x": [
          "Acu105"
         ],
         "y": [
          3849.5367847546268
         ]
        },
        {
         "marker": {
          "color": "#EF553B",
          "cornerradius": 5,
          "line": {
           "color": "black",
           "width": 0.5
          },
          "opacity": 0.6
         },
         "name": "Acu106",
         "opacity": 0.6,
         "showlegend": false,
         "type": "bar",
         "x": [
          "Acu106"
         ],
         "y": [
          5761.815277777778
         ]
        },
        {
         "marker": {
          "color": "#00CC96",
          "cornerradius": 5,
          "line": {
           "color": "black",
           "width": 0.5
          },
          "opacity": 0.6
         },
         "name": "Acu106",
         "opacity": 0.6,
         "showlegend": false,
         "type": "bar",
         "width": 0.65,
         "x": [
          "Acu106"
         ],
         "y": [
          3812.0553451651035
         ]
        },
        {
         "marker": {
          "color": "#EF553B",
          "cornerradius": 5,
          "line": {
           "color": "black",
           "width": 0.5
          },
          "opacity": 0.6
         },
         "name": "Acu107",
         "opacity": 0.6,
         "showlegend": false,
         "type": "bar",
         "x": [
          "Acu107"
         ],
         "y": [
          7143.168888888889
         ]
        },
        {
         "marker": {
          "color": "#00CC96",
          "cornerradius": 5,
          "line": {
           "color": "black",
           "width": 0.5
          },
          "opacity": 0.6
         },
         "name": "Acu107",
         "opacity": 0.6,
         "showlegend": false,
         "type": "bar",
         "width": 0.65,
         "x": [
          "Acu107"
         ],
         "y": [
          4883.011505669382
         ]
        },
        {
         "marker": {
          "color": "#EF553B",
          "cornerradius": 5,
          "line": {
           "color": "black",
           "width": 0.5
          },
          "opacity": 0.6
         },
         "name": "Acu201",
         "opacity": 0.6,
         "showlegend": false,
         "type": "bar",
         "x": [
          "Acu201"
         ],
         "y": [
          6060.986111111111
         ]
        },
        {
         "marker": {
          "color": "#00CC96",
          "cornerradius": 5,
          "line": {
           "color": "black",
           "width": 0.5
          },
          "opacity": 0.6
         },
         "name": "Acu201",
         "opacity": 0.6,
         "showlegend": false,
         "type": "bar",
         "width": 0.65,
         "x": [
          "Acu201"
         ],
         "y": [
          4111.1317742613855
         ]
        },
        {
         "marker": {
          "color": "#EF553B",
          "cornerradius": 5,
          "line": {
           "color": "black",
           "width": 0.5
          },
          "opacity": 0.6
         },
         "name": "Acu202",
         "opacity": 0.6,
         "showlegend": false,
         "type": "bar",
         "x": [
          "Acu202"
         ],
         "y": [
          6001.486111111111
         ]
        },
        {
         "marker": {
          "color": "#00CC96",
          "cornerradius": 5,
          "line": {
           "color": "black",
           "width": 0.5
          },
          "opacity": 0.6
         },
         "name": "Acu202",
         "opacity": 0.6,
         "showlegend": false,
         "type": "bar",
         "width": 0.65,
         "x": [
          "Acu202"
         ],
         "y": [
          3983.3867624553177
         ]
        },
        {
         "marker": {
          "color": "#EF553B",
          "cornerradius": 5,
          "line": {
           "color": "black",
           "width": 0.5
          },
          "opacity": 0.6
         },
         "name": "Acu203",
         "opacity": 0.6,
         "showlegend": false,
         "type": "bar",
         "x": [
          "Acu203"
         ],
         "y": [
          6060.986111111111
         ]
        },
        {
         "marker": {
          "color": "#00CC96",
          "cornerradius": 5,
          "line": {
           "color": "black",
           "width": 0.5
          },
          "opacity": 0.6
         },
         "name": "Acu203",
         "opacity": 0.6,
         "showlegend": false,
         "type": "bar",
         "width": 0.65,
         "x": [
          "Acu203"
         ],
         "y": [
          4260.605866655675
         ]
        },
        {
         "marker": {
          "color": "#EF553B",
          "cornerradius": 5,
          "line": {
           "color": "black",
           "width": 0.5
          },
          "opacity": 0.6
         },
         "name": "Acu204",
         "opacity": 0.6,
         "showlegend": false,
         "type": "bar",
         "x": [
          "Acu204"
         ],
         "y": [
          6060.986111111111
         ]
        },
        {
         "marker": {
          "color": "#00CC96",
          "cornerradius": 5,
          "line": {
           "color": "black",
           "width": 0.5
          },
          "opacity": 0.6
         },
         "name": "Acu204",
         "opacity": 0.6,
         "showlegend": false,
         "type": "bar",
         "width": 0.65,
         "x": [
          "Acu204"
         ],
         "y": [
          3977.759764488564
         ]
        },
        {
         "marker": {
          "color": "#EF553B",
          "cornerradius": 5,
          "line": {
           "color": "black",
           "width": 0.5
          },
          "opacity": 0.6
         },
         "name": "Acu205",
         "opacity": 0.6,
         "showlegend": false,
         "type": "bar",
         "x": [
          "Acu205"
         ],
         "y": [
          6060.986111111111
         ]
        },
        {
         "marker": {
          "color": "#00CC96",
          "cornerradius": 5,
          "line": {
           "color": "black",
           "width": 0.5
          },
          "opacity": 0.6
         },
         "name": "Acu205",
         "opacity": 0.6,
         "showlegend": false,
         "type": "bar",
         "width": 0.65,
         "x": [
          "Acu205"
         ],
         "y": [
          4159.531108922843
         ]
        },
        {
         "marker": {
          "color": "#EF553B",
          "cornerradius": 5,
          "line": {
           "color": "black",
           "width": 0.5
          },
          "opacity": 0.6
         },
         "name": "Acu206",
         "opacity": 0.6,
         "showlegend": false,
         "type": "bar",
         "x": [
          "Acu206"
         ],
         "y": [
          6060.986111111111
         ]
        },
        {
         "marker": {
          "color": "#00CC96",
          "cornerradius": 5,
          "line": {
           "color": "black",
           "width": 0.5
          },
          "opacity": 0.6
         },
         "name": "Acu206",
         "opacity": 0.6,
         "showlegend": false,
         "type": "bar",
         "width": 0.65,
         "x": [
          "Acu206"
         ],
         "y": [
          3970.0361631064757
         ]
        },
        {
         "marker": {
          "color": "#EF553B",
          "cornerradius": 5,
          "line": {
           "color": "black",
           "width": 0.5
          },
          "opacity": 0.6
         },
         "name": "Acu207",
         "opacity": 0.6,
         "showlegend": false,
         "type": "bar",
         "x": [
          "Acu207"
         ],
         "y": [
          6060.986111111111
         ]
        },
        {
         "marker": {
          "color": "#00CC96",
          "cornerradius": 5,
          "line": {
           "color": "black",
           "width": 0.5
          },
          "opacity": 0.6
         },
         "name": "Acu207",
         "opacity": 0.6,
         "showlegend": false,
         "type": "bar",
         "width": 0.65,
         "x": [
          "Acu207"
         ],
         "y": [
          4120.104104880406
         ]
        },
        {
         "marker": {
          "color": "#EF553B",
          "cornerradius": 5,
          "line": {
           "color": "black",
           "width": 0.5
          },
          "opacity": 0.6
         },
         "name": "Acu301",
         "opacity": 0.6,
         "showlegend": false,
         "type": "bar",
         "x": [
          "Acu301"
         ],
         "y": [
          6013.984444444444
         ]
        },
        {
         "marker": {
          "color": "#00CC96",
          "cornerradius": 5,
          "line": {
           "color": "black",
           "width": 0.5
          },
          "opacity": 0.6
         },
         "name": "Acu301",
         "opacity": 0.6,
         "showlegend": false,
         "type": "bar",
         "width": 0.65,
         "x": [
          "Acu301"
         ],
         "y": [
          4113.983207481943
         ]
        },
        {
         "marker": {
          "color": "#EF553B",
          "cornerradius": 5,
          "line": {
           "color": "black",
           "width": 0.5
          },
          "opacity": 0.6
         },
         "name": "Acu302",
         "opacity": 0.6,
         "showlegend": false,
         "type": "bar",
         "x": [
          "Acu302"
         ],
         "y": [
          6013.984444444444
         ]
        },
        {
         "marker": {
          "color": "#00CC96",
          "cornerradius": 5,
          "line": {
           "color": "black",
           "width": 0.5
          },
          "opacity": 0.6
         },
         "name": "Acu302",
         "opacity": 0.6,
         "showlegend": false,
         "type": "bar",
         "width": 0.65,
         "x": [
          "Acu302"
         ],
         "y": [
          4018.4109841571667
         ]
        },
        {
         "marker": {
          "color": "#EF553B",
          "cornerradius": 5,
          "line": {
           "color": "black",
           "width": 0.5
          },
          "opacity": 0.6
         },
         "name": "Acu303",
         "opacity": 0.6,
         "showlegend": false,
         "type": "bar",
         "x": [
          "Acu303"
         ],
         "y": [
          6013.984444444444
         ]
        },
        {
         "marker": {
          "color": "#00CC96",
          "cornerradius": 5,
          "line": {
           "color": "black",
           "width": 0.5
          },
          "opacity": 0.6
         },
         "name": "Acu303",
         "opacity": 0.6,
         "showlegend": false,
         "type": "bar",
         "width": 0.65,
         "x": [
          "Acu303"
         ],
         "y": [
          4016.6778004453267
         ]
        },
        {
         "marker": {
          "color": "#EF553B",
          "cornerradius": 5,
          "line": {
           "color": "black",
           "width": 0.5
          },
          "opacity": 0.6
         },
         "name": "Acu304",
         "opacity": 0.6,
         "showlegend": false,
         "type": "bar",
         "x": [
          "Acu304"
         ],
         "y": [
          6013.984444444444
         ]
        },
        {
         "marker": {
          "color": "#00CC96",
          "cornerradius": 5,
          "line": {
           "color": "black",
           "width": 0.5
          },
          "opacity": 0.6
         },
         "name": "Acu304",
         "opacity": 0.6,
         "showlegend": false,
         "type": "bar",
         "width": 0.65,
         "x": [
          "Acu304"
         ],
         "y": [
          4012.9676177539086
         ]
        },
        {
         "marker": {
          "color": "#EF553B",
          "cornerradius": 5,
          "line": {
           "color": "black",
           "width": 0.5
          },
          "opacity": 0.6
         },
         "name": "Acu305",
         "opacity": 0.6,
         "showlegend": false,
         "type": "bar",
         "x": [
          "Acu305"
         ],
         "y": [
          6013.984444444444
         ]
        },
        {
         "marker": {
          "color": "#00CC96",
          "cornerradius": 5,
          "line": {
           "color": "black",
           "width": 0.5
          },
          "opacity": 0.6
         },
         "name": "Acu305",
         "opacity": 0.6,
         "showlegend": false,
         "type": "bar",
         "width": 0.65,
         "x": [
          "Acu305"
         ],
         "y": [
          4032.4245800345175
         ]
        },
        {
         "marker": {
          "color": "#EF553B",
          "cornerradius": 5,
          "line": {
           "color": "black",
           "width": 0.5
          },
          "opacity": 0.6
         },
         "name": "Acu306",
         "opacity": 0.6,
         "showlegend": false,
         "type": "bar",
         "x": [
          "Acu306"
         ],
         "y": [
          6013.984444444444
         ]
        },
        {
         "marker": {
          "color": "#00CC96",
          "cornerradius": 5,
          "line": {
           "color": "black",
           "width": 0.5
          },
          "opacity": 0.6
         },
         "name": "Acu306",
         "opacity": 0.6,
         "showlegend": false,
         "type": "bar",
         "width": 0.65,
         "x": [
          "Acu306"
         ],
         "y": [
          4065.7183589320393
         ]
        },
        {
         "marker": {
          "color": "#EF553B",
          "cornerradius": 5,
          "line": {
           "color": "black",
           "width": 0.5
          },
          "opacity": 0.6
         },
         "name": "Acu307",
         "opacity": 0.6,
         "showlegend": false,
         "type": "bar",
         "x": [
          "Acu307"
         ],
         "y": [
          6013.984444444444
         ]
        },
        {
         "marker": {
          "color": "#00CC96",
          "cornerradius": 5,
          "line": {
           "color": "black",
           "width": 0.5
          },
          "opacity": 0.6
         },
         "name": "Acu307",
         "opacity": 0.6,
         "showlegend": false,
         "type": "bar",
         "width": 0.65,
         "x": [
          "Acu307"
         ],
         "y": [
          4070.5411188111516
         ]
        },
        {
         "marker": {
          "color": "#EF553B",
          "cornerradius": 5,
          "line": {
           "color": "black",
           "width": 0.5
          },
          "opacity": 0.6
         },
         "name": "Acu308",
         "opacity": 0.6,
         "showlegend": false,
         "type": "bar",
         "x": [
          "Acu308"
         ],
         "y": [
          6013.984444444444
         ]
        },
        {
         "marker": {
          "color": "#00CC96",
          "cornerradius": 5,
          "line": {
           "color": "black",
           "width": 0.5
          },
          "opacity": 0.6
         },
         "name": "Acu308",
         "opacity": 0.6,
         "showlegend": false,
         "type": "bar",
         "width": 0.65,
         "x": [
          "Acu308"
         ],
         "y": [
          4079.4598377507286
         ]
        },
        {
         "marker": {
          "color": "#EF553B"
         },
         "name": "Actual",
         "type": "bar",
         "x": [
          null
         ],
         "y": [
          null
         ]
        },
        {
         "marker": {
          "color": "#00CC96"
         },
         "name": "Predicted",
         "type": "bar",
         "x": [
          null
         ],
         "y": [
          null
         ]
        }
       ],
       "layout": {
        "barmode": "overlay",
        "legend": {
         "orientation": "h",
         "x": 1,
         "xanchor": "right",
         "y": 1,
         "yanchor": "bottom"
        },
        "margin": {
         "b": 50,
         "l": 50,
         "r": 50,
         "t": 50
        },
        "template": {
         "data": {
          "bar": [
           {
            "error_x": {
             "color": "#2a3f5f"
            },
            "error_y": {
             "color": "#2a3f5f"
            },
            "marker": {
             "line": {
              "color": "#E5ECF6",
              "width": 0.5
             },
             "pattern": {
              "fillmode": "overlay",
              "size": 10,
              "solidity": 0.2
             }
            },
            "type": "bar"
           }
          ],
          "barpolar": [
           {
            "marker": {
             "line": {
              "color": "#E5ECF6",
              "width": 0.5
             },
             "pattern": {
              "fillmode": "overlay",
              "size": 10,
              "solidity": 0.2
             }
            },
            "type": "barpolar"
           }
          ],
          "carpet": [
           {
            "aaxis": {
             "endlinecolor": "#2a3f5f",
             "gridcolor": "white",
             "linecolor": "white",
             "minorgridcolor": "white",
             "startlinecolor": "#2a3f5f"
            },
            "baxis": {
             "endlinecolor": "#2a3f5f",
             "gridcolor": "white",
             "linecolor": "white",
             "minorgridcolor": "white",
             "startlinecolor": "#2a3f5f"
            },
            "type": "carpet"
           }
          ],
          "choropleth": [
           {
            "colorbar": {
             "outlinewidth": 0,
             "ticks": ""
            },
            "type": "choropleth"
           }
          ],
          "contour": [
           {
            "colorbar": {
             "outlinewidth": 0,
             "ticks": ""
            },
            "colorscale": [
             [
              0,
              "#0d0887"
             ],
             [
              0.1111111111111111,
              "#46039f"
             ],
             [
              0.2222222222222222,
              "#7201a8"
             ],
             [
              0.3333333333333333,
              "#9c179e"
             ],
             [
              0.4444444444444444,
              "#bd3786"
             ],
             [
              0.5555555555555556,
              "#d8576b"
             ],
             [
              0.6666666666666666,
              "#ed7953"
             ],
             [
              0.7777777777777778,
              "#fb9f3a"
             ],
             [
              0.8888888888888888,
              "#fdca26"
             ],
             [
              1,
              "#f0f921"
             ]
            ],
            "type": "contour"
           }
          ],
          "contourcarpet": [
           {
            "colorbar": {
             "outlinewidth": 0,
             "ticks": ""
            },
            "type": "contourcarpet"
           }
          ],
          "heatmap": [
           {
            "colorbar": {
             "outlinewidth": 0,
             "ticks": ""
            },
            "colorscale": [
             [
              0,
              "#0d0887"
             ],
             [
              0.1111111111111111,
              "#46039f"
             ],
             [
              0.2222222222222222,
              "#7201a8"
             ],
             [
              0.3333333333333333,
              "#9c179e"
             ],
             [
              0.4444444444444444,
              "#bd3786"
             ],
             [
              0.5555555555555556,
              "#d8576b"
             ],
             [
              0.6666666666666666,
              "#ed7953"
             ],
             [
              0.7777777777777778,
              "#fb9f3a"
             ],
             [
              0.8888888888888888,
              "#fdca26"
             ],
             [
              1,
              "#f0f921"
             ]
            ],
            "type": "heatmap"
           }
          ],
          "heatmapgl": [
           {
            "colorbar": {
             "outlinewidth": 0,
             "ticks": ""
            },
            "colorscale": [
             [
              0,
              "#0d0887"
             ],
             [
              0.1111111111111111,
              "#46039f"
             ],
             [
              0.2222222222222222,
              "#7201a8"
             ],
             [
              0.3333333333333333,
              "#9c179e"
             ],
             [
              0.4444444444444444,
              "#bd3786"
             ],
             [
              0.5555555555555556,
              "#d8576b"
             ],
             [
              0.6666666666666666,
              "#ed7953"
             ],
             [
              0.7777777777777778,
              "#fb9f3a"
             ],
             [
              0.8888888888888888,
              "#fdca26"
             ],
             [
              1,
              "#f0f921"
             ]
            ],
            "type": "heatmapgl"
           }
          ],
          "histogram": [
           {
            "marker": {
             "pattern": {
              "fillmode": "overlay",
              "size": 10,
              "solidity": 0.2
             }
            },
            "type": "histogram"
           }
          ],
          "histogram2d": [
           {
            "colorbar": {
             "outlinewidth": 0,
             "ticks": ""
            },
            "colorscale": [
             [
              0,
              "#0d0887"
             ],
             [
              0.1111111111111111,
              "#46039f"
             ],
             [
              0.2222222222222222,
              "#7201a8"
             ],
             [
              0.3333333333333333,
              "#9c179e"
             ],
             [
              0.4444444444444444,
              "#bd3786"
             ],
             [
              0.5555555555555556,
              "#d8576b"
             ],
             [
              0.6666666666666666,
              "#ed7953"
             ],
             [
              0.7777777777777778,
              "#fb9f3a"
             ],
             [
              0.8888888888888888,
              "#fdca26"
             ],
             [
              1,
              "#f0f921"
             ]
            ],
            "type": "histogram2d"
           }
          ],
          "histogram2dcontour": [
           {
            "colorbar": {
             "outlinewidth": 0,
             "ticks": ""
            },
            "colorscale": [
             [
              0,
              "#0d0887"
             ],
             [
              0.1111111111111111,
              "#46039f"
             ],
             [
              0.2222222222222222,
              "#7201a8"
             ],
             [
              0.3333333333333333,
              "#9c179e"
             ],
             [
              0.4444444444444444,
              "#bd3786"
             ],
             [
              0.5555555555555556,
              "#d8576b"
             ],
             [
              0.6666666666666666,
              "#ed7953"
             ],
             [
              0.7777777777777778,
              "#fb9f3a"
             ],
             [
              0.8888888888888888,
              "#fdca26"
             ],
             [
              1,
              "#f0f921"
             ]
            ],
            "type": "histogram2dcontour"
           }
          ],
          "mesh3d": [
           {
            "colorbar": {
             "outlinewidth": 0,
             "ticks": ""
            },
            "type": "mesh3d"
           }
          ],
          "parcoords": [
           {
            "line": {
             "colorbar": {
              "outlinewidth": 0,
              "ticks": ""
             }
            },
            "type": "parcoords"
           }
          ],
          "pie": [
           {
            "automargin": true,
            "type": "pie"
           }
          ],
          "scatter": [
           {
            "fillpattern": {
             "fillmode": "overlay",
             "size": 10,
             "solidity": 0.2
            },
            "type": "scatter"
           }
          ],
          "scatter3d": [
           {
            "line": {
             "colorbar": {
              "outlinewidth": 0,
              "ticks": ""
             }
            },
            "marker": {
             "colorbar": {
              "outlinewidth": 0,
              "ticks": ""
             }
            },
            "type": "scatter3d"
           }
          ],
          "scattercarpet": [
           {
            "marker": {
             "colorbar": {
              "outlinewidth": 0,
              "ticks": ""
             }
            },
            "type": "scattercarpet"
           }
          ],
          "scattergeo": [
           {
            "marker": {
             "colorbar": {
              "outlinewidth": 0,
              "ticks": ""
             }
            },
            "type": "scattergeo"
           }
          ],
          "scattergl": [
           {
            "marker": {
             "colorbar": {
              "outlinewidth": 0,
              "ticks": ""
             }
            },
            "type": "scattergl"
           }
          ],
          "scattermapbox": [
           {
            "marker": {
             "colorbar": {
              "outlinewidth": 0,
              "ticks": ""
             }
            },
            "type": "scattermapbox"
           }
          ],
          "scatterpolar": [
           {
            "marker": {
             "colorbar": {
              "outlinewidth": 0,
              "ticks": ""
             }
            },
            "type": "scatterpolar"
           }
          ],
          "scatterpolargl": [
           {
            "marker": {
             "colorbar": {
              "outlinewidth": 0,
              "ticks": ""
             }
            },
            "type": "scatterpolargl"
           }
          ],
          "scatterternary": [
           {
            "marker": {
             "colorbar": {
              "outlinewidth": 0,
              "ticks": ""
             }
            },
            "type": "scatterternary"
           }
          ],
          "surface": [
           {
            "colorbar": {
             "outlinewidth": 0,
             "ticks": ""
            },
            "colorscale": [
             [
              0,
              "#0d0887"
             ],
             [
              0.1111111111111111,
              "#46039f"
             ],
             [
              0.2222222222222222,
              "#7201a8"
             ],
             [
              0.3333333333333333,
              "#9c179e"
             ],
             [
              0.4444444444444444,
              "#bd3786"
             ],
             [
              0.5555555555555556,
              "#d8576b"
             ],
             [
              0.6666666666666666,
              "#ed7953"
             ],
             [
              0.7777777777777778,
              "#fb9f3a"
             ],
             [
              0.8888888888888888,
              "#fdca26"
             ],
             [
              1,
              "#f0f921"
             ]
            ],
            "type": "surface"
           }
          ],
          "table": [
           {
            "cells": {
             "fill": {
              "color": "#EBF0F8"
             },
             "line": {
              "color": "white"
             }
            },
            "header": {
             "fill": {
              "color": "#C8D4E3"
             },
             "line": {
              "color": "white"
             }
            },
            "type": "table"
           }
          ]
         },
         "layout": {
          "annotationdefaults": {
           "arrowcolor": "#2a3f5f",
           "arrowhead": 0,
           "arrowwidth": 1
          },
          "autotypenumbers": "strict",
          "coloraxis": {
           "colorbar": {
            "outlinewidth": 0,
            "ticks": ""
           }
          },
          "colorscale": {
           "diverging": [
            [
             0,
             "#8e0152"
            ],
            [
             0.1,
             "#c51b7d"
            ],
            [
             0.2,
             "#de77ae"
            ],
            [
             0.3,
             "#f1b6da"
            ],
            [
             0.4,
             "#fde0ef"
            ],
            [
             0.5,
             "#f7f7f7"
            ],
            [
             0.6,
             "#e6f5d0"
            ],
            [
             0.7,
             "#b8e186"
            ],
            [
             0.8,
             "#7fbc41"
            ],
            [
             0.9,
             "#4d9221"
            ],
            [
             1,
             "#276419"
            ]
           ],
           "sequential": [
            [
             0,
             "#0d0887"
            ],
            [
             0.1111111111111111,
             "#46039f"
            ],
            [
             0.2222222222222222,
             "#7201a8"
            ],
            [
             0.3333333333333333,
             "#9c179e"
            ],
            [
             0.4444444444444444,
             "#bd3786"
            ],
            [
             0.5555555555555556,
             "#d8576b"
            ],
            [
             0.6666666666666666,
             "#ed7953"
            ],
            [
             0.7777777777777778,
             "#fb9f3a"
            ],
            [
             0.8888888888888888,
             "#fdca26"
            ],
            [
             1,
             "#f0f921"
            ]
           ],
           "sequentialminus": [
            [
             0,
             "#0d0887"
            ],
            [
             0.1111111111111111,
             "#46039f"
            ],
            [
             0.2222222222222222,
             "#7201a8"
            ],
            [
             0.3333333333333333,
             "#9c179e"
            ],
            [
             0.4444444444444444,
             "#bd3786"
            ],
            [
             0.5555555555555556,
             "#d8576b"
            ],
            [
             0.6666666666666666,
             "#ed7953"
            ],
            [
             0.7777777777777778,
             "#fb9f3a"
            ],
            [
             0.8888888888888888,
             "#fdca26"
            ],
            [
             1,
             "#f0f921"
            ]
           ]
          },
          "colorway": [
           "#636efa",
           "#EF553B",
           "#00cc96",
           "#ab63fa",
           "#FFA15A",
           "#19d3f3",
           "#FF6692",
           "#B6E880",
           "#FF97FF",
           "#FECB52"
          ],
          "font": {
           "color": "#2a3f5f"
          },
          "geo": {
           "bgcolor": "white",
           "lakecolor": "white",
           "landcolor": "#E5ECF6",
           "showlakes": true,
           "showland": true,
           "subunitcolor": "white"
          },
          "hoverlabel": {
           "align": "left"
          },
          "hovermode": "closest",
          "mapbox": {
           "style": "light"
          },
          "paper_bgcolor": "white",
          "plot_bgcolor": "#E5ECF6",
          "polar": {
           "angularaxis": {
            "gridcolor": "white",
            "linecolor": "white",
            "ticks": ""
           },
           "bgcolor": "#E5ECF6",
           "radialaxis": {
            "gridcolor": "white",
            "linecolor": "white",
            "ticks": ""
           }
          },
          "scene": {
           "xaxis": {
            "backgroundcolor": "#E5ECF6",
            "gridcolor": "white",
            "gridwidth": 2,
            "linecolor": "white",
            "showbackground": true,
            "ticks": "",
            "zerolinecolor": "white"
           },
           "yaxis": {
            "backgroundcolor": "#E5ECF6",
            "gridcolor": "white",
            "gridwidth": 2,
            "linecolor": "white",
            "showbackground": true,
            "ticks": "",
            "zerolinecolor": "white"
           },
           "zaxis": {
            "backgroundcolor": "#E5ECF6",
            "gridcolor": "white",
            "gridwidth": 2,
            "linecolor": "white",
            "showbackground": true,
            "ticks": "",
            "zerolinecolor": "white"
           }
          },
          "shapedefaults": {
           "line": {
            "color": "#2a3f5f"
           }
          },
          "ternary": {
           "aaxis": {
            "gridcolor": "white",
            "linecolor": "white",
            "ticks": ""
           },
           "baxis": {
            "gridcolor": "white",
            "linecolor": "white",
            "ticks": ""
           },
           "bgcolor": "#E5ECF6",
           "caxis": {
            "gridcolor": "white",
            "linecolor": "white",
            "ticks": ""
           }
          },
          "title": {
           "x": 0.05
          },
          "xaxis": {
           "automargin": true,
           "gridcolor": "white",
           "linecolor": "white",
           "ticks": "",
           "title": {
            "standoff": 15
           },
           "zerolinecolor": "white",
           "zerolinewidth": 2
          },
          "yaxis": {
           "automargin": true,
           "gridcolor": "white",
           "linecolor": "white",
           "ticks": "",
           "title": {
            "standoff": 15
           },
           "zerolinecolor": "white",
           "zerolinewidth": 2
          }
         }
        },
        "xaxis": {
         "title": {
          "text": "<b>Building 1 Zones</b>"
         }
        },
        "yaxis": {
         "title": {
          "text": "<b>Total Time Fan On (hours)</b>"
         }
        }
       }
      }
     },
     "metadata": {},
     "output_type": "display_data"
    }
   ],
   "source": [
    "initial_bar = BarChartCreator(df,1)\n",
    "initial_bar.fig"
   ]
  },
  {
   "cell_type": "code",
   "execution_count": 4,
   "metadata": {},
   "outputs": [
    {
     "data": {
      "text/plain": [
       "15370"
      ]
     },
     "execution_count": 4,
     "metadata": {},
     "output_type": "execute_result"
    }
   ],
   "source": [
    "df_1 = df[df['building_no'] == 1]\n",
    "len(df_1)"
   ]
  },
  {
   "cell_type": "code",
   "execution_count": 5,
   "metadata": {},
   "outputs": [
    {
     "data": {
      "text/html": [
       "\n",
       "        <iframe\n",
       "            width=\"100%\"\n",
       "            height=\"650\"\n",
       "            src=\"http://127.0.0.1:8000/\"\n",
       "            frameborder=\"0\"\n",
       "            allowfullscreen\n",
       "            \n",
       "        ></iframe>\n",
       "        "
      ],
      "text/plain": [
       "<IPython.lib.display.IFrame at 0x238dc003450>"
      ]
     },
     "metadata": {},
     "output_type": "display_data"
    }
   ],
   "source": [
    "building_no = 1\n",
    "selected_zone = None\n",
    "initial_bar = BarChartCreator(df_1, building_no)\n",
    "initial_pie = PieChartCreator(df_1, building_no, 'Acu101')\n",
    "initial_line = LineChartCreator(df_1, building_no,'Acu101')\n",
    "app = Dash(__name__, external_stylesheets=[dbc.themes.BOOTSTRAP])\n",
    "app.layout = dbc.Container([\n",
    "    dbc.Row([\n",
    "        html.Div(building_no, id='building_no', hidden=True),\n",
    "        html.H1(f\"Building {building_no} Savings\"),\n",
    "    ]),\n",
    "    dbc.Row([\n",
    "        dbc.Col([\n",
    "            dcc.Graph(id=\"bar-graph\",figure=initial_bar.fig,style={\"height\":\"300px\"})\n",
    "        ],width=9),\n",
    "        dbc.Col([\n",
    "            dcc.Graph(id=\"pie-chart\",figure=initial_pie.fig,style={\"height\":\"300px\"})\n",
    "        ],width = 3)\n",
    "    ]),\n",
    "    html.Br(),\n",
    "    dbc.Row([\n",
    "        dbc.Col([\n",
    "                dcc.Graph(id=\"line-chart\",figure=initial_line.fig,style={\"height\":\"300px\"})\n",
    "        ], width=9),\n",
    "        dbc.Col([\n",
    "            html.P([\n",
    "                html.B('Group fan status by:'),\n",
    "                html.Br(),\n",
    "                dcc.Dropdown(\n",
    "                    options=[\n",
    "                        {'label':'Day','value':'day'},\n",
    "                        {'label':'Week','value':'week'},\n",
    "                        {'label':'Month','value':'month'}\n",
    "                    ],\n",
    "                    clearable=False,\n",
    "                    value=\"day\",\n",
    "                    id=\"agg-type\",\n",
    "                )\n",
    "            ]),\n",
    "            \n",
    "            html.P([\n",
    "                html.B('Date Range:'),\n",
    "                html.Br(),\n",
    "                dcc.DatePickerRange(\n",
    "                    min_date_allowed=df_1[df_1.building_no==building_no].Datetime.min(),\n",
    "                    max_date_allowed=df_1[df_1.building_no==building_no].Datetime.max(),\n",
    "                    start_date=df_1[df_1.building_no==building_no].Datetime.min(),\n",
    "                    end_date=df_1[df_1.building_no==building_no].Datetime.max(),\n",
    "                    id='date-picker-range',\n",
    "                    clearable=False,\n",
    "                    updatemode='bothdates',\n",
    "                    display_format=\"MMM Do, YY\",\n",
    "                    start_date_placeholder_text=\"MMM Do, YY\",\n",
    "                    end_date_placeholder_text=\"MMM Do, YY\"\n",
    "                )\n",
    "            ]),\n",
    "            \n",
    "        ])\n",
    "    ]),\n",
    "],fluid=True)\n",
    "\n",
    "@app.callback(\n",
    "    [Output(\"bar-graph\",\"figure\"),\n",
    "     Output(\"line-chart\",\"figure\"),\n",
    "     Output(\"pie-chart\",\"figure\")],\n",
    "    [Input(\"agg-type\",\"value\"),\n",
    "     Input('bar-graph','clickData'),\n",
    "     Input(\"date-picker-range\",'start_date'),\n",
    "     Input(\"date-picker-range\",'end_date')],\n",
    ")\n",
    "def update(type_agg, clickData, start_date, end_date):\n",
    "    start = [int(x) for x in start_date.split(\"-\")]\n",
    "    end = [int(x) for x in end_date.split(\"-\")]\n",
    "    zone = clickData['points'][0]['x'] if clickData else \"Acu101\"\n",
    "    date_range_var=[datetime.date(start[0],start[1],start[2]),datetime.date(end[0],end[1],end[2])]\n",
    "    \n",
    "    updated_bar = initial_bar.update_fig(df_1, building_no=building_no, date_range=date_range_var)\n",
    "    updated_line = initial_line.update_fig(df_1, building_no=building_no, zone_name=zone, date_range=date_range_var, agg=type_agg)\n",
    "    updated_pie = initial_pie.update_fig(df_1, building_no=building_no, zone_name=zone, date_range=date_range_var)\n",
    "\n",
    "    # update bar chart border if needed\n",
    "    if ctx.triggered[0]['prop_id'] == 'bar-graph.clickData':\n",
    "        name = clickData['points'][0]['label']\n",
    "        global selected_zone \n",
    "        selected_zone = name\n",
    "    else:\n",
    "        name = None\n",
    "\n",
    "    if (selected_zone):\n",
    "        for t in updated_bar.data:\n",
    "            if t.name == selected_zone:\n",
    "                t.marker.opacity = 1\n",
    "                t.marker.line.width = 1\n",
    "            else:\n",
    "                t.marker.opacity = 0.6\n",
    "                t.marker.line.width = 0.5\n",
    "\n",
    "    return updated_bar, updated_line, updated_pie\n",
    "\n",
    "if __name__ == \"__main__\":\n",
    "    app.run(debug=True,port=8000)"
   ]
  },
  {
   "cell_type": "code",
   "execution_count": 116,
   "metadata": {},
   "outputs": [],
   "source": [
    "import dash\n",
    "from dash import dcc, html\n",
    "import dash_bootstrap_components as dbc\n",
    "from dash.dependencies import Output, Input\n",
    "import datetime\n",
    "\n",
    "class ModelEvaluationDashboard:\n",
    "    def __init__(self, df, building_no):\n",
    "        self.df = df[(df.building_no==building_no)&(df.Fan_status=='On')]\n",
    "        self.building_no = building_no\n",
    "        self.selected_zone = self.df.Zone_name.unique()[0]\n",
    "\n",
    "        # Initialize charts\n",
    "        self.initial_bar = BarChartCreator(df, building_no)\n",
    "        self.initial_pie = PieChartCreator(df, building_no, self.selected_zone)\n",
    "        self.initial_line = LineChartCreator(df, building_no, self.selected_zone)\n",
    "\n",
    "        # Initialize app\n",
    "        self.app = dash.Dash(__name__, external_stylesheets=[dbc.themes.BOOTSTRAP])\n",
    "        self.app.layout = self.build()\n",
    "        self.set_callbacks()\n",
    "\n",
    "    def build(self):\n",
    "        return dbc.Container([\n",
    "            dbc.Row([\n",
    "                html.Div(self.building_no, id='building_no', hidden=True),\n",
    "                html.H1(f\"Building {self.building_no} Savings\"),\n",
    "            ]),\n",
    "            dbc.Row([\n",
    "                dbc.Col([\n",
    "                    dcc.Graph(id=\"bar-graph\", figure=self.initial_bar.fig, style={\"height\": \"300px\"})\n",
    "                ], width=9),\n",
    "                dbc.Col([\n",
    "                    dcc.Graph(id=\"pie-chart\", figure=self.initial_pie.fig, style={\"height\": \"300px\"})\n",
    "                ], width=3)\n",
    "            ]),\n",
    "            html.Br(),\n",
    "            dbc.Row([\n",
    "                dbc.Col([\n",
    "                    dcc.Graph(id=\"line-chart\", figure=self.initial_line.fig, style={\"height\": \"300px\"})\n",
    "                ], width=9),\n",
    "                dbc.Col([\n",
    "                    dbc.Row([\n",
    "                        html.Div(                        \n",
    "                            dbc.Table([\n",
    "                                html.Thead(html.Tr([html.Th('Total Usage'), html.Th('Predicted Usage')])),\n",
    "                                html.Tbody(html.Tr([html.Td(id='bar_total'), html.Td(id='bar_predicted')])),\n",
    "                            ], color='secondary', bordered=True, id='table', size='lg'\n",
    "                            ), id='table_wrapper'\n",
    "                        )\n",
    "                    ]),\n",
    "                    dbc.Row([\n",
    "                        html.P([\n",
    "                            html.B('Group fan status by:'),\n",
    "                            html.Br(),\n",
    "                            dcc.Dropdown(\n",
    "                                options=[\n",
    "                                    {'label': 'Day', 'value': 'day'},\n",
    "                                    {'label': 'Week', 'value': 'week'},\n",
    "                                    {'label': 'Month', 'value': 'month'}\n",
    "                                ],\n",
    "                                clearable=False,\n",
    "                                value=\"day\",\n",
    "                                id=\"agg-type\",\n",
    "                            )\n",
    "                        ]),\n",
    "                        html.P([\n",
    "                            html.B('Date Range:'),\n",
    "                            html.Br(),\n",
    "                            dcc.DatePickerRange(\n",
    "                                min_date_allowed=self.df.Datetime.min(),\n",
    "                                max_date_allowed=self.df.Datetime.max(),\n",
    "                                start_date=self.df.Datetime.min(),\n",
    "                                end_date=self.df.Datetime.max(),\n",
    "                                id='date-picker-range',\n",
    "                                clearable=False,\n",
    "                                updatemode='bothdates',\n",
    "                                display_format=\"MMM Do, YY\",\n",
    "                                start_date_placeholder_text=\"MMM Do, YY\",\n",
    "                                end_date_placeholder_text=\"MMM Do, YY\"\n",
    "                            )\n",
    "                        ]),\n",
    "                    ])\n",
    "                ])\n",
    "            ]),\n",
    "        ], fluid=True)\n",
    "\n",
    "    def set_callbacks(self):\n",
    "        @self.app.callback(\n",
    "            [Output(\"bar-graph\", \"figure\"),\n",
    "             Output(\"line-chart\", \"figure\"),\n",
    "             Output(\"pie-chart\", \"figure\"),\n",
    "             Output('bar_total', 'children'),\n",
    "             Output('bar_predicted', 'children')],\n",
    "            [Input(\"agg-type\", \"value\"),\n",
    "             Input('bar-graph', 'clickData'),\n",
    "             Input(\"date-picker-range\", 'start_date'),\n",
    "             Input(\"date-picker-range\", 'end_date')],\n",
    "        )\n",
    "        def update(type_agg, clickData, start_date, end_date):\n",
    "            start = [int(x) for x in start_date.split(\"-\")]\n",
    "            end = [int(x) for x in end_date.split(\"-\")]\n",
    "            zone = clickData['points'][0]['x'] if clickData else self.selected_zone\n",
    "            date_range_var = [datetime.date(start[0], start[1], start[2]), datetime.date(end[0], end[1], end[2])]\n",
    "\n",
    "            updated_bar = self.initial_bar.update_fig(self.df, building_no=self.building_no, date_range=date_range_var)\n",
    "            updated_line = self.initial_line.update_fig(self.df, building_no=self.building_no, zone_name=zone, date_range=date_range_var, agg=type_agg)\n",
    "            updated_pie = self.initial_pie.update_fig(self.df, building_no=self.building_no, zone_name=zone, date_range=date_range_var)\n",
    "\n",
    "            bar_vals = []\n",
    "            # Update bar chart border if needed\n",
    "            ctx = dash.callback_context\n",
    "            if ctx.triggered[0]['prop_id'] == 'bar-graph.clickData':\n",
    "                name = clickData['points'][0]['label']\n",
    "                self.selected_zone = name\n",
    "            else:\n",
    "                name = None\n",
    "\n",
    "            if self.selected_zone:\n",
    "                for t in updated_bar.data:\n",
    "                    if t.name == self.selected_zone:\n",
    "                        t.marker.opacity = 1\n",
    "                        t.marker.line.width = 1\n",
    "                        bar_vals.append(round(t.y[0],2))\n",
    "                    else:\n",
    "                        t.marker.opacity = 0.6\n",
    "                        t.marker.line.width = 0.5\n",
    "\n",
    "            return updated_bar, updated_line, updated_pie, bar_vals[0], bar_vals[1]\n",
    "\n",
    "    def run(self):\n",
    "        self.app.run_server(debug=True, port=8000)\n"
   ]
  },
  {
   "cell_type": "code",
   "execution_count": 117,
   "metadata": {},
   "outputs": [
    {
     "data": {
      "text/html": [
       "\n",
       "        <iframe\n",
       "            width=\"100%\"\n",
       "            height=\"650\"\n",
       "            src=\"http://127.0.0.1:8000/\"\n",
       "            frameborder=\"0\"\n",
       "            allowfullscreen\n",
       "            \n",
       "        ></iframe>\n",
       "        "
      ],
      "text/plain": [
       "<IPython.lib.display.IFrame at 0x238e89a8c50>"
      ]
     },
     "metadata": {},
     "output_type": "display_data"
    }
   ],
   "source": [
    "building_no = 1\n",
    "dashboard = ModelEvaluationDashboard(df, building_no)\n",
    "dashboard.run()"
   ]
  },
  {
   "cell_type": "code",
   "execution_count": null,
   "metadata": {},
   "outputs": [],
   "source": []
  }
 ],
 "metadata": {
  "kernelspec": {
   "display_name": "env1",
   "language": "python",
   "name": "python3"
  },
  "language_info": {
   "codemirror_mode": {
    "name": "ipython",
    "version": 3
   },
   "file_extension": ".py",
   "mimetype": "text/x-python",
   "name": "python",
   "nbconvert_exporter": "python",
   "pygments_lexer": "ipython3",
   "version": "3.11.7"
  }
 },
 "nbformat": 4,
 "nbformat_minor": 2
}

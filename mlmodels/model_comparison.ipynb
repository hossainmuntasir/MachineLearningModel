{
 "cells": [
  {
   "cell_type": "markdown",
   "metadata": {},
   "source": [
    "Python version should be `3.11`.\n",
    "\n",
    "Scikit-learn version should be `1.5.2`."
   ]
  },
  {
   "cell_type": "code",
   "execution_count": 1,
   "metadata": {},
   "outputs": [
    {
     "name": "stdout",
     "output_type": "stream",
     "text": [
      "Python version is 3.11.9\n",
      "Scikit-learn version is 1.5.2\n"
     ]
    }
   ],
   "source": [
    "import sklearn\n",
    "import platform\n",
    "\n",
    "print(f\"Python version is {platform.python_version()}\")\n",
    "print(f\"Scikit-learn version is {sklearn.__version__}\")"
   ]
  },
  {
   "cell_type": "markdown",
   "metadata": {},
   "source": [
    "## Import data"
   ]
  },
  {
   "cell_type": "code",
   "execution_count": 2,
   "metadata": {},
   "outputs": [
    {
     "name": "stdout",
     "output_type": "stream",
     "text": [
      "Building 1 has 1058508 out of 2097150 valid rows.\n",
      "Building 2 has 137790 out of 520938 valid rows.\n",
      "Building 3 has 619925 out of 1942515 valid rows.\n"
     ]
    }
   ],
   "source": [
    "import pandas as pd\n",
    "df1 = pd.read_parquet(\"validated_data/cleaned1.parquet\")\n",
    "df2 = pd.read_parquet(\"validated_data/cleaned2.parquet\")\n",
    "df3 = pd.read_parquet(\"validated_data/cleaned3.parquet\")\n",
    "\n",
    "dfs = [df1, df2, df3]\n",
    "for i, df in enumerate(dfs):\n",
    "    dfs[i] = df[df[\"Faulty\"] == False]\n",
    "    print(f\"Building {i+1} has {len(dfs[i])} out of {len(df)} valid rows.\")\n",
    "df1, df2, df3 = dfs"
   ]
  },
  {
   "cell_type": "markdown",
   "metadata": {},
   "source": [
    "## Data preparation"
   ]
  },
  {
   "cell_type": "markdown",
   "metadata": {},
   "source": [
    "Only keep columns with useful information.\n",
    "- `Slab_temp` and `Dew_temp` values do not vary in building 1\n",
    "- `building_no` is the same value within dataframes\n",
    "- `Fan_on_group` and `Cumulative_fan_on_mins` values were calculated using the target variable `Fan_status`\n",
    "- `Date` and `Time` cannot be easily converted to numeric values\n",
    "- `Year` values should probably not be used for prediction\n",
    "- `Damper_open_group` and `Louver_open_group` are categorical labels\n",
    "- Cumulative metrics probably won't be available when trying to predict future values\n",
    "- `Louver_status` values are missing in building 3"
   ]
  },
  {
   "cell_type": "code",
   "execution_count": 3,
   "metadata": {},
   "outputs": [],
   "source": [
    "exclude = [\"building_no\", \"Fan_on_group\", \"Date\", \"Time\", \"Year\", \"Damper_open_group\", \"Louver_open_group\", \"Faulty\", \"Cumulative_fan_on_mins\", \"Cumulative_damper_open_mins\", \"Cumulative_louver_open_mins\"]\n",
    "exclude_df1 = exclude + [\"Slab_temp\", \"Dew_temp\", \"Slab_temp_diff\", \"Dew_temp_diff\"]\n",
    "exclude_df3 = exclude + [\"Louver_status\"]\n",
    "\n",
    "df1 = df1[df1.columns.difference(exclude_df1)]\n",
    "df2 = df2[df2.columns.difference(exclude)]\n",
    "df3 = df3[df3.columns.difference(exclude_df3)]\n",
    "dfs = [df1, df2, df3]"
   ]
  },
  {
   "cell_type": "markdown",
   "metadata": {},
   "source": [
    "Use `Datetime` to get day of year and minutes past midnight"
   ]
  },
  {
   "cell_type": "code",
   "execution_count": 4,
   "metadata": {},
   "outputs": [],
   "source": [
    "for df in dfs:\n",
    "    df[\"Day_of_Year\"] = df[\"Datetime\"].dt.day_of_year\n",
    "    df[\"Minutes_past_midnight\"] = ((df[\"Datetime\"] - df[\"Datetime\"].dt.normalize()) / pd.Timedelta(minutes=1))\n",
    "    #df[\"DOW\"] = df[\"Datetime\"].dt.day_name().astype(\"category\")\n",
    "    del df[\"Datetime\"]\n",
    "\n",
    "#import seaborn as sns\n",
    "#sns.heatmap(df1[df1.columns.difference([\"Fan_status\", \"Zone_name\", \"DOW\"])].corr(), cmap=\"BrBG\", vmin=-1, vmax=1)"
   ]
  },
  {
   "cell_type": "markdown",
   "metadata": {},
   "source": [
    "Remove rows with `NA` values for columns that do not have many `NA` values."
   ]
  },
  {
   "cell_type": "code",
   "execution_count": 5,
   "metadata": {},
   "outputs": [],
   "source": [
    "for df in dfs:\n",
    "    # limit to columns with less than 5% NA values\n",
    "    cutoff = len(df) // 20\n",
    "\n",
    "    sums = df.isna().sum()\n",
    "    sums = sums[sums != 0]\n",
    "    #print(cutoff)\n",
    "    #print(sums)\n",
    "    sums = sums[sums <= cutoff]\n",
    "    df.dropna(subset=sums.index, inplace=True)"
   ]
  },
  {
   "cell_type": "markdown",
   "metadata": {},
   "source": [
    "We need to transform `Zone_name` from categorical to numeric. We'll use scikit-learn preprocessing for encoding."
   ]
  },
  {
   "cell_type": "code",
   "execution_count": 6,
   "metadata": {},
   "outputs": [],
   "source": [
    "from sklearn.compose import make_column_transformer\n",
    "from sklearn.preprocessing import TargetEncoder\n",
    "\n",
    "def encode(categorical_columns: list[int] | list[int]):\n",
    "    return make_column_transformer((TargetEncoder(random_state=42), categorical_columns), remainder=\"passthrough\")\n",
    "\n",
    "#categorical_columns = [\"Zone_name\"]\n",
    "#categorical_columns = [\"Zone_name\", \"DOW\"]\n",
    "#df1 = pd.get_dummies(df1, columns=categorical_columns)\n",
    "#dfs[0] = df1\n",
    "#df2 = pd.get_dummies(df2, columns=categorical_columns)\n",
    "#dfs[1] = df2\n",
    "#df3 = pd.get_dummies(df3, columns=categorical_columns)\n",
    "#dfs[2] = df3"
   ]
  },
  {
   "cell_type": "markdown",
   "metadata": {},
   "source": [
    "Dump the processed datasets."
   ]
  },
  {
   "cell_type": "code",
   "execution_count": 7,
   "metadata": {},
   "outputs": [],
   "source": [
    "from pathlib import Path\n",
    "\n",
    "save_folder = Path(\"output/data\")\n",
    "save_folder.mkdir(parents=True, exist_ok=True)\n",
    "for i, df in enumerate(dfs):\n",
    "    df.to_parquet(save_folder / f\"building{i+1}.parquet\")"
   ]
  },
  {
   "cell_type": "markdown",
   "metadata": {},
   "source": [
    "## Split datasets into training and testing subsets\n",
    "We use a 80% training, 10% validation, 10% testing split."
   ]
  },
  {
   "cell_type": "code",
   "execution_count": 8,
   "metadata": {},
   "outputs": [],
   "source": [
    "from sklearn.model_selection import train_test_split\n",
    "\n",
    "train1, test1 = train_test_split(df1, test_size=0.2, random_state=42)\n",
    "val1, test1 = train_test_split(test1, test_size=0.5, random_state=42)\n",
    "train2, test2 = train_test_split(df2, test_size=0.2, random_state=42)\n",
    "val2, test2 = train_test_split(test2, test_size=0.5, random_state=42)\n",
    "train3, test3 = train_test_split(df3, test_size=0.2, random_state=42)\n",
    "val3, test3 = train_test_split(test3, test_size=0.5, random_state=42)"
   ]
  },
  {
   "cell_type": "markdown",
   "metadata": {},
   "source": [
    "Use random undersampling to handle unbalanced training sets."
   ]
  },
  {
   "cell_type": "code",
   "execution_count": 9,
   "metadata": {},
   "outputs": [],
   "source": [
    "target = \"Fan_status\"\n",
    "\n",
    "for train in [train1, train2, train3]:\n",
    "    counts = train[target].value_counts()\n",
    "    if counts[\"On\"] > counts[\"Off\"] * 3:\n",
    "        # data is already in random order, so we can just remove the relevant records after the cutoff\n",
    "        drop = train[train[target] == \"On\"].index[counts[\"Off\"] * 3:]\n",
    "        train.drop(drop, inplace=True)\n",
    "    elif counts[\"Off\"] > counts[\"On\"] * 3:\n",
    "        drop = train[train[target] == \"Off\"].index[counts[\"On\"] * 3:]\n",
    "        train.drop(drop, inplace=True)"
   ]
  },
  {
   "cell_type": "code",
   "execution_count": 10,
   "metadata": {},
   "outputs": [],
   "source": [
    "features1 = df1.columns.to_list()\n",
    "features1.remove(target)\n",
    "y_train1 = train1[target]\n",
    "y_val1 = val1[target]\n",
    "y_test1 = test1[target]\n",
    "x_train1 = train1[features1]\n",
    "x_val1 = val1[features1]\n",
    "x_test1 = test1[features1]\n",
    "\n",
    "features2 = df2.columns.to_list()\n",
    "features2.remove(target)\n",
    "y_train2 = train2[target]\n",
    "y_val2 = val2[target]\n",
    "y_test2 = test2[target]\n",
    "x_train2 = train2[features2]\n",
    "x_val2 = val2[features2]\n",
    "x_test2 = test2[features2]\n",
    "\n",
    "features3 = df3.columns.to_list()\n",
    "features3.remove(target)\n",
    "y_train3 = train3[target]\n",
    "y_val3 = val3[target]\n",
    "y_test3 = test3[target]\n",
    "x_train3 = train3[features3]\n",
    "x_val3 = val3[features3]\n",
    "x_test3 = test3[features3]"
   ]
  },
  {
   "cell_type": "markdown",
   "metadata": {},
   "source": [
    "## Saving and loading models"
   ]
  },
  {
   "cell_type": "code",
   "execution_count": 11,
   "metadata": {},
   "outputs": [],
   "source": [
    "from sklearn.base import BaseEstimator\n",
    "from joblib import dump, load\n",
    "\n",
    "def save_model(model: BaseEstimator, filename: str):\n",
    "    models_folder = Path(\"output/models\")\n",
    "    models_folder.mkdir(parents=True, exist_ok=True)\n",
    "    filename = filename + \".joblib\"\n",
    "    dump(model, models_folder / filename)\n",
    "\n",
    "def load_model(filename: str) -> BaseEstimator | None:\n",
    "    models_folder = Path(\"output/models\")\n",
    "    filename = filename + \".joblib\"\n",
    "    filename: Path = models_folder / filename\n",
    "    if filename.is_file():\n",
    "        print(\"File found!\")\n",
    "        return load(filename)\n",
    "    print(\"File does not exist!\")"
   ]
  },
  {
   "cell_type": "markdown",
   "metadata": {},
   "source": [
    "## Evaluating Model Performance"
   ]
  },
  {
   "cell_type": "code",
   "execution_count": 12,
   "metadata": {},
   "outputs": [],
   "source": [
    "from sklearn.metrics import classification_report, accuracy_score, f1_score, roc_auc_score, average_precision_score, matthews_corrcoef, confusion_matrix\n",
    "\n",
    "def calculate_metrics(model: BaseEstimator, X: pd.Series, y: pd.Series, print_report = True):\n",
    "    y_predict = model.predict(X)\n",
    "    # SVM predictions take a long time to compute and are unreliable (https://stackoverflow.com/questions/15111408/how-does-sklearn-svm-svcs-function-predict-proba-work-internally)\n",
    "    #y_proba = model.predict_proba(X)[:,1]\n",
    "\n",
    "    if print_report:\n",
    "        print(classification_report(y, y_predict, digits=4))\n",
    "    \n",
    "    tn, fp, fn, tp = confusion_matrix(y, y_predict).ravel()\n",
    "\n",
    "    return {\n",
    "        \"Accuracy\": accuracy_score(y, y_predict),\n",
    "        \"f1\": f1_score(y, y_predict, pos_label=\"On\"),\n",
    "    #    \"ROC AUC\": roc_auc_score(y, y_proba),\n",
    "    #    \"PR AUC\": average_precision_score(y, y_proba, pos_label=\"On\"),\n",
    "        \"Matthews\": matthews_corrcoef(y, y_predict),\n",
    "        \"TN\": tn,\n",
    "        \"FP\": fp,\n",
    "        \"FN\": fn,\n",
    "        \"TP\": tp,\n",
    "    }\n",
    "\n",
    "model_metrics = {f\"Building {n+1}\": {} for n in range(3)}\n",
    "tuned_metrics = {f\"Building {n+1}\": {} for n in range(3)}"
   ]
  },
  {
   "cell_type": "markdown",
   "metadata": {},
   "source": [
    "## Decision Tree"
   ]
  },
  {
   "cell_type": "code",
   "execution_count": 13,
   "metadata": {},
   "outputs": [],
   "source": [
    "from sklearn.tree import DecisionTreeClassifier\n",
    "from sklearn.pipeline import make_pipeline\n",
    "\n",
    "tree = DecisionTreeClassifier(random_state=42)\n",
    "tree = make_pipeline(encode([\"Zone_name\"]), tree)\n",
    "model_name = \"Decision Tree\""
   ]
  },
  {
   "cell_type": "markdown",
   "metadata": {},
   "source": [
    "### Building 1"
   ]
  },
  {
   "cell_type": "code",
   "execution_count": 14,
   "metadata": {},
   "outputs": [
    {
     "name": "stdout",
     "output_type": "stream",
     "text": [
      "              precision    recall  f1-score   support\n",
      "\n",
      "         Off     0.9991    0.9996    0.9994     27615\n",
      "          On     0.9999    0.9997    0.9998     76071\n",
      "\n",
      "    accuracy                         0.9997    103686\n",
      "   macro avg     0.9995    0.9996    0.9996    103686\n",
      "weighted avg     0.9997    0.9997    0.9997    103686\n",
      "\n"
     ]
    }
   ],
   "source": [
    "tree.fit(x_train1, y_train1)\n",
    "model_metrics[\"Building 1\"][model_name] = calculate_metrics(tree, x_val1, y_val1)\n",
    "tuned_metrics[\"Building 1\"][model_name + \" (default)\"] = calculate_metrics(tree, x_test1, y_test1, print_report=False)\n",
    "save_model(tree, \"decisiontree_building1\")"
   ]
  },
  {
   "cell_type": "markdown",
   "metadata": {},
   "source": [
    "### Building 2"
   ]
  },
  {
   "cell_type": "code",
   "execution_count": 15,
   "metadata": {},
   "outputs": [
    {
     "name": "stdout",
     "output_type": "stream",
     "text": [
      "              precision    recall  f1-score   support\n",
      "\n",
      "         Off     0.9855    0.9616    0.9734     11577\n",
      "          On     0.7778    0.9048    0.8365      1722\n",
      "\n",
      "    accuracy                         0.9542     13299\n",
      "   macro avg     0.8817    0.9332    0.9049     13299\n",
      "weighted avg     0.9586    0.9542    0.9557     13299\n",
      "\n"
     ]
    }
   ],
   "source": [
    "tree.fit(x_train2, y_train2)\n",
    "model_metrics[\"Building 2\"][model_name] = calculate_metrics(tree, x_val2, y_val2)\n",
    "tuned_metrics[\"Building 2\"][model_name + \" (default)\"] = calculate_metrics(tree, x_test2, y_test2, print_report=False)\n",
    "save_model(tree, \"decisiontree_building2\")"
   ]
  },
  {
   "cell_type": "markdown",
   "metadata": {},
   "source": [
    "### Building 3"
   ]
  },
  {
   "cell_type": "code",
   "execution_count": 16,
   "metadata": {},
   "outputs": [
    {
     "name": "stdout",
     "output_type": "stream",
     "text": [
      "              precision    recall  f1-score   support\n",
      "\n",
      "         Off     0.9907    0.9897    0.9902     46202\n",
      "          On     0.9683    0.9713    0.9698     15039\n",
      "\n",
      "    accuracy                         0.9852     61241\n",
      "   macro avg     0.9795    0.9805    0.9800     61241\n",
      "weighted avg     0.9852    0.9852    0.9852     61241\n",
      "\n"
     ]
    }
   ],
   "source": [
    "tree.fit(x_train3, y_train3)\n",
    "model_metrics[\"Building 3\"][model_name] = calculate_metrics(tree, x_val3, y_val3)\n",
    "tuned_metrics[\"Building 3\"][model_name + \" (default)\"] = calculate_metrics(tree, x_test3, y_test3, print_report=False)\n",
    "save_model(tree, \"decisiontree_building3\")"
   ]
  },
  {
   "cell_type": "markdown",
   "metadata": {},
   "source": [
    "## Random Forest"
   ]
  },
  {
   "cell_type": "code",
   "execution_count": 17,
   "metadata": {},
   "outputs": [],
   "source": [
    "from sklearn.ensemble import RandomForestClassifier\n",
    "import seaborn as sns\n",
    "\n",
    "model_name = \"Random Forest\"\n",
    "forest = RandomForestClassifier(random_state=42, n_jobs=-1)\n",
    "forest = make_pipeline(encode([\"Zone_name\"]), forest)"
   ]
  },
  {
   "cell_type": "markdown",
   "metadata": {},
   "source": [
    "### Building 1"
   ]
  },
  {
   "cell_type": "code",
   "execution_count": 18,
   "metadata": {},
   "outputs": [
    {
     "data": {
      "text/plain": [
       "<Axes: >"
      ]
     },
     "execution_count": 18,
     "metadata": {},
     "output_type": "execute_result"
    },
    {
     "data": {
      "image/png": "[encoded data removed]",
      "text/plain": [
       "<Figure size 640x480 with 1 Axes>"
      ]
     },
     "metadata": {},
     "output_type": "display_data"
    }
   ],
   "source": [
    "forest.fit(x_train1, y_train1)\n",
    "feature_names = forest[0].get_feature_names_out()\n",
    "feature_names = [feature.split(\"__\")[1] for feature in feature_names]\n",
    "sns.barplot(pd.DataFrame(forest[-1].feature_importances_, index=feature_names).T, orient=\"h\")"
   ]
  },
  {
   "cell_type": "code",
   "execution_count": 19,
   "metadata": {},
   "outputs": [
    {
     "name": "stdout",
     "output_type": "stream",
     "text": [
      "              precision    recall  f1-score   support\n",
      "\n",
      "         Off     0.9993    0.9999    0.9996     27615\n",
      "          On     1.0000    0.9998    0.9999     76071\n",
      "\n",
      "    accuracy                         0.9998    103686\n",
      "   macro avg     0.9996    0.9998    0.9997    103686\n",
      "weighted avg     0.9998    0.9998    0.9998    103686\n",
      "\n"
     ]
    }
   ],
   "source": [
    "model_metrics[\"Building 1\"][model_name] = calculate_metrics(forest, x_val1, y_val1)\n",
    "tuned_metrics[\"Building 1\"][model_name + \" (default)\"] = calculate_metrics(forest, x_test1, y_test1, print_report=False)\n",
    "save_model(forest, \"randomforest_building1\")"
   ]
  },
  {
   "cell_type": "markdown",
   "metadata": {},
   "source": [
    "### Building 2"
   ]
  },
  {
   "cell_type": "code",
   "execution_count": 20,
   "metadata": {},
   "outputs": [
    {
     "data": {
      "text/plain": [
       "<Axes: >"
      ]
     },
     "execution_count": 20,
     "metadata": {},
     "output_type": "execute_result"
    },
    {
     "data": {
      "image/png": "[encoded data removed]",
      "text/plain": [
       "<Figure size 640x480 with 1 Axes>"
      ]
     },
     "metadata": {},
     "output_type": "display_data"
    }
   ],
   "source": [
    "forest.fit(x_train2, y_train2)\n",
    "feature_names = forest[0].get_feature_names_out()\n",
    "feature_names = [feature.split(\"__\")[1] for feature in feature_names]\n",
    "sns.barplot(pd.DataFrame(forest[-1].feature_importances_, index=feature_names).T, orient=\"h\")"
   ]
  },
  {
   "cell_type": "code",
   "execution_count": 21,
   "metadata": {},
   "outputs": [
    {
     "name": "stdout",
     "output_type": "stream",
     "text": [
      "              precision    recall  f1-score   support\n",
      "\n",
      "         Off     0.9863    0.9776    0.9820     11577\n",
      "          On     0.8580    0.9088    0.8827      1722\n",
      "\n",
      "    accuracy                         0.9687     13299\n",
      "   macro avg     0.9222    0.9432    0.9323     13299\n",
      "weighted avg     0.9697    0.9687    0.9691     13299\n",
      "\n"
     ]
    }
   ],
   "source": [
    "model_metrics[\"Building 2\"][model_name] = calculate_metrics(forest, x_val2, y_val2)\n",
    "tuned_metrics[\"Building 2\"][model_name + \" (default)\"] = calculate_metrics(forest, x_test2, y_test2, print_report=False)\n",
    "save_model(forest, \"randomforest_building2\")"
   ]
  },
  {
   "cell_type": "markdown",
   "metadata": {},
   "source": [
    "### Building 3"
   ]
  },
  {
   "cell_type": "code",
   "execution_count": 22,
   "metadata": {},
   "outputs": [
    {
     "data": {
      "text/plain": [
       "<Axes: >"
      ]
     },
     "execution_count": 22,
     "metadata": {},
     "output_type": "execute_result"
    },
    {
     "data": {
      "image/png": "[encoded data removed]",
      "text/plain": [
       "<Figure size 640x480 with 1 Axes>"
      ]
     },
     "metadata": {},
     "output_type": "display_data"
    }
   ],
   "source": [
    "forest.fit(x_train3, y_train3)\n",
    "feature_names = forest[0].get_feature_names_out()\n",
    "feature_names = [feature.split(\"__\")[1] for feature in feature_names]\n",
    "sns.barplot(pd.DataFrame(forest[-1].feature_importances_, index=feature_names).T, orient=\"h\")"
   ]
  },
  {
   "cell_type": "code",
   "execution_count": 23,
   "metadata": {},
   "outputs": [
    {
     "name": "stdout",
     "output_type": "stream",
     "text": [
      "              precision    recall  f1-score   support\n",
      "\n",
      "         Off     0.9924    0.9962    0.9943     46202\n",
      "          On     0.9881    0.9767    0.9823     15039\n",
      "\n",
      "    accuracy                         0.9914     61241\n",
      "   macro avg     0.9903    0.9864    0.9883     61241\n",
      "weighted avg     0.9914    0.9914    0.9914     61241\n",
      "\n"
     ]
    }
   ],
   "source": [
    "model_metrics[\"Building 3\"][model_name] = calculate_metrics(forest, x_val3, y_val3)\n",
    "tuned_metrics[\"Building 3\"][model_name + \" (default)\"] = calculate_metrics(forest, x_test3, y_test3, print_report=False)\n",
    "save_model(forest, \"randomforest_building3\")"
   ]
  },
  {
   "cell_type": "markdown",
   "metadata": {},
   "source": [
    "## Histogram-based Gradient Boosting"
   ]
  },
  {
   "cell_type": "code",
   "execution_count": 24,
   "metadata": {},
   "outputs": [],
   "source": [
    "from sklearn.ensemble import HistGradientBoostingClassifier\n",
    "\n",
    "model_name = \"Hist Gradient Boosting\"\n",
    "histgb = HistGradientBoostingClassifier(random_state=42, categorical_features=[\"Zone_name\"])"
   ]
  },
  {
   "cell_type": "code",
   "execution_count": 25,
   "metadata": {},
   "outputs": [
    {
     "name": "stdout",
     "output_type": "stream",
     "text": [
      "              precision    recall  f1-score   support\n",
      "\n",
      "         Off     0.9987    0.9942    0.9964     27615\n",
      "          On     0.9979    0.9995    0.9987     76071\n",
      "\n",
      "    accuracy                         0.9981    103686\n",
      "   macro avg     0.9983    0.9969    0.9976    103686\n",
      "weighted avg     0.9981    0.9981    0.9981    103686\n",
      "\n"
     ]
    }
   ],
   "source": [
    "histgb.fit(x_train1, y_train1)\n",
    "model_metrics[\"Building 1\"][model_name] = calculate_metrics(histgb, x_val1, y_val1)\n",
    "tuned_metrics[\"Building 1\"][model_name + \" (default)\"] = calculate_metrics(histgb, x_test1, y_test1, print_report=False)\n",
    "save_model(histgb, \"histgb_building1\")"
   ]
  },
  {
   "cell_type": "code",
   "execution_count": 26,
   "metadata": {},
   "outputs": [
    {
     "name": "stdout",
     "output_type": "stream",
     "text": [
      "              precision    recall  f1-score   support\n",
      "\n",
      "         Off     0.9711    0.9505    0.9607     11577\n",
      "          On     0.7087    0.8095    0.7558      1722\n",
      "\n",
      "    accuracy                         0.9323     13299\n",
      "   macro avg     0.8399    0.8800    0.8582     13299\n",
      "weighted avg     0.9371    0.9323    0.9341     13299\n",
      "\n"
     ]
    }
   ],
   "source": [
    "histgb.fit(x_train2, y_train2)\n",
    "model_metrics[\"Building 2\"][model_name] = calculate_metrics(histgb, x_val2, y_val2)\n",
    "tuned_metrics[\"Building 2\"][model_name + \" (default)\"] = calculate_metrics(histgb, x_test2, y_test2, print_report=False)\n",
    "save_model(histgb, \"histgb_building2\")"
   ]
  },
  {
   "cell_type": "code",
   "execution_count": 27,
   "metadata": {},
   "outputs": [
    {
     "name": "stdout",
     "output_type": "stream",
     "text": [
      "              precision    recall  f1-score   support\n",
      "\n",
      "         Off     0.9814    0.9884    0.9849     46202\n",
      "          On     0.9635    0.9425    0.9529     15039\n",
      "\n",
      "    accuracy                         0.9771     61241\n",
      "   macro avg     0.9725    0.9654    0.9689     61241\n",
      "weighted avg     0.9770    0.9771    0.9770     61241\n",
      "\n"
     ]
    }
   ],
   "source": [
    "histgb.fit(x_train3, y_train3)\n",
    "model_metrics[\"Building 3\"][model_name] = calculate_metrics(histgb, x_val3, y_val3)\n",
    "tuned_metrics[\"Building 3\"][model_name + \" (default)\"] = calculate_metrics(histgb, x_test3, y_test3, print_report=False)\n",
    "save_model(histgb, \"histgb_building3\")"
   ]
  },
  {
   "cell_type": "markdown",
   "metadata": {},
   "source": [
    "## Logistic Regression"
   ]
  },
  {
   "cell_type": "code",
   "execution_count": 28,
   "metadata": {},
   "outputs": [],
   "source": [
    "from sklearn.preprocessing import StandardScaler\n",
    "from sklearn.impute import SimpleImputer\n",
    "from sklearn.linear_model import LogisticRegression\n",
    "\n",
    "model_name = \"Logistic Regression\"\n",
    "logit = LogisticRegression(random_state=42)\n",
    "logit = make_pipeline(encode([\"Zone_name\"]), SimpleImputer(), StandardScaler(), logit)"
   ]
  },
  {
   "cell_type": "code",
   "execution_count": 29,
   "metadata": {},
   "outputs": [
    {
     "name": "stdout",
     "output_type": "stream",
     "text": [
      "              precision    recall  f1-score   support\n",
      "\n",
      "         Off     0.9894    0.4921    0.6573     27615\n",
      "          On     0.8441    0.9981    0.9146     76071\n",
      "\n",
      "    accuracy                         0.8633    103686\n",
      "   macro avg     0.9167    0.7451    0.7860    103686\n",
      "weighted avg     0.8828    0.8633    0.8461    103686\n",
      "\n"
     ]
    }
   ],
   "source": [
    "logit.fit(x_train1, y_train1)\n",
    "model_metrics[\"Building 1\"][model_name] = calculate_metrics(logit, x_val1, y_val1)\n",
    "tuned_metrics[\"Building 1\"][model_name + \" (default)\"] = calculate_metrics(logit, x_test1, y_test1, print_report=False)\n",
    "save_model(logit, \"logit_building1\")"
   ]
  },
  {
   "cell_type": "code",
   "execution_count": 30,
   "metadata": {},
   "outputs": [
    {
     "name": "stdout",
     "output_type": "stream",
     "text": [
      "              precision    recall  f1-score   support\n",
      "\n",
      "         Off     0.9177    0.9258    0.9217     11577\n",
      "          On     0.4698    0.4419    0.4554      1722\n",
      "\n",
      "    accuracy                         0.8631     13299\n",
      "   macro avg     0.6937    0.6839    0.6886     13299\n",
      "weighted avg     0.8597    0.8631    0.8614     13299\n",
      "\n"
     ]
    }
   ],
   "source": [
    "logit.fit(x_train2, y_train2)\n",
    "model_metrics[\"Building 2\"][model_name] = calculate_metrics(logit, x_val2, y_val2)\n",
    "tuned_metrics[\"Building 2\"][model_name + \" (default)\"] = calculate_metrics(logit, x_test2, y_test2, print_report=False)\n",
    "save_model(logit, \"logit_building2\")"
   ]
  },
  {
   "cell_type": "code",
   "execution_count": 31,
   "metadata": {},
   "outputs": [
    {
     "name": "stdout",
     "output_type": "stream",
     "text": [
      "              precision    recall  f1-score   support\n",
      "\n",
      "         Off     0.8673    0.9374    0.9010     46202\n",
      "          On     0.7443    0.5595    0.6388     15039\n",
      "\n",
      "    accuracy                         0.8446     61241\n",
      "   macro avg     0.8058    0.7485    0.7699     61241\n",
      "weighted avg     0.8371    0.8446    0.8366     61241\n",
      "\n"
     ]
    }
   ],
   "source": [
    "logit.fit(x_train3, y_train3)\n",
    "model_metrics[\"Building 3\"][model_name] = calculate_metrics(logit, x_val3, y_val3)\n",
    "tuned_metrics[\"Building 3\"][model_name + \" (default)\"] = calculate_metrics(logit, x_test3, y_test3, print_report=False)\n",
    "save_model(logit, \"logit_building3\")"
   ]
  },
  {
   "cell_type": "markdown",
   "metadata": {},
   "source": [
    "## Linear Discriminant Analysis"
   ]
  },
  {
   "cell_type": "code",
   "execution_count": 32,
   "metadata": {},
   "outputs": [],
   "source": [
    "from sklearn.impute import SimpleImputer\n",
    "from sklearn.discriminant_analysis import LinearDiscriminantAnalysis\n",
    "\n",
    "model_name = \"Linear Discriminant Analysis\"\n",
    "lda = LinearDiscriminantAnalysis()\n",
    "lda = make_pipeline(encode([\"Zone_name\"]), SimpleImputer(), lda)"
   ]
  },
  {
   "cell_type": "code",
   "execution_count": 33,
   "metadata": {},
   "outputs": [
    {
     "name": "stdout",
     "output_type": "stream",
     "text": [
      "              precision    recall  f1-score   support\n",
      "\n",
      "         Off     0.9922    0.4814    0.6482     27615\n",
      "          On     0.8414    0.9986    0.9133     76071\n",
      "\n",
      "    accuracy                         0.8609    103686\n",
      "   macro avg     0.9168    0.7400    0.7808    103686\n",
      "weighted avg     0.8816    0.8609    0.8427    103686\n",
      "\n"
     ]
    }
   ],
   "source": [
    "lda.fit(x_train1, y_train1)\n",
    "model_metrics[\"Building 1\"][model_name] = calculate_metrics(lda, x_val1, y_val1)\n",
    "tuned_metrics[\"Building 1\"][model_name + \" (default)\"] = calculate_metrics(lda, x_test1, y_test1, print_report=False)\n",
    "save_model(lda, \"lda_building1\")"
   ]
  },
  {
   "cell_type": "code",
   "execution_count": 34,
   "metadata": {},
   "outputs": [
    {
     "name": "stdout",
     "output_type": "stream",
     "text": [
      "              precision    recall  f1-score   support\n",
      "\n",
      "         Off     0.9139    0.9258    0.9198     11577\n",
      "          On     0.4532    0.4135    0.4324      1722\n",
      "\n",
      "    accuracy                         0.8595     13299\n",
      "   macro avg     0.6835    0.6696    0.6761     13299\n",
      "weighted avg     0.8542    0.8595    0.8567     13299\n",
      "\n"
     ]
    }
   ],
   "source": [
    "lda.fit(x_train2, y_train2)\n",
    "model_metrics[\"Building 2\"][model_name] = calculate_metrics(lda, x_val2, y_val2)\n",
    "tuned_metrics[\"Building 2\"][model_name + \" (default)\"] = calculate_metrics(lda, x_test2, y_test2, print_report=False)\n",
    "save_model(lda, \"lda_building2\")"
   ]
  },
  {
   "cell_type": "code",
   "execution_count": 35,
   "metadata": {},
   "outputs": [
    {
     "name": "stdout",
     "output_type": "stream",
     "text": [
      "              precision    recall  f1-score   support\n",
      "\n",
      "         Off     0.8541    0.9556    0.9020     46202\n",
      "          On     0.7852    0.4987    0.6100     15039\n",
      "\n",
      "    accuracy                         0.8434     61241\n",
      "   macro avg     0.8197    0.7271    0.7560     61241\n",
      "weighted avg     0.8372    0.8434    0.8303     61241\n",
      "\n"
     ]
    }
   ],
   "source": [
    "lda.fit(x_train3, y_train3)\n",
    "model_metrics[\"Building 3\"][model_name] = calculate_metrics(lda, x_val3, y_val3)\n",
    "tuned_metrics[\"Building 3\"][model_name + \" (default)\"] = calculate_metrics(lda, x_test3, y_test3, print_report=False)\n",
    "save_model(lda, \"lda_building3\")"
   ]
  },
  {
   "cell_type": "markdown",
   "metadata": {},
   "source": [
    "## Linear Support Vector Machine (SVM)"
   ]
  },
  {
   "cell_type": "code",
   "execution_count": 77,
   "metadata": {},
   "outputs": [],
   "source": [
    "from sklearn.preprocessing import MinMaxScaler, Normalizer\n",
    "from sklearn.impute import SimpleImputer\n",
    "from sklearn.svm import LinearSVC\n",
    "\n",
    "model_name = \"Linear SVM\"\n",
    "svm = LinearSVC(random_state=42)\n",
    "svm = make_pipeline(encode([\"Zone_name\"]), SimpleImputer(), MinMaxScaler(), Normalizer(), svm)"
   ]
  },
  {
   "cell_type": "code",
   "execution_count": 78,
   "metadata": {},
   "outputs": [
    {
     "name": "stdout",
     "output_type": "stream",
     "text": [
      "              precision    recall  f1-score   support\n",
      "\n",
      "         Off     0.9926    0.4860    0.6525     27615\n",
      "          On     0.8426    0.9987    0.9140     76071\n",
      "\n",
      "    accuracy                         0.8621    103686\n",
      "   macro avg     0.9176    0.7423    0.7833    103686\n",
      "weighted avg     0.8825    0.8621    0.8444    103686\n",
      "\n"
     ]
    }
   ],
   "source": [
    "svm.fit(x_train1, y_train1)\n",
    "model_metrics[\"Building 1\"][model_name] = calculate_metrics(svm, x_val1, y_val1)\n",
    "tuned_metrics[\"Building 1\"][model_name + \" (default)\"] = calculate_metrics(svm, x_test1, y_test1, print_report=False)\n",
    "save_model(svm, \"svm_linear_building1\")"
   ]
  },
  {
   "cell_type": "code",
   "execution_count": 79,
   "metadata": {},
   "outputs": [
    {
     "name": "stdout",
     "output_type": "stream",
     "text": [
      "              precision    recall  f1-score   support\n",
      "\n",
      "         Off     0.9102    0.9291    0.9196     11577\n",
      "          On     0.4460    0.3839    0.4126      1722\n",
      "\n",
      "    accuracy                         0.8585     13299\n",
      "   macro avg     0.6781    0.6565    0.6661     13299\n",
      "weighted avg     0.8501    0.8585    0.8539     13299\n",
      "\n"
     ]
    }
   ],
   "source": [
    "svm.fit(x_train2, y_train2)\n",
    "model_metrics[\"Building 2\"][model_name] = calculate_metrics(svm, x_val2, y_val2)\n",
    "tuned_metrics[\"Building 2\"][model_name + \" (default)\"] = calculate_metrics(svm, x_test2, y_test2, print_report=False)\n",
    "save_model(svm, \"svm_linear_building2\")"
   ]
  },
  {
   "cell_type": "code",
   "execution_count": 80,
   "metadata": {},
   "outputs": [
    {
     "name": "stdout",
     "output_type": "stream",
     "text": [
      "              precision    recall  f1-score   support\n",
      "\n",
      "         Off     0.8936    0.9479    0.9200     46202\n",
      "          On     0.8033    0.6532    0.7205     15039\n",
      "\n",
      "    accuracy                         0.8756     61241\n",
      "   macro avg     0.8484    0.8006    0.8202     61241\n",
      "weighted avg     0.8714    0.8756    0.8710     61241\n",
      "\n"
     ]
    }
   ],
   "source": [
    "svm.fit(x_train3, y_train3)\n",
    "model_metrics[\"Building 3\"][model_name] = calculate_metrics(svm, x_val3, y_val3)\n",
    "tuned_metrics[\"Building 3\"][model_name + \" (default)\"] = calculate_metrics(svm, x_test3, y_test3, print_report=False)\n",
    "save_model(svm, \"svm_linear_building3\")"
   ]
  },
  {
   "cell_type": "markdown",
   "metadata": {},
   "source": [
    "## SVM with RBF Kernel\n",
    "\n",
    "SVM takes a long time for large datasets. Even after loading the saved model file, making predictions on the buildings took around 1 hour."
   ]
  },
  {
   "cell_type": "code",
   "execution_count": 40,
   "metadata": {},
   "outputs": [],
   "source": [
    "from sklearn.preprocessing import MinMaxScaler, Normalizer\n",
    "from sklearn.impute import SimpleImputer\n",
    "from sklearn.svm import SVC\n",
    "\n",
    "model_name = \"SVM\"\n",
    "svm = SVC(random_state=42)\n",
    "svm = make_pipeline(encode([\"Zone_name\"]), SimpleImputer(), MinMaxScaler(), Normalizer(), svm)"
   ]
  },
  {
   "cell_type": "code",
   "execution_count": 41,
   "metadata": {},
   "outputs": [],
   "source": [
    "#from sklearn.preprocessing import MinMaxScaler, Normalizer\n",
    "#from sklearn.impute import SimpleImputer\n",
    "#from sklearn.svm import LinearSVC\n",
    "#from sklearn.kernel_approximation import Nystroem\n",
    "\n",
    "#model_name = \"SVM (RBF)\"\n",
    "#svm = LinearSVC(random_state=42)\n",
    "#svm = make_pipeline(encode([\"Zone_name\"]), SimpleImputer(), MinMaxScaler(), Normalizer(), Nystroem(), svm)"
   ]
  },
  {
   "cell_type": "code",
   "execution_count": 42,
   "metadata": {},
   "outputs": [
    {
     "name": "stdout",
     "output_type": "stream",
     "text": [
      "File found!\n",
      "Loading previously saved model\n",
      "File found!\n",
      "              precision    recall  f1-score   support\n",
      "\n",
      "         Off     0.9776    0.8487    0.9086     27615\n",
      "          On     0.9476    0.9930    0.9697     76071\n",
      "\n",
      "    accuracy                         0.9545    103686\n",
      "   macro avg     0.9626    0.9208    0.9392    103686\n",
      "weighted avg     0.9556    0.9545    0.9535    103686\n",
      "\n"
     ]
    }
   ],
   "source": [
    "# Building 1 SVM training took around 3 hours for me. We'll try loading the saved model file instead.\n",
    "model_file = \"svm_rbf_building1\"\n",
    "if load_model(model_file):\n",
    "    print(\"Loading previously saved model\")\n",
    "    svm = load_model(model_file)\n",
    "    model_metrics[\"Building 1\"][model_name] = calculate_metrics(svm, x_val1, y_val1)\n",
    "    tuned_metrics[\"Building 1\"][model_name + \" (default)\"] = calculate_metrics(svm, x_test1, y_test1, print_report=False)\n",
    "else:\n",
    "    print(\"Training model...\")\n",
    "    svm.fit(x_train1, y_train1)\n",
    "    model_metrics[\"Building 1\"][model_name] = calculate_metrics(svm, x_val1, y_val1)\n",
    "    tuned_metrics[\"Building 1\"][model_name + \" (default)\"] = calculate_metrics(svm, x_test1, y_test1, print_report=False)\n",
    "    save_model(svm, model_file)"
   ]
  },
  {
   "cell_type": "code",
   "execution_count": 43,
   "metadata": {},
   "outputs": [
    {
     "name": "stdout",
     "output_type": "stream",
     "text": [
      "              precision    recall  f1-score   support\n",
      "\n",
      "         Off     0.9354    0.9344    0.9349     11577\n",
      "          On     0.5623    0.5662    0.5642      1722\n",
      "\n",
      "    accuracy                         0.8868     13299\n",
      "   macro avg     0.7488    0.7503    0.7496     13299\n",
      "weighted avg     0.8871    0.8868    0.8869     13299\n",
      "\n"
     ]
    }
   ],
   "source": [
    "svm.fit(x_train2, y_train2)\n",
    "model_metrics[\"Building 2\"][model_name] = calculate_metrics(svm, x_val2, y_val2)\n",
    "tuned_metrics[\"Building 2\"][model_name + \" (default)\"] = calculate_metrics(svm, x_test2, y_test2, print_report=False)\n",
    "save_model(svm, \"svm_rbf_building2\")"
   ]
  },
  {
   "cell_type": "code",
   "execution_count": 44,
   "metadata": {},
   "outputs": [
    {
     "name": "stdout",
     "output_type": "stream",
     "text": [
      "File found!\n",
      "Loading previously saved model\n",
      "File found!\n",
      "              precision    recall  f1-score   support\n",
      "\n",
      "         Off     0.9593    0.9810    0.9700     46202\n",
      "          On     0.9373    0.8722    0.9036     15039\n",
      "\n",
      "    accuracy                         0.9543     61241\n",
      "   macro avg     0.9483    0.9266    0.9368     61241\n",
      "weighted avg     0.9539    0.9543    0.9537     61241\n",
      "\n"
     ]
    }
   ],
   "source": [
    "# Building 3 SVM training took around 1 hour for me. We'll try loading the saved model file instead.\n",
    "model_file = \"svm_rbf_building3\"\n",
    "if load_model(model_file):\n",
    "    print(\"Loading previously saved model\")\n",
    "    svm = load_model(model_file)\n",
    "    model_metrics[\"Building 3\"][model_name] = calculate_metrics(svm, x_val3, y_val3)\n",
    "    tuned_metrics[\"Building 3\"][model_name + \" (default)\"] = calculate_metrics(svm, x_test3, y_test3, print_report=False)\n",
    "else:\n",
    "    print(\"Training model...\")\n",
    "    svm.fit(x_train1, y_train1)\n",
    "    model_metrics[\"Building 3\"][model_name] = calculate_metrics(svm, x_val3, y_val3)\n",
    "    tuned_metrics[\"Building 3\"][model_name + \" (default)\"] = calculate_metrics(svm, x_test3, y_test3, print_report=False)\n",
    "    save_model(svm, model_file)"
   ]
  },
  {
   "cell_type": "markdown",
   "metadata": {},
   "source": [
    "## Model Performance\n",
    "### Building 1"
   ]
  },
  {
   "cell_type": "code",
   "execution_count": 45,
   "metadata": {},
   "outputs": [
    {
     "data": {
      "text/html": [
       "<div>\n",
       "<style scoped>\n",
       "    .dataframe tbody tr th:only-of-type {\n",
       "        vertical-align: middle;\n",
       "    }\n",
       "\n",
       "    .dataframe tbody tr th {\n",
       "        vertical-align: top;\n",
       "    }\n",
       "\n",
       "    .dataframe thead th {\n",
       "        text-align: right;\n",
       "    }\n",
       "</style>\n",
       "<table border=\"1\" class=\"dataframe\">\n",
       "  <thead>\n",
       "    <tr style=\"text-align: right;\">\n",
       "      <th></th>\n",
       "      <th>Accuracy</th>\n",
       "      <th>f1</th>\n",
       "      <th>Matthews</th>\n",
       "      <th>TN</th>\n",
       "      <th>FP</th>\n",
       "      <th>FN</th>\n",
       "      <th>TP</th>\n",
       "    </tr>\n",
       "  </thead>\n",
       "  <tbody>\n",
       "    <tr>\n",
       "      <th>Random Forest</th>\n",
       "      <td>0.999788</td>\n",
       "      <td>0.999855</td>\n",
       "      <td>0.999457</td>\n",
       "      <td>27612.0</td>\n",
       "      <td>3.0</td>\n",
       "      <td>19.0</td>\n",
       "      <td>76052.0</td>\n",
       "    </tr>\n",
       "    <tr>\n",
       "      <th>Decision Tree</th>\n",
       "      <td>0.999662</td>\n",
       "      <td>0.999770</td>\n",
       "      <td>0.999136</td>\n",
       "      <td>27604.0</td>\n",
       "      <td>11.0</td>\n",
       "      <td>24.0</td>\n",
       "      <td>76047.0</td>\n",
       "    </tr>\n",
       "    <tr>\n",
       "      <th>Hist Gradient Boosting</th>\n",
       "      <td>0.998100</td>\n",
       "      <td>0.998706</td>\n",
       "      <td>0.995136</td>\n",
       "      <td>27455.0</td>\n",
       "      <td>160.0</td>\n",
       "      <td>37.0</td>\n",
       "      <td>76034.0</td>\n",
       "    </tr>\n",
       "    <tr>\n",
       "      <th>SVM</th>\n",
       "      <td>0.954545</td>\n",
       "      <td>0.969746</td>\n",
       "      <td>0.882480</td>\n",
       "      <td>23438.0</td>\n",
       "      <td>4177.0</td>\n",
       "      <td>536.0</td>\n",
       "      <td>75535.0</td>\n",
       "    </tr>\n",
       "    <tr>\n",
       "      <th>Logistic Regression</th>\n",
       "      <td>0.863318</td>\n",
       "      <td>0.914638</td>\n",
       "      <td>0.639161</td>\n",
       "      <td>13589.0</td>\n",
       "      <td>14026.0</td>\n",
       "      <td>146.0</td>\n",
       "      <td>75925.0</td>\n",
       "    </tr>\n",
       "    <tr>\n",
       "      <th>Linear SVM</th>\n",
       "      <td>0.862141</td>\n",
       "      <td>0.914014</td>\n",
       "      <td>0.636242</td>\n",
       "      <td>13421.0</td>\n",
       "      <td>14194.0</td>\n",
       "      <td>100.0</td>\n",
       "      <td>75971.0</td>\n",
       "    </tr>\n",
       "    <tr>\n",
       "      <th>Linear Discriminant Analysis</th>\n",
       "      <td>0.860868</td>\n",
       "      <td>0.913284</td>\n",
       "      <td>0.632563</td>\n",
       "      <td>13293.0</td>\n",
       "      <td>14322.0</td>\n",
       "      <td>104.0</td>\n",
       "      <td>75967.0</td>\n",
       "    </tr>\n",
       "  </tbody>\n",
       "</table>\n",
       "</div>"
      ],
      "text/plain": [
       "                              Accuracy        f1  Matthews       TN       FP  \\\n",
       "Random Forest                 0.999788  0.999855  0.999457  27612.0      3.0   \n",
       "Decision Tree                 0.999662  0.999770  0.999136  27604.0     11.0   \n",
       "Hist Gradient Boosting        0.998100  0.998706  0.995136  27455.0    160.0   \n",
       "SVM                           0.954545  0.969746  0.882480  23438.0   4177.0   \n",
       "Logistic Regression           0.863318  0.914638  0.639161  13589.0  14026.0   \n",
       "Linear SVM                    0.862141  0.914014  0.636242  13421.0  14194.0   \n",
       "Linear Discriminant Analysis  0.860868  0.913284  0.632563  13293.0  14322.0   \n",
       "\n",
       "                                 FN       TP  \n",
       "Random Forest                  19.0  76052.0  \n",
       "Decision Tree                  24.0  76047.0  \n",
       "Hist Gradient Boosting         37.0  76034.0  \n",
       "SVM                           536.0  75535.0  \n",
       "Logistic Regression           146.0  75925.0  \n",
       "Linear SVM                    100.0  75971.0  \n",
       "Linear Discriminant Analysis  104.0  75967.0  "
      ]
     },
     "execution_count": 45,
     "metadata": {},
     "output_type": "execute_result"
    }
   ],
   "source": [
    "pd.DataFrame(model_metrics[\"Building 1\"]).T.sort_values(\"f1\", ascending=False)"
   ]
  },
  {
   "cell_type": "markdown",
   "metadata": {},
   "source": [
    "### Building 2"
   ]
  },
  {
   "cell_type": "code",
   "execution_count": 46,
   "metadata": {},
   "outputs": [
    {
     "data": {
      "text/html": [
       "<div>\n",
       "<style scoped>\n",
       "    .dataframe tbody tr th:only-of-type {\n",
       "        vertical-align: middle;\n",
       "    }\n",
       "\n",
       "    .dataframe tbody tr th {\n",
       "        vertical-align: top;\n",
       "    }\n",
       "\n",
       "    .dataframe thead th {\n",
       "        text-align: right;\n",
       "    }\n",
       "</style>\n",
       "<table border=\"1\" class=\"dataframe\">\n",
       "  <thead>\n",
       "    <tr style=\"text-align: right;\">\n",
       "      <th></th>\n",
       "      <th>Accuracy</th>\n",
       "      <th>f1</th>\n",
       "      <th>Matthews</th>\n",
       "      <th>TN</th>\n",
       "      <th>FP</th>\n",
       "      <th>FN</th>\n",
       "      <th>TP</th>\n",
       "    </tr>\n",
       "  </thead>\n",
       "  <tbody>\n",
       "    <tr>\n",
       "      <th>Random Forest</th>\n",
       "      <td>0.968719</td>\n",
       "      <td>0.882685</td>\n",
       "      <td>0.865132</td>\n",
       "      <td>11318.0</td>\n",
       "      <td>259.0</td>\n",
       "      <td>157.0</td>\n",
       "      <td>1565.0</td>\n",
       "    </tr>\n",
       "    <tr>\n",
       "      <th>Decision Tree</th>\n",
       "      <td>0.954207</td>\n",
       "      <td>0.836510</td>\n",
       "      <td>0.813190</td>\n",
       "      <td>11132.0</td>\n",
       "      <td>445.0</td>\n",
       "      <td>164.0</td>\n",
       "      <td>1558.0</td>\n",
       "    </tr>\n",
       "    <tr>\n",
       "      <th>Hist Gradient Boosting</th>\n",
       "      <td>0.932251</td>\n",
       "      <td>0.755760</td>\n",
       "      <td>0.718769</td>\n",
       "      <td>11004.0</td>\n",
       "      <td>573.0</td>\n",
       "      <td>328.0</td>\n",
       "      <td>1394.0</td>\n",
       "    </tr>\n",
       "    <tr>\n",
       "      <th>SVM</th>\n",
       "      <td>0.886758</td>\n",
       "      <td>0.564236</td>\n",
       "      <td>0.499165</td>\n",
       "      <td>10818.0</td>\n",
       "      <td>759.0</td>\n",
       "      <td>747.0</td>\n",
       "      <td>975.0</td>\n",
       "    </tr>\n",
       "    <tr>\n",
       "      <th>Logistic Regression</th>\n",
       "      <td>0.863148</td>\n",
       "      <td>0.455416</td>\n",
       "      <td>0.377470</td>\n",
       "      <td>10718.0</td>\n",
       "      <td>859.0</td>\n",
       "      <td>961.0</td>\n",
       "      <td>761.0</td>\n",
       "    </tr>\n",
       "    <tr>\n",
       "      <th>Linear Discriminant Analysis</th>\n",
       "      <td>0.859463</td>\n",
       "      <td>0.432432</td>\n",
       "      <td>0.352911</td>\n",
       "      <td>10718.0</td>\n",
       "      <td>859.0</td>\n",
       "      <td>1010.0</td>\n",
       "      <td>712.0</td>\n",
       "    </tr>\n",
       "    <tr>\n",
       "      <th>Linear SVM</th>\n",
       "      <td>0.858486</td>\n",
       "      <td>0.412609</td>\n",
       "      <td>0.333885</td>\n",
       "      <td>10756.0</td>\n",
       "      <td>821.0</td>\n",
       "      <td>1061.0</td>\n",
       "      <td>661.0</td>\n",
       "    </tr>\n",
       "  </tbody>\n",
       "</table>\n",
       "</div>"
      ],
      "text/plain": [
       "                              Accuracy        f1  Matthews       TN     FP  \\\n",
       "Random Forest                 0.968719  0.882685  0.865132  11318.0  259.0   \n",
       "Decision Tree                 0.954207  0.836510  0.813190  11132.0  445.0   \n",
       "Hist Gradient Boosting        0.932251  0.755760  0.718769  11004.0  573.0   \n",
       "SVM                           0.886758  0.564236  0.499165  10818.0  759.0   \n",
       "Logistic Regression           0.863148  0.455416  0.377470  10718.0  859.0   \n",
       "Linear Discriminant Analysis  0.859463  0.432432  0.352911  10718.0  859.0   \n",
       "Linear SVM                    0.858486  0.412609  0.333885  10756.0  821.0   \n",
       "\n",
       "                                  FN      TP  \n",
       "Random Forest                  157.0  1565.0  \n",
       "Decision Tree                  164.0  1558.0  \n",
       "Hist Gradient Boosting         328.0  1394.0  \n",
       "SVM                            747.0   975.0  \n",
       "Logistic Regression            961.0   761.0  \n",
       "Linear Discriminant Analysis  1010.0   712.0  \n",
       "Linear SVM                    1061.0   661.0  "
      ]
     },
     "execution_count": 46,
     "metadata": {},
     "output_type": "execute_result"
    }
   ],
   "source": [
    "pd.DataFrame(model_metrics[\"Building 2\"]).T.sort_values(\"f1\", ascending=False)"
   ]
  },
  {
   "cell_type": "markdown",
   "metadata": {},
   "source": [
    "### Building 3"
   ]
  },
  {
   "cell_type": "code",
   "execution_count": 47,
   "metadata": {},
   "outputs": [
    {
     "data": {
      "text/html": [
       "<div>\n",
       "<style scoped>\n",
       "    .dataframe tbody tr th:only-of-type {\n",
       "        vertical-align: middle;\n",
       "    }\n",
       "\n",
       "    .dataframe tbody tr th {\n",
       "        vertical-align: top;\n",
       "    }\n",
       "\n",
       "    .dataframe thead th {\n",
       "        text-align: right;\n",
       "    }\n",
       "</style>\n",
       "<table border=\"1\" class=\"dataframe\">\n",
       "  <thead>\n",
       "    <tr style=\"text-align: right;\">\n",
       "      <th></th>\n",
       "      <th>Accuracy</th>\n",
       "      <th>f1</th>\n",
       "      <th>Matthews</th>\n",
       "      <th>TN</th>\n",
       "      <th>FP</th>\n",
       "      <th>FN</th>\n",
       "      <th>TP</th>\n",
       "    </tr>\n",
       "  </thead>\n",
       "  <tbody>\n",
       "    <tr>\n",
       "      <th>Random Forest</th>\n",
       "      <td>0.991378</td>\n",
       "      <td>0.982343</td>\n",
       "      <td>0.976669</td>\n",
       "      <td>46025.0</td>\n",
       "      <td>177.0</td>\n",
       "      <td>351.0</td>\n",
       "      <td>14688.0</td>\n",
       "    </tr>\n",
       "    <tr>\n",
       "      <th>Decision Tree</th>\n",
       "      <td>0.985157</td>\n",
       "      <td>0.969826</td>\n",
       "      <td>0.959986</td>\n",
       "      <td>45724.0</td>\n",
       "      <td>478.0</td>\n",
       "      <td>431.0</td>\n",
       "      <td>14608.0</td>\n",
       "    </tr>\n",
       "    <tr>\n",
       "      <th>Hist Gradient Boosting</th>\n",
       "      <td>0.977107</td>\n",
       "      <td>0.952874</td>\n",
       "      <td>0.937857</td>\n",
       "      <td>45665.0</td>\n",
       "      <td>537.0</td>\n",
       "      <td>865.0</td>\n",
       "      <td>14174.0</td>\n",
       "    </tr>\n",
       "    <tr>\n",
       "      <th>SVM</th>\n",
       "      <td>0.954295</td>\n",
       "      <td>0.903592</td>\n",
       "      <td>0.874664</td>\n",
       "      <td>45325.0</td>\n",
       "      <td>877.0</td>\n",
       "      <td>1922.0</td>\n",
       "      <td>13117.0</td>\n",
       "    </tr>\n",
       "    <tr>\n",
       "      <th>Linear SVM</th>\n",
       "      <td>0.875557</td>\n",
       "      <td>0.720525</td>\n",
       "      <td>0.647246</td>\n",
       "      <td>43796.0</td>\n",
       "      <td>2406.0</td>\n",
       "      <td>5215.0</td>\n",
       "      <td>9824.0</td>\n",
       "    </tr>\n",
       "    <tr>\n",
       "      <th>Logistic Regression</th>\n",
       "      <td>0.844630</td>\n",
       "      <td>0.638831</td>\n",
       "      <td>0.551334</td>\n",
       "      <td>43311.0</td>\n",
       "      <td>2891.0</td>\n",
       "      <td>6624.0</td>\n",
       "      <td>8415.0</td>\n",
       "    </tr>\n",
       "    <tr>\n",
       "      <th>Linear Discriminant Analysis</th>\n",
       "      <td>0.843389</td>\n",
       "      <td>0.609979</td>\n",
       "      <td>0.538923</td>\n",
       "      <td>44150.0</td>\n",
       "      <td>2052.0</td>\n",
       "      <td>7539.0</td>\n",
       "      <td>7500.0</td>\n",
       "    </tr>\n",
       "  </tbody>\n",
       "</table>\n",
       "</div>"
      ],
      "text/plain": [
       "                              Accuracy        f1  Matthews       TN      FP  \\\n",
       "Random Forest                 0.991378  0.982343  0.976669  46025.0   177.0   \n",
       "Decision Tree                 0.985157  0.969826  0.959986  45724.0   478.0   \n",
       "Hist Gradient Boosting        0.977107  0.952874  0.937857  45665.0   537.0   \n",
       "SVM                           0.954295  0.903592  0.874664  45325.0   877.0   \n",
       "Linear SVM                    0.875557  0.720525  0.647246  43796.0  2406.0   \n",
       "Logistic Regression           0.844630  0.638831  0.551334  43311.0  2891.0   \n",
       "Linear Discriminant Analysis  0.843389  0.609979  0.538923  44150.0  2052.0   \n",
       "\n",
       "                                  FN       TP  \n",
       "Random Forest                  351.0  14688.0  \n",
       "Decision Tree                  431.0  14608.0  \n",
       "Hist Gradient Boosting         865.0  14174.0  \n",
       "SVM                           1922.0  13117.0  \n",
       "Linear SVM                    5215.0   9824.0  \n",
       "Logistic Regression           6624.0   8415.0  \n",
       "Linear Discriminant Analysis  7539.0   7500.0  "
      ]
     },
     "execution_count": 47,
     "metadata": {},
     "output_type": "execute_result"
    }
   ],
   "source": [
    "pd.DataFrame(model_metrics[\"Building 3\"]).T.sort_values(\"f1\", ascending=False)"
   ]
  },
  {
   "cell_type": "markdown",
   "metadata": {},
   "source": [
    "## Model Tuning"
   ]
  },
  {
   "cell_type": "markdown",
   "metadata": {},
   "source": [
    "Creating and evaluating all model variants takes a long time to complete from scratch. Data will be cached so that future runs will not take as long."
   ]
  },
  {
   "cell_type": "code",
   "execution_count": 48,
   "metadata": {},
   "outputs": [],
   "source": [
    "from mlmodel import SCORES\n",
    "scores = list(SCORES)\n",
    "save_folder = None"
   ]
  },
  {
   "cell_type": "markdown",
   "metadata": {},
   "source": [
    "### Decision Tree"
   ]
  },
  {
   "cell_type": "code",
   "execution_count": 49,
   "metadata": {},
   "outputs": [],
   "source": [
    "from mlmodel import GridSearchDecisionTree\n",
    "model_name = \"Decision Tree\"\n",
    "#save_folder = \"output/decision_tree/analysis\"\n",
    "save_folder = None"
   ]
  },
  {
   "cell_type": "markdown",
   "metadata": {},
   "source": [
    "#### Building 1"
   ]
  },
  {
   "cell_type": "code",
   "execution_count": 50,
   "metadata": {},
   "outputs": [
    {
     "name": "stdout",
     "output_type": "stream",
     "text": [
      "All parameters have been previously checked.\n"
     ]
    },
    {
     "data": {
      "text/plain": [
       "<Axes: xlabel='nodes'>"
      ]
     },
     "metadata": {},
     "output_type": "display_data"
    },
    {
     "data": {
      "image/png": "[encoded data removed]",
      "text/plain": [
       "<Figure size 640x480 with 1 Axes>"
      ]
     },
     "metadata": {},
     "output_type": "display_data"
    }
   ],
   "source": [
    "opt1 = GridSearchDecisionTree(\"building1\", n_fits=-1)\n",
    "opt1.fit(x_train1, y_train1, x_val1, y_val1)\n",
    "if save_folder:\n",
    "    print(opt1.save_results(save_folder))\n",
    "\n",
    "df = opt1.results\n",
    "df = pd.DataFrame(df[scores], index=df[\"nodes\"])\n",
    "plt = sns.lineplot(df)\n",
    "plt.set_xlim(0, len(df))\n",
    "plt.set_ylim(0.998, 1.0)\n",
    "display(plt)"
   ]
  },
  {
   "cell_type": "code",
   "execution_count": 51,
   "metadata": {},
   "outputs": [
    {
     "name": "stdout",
     "output_type": "stream",
     "text": [
      "              precision    recall  f1-score   support\n",
      "\n",
      "         Off     0.9991    0.9994    0.9992     27253\n",
      "          On     0.9998    0.9997    0.9997     76433\n",
      "\n",
      "    accuracy                         0.9996    103686\n",
      "   macro avg     0.9994    0.9995    0.9995    103686\n",
      "weighted avg     0.9996    0.9996    0.9996    103686\n",
      "\n"
     ]
    }
   ],
   "source": [
    "tuned_metrics[\"Building 1\"][model_name] = calculate_metrics(opt1.model, x_test1, y_test1)\n",
    "save_model(opt1.model, \"decisiontree_building1_tuned\")"
   ]
  },
  {
   "cell_type": "markdown",
   "metadata": {},
   "source": [
    "#### Building 2"
   ]
  },
  {
   "cell_type": "code",
   "execution_count": 52,
   "metadata": {},
   "outputs": [
    {
     "name": "stdout",
     "output_type": "stream",
     "text": [
      "All parameters have been previously checked.\n"
     ]
    },
    {
     "data": {
      "text/plain": [
       "<Axes: xlabel='nodes'>"
      ]
     },
     "metadata": {},
     "output_type": "display_data"
    },
    {
     "data": {
      "image/png": "[encoded data removed]",
      "text/plain": [
       "<Figure size 640x480 with 1 Axes>"
      ]
     },
     "metadata": {},
     "output_type": "display_data"
    }
   ],
   "source": [
    "opt2 = GridSearchDecisionTree(\"building2\", n_fits=-1)\n",
    "opt2.fit(x_train2, y_train2, x_val2, y_val2)\n",
    "if save_folder:\n",
    "    print(opt2.save_results(save_folder))\n",
    "\n",
    "df = opt2.results\n",
    "df = pd.DataFrame(df[scores], index=df[\"nodes\"])\n",
    "plt = sns.lineplot(df)\n",
    "plt.set_xlim(0, len(df))\n",
    "plt.set_ylim(0.6, 1.0)\n",
    "display(plt)"
   ]
  },
  {
   "cell_type": "code",
   "execution_count": 53,
   "metadata": {},
   "outputs": [
    {
     "name": "stdout",
     "output_type": "stream",
     "text": [
      "              precision    recall  f1-score   support\n",
      "\n",
      "         Off     0.9835    0.9640    0.9737     11559\n",
      "          On     0.7888    0.8926    0.8375      1741\n",
      "\n",
      "    accuracy                         0.9547     13300\n",
      "   macro avg     0.8862    0.9283    0.9056     13300\n",
      "weighted avg     0.9580    0.9547    0.9558     13300\n",
      "\n"
     ]
    }
   ],
   "source": [
    "tuned_metrics[\"Building 2\"][model_name] = calculate_metrics(opt2.model, x_test2, y_test2)\n",
    "save_model(opt2.model, \"decisiontree_building2_tuned\")"
   ]
  },
  {
   "cell_type": "markdown",
   "metadata": {},
   "source": [
    "#### Building 3"
   ]
  },
  {
   "cell_type": "code",
   "execution_count": 54,
   "metadata": {},
   "outputs": [
    {
     "name": "stdout",
     "output_type": "stream",
     "text": [
      "All parameters have been previously checked.\n"
     ]
    },
    {
     "data": {
      "text/plain": [
       "<Axes: xlabel='nodes'>"
      ]
     },
     "metadata": {},
     "output_type": "display_data"
    },
    {
     "data": {
      "image/png": "[encoded data removed]",
      "text/plain": [
       "<Figure size 640x480 with 1 Axes>"
      ]
     },
     "metadata": {},
     "output_type": "display_data"
    }
   ],
   "source": [
    "opt3 = GridSearchDecisionTree(\"building3\", n_fits=-1)\n",
    "opt3.fit(x_train3, y_train3, x_val3, y_val3)\n",
    "if save_folder:\n",
    "    print(opt3.save_results(save_folder))\n",
    "\n",
    "df = opt3.results\n",
    "df = pd.DataFrame(df[scores], index=df[\"nodes\"])\n",
    "plt = sns.lineplot(df)\n",
    "plt.set_xlim(0, len(df))\n",
    "plt.set_ylim(0.92, 1.0)\n",
    "display(plt)"
   ]
  },
  {
   "cell_type": "code",
   "execution_count": 55,
   "metadata": {},
   "outputs": [
    {
     "name": "stdout",
     "output_type": "stream",
     "text": [
      "              precision    recall  f1-score   support\n",
      "\n",
      "         Off     0.9920    0.9923    0.9922     46088\n",
      "          On     0.9767    0.9756    0.9762     15153\n",
      "\n",
      "    accuracy                         0.9882     61241\n",
      "   macro avg     0.9843    0.9840    0.9842     61241\n",
      "weighted avg     0.9882    0.9882    0.9882     61241\n",
      "\n"
     ]
    }
   ],
   "source": [
    "tuned_metrics[\"Building 3\"][model_name] = calculate_metrics(opt3.model, x_test3, y_test3)\n",
    "save_model(opt3.model, \"decisiontree_building3_tuned\")"
   ]
  },
  {
   "cell_type": "markdown",
   "metadata": {},
   "source": [
    "### Random Forest"
   ]
  },
  {
   "cell_type": "code",
   "execution_count": 56,
   "metadata": {},
   "outputs": [],
   "source": [
    "from mlmodel import GridSearchRandomForest\n",
    "model_name = \"Random Forest\"\n",
    "#save_folder = \"output/random_forest/analysis\"\n",
    "save_folder = None"
   ]
  },
  {
   "cell_type": "markdown",
   "metadata": {},
   "source": [
    "#### Building 1"
   ]
  },
  {
   "cell_type": "code",
   "execution_count": 57,
   "metadata": {},
   "outputs": [
    {
     "name": "stdout",
     "output_type": "stream",
     "text": [
      "All parameters have been previously checked.\n"
     ]
    },
    {
     "data": {
      "text/html": [
       "<style>#sk-container-id-1 {\n",
       "  /* Definition of color scheme common for light and dark mode */\n",
       "  --sklearn-color-text: black;\n",
       "  --sklearn-color-line: gray;\n",
       "  /* Definition of color scheme for unfitted estimators */\n",
       "  --sklearn-color-unfitted-level-0: #fff5e6;\n",
       "  --sklearn-color-unfitted-level-1: #f6e4d2;\n",
       "  --sklearn-color-unfitted-level-2: #ffe0b3;\n",
       "  --sklearn-color-unfitted-level-3: chocolate;\n",
       "  /* Definition of color scheme for fitted estimators */\n",
       "  --sklearn-color-fitted-level-0: #f0f8ff;\n",
       "  --sklearn-color-fitted-level-1: #d4ebff;\n",
       "  --sklearn-color-fitted-level-2: #b3dbfd;\n",
       "  --sklearn-color-fitted-level-3: cornflowerblue;\n",
       "\n",
       "  /* Specific color for light theme */\n",
       "  --sklearn-color-text-on-default-background: var(--sg-text-color, var(--theme-code-foreground, var(--jp-content-font-color1, black)));\n",
       "  --sklearn-color-background: var(--sg-background-color, var(--theme-background, var(--jp-layout-color0, white)));\n",
       "  --sklearn-color-border-box: var(--sg-text-color, var(--theme-code-foreground, var(--jp-content-font-color1, black)));\n",
       "  --sklearn-color-icon: #696969;\n",
       "\n",
       "  @media (prefers-color-scheme: dark) {\n",
       "    /* Redefinition of color scheme for dark theme */\n",
       "    --sklearn-color-text-on-default-background: var(--sg-text-color, var(--theme-code-foreground, var(--jp-content-font-color1, white)));\n",
       "    --sklearn-color-background: var(--sg-background-color, var(--theme-background, var(--jp-layout-color0, #111)));\n",
       "    --sklearn-color-border-box: var(--sg-text-color, var(--theme-code-foreground, var(--jp-content-font-color1, white)));\n",
       "    --sklearn-color-icon: #878787;\n",
       "  }\n",
       "}\n",
       "\n",
       "#sk-container-id-1 {\n",
       "  color: var(--sklearn-color-text);\n",
       "}\n",
       "\n",
       "#sk-container-id-1 pre {\n",
       "  padding: 0;\n",
       "}\n",
       "\n",
       "#sk-container-id-1 input.sk-hidden--visually {\n",
       "  border: 0;\n",
       "  clip: rect(1px 1px 1px 1px);\n",
       "  clip: rect(1px, 1px, 1px, 1px);\n",
       "  height: 1px;\n",
       "  margin: -1px;\n",
       "  overflow: hidden;\n",
       "  padding: 0;\n",
       "  position: absolute;\n",
       "  width: 1px;\n",
       "}\n",
       "\n",
       "#sk-container-id-1 div.sk-dashed-wrapped {\n",
       "  border: 1px dashed var(--sklearn-color-line);\n",
       "  margin: 0 0.4em 0.5em 0.4em;\n",
       "  box-sizing: border-box;\n",
       "  padding-bottom: 0.4em;\n",
       "  background-color: var(--sklearn-color-background);\n",
       "}\n",
       "\n",
       "#sk-container-id-1 div.sk-container {\n",
       "  /* jupyter's `normalize.less` sets `[hidden] { display: none; }`\n",
       "     but bootstrap.min.css set `[hidden] { display: none !important; }`\n",
       "     so we also need the `!important` here to be able to override the\n",
       "     default hidden behavior on the sphinx rendered scikit-learn.org.\n",
       "     See: https://github.com/scikit-learn/scikit-learn/issues/21755 */\n",
       "  display: inline-block !important;\n",
       "  position: relative;\n",
       "}\n",
       "\n",
       "#sk-container-id-1 div.sk-text-repr-fallback {\n",
       "  display: none;\n",
       "}\n",
       "\n",
       "div.sk-parallel-item,\n",
       "div.sk-serial,\n",
       "div.sk-item {\n",
       "  /* draw centered vertical line to link estimators */\n",
       "  background-image: linear-gradient(var(--sklearn-color-text-on-default-background), var(--sklearn-color-text-on-default-background));\n",
       "  background-size: 2px 100%;\n",
       "  background-repeat: no-repeat;\n",
       "  background-position: center center;\n",
       "}\n",
       "\n",
       "/* Parallel-specific style estimator block */\n",
       "\n",
       "#sk-container-id-1 div.sk-parallel-item::after {\n",
       "  content: \"\";\n",
       "  width: 100%;\n",
       "  border-bottom: 2px solid var(--sklearn-color-text-on-default-background);\n",
       "  flex-grow: 1;\n",
       "}\n",
       "\n",
       "#sk-container-id-1 div.sk-parallel {\n",
       "  display: flex;\n",
       "  align-items: stretch;\n",
       "  justify-content: center;\n",
       "  background-color: var(--sklearn-color-background);\n",
       "  position: relative;\n",
       "}\n",
       "\n",
       "#sk-container-id-1 div.sk-parallel-item {\n",
       "  display: flex;\n",
       "  flex-direction: column;\n",
       "}\n",
       "\n",
       "#sk-container-id-1 div.sk-parallel-item:first-child::after {\n",
       "  align-self: flex-end;\n",
       "  width: 50%;\n",
       "}\n",
       "\n",
       "#sk-container-id-1 div.sk-parallel-item:last-child::after {\n",
       "  align-self: flex-start;\n",
       "  width: 50%;\n",
       "}\n",
       "\n",
       "#sk-container-id-1 div.sk-parallel-item:only-child::after {\n",
       "  width: 0;\n",
       "}\n",
       "\n",
       "/* Serial-specific style estimator block */\n",
       "\n",
       "#sk-container-id-1 div.sk-serial {\n",
       "  display: flex;\n",
       "  flex-direction: column;\n",
       "  align-items: center;\n",
       "  background-color: var(--sklearn-color-background);\n",
       "  padding-right: 1em;\n",
       "  padding-left: 1em;\n",
       "}\n",
       "\n",
       "\n",
       "/* Toggleable style: style used for estimator/Pipeline/ColumnTransformer box that is\n",
       "clickable and can be expanded/collapsed.\n",
       "- Pipeline and ColumnTransformer use this feature and define the default style\n",
       "- Estimators will overwrite some part of the style using the `sk-estimator` class\n",
       "*/\n",
       "\n",
       "/* Pipeline and ColumnTransformer style (default) */\n",
       "\n",
       "#sk-container-id-1 div.sk-toggleable {\n",
       "  /* Default theme specific background. It is overwritten whether we have a\n",
       "  specific estimator or a Pipeline/ColumnTransformer */\n",
       "  background-color: var(--sklearn-color-background);\n",
       "}\n",
       "\n",
       "/* Toggleable label */\n",
       "#sk-container-id-1 label.sk-toggleable__label {\n",
       "  cursor: pointer;\n",
       "  display: block;\n",
       "  width: 100%;\n",
       "  margin-bottom: 0;\n",
       "  padding: 0.5em;\n",
       "  box-sizing: border-box;\n",
       "  text-align: center;\n",
       "}\n",
       "\n",
       "#sk-container-id-1 label.sk-toggleable__label-arrow:before {\n",
       "  /* Arrow on the left of the label */\n",
       "  content: \"▸\";\n",
       "  float: left;\n",
       "  margin-right: 0.25em;\n",
       "  color: var(--sklearn-color-icon);\n",
       "}\n",
       "\n",
       "#sk-container-id-1 label.sk-toggleable__label-arrow:hover:before {\n",
       "  color: var(--sklearn-color-text);\n",
       "}\n",
       "\n",
       "/* Toggleable content - dropdown */\n",
       "\n",
       "#sk-container-id-1 div.sk-toggleable__content {\n",
       "  max-height: 0;\n",
       "  max-width: 0;\n",
       "  overflow: hidden;\n",
       "  text-align: left;\n",
       "  /* unfitted */\n",
       "  background-color: var(--sklearn-color-unfitted-level-0);\n",
       "}\n",
       "\n",
       "#sk-container-id-1 div.sk-toggleable__content.fitted {\n",
       "  /* fitted */\n",
       "  background-color: var(--sklearn-color-fitted-level-0);\n",
       "}\n",
       "\n",
       "#sk-container-id-1 div.sk-toggleable__content pre {\n",
       "  margin: 0.2em;\n",
       "  border-radius: 0.25em;\n",
       "  color: var(--sklearn-color-text);\n",
       "  /* unfitted */\n",
       "  background-color: var(--sklearn-color-unfitted-level-0);\n",
       "}\n",
       "\n",
       "#sk-container-id-1 div.sk-toggleable__content.fitted pre {\n",
       "  /* unfitted */\n",
       "  background-color: var(--sklearn-color-fitted-level-0);\n",
       "}\n",
       "\n",
       "#sk-container-id-1 input.sk-toggleable__control:checked~div.sk-toggleable__content {\n",
       "  /* Expand drop-down */\n",
       "  max-height: 200px;\n",
       "  max-width: 100%;\n",
       "  overflow: auto;\n",
       "}\n",
       "\n",
       "#sk-container-id-1 input.sk-toggleable__control:checked~label.sk-toggleable__label-arrow:before {\n",
       "  content: \"▾\";\n",
       "}\n",
       "\n",
       "/* Pipeline/ColumnTransformer-specific style */\n",
       "\n",
       "#sk-container-id-1 div.sk-label input.sk-toggleable__control:checked~label.sk-toggleable__label {\n",
       "  color: var(--sklearn-color-text);\n",
       "  background-color: var(--sklearn-color-unfitted-level-2);\n",
       "}\n",
       "\n",
       "#sk-container-id-1 div.sk-label.fitted input.sk-toggleable__control:checked~label.sk-toggleable__label {\n",
       "  background-color: var(--sklearn-color-fitted-level-2);\n",
       "}\n",
       "\n",
       "/* Estimator-specific style */\n",
       "\n",
       "/* Colorize estimator box */\n",
       "#sk-container-id-1 div.sk-estimator input.sk-toggleable__control:checked~label.sk-toggleable__label {\n",
       "  /* unfitted */\n",
       "  background-color: var(--sklearn-color-unfitted-level-2);\n",
       "}\n",
       "\n",
       "#sk-container-id-1 div.sk-estimator.fitted input.sk-toggleable__control:checked~label.sk-toggleable__label {\n",
       "  /* fitted */\n",
       "  background-color: var(--sklearn-color-fitted-level-2);\n",
       "}\n",
       "\n",
       "#sk-container-id-1 div.sk-label label.sk-toggleable__label,\n",
       "#sk-container-id-1 div.sk-label label {\n",
       "  /* The background is the default theme color */\n",
       "  color: var(--sklearn-color-text-on-default-background);\n",
       "}\n",
       "\n",
       "/* On hover, darken the color of the background */\n",
       "#sk-container-id-1 div.sk-label:hover label.sk-toggleable__label {\n",
       "  color: var(--sklearn-color-text);\n",
       "  background-color: var(--sklearn-color-unfitted-level-2);\n",
       "}\n",
       "\n",
       "/* Label box, darken color on hover, fitted */\n",
       "#sk-container-id-1 div.sk-label.fitted:hover label.sk-toggleable__label.fitted {\n",
       "  color: var(--sklearn-color-text);\n",
       "  background-color: var(--sklearn-color-fitted-level-2);\n",
       "}\n",
       "\n",
       "/* Estimator label */\n",
       "\n",
       "#sk-container-id-1 div.sk-label label {\n",
       "  font-family: monospace;\n",
       "  font-weight: bold;\n",
       "  display: inline-block;\n",
       "  line-height: 1.2em;\n",
       "}\n",
       "\n",
       "#sk-container-id-1 div.sk-label-container {\n",
       "  text-align: center;\n",
       "}\n",
       "\n",
       "/* Estimator-specific */\n",
       "#sk-container-id-1 div.sk-estimator {\n",
       "  font-family: monospace;\n",
       "  border: 1px dotted var(--sklearn-color-border-box);\n",
       "  border-radius: 0.25em;\n",
       "  box-sizing: border-box;\n",
       "  margin-bottom: 0.5em;\n",
       "  /* unfitted */\n",
       "  background-color: var(--sklearn-color-unfitted-level-0);\n",
       "}\n",
       "\n",
       "#sk-container-id-1 div.sk-estimator.fitted {\n",
       "  /* fitted */\n",
       "  background-color: var(--sklearn-color-fitted-level-0);\n",
       "}\n",
       "\n",
       "/* on hover */\n",
       "#sk-container-id-1 div.sk-estimator:hover {\n",
       "  /* unfitted */\n",
       "  background-color: var(--sklearn-color-unfitted-level-2);\n",
       "}\n",
       "\n",
       "#sk-container-id-1 div.sk-estimator.fitted:hover {\n",
       "  /* fitted */\n",
       "  background-color: var(--sklearn-color-fitted-level-2);\n",
       "}\n",
       "\n",
       "/* Specification for estimator info (e.g. \"i\" and \"?\") */\n",
       "\n",
       "/* Common style for \"i\" and \"?\" */\n",
       "\n",
       ".sk-estimator-doc-link,\n",
       "a:link.sk-estimator-doc-link,\n",
       "a:visited.sk-estimator-doc-link {\n",
       "  float: right;\n",
       "  font-size: smaller;\n",
       "  line-height: 1em;\n",
       "  font-family: monospace;\n",
       "  background-color: var(--sklearn-color-background);\n",
       "  border-radius: 1em;\n",
       "  height: 1em;\n",
       "  width: 1em;\n",
       "  text-decoration: none !important;\n",
       "  margin-left: 1ex;\n",
       "  /* unfitted */\n",
       "  border: var(--sklearn-color-unfitted-level-1) 1pt solid;\n",
       "  color: var(--sklearn-color-unfitted-level-1);\n",
       "}\n",
       "\n",
       ".sk-estimator-doc-link.fitted,\n",
       "a:link.sk-estimator-doc-link.fitted,\n",
       "a:visited.sk-estimator-doc-link.fitted {\n",
       "  /* fitted */\n",
       "  border: var(--sklearn-color-fitted-level-1) 1pt solid;\n",
       "  color: var(--sklearn-color-fitted-level-1);\n",
       "}\n",
       "\n",
       "/* On hover */\n",
       "div.sk-estimator:hover .sk-estimator-doc-link:hover,\n",
       ".sk-estimator-doc-link:hover,\n",
       "div.sk-label-container:hover .sk-estimator-doc-link:hover,\n",
       ".sk-estimator-doc-link:hover {\n",
       "  /* unfitted */\n",
       "  background-color: var(--sklearn-color-unfitted-level-3);\n",
       "  color: var(--sklearn-color-background);\n",
       "  text-decoration: none;\n",
       "}\n",
       "\n",
       "div.sk-estimator.fitted:hover .sk-estimator-doc-link.fitted:hover,\n",
       ".sk-estimator-doc-link.fitted:hover,\n",
       "div.sk-label-container:hover .sk-estimator-doc-link.fitted:hover,\n",
       ".sk-estimator-doc-link.fitted:hover {\n",
       "  /* fitted */\n",
       "  background-color: var(--sklearn-color-fitted-level-3);\n",
       "  color: var(--sklearn-color-background);\n",
       "  text-decoration: none;\n",
       "}\n",
       "\n",
       "/* Span, style for the box shown on hovering the info icon */\n",
       ".sk-estimator-doc-link span {\n",
       "  display: none;\n",
       "  z-index: 9999;\n",
       "  position: relative;\n",
       "  font-weight: normal;\n",
       "  right: .2ex;\n",
       "  padding: .5ex;\n",
       "  margin: .5ex;\n",
       "  width: min-content;\n",
       "  min-width: 20ex;\n",
       "  max-width: 50ex;\n",
       "  color: var(--sklearn-color-text);\n",
       "  box-shadow: 2pt 2pt 4pt #999;\n",
       "  /* unfitted */\n",
       "  background: var(--sklearn-color-unfitted-level-0);\n",
       "  border: .5pt solid var(--sklearn-color-unfitted-level-3);\n",
       "}\n",
       "\n",
       ".sk-estimator-doc-link.fitted span {\n",
       "  /* fitted */\n",
       "  background: var(--sklearn-color-fitted-level-0);\n",
       "  border: var(--sklearn-color-fitted-level-3);\n",
       "}\n",
       "\n",
       ".sk-estimator-doc-link:hover span {\n",
       "  display: block;\n",
       "}\n",
       "\n",
       "/* \"?\"-specific style due to the `<a>` HTML tag */\n",
       "\n",
       "#sk-container-id-1 a.estimator_doc_link {\n",
       "  float: right;\n",
       "  font-size: 1rem;\n",
       "  line-height: 1em;\n",
       "  font-family: monospace;\n",
       "  background-color: var(--sklearn-color-background);\n",
       "  border-radius: 1rem;\n",
       "  height: 1rem;\n",
       "  width: 1rem;\n",
       "  text-decoration: none;\n",
       "  /* unfitted */\n",
       "  color: var(--sklearn-color-unfitted-level-1);\n",
       "  border: var(--sklearn-color-unfitted-level-1) 1pt solid;\n",
       "}\n",
       "\n",
       "#sk-container-id-1 a.estimator_doc_link.fitted {\n",
       "  /* fitted */\n",
       "  border: var(--sklearn-color-fitted-level-1) 1pt solid;\n",
       "  color: var(--sklearn-color-fitted-level-1);\n",
       "}\n",
       "\n",
       "/* On hover */\n",
       "#sk-container-id-1 a.estimator_doc_link:hover {\n",
       "  /* unfitted */\n",
       "  background-color: var(--sklearn-color-unfitted-level-3);\n",
       "  color: var(--sklearn-color-background);\n",
       "  text-decoration: none;\n",
       "}\n",
       "\n",
       "#sk-container-id-1 a.estimator_doc_link.fitted:hover {\n",
       "  /* fitted */\n",
       "  background-color: var(--sklearn-color-fitted-level-3);\n",
       "}\n",
       "</style><div id=\"sk-container-id-1\" class=\"sk-top-container\"><div class=\"sk-text-repr-fallback\"><pre>RandomForestClassifier(criterion=&#x27;entropy&#x27;, max_features=4, min_samples_split=9,\n",
       "                       n_estimators=50, random_state=42)</pre><b>In a Jupyter environment, please rerun this cell to show the HTML representation or trust the notebook. <br />On GitHub, the HTML representation is unable to render, please try loading this page with nbviewer.org.</b></div><div class=\"sk-container\" hidden><div class=\"sk-item\"><div class=\"sk-estimator fitted sk-toggleable\"><input class=\"sk-toggleable__control sk-hidden--visually\" id=\"sk-estimator-id-1\" type=\"checkbox\" checked><label for=\"sk-estimator-id-1\" class=\"sk-toggleable__label fitted sk-toggleable__label-arrow fitted\">&nbsp;&nbsp;RandomForestClassifier<a class=\"sk-estimator-doc-link fitted\" rel=\"noreferrer\" target=\"_blank\" href=\"https://scikit-learn.org/1.5/modules/generated/sklearn.ensemble.RandomForestClassifier.html\">?<span>Documentation for RandomForestClassifier</span></a><span class=\"sk-estimator-doc-link fitted\">i<span>Fitted</span></span></label><div class=\"sk-toggleable__content fitted\"><pre>RandomForestClassifier(criterion=&#x27;entropy&#x27;, max_features=4, min_samples_split=9,\n",
       "                       n_estimators=50, random_state=42)</pre></div> </div></div></div></div>"
      ],
      "text/plain": [
       "RandomForestClassifier(criterion='entropy', max_features=4, min_samples_split=9,\n",
       "                       n_estimators=50, random_state=42)"
      ]
     },
     "execution_count": 57,
     "metadata": {},
     "output_type": "execute_result"
    }
   ],
   "source": [
    "opt1 = GridSearchRandomForest(\"building1\", n_fits=-1)\n",
    "opt1.fit(x_train1, y_train1, x_val1, y_val1)\n",
    "if save_folder:\n",
    "    print(opt1.save_results(save_folder))\n",
    "\n",
    "opt1.model[-1]"
   ]
  },
  {
   "cell_type": "code",
   "execution_count": 58,
   "metadata": {},
   "outputs": [
    {
     "data": {
      "text/plain": [
       "<Axes: xlabel='min_samples_split'>"
      ]
     },
     "metadata": {},
     "output_type": "display_data"
    },
    {
     "data": {
      "image/png": "[encoded data removed]",
      "text/plain": [
       "<Figure size 640x480 with 1 Axes>"
      ]
     },
     "metadata": {},
     "output_type": "display_data"
    }
   ],
   "source": [
    "df = opt1.results\n",
    "df = pd.DataFrame(df[scores], index=df[\"min_samples_split\"])\n",
    "plt = sns.lineplot(df)\n",
    "#plt.set_xlim(0, df.index.max())\n",
    "#plt.set_ylim(0.98, 1.0)\n",
    "display(plt)"
   ]
  },
  {
   "cell_type": "code",
   "execution_count": 59,
   "metadata": {},
   "outputs": [
    {
     "name": "stdout",
     "output_type": "stream",
     "text": [
      "              precision    recall  f1-score   support\n",
      "\n",
      "         Off     0.9997    0.9997    0.9997     27253\n",
      "          On     0.9999    0.9999    0.9999     76433\n",
      "\n",
      "    accuracy                         0.9999    103686\n",
      "   macro avg     0.9998    0.9998    0.9998    103686\n",
      "weighted avg     0.9999    0.9999    0.9999    103686\n",
      "\n"
     ]
    }
   ],
   "source": [
    "tuned_metrics[\"Building 1\"][model_name] = calculate_metrics(opt1.model, x_test1, y_test1)\n",
    "save_model(opt1.model, \"randomforest_building1_tuned\")"
   ]
  },
  {
   "cell_type": "markdown",
   "metadata": {},
   "source": [
    "#### Building 2"
   ]
  },
  {
   "cell_type": "code",
   "execution_count": 60,
   "metadata": {},
   "outputs": [
    {
     "name": "stdout",
     "output_type": "stream",
     "text": [
      "All parameters have been previously checked.\n"
     ]
    },
    {
     "data": {
      "text/html": [
       "<style>#sk-container-id-2 {\n",
       "  /* Definition of color scheme common for light and dark mode */\n",
       "  --sklearn-color-text: black;\n",
       "  --sklearn-color-line: gray;\n",
       "  /* Definition of color scheme for unfitted estimators */\n",
       "  --sklearn-color-unfitted-level-0: #fff5e6;\n",
       "  --sklearn-color-unfitted-level-1: #f6e4d2;\n",
       "  --sklearn-color-unfitted-level-2: #ffe0b3;\n",
       "  --sklearn-color-unfitted-level-3: chocolate;\n",
       "  /* Definition of color scheme for fitted estimators */\n",
       "  --sklearn-color-fitted-level-0: #f0f8ff;\n",
       "  --sklearn-color-fitted-level-1: #d4ebff;\n",
       "  --sklearn-color-fitted-level-2: #b3dbfd;\n",
       "  --sklearn-color-fitted-level-3: cornflowerblue;\n",
       "\n",
       "  /* Specific color for light theme */\n",
       "  --sklearn-color-text-on-default-background: var(--sg-text-color, var(--theme-code-foreground, var(--jp-content-font-color1, black)));\n",
       "  --sklearn-color-background: var(--sg-background-color, var(--theme-background, var(--jp-layout-color0, white)));\n",
       "  --sklearn-color-border-box: var(--sg-text-color, var(--theme-code-foreground, var(--jp-content-font-color1, black)));\n",
       "  --sklearn-color-icon: #696969;\n",
       "\n",
       "  @media (prefers-color-scheme: dark) {\n",
       "    /* Redefinition of color scheme for dark theme */\n",
       "    --sklearn-color-text-on-default-background: var(--sg-text-color, var(--theme-code-foreground, var(--jp-content-font-color1, white)));\n",
       "    --sklearn-color-background: var(--sg-background-color, var(--theme-background, var(--jp-layout-color0, #111)));\n",
       "    --sklearn-color-border-box: var(--sg-text-color, var(--theme-code-foreground, var(--jp-content-font-color1, white)));\n",
       "    --sklearn-color-icon: #878787;\n",
       "  }\n",
       "}\n",
       "\n",
       "#sk-container-id-2 {\n",
       "  color: var(--sklearn-color-text);\n",
       "}\n",
       "\n",
       "#sk-container-id-2 pre {\n",
       "  padding: 0;\n",
       "}\n",
       "\n",
       "#sk-container-id-2 input.sk-hidden--visually {\n",
       "  border: 0;\n",
       "  clip: rect(1px 1px 1px 1px);\n",
       "  clip: rect(1px, 1px, 1px, 1px);\n",
       "  height: 1px;\n",
       "  margin: -1px;\n",
       "  overflow: hidden;\n",
       "  padding: 0;\n",
       "  position: absolute;\n",
       "  width: 1px;\n",
       "}\n",
       "\n",
       "#sk-container-id-2 div.sk-dashed-wrapped {\n",
       "  border: 1px dashed var(--sklearn-color-line);\n",
       "  margin: 0 0.4em 0.5em 0.4em;\n",
       "  box-sizing: border-box;\n",
       "  padding-bottom: 0.4em;\n",
       "  background-color: var(--sklearn-color-background);\n",
       "}\n",
       "\n",
       "#sk-container-id-2 div.sk-container {\n",
       "  /* jupyter's `normalize.less` sets `[hidden] { display: none; }`\n",
       "     but bootstrap.min.css set `[hidden] { display: none !important; }`\n",
       "     so we also need the `!important` here to be able to override the\n",
       "     default hidden behavior on the sphinx rendered scikit-learn.org.\n",
       "     See: https://github.com/scikit-learn/scikit-learn/issues/21755 */\n",
       "  display: inline-block !important;\n",
       "  position: relative;\n",
       "}\n",
       "\n",
       "#sk-container-id-2 div.sk-text-repr-fallback {\n",
       "  display: none;\n",
       "}\n",
       "\n",
       "div.sk-parallel-item,\n",
       "div.sk-serial,\n",
       "div.sk-item {\n",
       "  /* draw centered vertical line to link estimators */\n",
       "  background-image: linear-gradient(var(--sklearn-color-text-on-default-background), var(--sklearn-color-text-on-default-background));\n",
       "  background-size: 2px 100%;\n",
       "  background-repeat: no-repeat;\n",
       "  background-position: center center;\n",
       "}\n",
       "\n",
       "/* Parallel-specific style estimator block */\n",
       "\n",
       "#sk-container-id-2 div.sk-parallel-item::after {\n",
       "  content: \"\";\n",
       "  width: 100%;\n",
       "  border-bottom: 2px solid var(--sklearn-color-text-on-default-background);\n",
       "  flex-grow: 1;\n",
       "}\n",
       "\n",
       "#sk-container-id-2 div.sk-parallel {\n",
       "  display: flex;\n",
       "  align-items: stretch;\n",
       "  justify-content: center;\n",
       "  background-color: var(--sklearn-color-background);\n",
       "  position: relative;\n",
       "}\n",
       "\n",
       "#sk-container-id-2 div.sk-parallel-item {\n",
       "  display: flex;\n",
       "  flex-direction: column;\n",
       "}\n",
       "\n",
       "#sk-container-id-2 div.sk-parallel-item:first-child::after {\n",
       "  align-self: flex-end;\n",
       "  width: 50%;\n",
       "}\n",
       "\n",
       "#sk-container-id-2 div.sk-parallel-item:last-child::after {\n",
       "  align-self: flex-start;\n",
       "  width: 50%;\n",
       "}\n",
       "\n",
       "#sk-container-id-2 div.sk-parallel-item:only-child::after {\n",
       "  width: 0;\n",
       "}\n",
       "\n",
       "/* Serial-specific style estimator block */\n",
       "\n",
       "#sk-container-id-2 div.sk-serial {\n",
       "  display: flex;\n",
       "  flex-direction: column;\n",
       "  align-items: center;\n",
       "  background-color: var(--sklearn-color-background);\n",
       "  padding-right: 1em;\n",
       "  padding-left: 1em;\n",
       "}\n",
       "\n",
       "\n",
       "/* Toggleable style: style used for estimator/Pipeline/ColumnTransformer box that is\n",
       "clickable and can be expanded/collapsed.\n",
       "- Pipeline and ColumnTransformer use this feature and define the default style\n",
       "- Estimators will overwrite some part of the style using the `sk-estimator` class\n",
       "*/\n",
       "\n",
       "/* Pipeline and ColumnTransformer style (default) */\n",
       "\n",
       "#sk-container-id-2 div.sk-toggleable {\n",
       "  /* Default theme specific background. It is overwritten whether we have a\n",
       "  specific estimator or a Pipeline/ColumnTransformer */\n",
       "  background-color: var(--sklearn-color-background);\n",
       "}\n",
       "\n",
       "/* Toggleable label */\n",
       "#sk-container-id-2 label.sk-toggleable__label {\n",
       "  cursor: pointer;\n",
       "  display: block;\n",
       "  width: 100%;\n",
       "  margin-bottom: 0;\n",
       "  padding: 0.5em;\n",
       "  box-sizing: border-box;\n",
       "  text-align: center;\n",
       "}\n",
       "\n",
       "#sk-container-id-2 label.sk-toggleable__label-arrow:before {\n",
       "  /* Arrow on the left of the label */\n",
       "  content: \"▸\";\n",
       "  float: left;\n",
       "  margin-right: 0.25em;\n",
       "  color: var(--sklearn-color-icon);\n",
       "}\n",
       "\n",
       "#sk-container-id-2 label.sk-toggleable__label-arrow:hover:before {\n",
       "  color: var(--sklearn-color-text);\n",
       "}\n",
       "\n",
       "/* Toggleable content - dropdown */\n",
       "\n",
       "#sk-container-id-2 div.sk-toggleable__content {\n",
       "  max-height: 0;\n",
       "  max-width: 0;\n",
       "  overflow: hidden;\n",
       "  text-align: left;\n",
       "  /* unfitted */\n",
       "  background-color: var(--sklearn-color-unfitted-level-0);\n",
       "}\n",
       "\n",
       "#sk-container-id-2 div.sk-toggleable__content.fitted {\n",
       "  /* fitted */\n",
       "  background-color: var(--sklearn-color-fitted-level-0);\n",
       "}\n",
       "\n",
       "#sk-container-id-2 div.sk-toggleable__content pre {\n",
       "  margin: 0.2em;\n",
       "  border-radius: 0.25em;\n",
       "  color: var(--sklearn-color-text);\n",
       "  /* unfitted */\n",
       "  background-color: var(--sklearn-color-unfitted-level-0);\n",
       "}\n",
       "\n",
       "#sk-container-id-2 div.sk-toggleable__content.fitted pre {\n",
       "  /* unfitted */\n",
       "  background-color: var(--sklearn-color-fitted-level-0);\n",
       "}\n",
       "\n",
       "#sk-container-id-2 input.sk-toggleable__control:checked~div.sk-toggleable__content {\n",
       "  /* Expand drop-down */\n",
       "  max-height: 200px;\n",
       "  max-width: 100%;\n",
       "  overflow: auto;\n",
       "}\n",
       "\n",
       "#sk-container-id-2 input.sk-toggleable__control:checked~label.sk-toggleable__label-arrow:before {\n",
       "  content: \"▾\";\n",
       "}\n",
       "\n",
       "/* Pipeline/ColumnTransformer-specific style */\n",
       "\n",
       "#sk-container-id-2 div.sk-label input.sk-toggleable__control:checked~label.sk-toggleable__label {\n",
       "  color: var(--sklearn-color-text);\n",
       "  background-color: var(--sklearn-color-unfitted-level-2);\n",
       "}\n",
       "\n",
       "#sk-container-id-2 div.sk-label.fitted input.sk-toggleable__control:checked~label.sk-toggleable__label {\n",
       "  background-color: var(--sklearn-color-fitted-level-2);\n",
       "}\n",
       "\n",
       "/* Estimator-specific style */\n",
       "\n",
       "/* Colorize estimator box */\n",
       "#sk-container-id-2 div.sk-estimator input.sk-toggleable__control:checked~label.sk-toggleable__label {\n",
       "  /* unfitted */\n",
       "  background-color: var(--sklearn-color-unfitted-level-2);\n",
       "}\n",
       "\n",
       "#sk-container-id-2 div.sk-estimator.fitted input.sk-toggleable__control:checked~label.sk-toggleable__label {\n",
       "  /* fitted */\n",
       "  background-color: var(--sklearn-color-fitted-level-2);\n",
       "}\n",
       "\n",
       "#sk-container-id-2 div.sk-label label.sk-toggleable__label,\n",
       "#sk-container-id-2 div.sk-label label {\n",
       "  /* The background is the default theme color */\n",
       "  color: var(--sklearn-color-text-on-default-background);\n",
       "}\n",
       "\n",
       "/* On hover, darken the color of the background */\n",
       "#sk-container-id-2 div.sk-label:hover label.sk-toggleable__label {\n",
       "  color: var(--sklearn-color-text);\n",
       "  background-color: var(--sklearn-color-unfitted-level-2);\n",
       "}\n",
       "\n",
       "/* Label box, darken color on hover, fitted */\n",
       "#sk-container-id-2 div.sk-label.fitted:hover label.sk-toggleable__label.fitted {\n",
       "  color: var(--sklearn-color-text);\n",
       "  background-color: var(--sklearn-color-fitted-level-2);\n",
       "}\n",
       "\n",
       "/* Estimator label */\n",
       "\n",
       "#sk-container-id-2 div.sk-label label {\n",
       "  font-family: monospace;\n",
       "  font-weight: bold;\n",
       "  display: inline-block;\n",
       "  line-height: 1.2em;\n",
       "}\n",
       "\n",
       "#sk-container-id-2 div.sk-label-container {\n",
       "  text-align: center;\n",
       "}\n",
       "\n",
       "/* Estimator-specific */\n",
       "#sk-container-id-2 div.sk-estimator {\n",
       "  font-family: monospace;\n",
       "  border: 1px dotted var(--sklearn-color-border-box);\n",
       "  border-radius: 0.25em;\n",
       "  box-sizing: border-box;\n",
       "  margin-bottom: 0.5em;\n",
       "  /* unfitted */\n",
       "  background-color: var(--sklearn-color-unfitted-level-0);\n",
       "}\n",
       "\n",
       "#sk-container-id-2 div.sk-estimator.fitted {\n",
       "  /* fitted */\n",
       "  background-color: var(--sklearn-color-fitted-level-0);\n",
       "}\n",
       "\n",
       "/* on hover */\n",
       "#sk-container-id-2 div.sk-estimator:hover {\n",
       "  /* unfitted */\n",
       "  background-color: var(--sklearn-color-unfitted-level-2);\n",
       "}\n",
       "\n",
       "#sk-container-id-2 div.sk-estimator.fitted:hover {\n",
       "  /* fitted */\n",
       "  background-color: var(--sklearn-color-fitted-level-2);\n",
       "}\n",
       "\n",
       "/* Specification for estimator info (e.g. \"i\" and \"?\") */\n",
       "\n",
       "/* Common style for \"i\" and \"?\" */\n",
       "\n",
       ".sk-estimator-doc-link,\n",
       "a:link.sk-estimator-doc-link,\n",
       "a:visited.sk-estimator-doc-link {\n",
       "  float: right;\n",
       "  font-size: smaller;\n",
       "  line-height: 1em;\n",
       "  font-family: monospace;\n",
       "  background-color: var(--sklearn-color-background);\n",
       "  border-radius: 1em;\n",
       "  height: 1em;\n",
       "  width: 1em;\n",
       "  text-decoration: none !important;\n",
       "  margin-left: 1ex;\n",
       "  /* unfitted */\n",
       "  border: var(--sklearn-color-unfitted-level-1) 1pt solid;\n",
       "  color: var(--sklearn-color-unfitted-level-1);\n",
       "}\n",
       "\n",
       ".sk-estimator-doc-link.fitted,\n",
       "a:link.sk-estimator-doc-link.fitted,\n",
       "a:visited.sk-estimator-doc-link.fitted {\n",
       "  /* fitted */\n",
       "  border: var(--sklearn-color-fitted-level-1) 1pt solid;\n",
       "  color: var(--sklearn-color-fitted-level-1);\n",
       "}\n",
       "\n",
       "/* On hover */\n",
       "div.sk-estimator:hover .sk-estimator-doc-link:hover,\n",
       ".sk-estimator-doc-link:hover,\n",
       "div.sk-label-container:hover .sk-estimator-doc-link:hover,\n",
       ".sk-estimator-doc-link:hover {\n",
       "  /* unfitted */\n",
       "  background-color: var(--sklearn-color-unfitted-level-3);\n",
       "  color: var(--sklearn-color-background);\n",
       "  text-decoration: none;\n",
       "}\n",
       "\n",
       "div.sk-estimator.fitted:hover .sk-estimator-doc-link.fitted:hover,\n",
       ".sk-estimator-doc-link.fitted:hover,\n",
       "div.sk-label-container:hover .sk-estimator-doc-link.fitted:hover,\n",
       ".sk-estimator-doc-link.fitted:hover {\n",
       "  /* fitted */\n",
       "  background-color: var(--sklearn-color-fitted-level-3);\n",
       "  color: var(--sklearn-color-background);\n",
       "  text-decoration: none;\n",
       "}\n",
       "\n",
       "/* Span, style for the box shown on hovering the info icon */\n",
       ".sk-estimator-doc-link span {\n",
       "  display: none;\n",
       "  z-index: 9999;\n",
       "  position: relative;\n",
       "  font-weight: normal;\n",
       "  right: .2ex;\n",
       "  padding: .5ex;\n",
       "  margin: .5ex;\n",
       "  width: min-content;\n",
       "  min-width: 20ex;\n",
       "  max-width: 50ex;\n",
       "  color: var(--sklearn-color-text);\n",
       "  box-shadow: 2pt 2pt 4pt #999;\n",
       "  /* unfitted */\n",
       "  background: var(--sklearn-color-unfitted-level-0);\n",
       "  border: .5pt solid var(--sklearn-color-unfitted-level-3);\n",
       "}\n",
       "\n",
       ".sk-estimator-doc-link.fitted span {\n",
       "  /* fitted */\n",
       "  background: var(--sklearn-color-fitted-level-0);\n",
       "  border: var(--sklearn-color-fitted-level-3);\n",
       "}\n",
       "\n",
       ".sk-estimator-doc-link:hover span {\n",
       "  display: block;\n",
       "}\n",
       "\n",
       "/* \"?\"-specific style due to the `<a>` HTML tag */\n",
       "\n",
       "#sk-container-id-2 a.estimator_doc_link {\n",
       "  float: right;\n",
       "  font-size: 1rem;\n",
       "  line-height: 1em;\n",
       "  font-family: monospace;\n",
       "  background-color: var(--sklearn-color-background);\n",
       "  border-radius: 1rem;\n",
       "  height: 1rem;\n",
       "  width: 1rem;\n",
       "  text-decoration: none;\n",
       "  /* unfitted */\n",
       "  color: var(--sklearn-color-unfitted-level-1);\n",
       "  border: var(--sklearn-color-unfitted-level-1) 1pt solid;\n",
       "}\n",
       "\n",
       "#sk-container-id-2 a.estimator_doc_link.fitted {\n",
       "  /* fitted */\n",
       "  border: var(--sklearn-color-fitted-level-1) 1pt solid;\n",
       "  color: var(--sklearn-color-fitted-level-1);\n",
       "}\n",
       "\n",
       "/* On hover */\n",
       "#sk-container-id-2 a.estimator_doc_link:hover {\n",
       "  /* unfitted */\n",
       "  background-color: var(--sklearn-color-unfitted-level-3);\n",
       "  color: var(--sklearn-color-background);\n",
       "  text-decoration: none;\n",
       "}\n",
       "\n",
       "#sk-container-id-2 a.estimator_doc_link.fitted:hover {\n",
       "  /* fitted */\n",
       "  background-color: var(--sklearn-color-fitted-level-3);\n",
       "}\n",
       "</style><div id=\"sk-container-id-2\" class=\"sk-top-container\"><div class=\"sk-text-repr-fallback\"><pre>RandomForestClassifier(criterion=&#x27;entropy&#x27;, max_features=9, n_estimators=50,\n",
       "                       random_state=42)</pre><b>In a Jupyter environment, please rerun this cell to show the HTML representation or trust the notebook. <br />On GitHub, the HTML representation is unable to render, please try loading this page with nbviewer.org.</b></div><div class=\"sk-container\" hidden><div class=\"sk-item\"><div class=\"sk-estimator fitted sk-toggleable\"><input class=\"sk-toggleable__control sk-hidden--visually\" id=\"sk-estimator-id-2\" type=\"checkbox\" checked><label for=\"sk-estimator-id-2\" class=\"sk-toggleable__label fitted sk-toggleable__label-arrow fitted\">&nbsp;&nbsp;RandomForestClassifier<a class=\"sk-estimator-doc-link fitted\" rel=\"noreferrer\" target=\"_blank\" href=\"https://scikit-learn.org/1.5/modules/generated/sklearn.ensemble.RandomForestClassifier.html\">?<span>Documentation for RandomForestClassifier</span></a><span class=\"sk-estimator-doc-link fitted\">i<span>Fitted</span></span></label><div class=\"sk-toggleable__content fitted\"><pre>RandomForestClassifier(criterion=&#x27;entropy&#x27;, max_features=9, n_estimators=50,\n",
       "                       random_state=42)</pre></div> </div></div></div></div>"
      ],
      "text/plain": [
       "RandomForestClassifier(criterion='entropy', max_features=9, n_estimators=50,\n",
       "                       random_state=42)"
      ]
     },
     "execution_count": 60,
     "metadata": {},
     "output_type": "execute_result"
    }
   ],
   "source": [
    "opt2 = GridSearchRandomForest(\"building2\", n_fits=-1)\n",
    "opt2.fit(x_train2, y_train2, x_val2, y_val2)\n",
    "if save_folder:\n",
    "    print(opt2.save_results(save_folder))\n",
    "\n",
    "opt2.model[-1]"
   ]
  },
  {
   "cell_type": "code",
   "execution_count": 61,
   "metadata": {},
   "outputs": [
    {
     "data": {
      "text/plain": [
       "<Axes: xlabel='min_samples_split'>"
      ]
     },
     "metadata": {},
     "output_type": "display_data"
    },
    {
     "data": {
      "image/png": "[encoded data removed]",
      "text/plain": [
       "<Figure size 640x480 with 1 Axes>"
      ]
     },
     "metadata": {},
     "output_type": "display_data"
    }
   ],
   "source": [
    "df = opt2.results\n",
    "df = pd.DataFrame(df[scores], index=df[\"min_samples_split\"])\n",
    "plt = sns.lineplot(df)\n",
    "display(plt)"
   ]
  },
  {
   "cell_type": "code",
   "execution_count": 62,
   "metadata": {},
   "outputs": [
    {
     "name": "stdout",
     "output_type": "stream",
     "text": [
      "              precision    recall  f1-score   support\n",
      "\n",
      "         Off     0.9874    0.9802    0.9838     11559\n",
      "          On     0.8745    0.9167    0.8951      1741\n",
      "\n",
      "    accuracy                         0.9719     13300\n",
      "   macro avg     0.9309    0.9485    0.9394     13300\n",
      "weighted avg     0.9726    0.9719    0.9722     13300\n",
      "\n"
     ]
    }
   ],
   "source": [
    "tuned_metrics[\"Building 2\"][model_name] = calculate_metrics(opt2.model, x_test2, y_test2)\n",
    "save_model(opt2.model, \"randomforest_building2_tuned\")"
   ]
  },
  {
   "cell_type": "code",
   "execution_count": 63,
   "metadata": {},
   "outputs": [
    {
     "name": "stdout",
     "output_type": "stream",
     "text": [
      "All parameters have been previously checked.\n"
     ]
    },
    {
     "data": {
      "text/html": [
       "<style>#sk-container-id-3 {\n",
       "  /* Definition of color scheme common for light and dark mode */\n",
       "  --sklearn-color-text: black;\n",
       "  --sklearn-color-line: gray;\n",
       "  /* Definition of color scheme for unfitted estimators */\n",
       "  --sklearn-color-unfitted-level-0: #fff5e6;\n",
       "  --sklearn-color-unfitted-level-1: #f6e4d2;\n",
       "  --sklearn-color-unfitted-level-2: #ffe0b3;\n",
       "  --sklearn-color-unfitted-level-3: chocolate;\n",
       "  /* Definition of color scheme for fitted estimators */\n",
       "  --sklearn-color-fitted-level-0: #f0f8ff;\n",
       "  --sklearn-color-fitted-level-1: #d4ebff;\n",
       "  --sklearn-color-fitted-level-2: #b3dbfd;\n",
       "  --sklearn-color-fitted-level-3: cornflowerblue;\n",
       "\n",
       "  /* Specific color for light theme */\n",
       "  --sklearn-color-text-on-default-background: var(--sg-text-color, var(--theme-code-foreground, var(--jp-content-font-color1, black)));\n",
       "  --sklearn-color-background: var(--sg-background-color, var(--theme-background, var(--jp-layout-color0, white)));\n",
       "  --sklearn-color-border-box: var(--sg-text-color, var(--theme-code-foreground, var(--jp-content-font-color1, black)));\n",
       "  --sklearn-color-icon: #696969;\n",
       "\n",
       "  @media (prefers-color-scheme: dark) {\n",
       "    /* Redefinition of color scheme for dark theme */\n",
       "    --sklearn-color-text-on-default-background: var(--sg-text-color, var(--theme-code-foreground, var(--jp-content-font-color1, white)));\n",
       "    --sklearn-color-background: var(--sg-background-color, var(--theme-background, var(--jp-layout-color0, #111)));\n",
       "    --sklearn-color-border-box: var(--sg-text-color, var(--theme-code-foreground, var(--jp-content-font-color1, white)));\n",
       "    --sklearn-color-icon: #878787;\n",
       "  }\n",
       "}\n",
       "\n",
       "#sk-container-id-3 {\n",
       "  color: var(--sklearn-color-text);\n",
       "}\n",
       "\n",
       "#sk-container-id-3 pre {\n",
       "  padding: 0;\n",
       "}\n",
       "\n",
       "#sk-container-id-3 input.sk-hidden--visually {\n",
       "  border: 0;\n",
       "  clip: rect(1px 1px 1px 1px);\n",
       "  clip: rect(1px, 1px, 1px, 1px);\n",
       "  height: 1px;\n",
       "  margin: -1px;\n",
       "  overflow: hidden;\n",
       "  padding: 0;\n",
       "  position: absolute;\n",
       "  width: 1px;\n",
       "}\n",
       "\n",
       "#sk-container-id-3 div.sk-dashed-wrapped {\n",
       "  border: 1px dashed var(--sklearn-color-line);\n",
       "  margin: 0 0.4em 0.5em 0.4em;\n",
       "  box-sizing: border-box;\n",
       "  padding-bottom: 0.4em;\n",
       "  background-color: var(--sklearn-color-background);\n",
       "}\n",
       "\n",
       "#sk-container-id-3 div.sk-container {\n",
       "  /* jupyter's `normalize.less` sets `[hidden] { display: none; }`\n",
       "     but bootstrap.min.css set `[hidden] { display: none !important; }`\n",
       "     so we also need the `!important` here to be able to override the\n",
       "     default hidden behavior on the sphinx rendered scikit-learn.org.\n",
       "     See: https://github.com/scikit-learn/scikit-learn/issues/21755 */\n",
       "  display: inline-block !important;\n",
       "  position: relative;\n",
       "}\n",
       "\n",
       "#sk-container-id-3 div.sk-text-repr-fallback {\n",
       "  display: none;\n",
       "}\n",
       "\n",
       "div.sk-parallel-item,\n",
       "div.sk-serial,\n",
       "div.sk-item {\n",
       "  /* draw centered vertical line to link estimators */\n",
       "  background-image: linear-gradient(var(--sklearn-color-text-on-default-background), var(--sklearn-color-text-on-default-background));\n",
       "  background-size: 2px 100%;\n",
       "  background-repeat: no-repeat;\n",
       "  background-position: center center;\n",
       "}\n",
       "\n",
       "/* Parallel-specific style estimator block */\n",
       "\n",
       "#sk-container-id-3 div.sk-parallel-item::after {\n",
       "  content: \"\";\n",
       "  width: 100%;\n",
       "  border-bottom: 2px solid var(--sklearn-color-text-on-default-background);\n",
       "  flex-grow: 1;\n",
       "}\n",
       "\n",
       "#sk-container-id-3 div.sk-parallel {\n",
       "  display: flex;\n",
       "  align-items: stretch;\n",
       "  justify-content: center;\n",
       "  background-color: var(--sklearn-color-background);\n",
       "  position: relative;\n",
       "}\n",
       "\n",
       "#sk-container-id-3 div.sk-parallel-item {\n",
       "  display: flex;\n",
       "  flex-direction: column;\n",
       "}\n",
       "\n",
       "#sk-container-id-3 div.sk-parallel-item:first-child::after {\n",
       "  align-self: flex-end;\n",
       "  width: 50%;\n",
       "}\n",
       "\n",
       "#sk-container-id-3 div.sk-parallel-item:last-child::after {\n",
       "  align-self: flex-start;\n",
       "  width: 50%;\n",
       "}\n",
       "\n",
       "#sk-container-id-3 div.sk-parallel-item:only-child::after {\n",
       "  width: 0;\n",
       "}\n",
       "\n",
       "/* Serial-specific style estimator block */\n",
       "\n",
       "#sk-container-id-3 div.sk-serial {\n",
       "  display: flex;\n",
       "  flex-direction: column;\n",
       "  align-items: center;\n",
       "  background-color: var(--sklearn-color-background);\n",
       "  padding-right: 1em;\n",
       "  padding-left: 1em;\n",
       "}\n",
       "\n",
       "\n",
       "/* Toggleable style: style used for estimator/Pipeline/ColumnTransformer box that is\n",
       "clickable and can be expanded/collapsed.\n",
       "- Pipeline and ColumnTransformer use this feature and define the default style\n",
       "- Estimators will overwrite some part of the style using the `sk-estimator` class\n",
       "*/\n",
       "\n",
       "/* Pipeline and ColumnTransformer style (default) */\n",
       "\n",
       "#sk-container-id-3 div.sk-toggleable {\n",
       "  /* Default theme specific background. It is overwritten whether we have a\n",
       "  specific estimator or a Pipeline/ColumnTransformer */\n",
       "  background-color: var(--sklearn-color-background);\n",
       "}\n",
       "\n",
       "/* Toggleable label */\n",
       "#sk-container-id-3 label.sk-toggleable__label {\n",
       "  cursor: pointer;\n",
       "  display: block;\n",
       "  width: 100%;\n",
       "  margin-bottom: 0;\n",
       "  padding: 0.5em;\n",
       "  box-sizing: border-box;\n",
       "  text-align: center;\n",
       "}\n",
       "\n",
       "#sk-container-id-3 label.sk-toggleable__label-arrow:before {\n",
       "  /* Arrow on the left of the label */\n",
       "  content: \"▸\";\n",
       "  float: left;\n",
       "  margin-right: 0.25em;\n",
       "  color: var(--sklearn-color-icon);\n",
       "}\n",
       "\n",
       "#sk-container-id-3 label.sk-toggleable__label-arrow:hover:before {\n",
       "  color: var(--sklearn-color-text);\n",
       "}\n",
       "\n",
       "/* Toggleable content - dropdown */\n",
       "\n",
       "#sk-container-id-3 div.sk-toggleable__content {\n",
       "  max-height: 0;\n",
       "  max-width: 0;\n",
       "  overflow: hidden;\n",
       "  text-align: left;\n",
       "  /* unfitted */\n",
       "  background-color: var(--sklearn-color-unfitted-level-0);\n",
       "}\n",
       "\n",
       "#sk-container-id-3 div.sk-toggleable__content.fitted {\n",
       "  /* fitted */\n",
       "  background-color: var(--sklearn-color-fitted-level-0);\n",
       "}\n",
       "\n",
       "#sk-container-id-3 div.sk-toggleable__content pre {\n",
       "  margin: 0.2em;\n",
       "  border-radius: 0.25em;\n",
       "  color: var(--sklearn-color-text);\n",
       "  /* unfitted */\n",
       "  background-color: var(--sklearn-color-unfitted-level-0);\n",
       "}\n",
       "\n",
       "#sk-container-id-3 div.sk-toggleable__content.fitted pre {\n",
       "  /* unfitted */\n",
       "  background-color: var(--sklearn-color-fitted-level-0);\n",
       "}\n",
       "\n",
       "#sk-container-id-3 input.sk-toggleable__control:checked~div.sk-toggleable__content {\n",
       "  /* Expand drop-down */\n",
       "  max-height: 200px;\n",
       "  max-width: 100%;\n",
       "  overflow: auto;\n",
       "}\n",
       "\n",
       "#sk-container-id-3 input.sk-toggleable__control:checked~label.sk-toggleable__label-arrow:before {\n",
       "  content: \"▾\";\n",
       "}\n",
       "\n",
       "/* Pipeline/ColumnTransformer-specific style */\n",
       "\n",
       "#sk-container-id-3 div.sk-label input.sk-toggleable__control:checked~label.sk-toggleable__label {\n",
       "  color: var(--sklearn-color-text);\n",
       "  background-color: var(--sklearn-color-unfitted-level-2);\n",
       "}\n",
       "\n",
       "#sk-container-id-3 div.sk-label.fitted input.sk-toggleable__control:checked~label.sk-toggleable__label {\n",
       "  background-color: var(--sklearn-color-fitted-level-2);\n",
       "}\n",
       "\n",
       "/* Estimator-specific style */\n",
       "\n",
       "/* Colorize estimator box */\n",
       "#sk-container-id-3 div.sk-estimator input.sk-toggleable__control:checked~label.sk-toggleable__label {\n",
       "  /* unfitted */\n",
       "  background-color: var(--sklearn-color-unfitted-level-2);\n",
       "}\n",
       "\n",
       "#sk-container-id-3 div.sk-estimator.fitted input.sk-toggleable__control:checked~label.sk-toggleable__label {\n",
       "  /* fitted */\n",
       "  background-color: var(--sklearn-color-fitted-level-2);\n",
       "}\n",
       "\n",
       "#sk-container-id-3 div.sk-label label.sk-toggleable__label,\n",
       "#sk-container-id-3 div.sk-label label {\n",
       "  /* The background is the default theme color */\n",
       "  color: var(--sklearn-color-text-on-default-background);\n",
       "}\n",
       "\n",
       "/* On hover, darken the color of the background */\n",
       "#sk-container-id-3 div.sk-label:hover label.sk-toggleable__label {\n",
       "  color: var(--sklearn-color-text);\n",
       "  background-color: var(--sklearn-color-unfitted-level-2);\n",
       "}\n",
       "\n",
       "/* Label box, darken color on hover, fitted */\n",
       "#sk-container-id-3 div.sk-label.fitted:hover label.sk-toggleable__label.fitted {\n",
       "  color: var(--sklearn-color-text);\n",
       "  background-color: var(--sklearn-color-fitted-level-2);\n",
       "}\n",
       "\n",
       "/* Estimator label */\n",
       "\n",
       "#sk-container-id-3 div.sk-label label {\n",
       "  font-family: monospace;\n",
       "  font-weight: bold;\n",
       "  display: inline-block;\n",
       "  line-height: 1.2em;\n",
       "}\n",
       "\n",
       "#sk-container-id-3 div.sk-label-container {\n",
       "  text-align: center;\n",
       "}\n",
       "\n",
       "/* Estimator-specific */\n",
       "#sk-container-id-3 div.sk-estimator {\n",
       "  font-family: monospace;\n",
       "  border: 1px dotted var(--sklearn-color-border-box);\n",
       "  border-radius: 0.25em;\n",
       "  box-sizing: border-box;\n",
       "  margin-bottom: 0.5em;\n",
       "  /* unfitted */\n",
       "  background-color: var(--sklearn-color-unfitted-level-0);\n",
       "}\n",
       "\n",
       "#sk-container-id-3 div.sk-estimator.fitted {\n",
       "  /* fitted */\n",
       "  background-color: var(--sklearn-color-fitted-level-0);\n",
       "}\n",
       "\n",
       "/* on hover */\n",
       "#sk-container-id-3 div.sk-estimator:hover {\n",
       "  /* unfitted */\n",
       "  background-color: var(--sklearn-color-unfitted-level-2);\n",
       "}\n",
       "\n",
       "#sk-container-id-3 div.sk-estimator.fitted:hover {\n",
       "  /* fitted */\n",
       "  background-color: var(--sklearn-color-fitted-level-2);\n",
       "}\n",
       "\n",
       "/* Specification for estimator info (e.g. \"i\" and \"?\") */\n",
       "\n",
       "/* Common style for \"i\" and \"?\" */\n",
       "\n",
       ".sk-estimator-doc-link,\n",
       "a:link.sk-estimator-doc-link,\n",
       "a:visited.sk-estimator-doc-link {\n",
       "  float: right;\n",
       "  font-size: smaller;\n",
       "  line-height: 1em;\n",
       "  font-family: monospace;\n",
       "  background-color: var(--sklearn-color-background);\n",
       "  border-radius: 1em;\n",
       "  height: 1em;\n",
       "  width: 1em;\n",
       "  text-decoration: none !important;\n",
       "  margin-left: 1ex;\n",
       "  /* unfitted */\n",
       "  border: var(--sklearn-color-unfitted-level-1) 1pt solid;\n",
       "  color: var(--sklearn-color-unfitted-level-1);\n",
       "}\n",
       "\n",
       ".sk-estimator-doc-link.fitted,\n",
       "a:link.sk-estimator-doc-link.fitted,\n",
       "a:visited.sk-estimator-doc-link.fitted {\n",
       "  /* fitted */\n",
       "  border: var(--sklearn-color-fitted-level-1) 1pt solid;\n",
       "  color: var(--sklearn-color-fitted-level-1);\n",
       "}\n",
       "\n",
       "/* On hover */\n",
       "div.sk-estimator:hover .sk-estimator-doc-link:hover,\n",
       ".sk-estimator-doc-link:hover,\n",
       "div.sk-label-container:hover .sk-estimator-doc-link:hover,\n",
       ".sk-estimator-doc-link:hover {\n",
       "  /* unfitted */\n",
       "  background-color: var(--sklearn-color-unfitted-level-3);\n",
       "  color: var(--sklearn-color-background);\n",
       "  text-decoration: none;\n",
       "}\n",
       "\n",
       "div.sk-estimator.fitted:hover .sk-estimator-doc-link.fitted:hover,\n",
       ".sk-estimator-doc-link.fitted:hover,\n",
       "div.sk-label-container:hover .sk-estimator-doc-link.fitted:hover,\n",
       ".sk-estimator-doc-link.fitted:hover {\n",
       "  /* fitted */\n",
       "  background-color: var(--sklearn-color-fitted-level-3);\n",
       "  color: var(--sklearn-color-background);\n",
       "  text-decoration: none;\n",
       "}\n",
       "\n",
       "/* Span, style for the box shown on hovering the info icon */\n",
       ".sk-estimator-doc-link span {\n",
       "  display: none;\n",
       "  z-index: 9999;\n",
       "  position: relative;\n",
       "  font-weight: normal;\n",
       "  right: .2ex;\n",
       "  padding: .5ex;\n",
       "  margin: .5ex;\n",
       "  width: min-content;\n",
       "  min-width: 20ex;\n",
       "  max-width: 50ex;\n",
       "  color: var(--sklearn-color-text);\n",
       "  box-shadow: 2pt 2pt 4pt #999;\n",
       "  /* unfitted */\n",
       "  background: var(--sklearn-color-unfitted-level-0);\n",
       "  border: .5pt solid var(--sklearn-color-unfitted-level-3);\n",
       "}\n",
       "\n",
       ".sk-estimator-doc-link.fitted span {\n",
       "  /* fitted */\n",
       "  background: var(--sklearn-color-fitted-level-0);\n",
       "  border: var(--sklearn-color-fitted-level-3);\n",
       "}\n",
       "\n",
       ".sk-estimator-doc-link:hover span {\n",
       "  display: block;\n",
       "}\n",
       "\n",
       "/* \"?\"-specific style due to the `<a>` HTML tag */\n",
       "\n",
       "#sk-container-id-3 a.estimator_doc_link {\n",
       "  float: right;\n",
       "  font-size: 1rem;\n",
       "  line-height: 1em;\n",
       "  font-family: monospace;\n",
       "  background-color: var(--sklearn-color-background);\n",
       "  border-radius: 1rem;\n",
       "  height: 1rem;\n",
       "  width: 1rem;\n",
       "  text-decoration: none;\n",
       "  /* unfitted */\n",
       "  color: var(--sklearn-color-unfitted-level-1);\n",
       "  border: var(--sklearn-color-unfitted-level-1) 1pt solid;\n",
       "}\n",
       "\n",
       "#sk-container-id-3 a.estimator_doc_link.fitted {\n",
       "  /* fitted */\n",
       "  border: var(--sklearn-color-fitted-level-1) 1pt solid;\n",
       "  color: var(--sklearn-color-fitted-level-1);\n",
       "}\n",
       "\n",
       "/* On hover */\n",
       "#sk-container-id-3 a.estimator_doc_link:hover {\n",
       "  /* unfitted */\n",
       "  background-color: var(--sklearn-color-unfitted-level-3);\n",
       "  color: var(--sklearn-color-background);\n",
       "  text-decoration: none;\n",
       "}\n",
       "\n",
       "#sk-container-id-3 a.estimator_doc_link.fitted:hover {\n",
       "  /* fitted */\n",
       "  background-color: var(--sklearn-color-fitted-level-3);\n",
       "}\n",
       "</style><div id=\"sk-container-id-3\" class=\"sk-top-container\"><div class=\"sk-text-repr-fallback\"><pre>RandomForestClassifier(criterion=&#x27;entropy&#x27;, max_features=9, n_estimators=300,\n",
       "                       random_state=42)</pre><b>In a Jupyter environment, please rerun this cell to show the HTML representation or trust the notebook. <br />On GitHub, the HTML representation is unable to render, please try loading this page with nbviewer.org.</b></div><div class=\"sk-container\" hidden><div class=\"sk-item\"><div class=\"sk-estimator fitted sk-toggleable\"><input class=\"sk-toggleable__control sk-hidden--visually\" id=\"sk-estimator-id-3\" type=\"checkbox\" checked><label for=\"sk-estimator-id-3\" class=\"sk-toggleable__label fitted sk-toggleable__label-arrow fitted\">&nbsp;&nbsp;RandomForestClassifier<a class=\"sk-estimator-doc-link fitted\" rel=\"noreferrer\" target=\"_blank\" href=\"https://scikit-learn.org/1.5/modules/generated/sklearn.ensemble.RandomForestClassifier.html\">?<span>Documentation for RandomForestClassifier</span></a><span class=\"sk-estimator-doc-link fitted\">i<span>Fitted</span></span></label><div class=\"sk-toggleable__content fitted\"><pre>RandomForestClassifier(criterion=&#x27;entropy&#x27;, max_features=9, n_estimators=300,\n",
       "                       random_state=42)</pre></div> </div></div></div></div>"
      ],
      "text/plain": [
       "RandomForestClassifier(criterion='entropy', max_features=9, n_estimators=300,\n",
       "                       random_state=42)"
      ]
     },
     "execution_count": 63,
     "metadata": {},
     "output_type": "execute_result"
    }
   ],
   "source": [
    "opt3 = GridSearchRandomForest(\"building3\", n_fits=-1)\n",
    "opt3.fit(x_train3, y_train3, x_val3, y_val3)\n",
    "if save_folder:\n",
    "    print(opt3.save_results(save_folder))\n",
    "\n",
    "opt3.model[-1]"
   ]
  },
  {
   "cell_type": "code",
   "execution_count": 64,
   "metadata": {},
   "outputs": [
    {
     "data": {
      "text/plain": [
       "<Axes: xlabel='min_samples_split'>"
      ]
     },
     "metadata": {},
     "output_type": "display_data"
    },
    {
     "data": {
      "image/png": "[encoded data removed]",
      "text/plain": [
       "<Figure size 640x480 with 1 Axes>"
      ]
     },
     "metadata": {},
     "output_type": "display_data"
    }
   ],
   "source": [
    "df = opt3.results\n",
    "df = pd.DataFrame(df[scores], index=df[\"min_samples_split\"])\n",
    "plt = sns.lineplot(df)\n",
    "display(plt)"
   ]
  },
  {
   "cell_type": "code",
   "execution_count": 65,
   "metadata": {},
   "outputs": [
    {
     "name": "stdout",
     "output_type": "stream",
     "text": [
      "              precision    recall  f1-score   support\n",
      "\n",
      "         Off     0.9940    0.9959    0.9949     46088\n",
      "          On     0.9873    0.9816    0.9844     15153\n",
      "\n",
      "    accuracy                         0.9923     61241\n",
      "   macro avg     0.9906    0.9887    0.9897     61241\n",
      "weighted avg     0.9923    0.9923    0.9923     61241\n",
      "\n"
     ]
    }
   ],
   "source": [
    "tuned_metrics[\"Building 3\"][model_name] = calculate_metrics(opt3.model, x_test3, y_test3)\n",
    "save_model(opt3.model, \"randomforest_building3_tuned\")"
   ]
  },
  {
   "cell_type": "markdown",
   "metadata": {},
   "source": [
    "## Tuned Model Performance\n",
    "### Building 1"
   ]
  },
  {
   "cell_type": "code",
   "execution_count": 66,
   "metadata": {},
   "outputs": [
    {
     "data": {
      "text/html": [
       "<div>\n",
       "<style scoped>\n",
       "    .dataframe tbody tr th:only-of-type {\n",
       "        vertical-align: middle;\n",
       "    }\n",
       "\n",
       "    .dataframe tbody tr th {\n",
       "        vertical-align: top;\n",
       "    }\n",
       "\n",
       "    .dataframe thead th {\n",
       "        text-align: right;\n",
       "    }\n",
       "</style>\n",
       "<table border=\"1\" class=\"dataframe\">\n",
       "  <thead>\n",
       "    <tr style=\"text-align: right;\">\n",
       "      <th></th>\n",
       "      <th>Accuracy</th>\n",
       "      <th>f1</th>\n",
       "      <th>Matthews</th>\n",
       "      <th>TN</th>\n",
       "      <th>FP</th>\n",
       "      <th>FN</th>\n",
       "      <th>TP</th>\n",
       "    </tr>\n",
       "  </thead>\n",
       "  <tbody>\n",
       "    <tr>\n",
       "      <th>Random Forest</th>\n",
       "      <td>0.999865</td>\n",
       "      <td>0.999908</td>\n",
       "      <td>0.999652</td>\n",
       "      <td>27246.0</td>\n",
       "      <td>7.0</td>\n",
       "      <td>7.0</td>\n",
       "      <td>76426.0</td>\n",
       "    </tr>\n",
       "    <tr>\n",
       "      <th>Decision Tree (default)</th>\n",
       "      <td>0.999769</td>\n",
       "      <td>0.999843</td>\n",
       "      <td>0.999403</td>\n",
       "      <td>27240.0</td>\n",
       "      <td>13.0</td>\n",
       "      <td>11.0</td>\n",
       "      <td>76422.0</td>\n",
       "    </tr>\n",
       "    <tr>\n",
       "      <th>Random Forest (default)</th>\n",
       "      <td>0.999759</td>\n",
       "      <td>0.999836</td>\n",
       "      <td>0.999378</td>\n",
       "      <td>27244.0</td>\n",
       "      <td>9.0</td>\n",
       "      <td>16.0</td>\n",
       "      <td>76417.0</td>\n",
       "    </tr>\n",
       "    <tr>\n",
       "      <th>Decision Tree</th>\n",
       "      <td>0.999605</td>\n",
       "      <td>0.999732</td>\n",
       "      <td>0.998980</td>\n",
       "      <td>27236.0</td>\n",
       "      <td>17.0</td>\n",
       "      <td>24.0</td>\n",
       "      <td>76409.0</td>\n",
       "    </tr>\n",
       "    <tr>\n",
       "      <th>Hist Gradient Boosting (default)</th>\n",
       "      <td>0.998100</td>\n",
       "      <td>0.998712</td>\n",
       "      <td>0.995095</td>\n",
       "      <td>27092.0</td>\n",
       "      <td>161.0</td>\n",
       "      <td>36.0</td>\n",
       "      <td>76397.0</td>\n",
       "    </tr>\n",
       "    <tr>\n",
       "      <th>SVM (default)</th>\n",
       "      <td>0.955539</td>\n",
       "      <td>0.970521</td>\n",
       "      <td>0.883990</td>\n",
       "      <td>23189.0</td>\n",
       "      <td>4064.0</td>\n",
       "      <td>546.0</td>\n",
       "      <td>75887.0</td>\n",
       "    </tr>\n",
       "    <tr>\n",
       "      <th>Logistic Regression (default)</th>\n",
       "      <td>0.865247</td>\n",
       "      <td>0.916098</td>\n",
       "      <td>0.640379</td>\n",
       "      <td>13436.0</td>\n",
       "      <td>13817.0</td>\n",
       "      <td>155.0</td>\n",
       "      <td>76278.0</td>\n",
       "    </tr>\n",
       "    <tr>\n",
       "      <th>Linear SVM (default)</th>\n",
       "      <td>0.863791</td>\n",
       "      <td>0.915332</td>\n",
       "      <td>0.636767</td>\n",
       "      <td>13222.0</td>\n",
       "      <td>14031.0</td>\n",
       "      <td>92.0</td>\n",
       "      <td>76341.0</td>\n",
       "    </tr>\n",
       "    <tr>\n",
       "      <th>Linear Discriminant Analysis (default)</th>\n",
       "      <td>0.862209</td>\n",
       "      <td>0.914426</td>\n",
       "      <td>0.632116</td>\n",
       "      <td>13065.0</td>\n",
       "      <td>14188.0</td>\n",
       "      <td>99.0</td>\n",
       "      <td>76334.0</td>\n",
       "    </tr>\n",
       "  </tbody>\n",
       "</table>\n",
       "</div>"
      ],
      "text/plain": [
       "                                        Accuracy        f1  Matthews       TN  \\\n",
       "Random Forest                           0.999865  0.999908  0.999652  27246.0   \n",
       "Decision Tree (default)                 0.999769  0.999843  0.999403  27240.0   \n",
       "Random Forest (default)                 0.999759  0.999836  0.999378  27244.0   \n",
       "Decision Tree                           0.999605  0.999732  0.998980  27236.0   \n",
       "Hist Gradient Boosting (default)        0.998100  0.998712  0.995095  27092.0   \n",
       "SVM (default)                           0.955539  0.970521  0.883990  23189.0   \n",
       "Logistic Regression (default)           0.865247  0.916098  0.640379  13436.0   \n",
       "Linear SVM (default)                    0.863791  0.915332  0.636767  13222.0   \n",
       "Linear Discriminant Analysis (default)  0.862209  0.914426  0.632116  13065.0   \n",
       "\n",
       "                                             FP     FN       TP  \n",
       "Random Forest                               7.0    7.0  76426.0  \n",
       "Decision Tree (default)                    13.0   11.0  76422.0  \n",
       "Random Forest (default)                     9.0   16.0  76417.0  \n",
       "Decision Tree                              17.0   24.0  76409.0  \n",
       "Hist Gradient Boosting (default)          161.0   36.0  76397.0  \n",
       "SVM (default)                            4064.0  546.0  75887.0  \n",
       "Logistic Regression (default)           13817.0  155.0  76278.0  \n",
       "Linear SVM (default)                    14031.0   92.0  76341.0  \n",
       "Linear Discriminant Analysis (default)  14188.0   99.0  76334.0  "
      ]
     },
     "execution_count": 66,
     "metadata": {},
     "output_type": "execute_result"
    }
   ],
   "source": [
    "pd.DataFrame(tuned_metrics[\"Building 1\"]).T.sort_values(\"f1\", ascending=False)"
   ]
  },
  {
   "cell_type": "markdown",
   "metadata": {},
   "source": [
    "### Building 2"
   ]
  },
  {
   "cell_type": "code",
   "execution_count": 67,
   "metadata": {},
   "outputs": [
    {
     "data": {
      "text/html": [
       "<div>\n",
       "<style scoped>\n",
       "    .dataframe tbody tr th:only-of-type {\n",
       "        vertical-align: middle;\n",
       "    }\n",
       "\n",
       "    .dataframe tbody tr th {\n",
       "        vertical-align: top;\n",
       "    }\n",
       "\n",
       "    .dataframe thead th {\n",
       "        text-align: right;\n",
       "    }\n",
       "</style>\n",
       "<table border=\"1\" class=\"dataframe\">\n",
       "  <thead>\n",
       "    <tr style=\"text-align: right;\">\n",
       "      <th></th>\n",
       "      <th>Accuracy</th>\n",
       "      <th>f1</th>\n",
       "      <th>Matthews</th>\n",
       "      <th>TN</th>\n",
       "      <th>FP</th>\n",
       "      <th>FN</th>\n",
       "      <th>TP</th>\n",
       "    </tr>\n",
       "  </thead>\n",
       "  <tbody>\n",
       "    <tr>\n",
       "      <th>Random Forest</th>\n",
       "      <td>0.971880</td>\n",
       "      <td>0.895121</td>\n",
       "      <td>0.879219</td>\n",
       "      <td>11330.0</td>\n",
       "      <td>229.0</td>\n",
       "      <td>145.0</td>\n",
       "      <td>1596.0</td>\n",
       "    </tr>\n",
       "    <tr>\n",
       "      <th>Random Forest (default)</th>\n",
       "      <td>0.968872</td>\n",
       "      <td>0.883446</td>\n",
       "      <td>0.865715</td>\n",
       "      <td>11317.0</td>\n",
       "      <td>242.0</td>\n",
       "      <td>172.0</td>\n",
       "      <td>1569.0</td>\n",
       "    </tr>\n",
       "    <tr>\n",
       "      <th>Decision Tree</th>\n",
       "      <td>0.954662</td>\n",
       "      <td>0.837510</td>\n",
       "      <td>0.813374</td>\n",
       "      <td>11143.0</td>\n",
       "      <td>416.0</td>\n",
       "      <td>187.0</td>\n",
       "      <td>1554.0</td>\n",
       "    </tr>\n",
       "    <tr>\n",
       "      <th>Decision Tree (default)</th>\n",
       "      <td>0.952707</td>\n",
       "      <td>0.831953</td>\n",
       "      <td>0.807248</td>\n",
       "      <td>11114.0</td>\n",
       "      <td>445.0</td>\n",
       "      <td>184.0</td>\n",
       "      <td>1557.0</td>\n",
       "    </tr>\n",
       "    <tr>\n",
       "      <th>Hist Gradient Boosting (default)</th>\n",
       "      <td>0.931053</td>\n",
       "      <td>0.752095</td>\n",
       "      <td>0.713871</td>\n",
       "      <td>10992.0</td>\n",
       "      <td>567.0</td>\n",
       "      <td>350.0</td>\n",
       "      <td>1391.0</td>\n",
       "    </tr>\n",
       "    <tr>\n",
       "      <th>SVM (default)</th>\n",
       "      <td>0.890602</td>\n",
       "      <td>0.576912</td>\n",
       "      <td>0.514155</td>\n",
       "      <td>10853.0</td>\n",
       "      <td>706.0</td>\n",
       "      <td>749.0</td>\n",
       "      <td>992.0</td>\n",
       "    </tr>\n",
       "    <tr>\n",
       "      <th>Logistic Regression (default)</th>\n",
       "      <td>0.864135</td>\n",
       "      <td>0.455559</td>\n",
       "      <td>0.378752</td>\n",
       "      <td>10737.0</td>\n",
       "      <td>822.0</td>\n",
       "      <td>985.0</td>\n",
       "      <td>756.0</td>\n",
       "    </tr>\n",
       "    <tr>\n",
       "      <th>Linear Discriminant Analysis (default)</th>\n",
       "      <td>0.864286</td>\n",
       "      <td>0.446149</td>\n",
       "      <td>0.370356</td>\n",
       "      <td>10768.0</td>\n",
       "      <td>791.0</td>\n",
       "      <td>1014.0</td>\n",
       "      <td>727.0</td>\n",
       "    </tr>\n",
       "    <tr>\n",
       "      <th>Linear SVM (default)</th>\n",
       "      <td>0.858496</td>\n",
       "      <td>0.409291</td>\n",
       "      <td>0.331546</td>\n",
       "      <td>10766.0</td>\n",
       "      <td>793.0</td>\n",
       "      <td>1089.0</td>\n",
       "      <td>652.0</td>\n",
       "    </tr>\n",
       "  </tbody>\n",
       "</table>\n",
       "</div>"
      ],
      "text/plain": [
       "                                        Accuracy        f1  Matthews       TN  \\\n",
       "Random Forest                           0.971880  0.895121  0.879219  11330.0   \n",
       "Random Forest (default)                 0.968872  0.883446  0.865715  11317.0   \n",
       "Decision Tree                           0.954662  0.837510  0.813374  11143.0   \n",
       "Decision Tree (default)                 0.952707  0.831953  0.807248  11114.0   \n",
       "Hist Gradient Boosting (default)        0.931053  0.752095  0.713871  10992.0   \n",
       "SVM (default)                           0.890602  0.576912  0.514155  10853.0   \n",
       "Logistic Regression (default)           0.864135  0.455559  0.378752  10737.0   \n",
       "Linear Discriminant Analysis (default)  0.864286  0.446149  0.370356  10768.0   \n",
       "Linear SVM (default)                    0.858496  0.409291  0.331546  10766.0   \n",
       "\n",
       "                                           FP      FN      TP  \n",
       "Random Forest                           229.0   145.0  1596.0  \n",
       "Random Forest (default)                 242.0   172.0  1569.0  \n",
       "Decision Tree                           416.0   187.0  1554.0  \n",
       "Decision Tree (default)                 445.0   184.0  1557.0  \n",
       "Hist Gradient Boosting (default)        567.0   350.0  1391.0  \n",
       "SVM (default)                           706.0   749.0   992.0  \n",
       "Logistic Regression (default)           822.0   985.0   756.0  \n",
       "Linear Discriminant Analysis (default)  791.0  1014.0   727.0  \n",
       "Linear SVM (default)                    793.0  1089.0   652.0  "
      ]
     },
     "execution_count": 67,
     "metadata": {},
     "output_type": "execute_result"
    }
   ],
   "source": [
    "pd.DataFrame(tuned_metrics[\"Building 2\"]).T.sort_values(\"f1\", ascending=False)"
   ]
  },
  {
   "cell_type": "markdown",
   "metadata": {},
   "source": [
    "### Building 3"
   ]
  },
  {
   "cell_type": "code",
   "execution_count": 68,
   "metadata": {},
   "outputs": [
    {
     "data": {
      "text/html": [
       "<div>\n",
       "<style scoped>\n",
       "    .dataframe tbody tr th:only-of-type {\n",
       "        vertical-align: middle;\n",
       "    }\n",
       "\n",
       "    .dataframe tbody tr th {\n",
       "        vertical-align: top;\n",
       "    }\n",
       "\n",
       "    .dataframe thead th {\n",
       "        text-align: right;\n",
       "    }\n",
       "</style>\n",
       "<table border=\"1\" class=\"dataframe\">\n",
       "  <thead>\n",
       "    <tr style=\"text-align: right;\">\n",
       "      <th></th>\n",
       "      <th>Accuracy</th>\n",
       "      <th>f1</th>\n",
       "      <th>Matthews</th>\n",
       "      <th>TN</th>\n",
       "      <th>FP</th>\n",
       "      <th>FN</th>\n",
       "      <th>TP</th>\n",
       "    </tr>\n",
       "  </thead>\n",
       "  <tbody>\n",
       "    <tr>\n",
       "      <th>Random Forest</th>\n",
       "      <td>0.992325</td>\n",
       "      <td>0.984446</td>\n",
       "      <td>0.979360</td>\n",
       "      <td>45897.0</td>\n",
       "      <td>191.0</td>\n",
       "      <td>279.0</td>\n",
       "      <td>14874.0</td>\n",
       "    </tr>\n",
       "    <tr>\n",
       "      <th>Random Forest (default)</th>\n",
       "      <td>0.991346</td>\n",
       "      <td>0.982398</td>\n",
       "      <td>0.976697</td>\n",
       "      <td>45921.0</td>\n",
       "      <td>167.0</td>\n",
       "      <td>363.0</td>\n",
       "      <td>14790.0</td>\n",
       "    </tr>\n",
       "    <tr>\n",
       "      <th>Decision Tree</th>\n",
       "      <td>0.988211</td>\n",
       "      <td>0.976164</td>\n",
       "      <td>0.968333</td>\n",
       "      <td>45735.0</td>\n",
       "      <td>353.0</td>\n",
       "      <td>369.0</td>\n",
       "      <td>14784.0</td>\n",
       "    </tr>\n",
       "    <tr>\n",
       "      <th>Decision Tree (default)</th>\n",
       "      <td>0.985124</td>\n",
       "      <td>0.969911</td>\n",
       "      <td>0.960032</td>\n",
       "      <td>45647.0</td>\n",
       "      <td>441.0</td>\n",
       "      <td>470.0</td>\n",
       "      <td>14683.0</td>\n",
       "    </tr>\n",
       "    <tr>\n",
       "      <th>Hist Gradient Boosting (default)</th>\n",
       "      <td>0.976715</td>\n",
       "      <td>0.952355</td>\n",
       "      <td>0.937081</td>\n",
       "      <td>45563.0</td>\n",
       "      <td>525.0</td>\n",
       "      <td>901.0</td>\n",
       "      <td>14252.0</td>\n",
       "    </tr>\n",
       "    <tr>\n",
       "      <th>SVM (default)</th>\n",
       "      <td>0.953985</td>\n",
       "      <td>0.903757</td>\n",
       "      <td>0.874497</td>\n",
       "      <td>45192.0</td>\n",
       "      <td>896.0</td>\n",
       "      <td>1922.0</td>\n",
       "      <td>13231.0</td>\n",
       "    </tr>\n",
       "    <tr>\n",
       "      <th>Linear SVM (default)</th>\n",
       "      <td>0.875753</td>\n",
       "      <td>0.722127</td>\n",
       "      <td>0.649412</td>\n",
       "      <td>43745.0</td>\n",
       "      <td>2343.0</td>\n",
       "      <td>5266.0</td>\n",
       "      <td>9887.0</td>\n",
       "    </tr>\n",
       "    <tr>\n",
       "      <th>Logistic Regression (default)</th>\n",
       "      <td>0.842034</td>\n",
       "      <td>0.634309</td>\n",
       "      <td>0.545658</td>\n",
       "      <td>43177.0</td>\n",
       "      <td>2911.0</td>\n",
       "      <td>6763.0</td>\n",
       "      <td>8390.0</td>\n",
       "    </tr>\n",
       "    <tr>\n",
       "      <th>Linear Discriminant Analysis (default)</th>\n",
       "      <td>0.841560</td>\n",
       "      <td>0.606640</td>\n",
       "      <td>0.535674</td>\n",
       "      <td>44056.0</td>\n",
       "      <td>2032.0</td>\n",
       "      <td>7671.0</td>\n",
       "      <td>7482.0</td>\n",
       "    </tr>\n",
       "  </tbody>\n",
       "</table>\n",
       "</div>"
      ],
      "text/plain": [
       "                                        Accuracy        f1  Matthews       TN  \\\n",
       "Random Forest                           0.992325  0.984446  0.979360  45897.0   \n",
       "Random Forest (default)                 0.991346  0.982398  0.976697  45921.0   \n",
       "Decision Tree                           0.988211  0.976164  0.968333  45735.0   \n",
       "Decision Tree (default)                 0.985124  0.969911  0.960032  45647.0   \n",
       "Hist Gradient Boosting (default)        0.976715  0.952355  0.937081  45563.0   \n",
       "SVM (default)                           0.953985  0.903757  0.874497  45192.0   \n",
       "Linear SVM (default)                    0.875753  0.722127  0.649412  43745.0   \n",
       "Logistic Regression (default)           0.842034  0.634309  0.545658  43177.0   \n",
       "Linear Discriminant Analysis (default)  0.841560  0.606640  0.535674  44056.0   \n",
       "\n",
       "                                            FP      FN       TP  \n",
       "Random Forest                            191.0   279.0  14874.0  \n",
       "Random Forest (default)                  167.0   363.0  14790.0  \n",
       "Decision Tree                            353.0   369.0  14784.0  \n",
       "Decision Tree (default)                  441.0   470.0  14683.0  \n",
       "Hist Gradient Boosting (default)         525.0   901.0  14252.0  \n",
       "SVM (default)                            896.0  1922.0  13231.0  \n",
       "Linear SVM (default)                    2343.0  5266.0   9887.0  \n",
       "Logistic Regression (default)           2911.0  6763.0   8390.0  \n",
       "Linear Discriminant Analysis (default)  2032.0  7671.0   7482.0  "
      ]
     },
     "execution_count": 68,
     "metadata": {},
     "output_type": "execute_result"
    }
   ],
   "source": [
    "pd.DataFrame(tuned_metrics[\"Building 3\"]).T.sort_values(\"f1\", ascending=False)"
   ]
  }
 ],
 "metadata": {
  "kernelspec": {
   "display_name": "venv",
   "language": "python",
   "name": "python3"
  },
  "language_info": {
   "codemirror_mode": {
    "name": "ipython",
    "version": 3
   },
   "file_extension": ".py",
   "mimetype": "text/x-python",
   "name": "python",
   "nbconvert_exporter": "python",
   "pygments_lexer": "ipython3",
   "version": "3.11.9"
  }
 },
 "nbformat": 4,
 "nbformat_minor": 2
}

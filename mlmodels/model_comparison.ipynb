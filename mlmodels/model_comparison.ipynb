{
 "cells": [
  {
   "cell_type": "markdown",
   "metadata": {},
   "source": [
    "Python version should be `3.11`.\n",
    "\n",
    "Scikit-learn version should be `1.5.2`."
   ]
  },
  {
   "cell_type": "code",
   "execution_count": 1,
   "metadata": {},
   "outputs": [
    {
     "name": "stdout",
     "output_type": "stream",
     "text": [
      "Python version is 3.11.9\n",
      "Scikit-learn version is 1.5.2\n"
     ]
    }
   ],
   "source": [
    "import sklearn\n",
    "import platform\n",
    "\n",
    "print(f\"Python version is {platform.python_version()}\")\n",
    "print(f\"Scikit-learn version is {sklearn.__version__}\")"
   ]
  },
  {
   "cell_type": "markdown",
   "metadata": {},
   "source": [
    "## Import data"
   ]
  },
  {
   "cell_type": "code",
   "execution_count": 2,
   "metadata": {},
   "outputs": [
    {
     "name": "stdout",
     "output_type": "stream",
     "text": [
      "Building 1 has 376821 out of 2097150 valid rows.\n",
      "Building 2 has 22716 out of 520938 valid rows.\n",
      "Building 3 has 467517 out of 1942515 valid rows.\n"
     ]
    }
   ],
   "source": [
    "import pandas as pd\n",
    "df1 = pd.read_parquet(\"validated_data/cleaned1.parquet\")\n",
    "df2 = pd.read_parquet(\"validated_data/cleaned2.parquet\")\n",
    "df3 = pd.read_parquet(\"validated_data/cleaned3.parquet\")\n",
    "\n",
    "dfs = [df1, df2, df3]\n",
    "for i, df in enumerate(dfs):\n",
    "    dfs[i] = df[df[\"Faulty\"] == False]\n",
    "    print(f\"Building {i+1} has {len(dfs[i])} out of {len(df)} valid rows.\")\n",
    "df1, df2, df3 = dfs"
   ]
  },
  {
   "cell_type": "markdown",
   "metadata": {},
   "source": [
    "## Data preparation"
   ]
  },
  {
   "cell_type": "code",
   "execution_count": 3,
   "metadata": {},
   "outputs": [],
   "source": [
    "#df2.groupby(\"Zone_name\").count()"
   ]
  },
  {
   "cell_type": "markdown",
   "metadata": {},
   "source": [
    "Only keep columns with useful information.\n",
    "- `Slab_temp` and `Dew_temp` values do not vary in building 1\n",
    "- `building_no` is the same value within dataframes\n",
    "- `Fan_on_group` and `Cumulative_fan_on_mins` values were calculated using the target variable `Fan_status`\n",
    "- `Date` and `Time` cannot be easily converted to numeric values\n",
    "- `Year` values should probably not be used for prediction\n",
    "- `Damper_open_group` and `Louver_open_group` are categorical labels\n",
    "- Cumulative metrics probably won't be available when trying to predict future values\n",
    "- `Louver_status` values are missing in building 3"
   ]
  },
  {
   "cell_type": "code",
   "execution_count": 4,
   "metadata": {},
   "outputs": [],
   "source": [
    "exclude = [\"building_no\", \"Fan_on_group\", \"Date\", \"Time\", \"Year\", \"Damper_open_group\", \"Louver_open_group\", \"Faulty\", \"Cumulative_fan_on_mins\", \"Cumulative_damper_open_mins\", \"Cumulative_louver_open_mins\"]\n",
    "exclude_df1 = exclude + [\"Slab_temp\", \"Dew_temp\", \"Slab_temp_diff\", \"Dew_temp_diff\"]\n",
    "exclude_df3 = exclude + [\"Louver_status\"]\n",
    "\n",
    "df1 = df1[df1.columns.difference(exclude_df1)]\n",
    "df2 = df2[df2.columns.difference(exclude)]\n",
    "df3 = df3[df3.columns.difference(exclude_df3)]\n",
    "dfs = [df1, df2, df3]"
   ]
  },
  {
   "cell_type": "markdown",
   "metadata": {},
   "source": [
    "Use `Datetime` to get day of year and minutes past midnight"
   ]
  },
  {
   "cell_type": "code",
   "execution_count": 5,
   "metadata": {},
   "outputs": [],
   "source": [
    "for df in dfs:\n",
    "    df[\"Day_of_Year\"] = df[\"Datetime\"].dt.day_of_year\n",
    "    df[\"Minutes_past_midnight\"] = ((df[\"Datetime\"] - df[\"Datetime\"].dt.normalize()) / pd.Timedelta(minutes=1))\n",
    "    #df[\"DOW\"] = df[\"Datetime\"].dt.day_name().astype(\"category\")\n",
    "    del df[\"Datetime\"]\n",
    "\n",
    "#import seaborn as sns\n",
    "#sns.heatmap(df1[df1.columns.difference([\"Fan_status\", \"Zone_name\", \"DOW\"])].corr(), cmap=\"BrBG\", vmin=-1, vmax=1)"
   ]
  },
  {
   "cell_type": "markdown",
   "metadata": {},
   "source": [
    "Remove rows with `NA` values for columns that do not have many `NA` values."
   ]
  },
  {
   "cell_type": "code",
   "execution_count": 6,
   "metadata": {},
   "outputs": [],
   "source": [
    "for df in dfs:\n",
    "    # limit to columns with less than 5% NA values\n",
    "    cutoff = len(df) // 20\n",
    "\n",
    "    sums = df.isna().sum()\n",
    "    sums = sums[sums != 0]\n",
    "    #print(cutoff)\n",
    "    #print(sums)\n",
    "    sums = sums[sums <= cutoff]\n",
    "    df.dropna(subset=sums.index, inplace=True)"
   ]
  },
  {
   "cell_type": "markdown",
   "metadata": {},
   "source": [
    "We need to transform `Zone_name` from categorical to numeric. We'll use scikit-learn preprocessing for encoding."
   ]
  },
  {
   "cell_type": "code",
   "execution_count": 7,
   "metadata": {},
   "outputs": [],
   "source": [
    "from sklearn.compose import make_column_transformer\n",
    "from sklearn.preprocessing import TargetEncoder\n",
    "\n",
    "def encode(categorical_columns: list[int] | list[int]):\n",
    "    return make_column_transformer((TargetEncoder(random_state=42), categorical_columns), remainder=\"passthrough\")\n",
    "\n",
    "#categorical_columns = [\"Zone_name\"]\n",
    "#categorical_columns = [\"Zone_name\", \"DOW\"]\n",
    "#df1 = pd.get_dummies(df1, columns=categorical_columns)\n",
    "#dfs[0] = df1\n",
    "#df2 = pd.get_dummies(df2, columns=categorical_columns)\n",
    "#dfs[1] = df2\n",
    "#df3 = pd.get_dummies(df3, columns=categorical_columns)\n",
    "#dfs[2] = df3"
   ]
  },
  {
   "cell_type": "markdown",
   "metadata": {},
   "source": [
    "Dump the processed datasets."
   ]
  },
  {
   "cell_type": "code",
   "execution_count": 8,
   "metadata": {},
   "outputs": [],
   "source": [
    "from pathlib import Path\n",
    "\n",
    "save_folder = Path(\"output/data\")\n",
    "save_folder.mkdir(parents=True, exist_ok=True)\n",
    "for i, df in enumerate(dfs):\n",
    "    df.to_parquet(save_folder / f\"building{i+1}.parquet\")"
   ]
  },
  {
   "cell_type": "markdown",
   "metadata": {},
   "source": [
    "## Split datasets into training and testing subsets\n",
    "We use a 80% training, 10% validation, 10% testing split."
   ]
  },
  {
   "cell_type": "code",
   "execution_count": 9,
   "metadata": {},
   "outputs": [],
   "source": [
    "from sklearn.model_selection import train_test_split\n",
    "\n",
    "train1, test1 = train_test_split(df1, test_size=0.2, random_state=42)\n",
    "val1, test1 = train_test_split(test1, test_size=0.5, random_state=42)\n",
    "train2, test2 = train_test_split(df2, test_size=0.2, random_state=42)\n",
    "val2, test2 = train_test_split(test2, test_size=0.5, random_state=42)\n",
    "train3, test3 = train_test_split(df3, test_size=0.2, random_state=42)\n",
    "val3, test3 = train_test_split(test3, test_size=0.5, random_state=42)"
   ]
  },
  {
   "cell_type": "markdown",
   "metadata": {},
   "source": [
    "Use random undersampling to handle unbalanced training sets."
   ]
  },
  {
   "cell_type": "code",
   "execution_count": 10,
   "metadata": {},
   "outputs": [],
   "source": [
    "target = \"Fan_status\"\n",
    "\n",
    "for train in [train1, train2, train3]:\n",
    "    counts = train[target].value_counts()\n",
    "    if counts[\"On\"] > counts[\"Off\"] * 3:\n",
    "        # data is already in random order, so we can just remove the relevant records after the cutoff\n",
    "        drop = train[train[target] == \"On\"].index[counts[\"Off\"] * 3:]\n",
    "        train.drop(drop, inplace=True)\n",
    "    elif counts[\"Off\"] > counts[\"On\"] * 3:\n",
    "        drop = train[train[target] == \"Off\"].index[counts[\"On\"] * 3:]\n",
    "        train.drop(drop, inplace=True)"
   ]
  },
  {
   "cell_type": "code",
   "execution_count": 11,
   "metadata": {},
   "outputs": [],
   "source": [
    "features1 = df1.columns.to_list()\n",
    "features1.remove(target)\n",
    "y_train1 = train1[target]\n",
    "y_val1 = val1[target]\n",
    "y_test1 = test1[target]\n",
    "x_train1 = train1[features1]\n",
    "x_val1 = val1[features1]\n",
    "x_test1 = test1[features1]\n",
    "\n",
    "features2 = df2.columns.to_list()\n",
    "features2.remove(target)\n",
    "y_train2 = train2[target]\n",
    "y_val2 = val2[target]\n",
    "y_test2 = test2[target]\n",
    "x_train2 = train2[features2]\n",
    "x_val2 = val2[features2]\n",
    "x_test2 = test2[features2]\n",
    "\n",
    "features3 = df3.columns.to_list()\n",
    "features3.remove(target)\n",
    "y_train3 = train3[target]\n",
    "y_val3 = val3[target]\n",
    "y_test3 = test3[target]\n",
    "x_train3 = train3[features3]\n",
    "x_val3 = val3[features3]\n",
    "x_test3 = test3[features3]"
   ]
  },
  {
   "cell_type": "markdown",
   "metadata": {},
   "source": [
    "## Saving and loading models"
   ]
  },
  {
   "cell_type": "code",
   "execution_count": 12,
   "metadata": {},
   "outputs": [],
   "source": [
    "from sklearn.base import BaseEstimator\n",
    "from joblib import dump, load\n",
    "\n",
    "def save_model(model: BaseEstimator, filename: str):\n",
    "    models_folder = Path(\"output/models\")\n",
    "    models_folder.mkdir(parents=True, exist_ok=True)\n",
    "    filename = filename + \".joblib\"\n",
    "    dump(model, models_folder / filename)\n",
    "\n",
    "def load_model(filename: str) -> BaseEstimator | None:\n",
    "    models_folder = Path(\"output/models\")\n",
    "    filename = filename + \".joblib\"\n",
    "    filename: Path = models_folder / filename\n",
    "    if filename.is_file():\n",
    "        #print(\"File found!\")\n",
    "        return load(filename)\n",
    "    #print(\"File does not exist!\")"
   ]
  },
  {
   "cell_type": "markdown",
   "metadata": {},
   "source": [
    "## Evaluating Model Performance"
   ]
  },
  {
   "cell_type": "code",
   "execution_count": 13,
   "metadata": {},
   "outputs": [],
   "source": [
    "from sklearn.metrics import classification_report, accuracy_score, f1_score, roc_auc_score, average_precision_score, matthews_corrcoef, confusion_matrix\n",
    "\n",
    "def calculate_metrics(model: BaseEstimator, X: pd.Series, y: pd.Series, print_report = True):\n",
    "    y_predict = model.predict(X)\n",
    "    # SVM predictions take a long time to compute and are unreliable (https://stackoverflow.com/questions/15111408/how-does-sklearn-svm-svcs-function-predict-proba-work-internally)\n",
    "    #y_proba = model.predict_proba(X)[:,1]\n",
    "\n",
    "    if print_report:\n",
    "        print(classification_report(y, y_predict, digits=4))\n",
    "    \n",
    "    tn, fp, fn, tp = confusion_matrix(y, y_predict).ravel()\n",
    "\n",
    "    return {\n",
    "        \"Accuracy\": accuracy_score(y, y_predict),\n",
    "        \"f1\": f1_score(y, y_predict, pos_label=\"On\"),\n",
    "        #\"ROC AUC\": roc_auc_score(y, y_proba),\n",
    "        #\"PR AUC\": average_precision_score(y, y_proba, pos_label=\"On\"),\n",
    "        \"Matthews\": matthews_corrcoef(y, y_predict),\n",
    "        \"TN\": tn,\n",
    "        \"FP\": fp,\n",
    "        \"FN\": fn,\n",
    "        \"TP\": tp,\n",
    "    }\n",
    "\n",
    "model_metrics = {f\"Building {n+1}\": {} for n in range(3)}\n",
    "tuned_metrics = {f\"Building {n+1}\": {} for n in range(3)}"
   ]
  },
  {
   "cell_type": "markdown",
   "metadata": {},
   "source": [
    "## Decision Tree"
   ]
  },
  {
   "cell_type": "code",
   "execution_count": 14,
   "metadata": {},
   "outputs": [],
   "source": [
    "from sklearn.tree import DecisionTreeClassifier\n",
    "from sklearn.pipeline import make_pipeline\n",
    "\n",
    "tree = DecisionTreeClassifier(random_state=42)\n",
    "tree = make_pipeline(encode([\"Zone_name\"]), tree)\n",
    "model_name = \"Decision Tree\""
   ]
  },
  {
   "cell_type": "markdown",
   "metadata": {},
   "source": [
    "### Building 1"
   ]
  },
  {
   "cell_type": "code",
   "execution_count": 15,
   "metadata": {},
   "outputs": [
    {
     "name": "stdout",
     "output_type": "stream",
     "text": [
      "              precision    recall  f1-score   support\n",
      "\n",
      "         Off     0.9996    0.9998    0.9997     26636\n",
      "          On     0.9996    0.9989    0.9993     10439\n",
      "\n",
      "    accuracy                         0.9996     37075\n",
      "   macro avg     0.9996    0.9994    0.9995     37075\n",
      "weighted avg     0.9996    0.9996    0.9996     37075\n",
      "\n"
     ]
    }
   ],
   "source": [
    "tree.fit(x_train1, y_train1)\n",
    "model_metrics[\"Building 1\"][model_name] = calculate_metrics(tree, x_val1, y_val1)\n",
    "tuned_metrics[\"Building 1\"][model_name + \" (default)\"] = calculate_metrics(tree, x_test1, y_test1, print_report=False)\n",
    "save_model(tree, \"decisiontree_building1\")"
   ]
  },
  {
   "cell_type": "markdown",
   "metadata": {},
   "source": [
    "### Building 2"
   ]
  },
  {
   "cell_type": "code",
   "execution_count": 16,
   "metadata": {},
   "outputs": [
    {
     "name": "stdout",
     "output_type": "stream",
     "text": [
      "              precision    recall  f1-score   support\n",
      "\n",
      "         Off     0.9966    0.9471    0.9712      2173\n",
      "          On     0.4417    0.9286    0.5987        98\n",
      "\n",
      "    accuracy                         0.9463      2271\n",
      "   macro avg     0.7192    0.9378    0.7849      2271\n",
      "weighted avg     0.9727    0.9463    0.9551      2271\n",
      "\n"
     ]
    }
   ],
   "source": [
    "tree.fit(x_train2, y_train2)\n",
    "model_metrics[\"Building 2\"][model_name] = calculate_metrics(tree, x_val2, y_val2)\n",
    "tuned_metrics[\"Building 2\"][model_name + \" (default)\"] = calculate_metrics(tree, x_test2, y_test2, print_report=False)\n",
    "save_model(tree, \"decisiontree_building2\")"
   ]
  },
  {
   "cell_type": "markdown",
   "metadata": {},
   "source": [
    "### Building 3"
   ]
  },
  {
   "cell_type": "code",
   "execution_count": 17,
   "metadata": {},
   "outputs": [
    {
     "name": "stdout",
     "output_type": "stream",
     "text": [
      "              precision    recall  f1-score   support\n",
      "\n",
      "         Off     0.9998    0.9955    0.9976     45760\n",
      "          On     0.8263    0.9898    0.9007       985\n",
      "\n",
      "    accuracy                         0.9954     46745\n",
      "   macro avg     0.9130    0.9927    0.9492     46745\n",
      "weighted avg     0.9961    0.9954    0.9956     46745\n",
      "\n"
     ]
    }
   ],
   "source": [
    "tree.fit(x_train3, y_train3)\n",
    "model_metrics[\"Building 3\"][model_name] = calculate_metrics(tree, x_val3, y_val3)\n",
    "tuned_metrics[\"Building 3\"][model_name + \" (default)\"] = calculate_metrics(tree, x_test3, y_test3, print_report=False)\n",
    "save_model(tree, \"decisiontree_building3\")"
   ]
  },
  {
   "cell_type": "markdown",
   "metadata": {},
   "source": [
    "## Random Forest"
   ]
  },
  {
   "cell_type": "code",
   "execution_count": 18,
   "metadata": {},
   "outputs": [],
   "source": [
    "from sklearn.ensemble import RandomForestClassifier\n",
    "import seaborn as sns\n",
    "\n",
    "model_name = \"Random Forest\"\n",
    "forest = RandomForestClassifier(random_state=42, n_jobs=-1)\n",
    "forest = make_pipeline(encode([\"Zone_name\"]), forest)"
   ]
  },
  {
   "cell_type": "markdown",
   "metadata": {},
   "source": [
    "### Building 1"
   ]
  },
  {
   "cell_type": "code",
   "execution_count": 19,
   "metadata": {},
   "outputs": [
    {
     "data": {
      "text/plain": [
       "<Axes: >"
      ]
     },
     "execution_count": 19,
     "metadata": {},
     "output_type": "execute_result"
    },
    {
     "data": {
      "image/png": "[encoded data removed]",
      "text/plain": [
       "<Figure size 640x480 with 1 Axes>"
      ]
     },
     "metadata": {},
     "output_type": "display_data"
    }
   ],
   "source": [
    "forest.fit(x_train1, y_train1)\n",
    "feature_names = forest[0].get_feature_names_out()\n",
    "feature_names = [feature.split(\"__\")[1] for feature in feature_names]\n",
    "sns.barplot(pd.DataFrame(forest[-1].feature_importances_, index=feature_names).T, orient=\"h\")"
   ]
  },
  {
   "cell_type": "code",
   "execution_count": 20,
   "metadata": {},
   "outputs": [
    {
     "name": "stdout",
     "output_type": "stream",
     "text": [
      "              precision    recall  f1-score   support\n",
      "\n",
      "         Off     0.9994    1.0000    0.9997     26636\n",
      "          On     0.9999    0.9986    0.9992     10439\n",
      "\n",
      "    accuracy                         0.9996     37075\n",
      "   macro avg     0.9997    0.9993    0.9995     37075\n",
      "weighted avg     0.9996    0.9996    0.9996     37075\n",
      "\n"
     ]
    }
   ],
   "source": [
    "model_metrics[\"Building 1\"][model_name] = calculate_metrics(forest, x_val1, y_val1)\n",
    "tuned_metrics[\"Building 1\"][model_name + \" (default)\"] = calculate_metrics(forest, x_test1, y_test1, print_report=False)\n",
    "save_model(forest, \"randomforest_building1\")"
   ]
  },
  {
   "cell_type": "markdown",
   "metadata": {},
   "source": [
    "### Building 2"
   ]
  },
  {
   "cell_type": "code",
   "execution_count": 21,
   "metadata": {},
   "outputs": [
    {
     "data": {
      "text/plain": [
       "<Axes: >"
      ]
     },
     "execution_count": 21,
     "metadata": {},
     "output_type": "execute_result"
    },
    {
     "data": {
      "image/png": "[encoded data removed]",
      "text/plain": [
       "<Figure size 640x480 with 1 Axes>"
      ]
     },
     "metadata": {},
     "output_type": "display_data"
    }
   ],
   "source": [
    "forest.fit(x_train2, y_train2)\n",
    "feature_names = forest[0].get_feature_names_out()\n",
    "feature_names = [feature.split(\"__\")[1] for feature in feature_names]\n",
    "sns.barplot(pd.DataFrame(forest[-1].feature_importances_, index=feature_names).T, orient=\"h\")"
   ]
  },
  {
   "cell_type": "code",
   "execution_count": 22,
   "metadata": {},
   "outputs": [
    {
     "name": "stdout",
     "output_type": "stream",
     "text": [
      "              precision    recall  f1-score   support\n",
      "\n",
      "         Off     0.9963    0.9807    0.9884      2173\n",
      "          On     0.6818    0.9184    0.7826        98\n",
      "\n",
      "    accuracy                         0.9780      2271\n",
      "   macro avg     0.8390    0.9495    0.8855      2271\n",
      "weighted avg     0.9827    0.9780    0.9795      2271\n",
      "\n"
     ]
    }
   ],
   "source": [
    "model_metrics[\"Building 2\"][model_name] = calculate_metrics(forest, x_val2, y_val2)\n",
    "tuned_metrics[\"Building 2\"][model_name + \" (default)\"] = calculate_metrics(forest, x_test2, y_test2, print_report=False)\n",
    "save_model(forest, \"randomforest_building2\")"
   ]
  },
  {
   "cell_type": "markdown",
   "metadata": {},
   "source": [
    "### Building 3"
   ]
  },
  {
   "cell_type": "code",
   "execution_count": 23,
   "metadata": {},
   "outputs": [
    {
     "data": {
      "text/plain": [
       "<Axes: >"
      ]
     },
     "execution_count": 23,
     "metadata": {},
     "output_type": "execute_result"
    },
    {
     "data": {
      "image/png": "[encoded data removed]",
      "text/plain": [
       "<Figure size 640x480 with 1 Axes>"
      ]
     },
     "metadata": {},
     "output_type": "display_data"
    }
   ],
   "source": [
    "forest.fit(x_train3, y_train3)\n",
    "feature_names = forest[0].get_feature_names_out()\n",
    "feature_names = [feature.split(\"__\")[1] for feature in feature_names]\n",
    "sns.barplot(pd.DataFrame(forest[-1].feature_importances_, index=feature_names).T, orient=\"h\")"
   ]
  },
  {
   "cell_type": "code",
   "execution_count": 24,
   "metadata": {},
   "outputs": [
    {
     "name": "stdout",
     "output_type": "stream",
     "text": [
      "              precision    recall  f1-score   support\n",
      "\n",
      "         Off     0.9999    0.9960    0.9980     45760\n",
      "          On     0.8442    0.9959    0.9138       985\n",
      "\n",
      "    accuracy                         0.9960     46745\n",
      "   macro avg     0.9221    0.9960    0.9559     46745\n",
      "weighted avg     0.9966    0.9960    0.9962     46745\n",
      "\n"
     ]
    }
   ],
   "source": [
    "model_metrics[\"Building 3\"][model_name] = calculate_metrics(forest, x_val3, y_val3)\n",
    "tuned_metrics[\"Building 3\"][model_name + \" (default)\"] = calculate_metrics(forest, x_test3, y_test3, print_report=False)\n",
    "save_model(forest, \"randomforest_building3\")"
   ]
  },
  {
   "cell_type": "markdown",
   "metadata": {},
   "source": [
    "## Histogram-based Gradient Boosting"
   ]
  },
  {
   "cell_type": "code",
   "execution_count": 25,
   "metadata": {},
   "outputs": [],
   "source": [
    "from sklearn.ensemble import HistGradientBoostingClassifier\n",
    "\n",
    "model_name = \"Hist Gradient Boosting\"\n",
    "histgb = HistGradientBoostingClassifier(random_state=42, categorical_features=[\"Zone_name\"])"
   ]
  },
  {
   "cell_type": "code",
   "execution_count": 26,
   "metadata": {},
   "outputs": [
    {
     "name": "stdout",
     "output_type": "stream",
     "text": [
      "              precision    recall  f1-score   support\n",
      "\n",
      "         Off     0.9997    0.9998    0.9997     26636\n",
      "          On     0.9995    0.9991    0.9993     10439\n",
      "\n",
      "    accuracy                         0.9996     37075\n",
      "   macro avg     0.9996    0.9995    0.9995     37075\n",
      "weighted avg     0.9996    0.9996    0.9996     37075\n",
      "\n"
     ]
    }
   ],
   "source": [
    "histgb.fit(x_train1, y_train1)\n",
    "model_metrics[\"Building 1\"][model_name] = calculate_metrics(histgb, x_val1, y_val1)\n",
    "tuned_metrics[\"Building 1\"][model_name + \" (default)\"] = calculate_metrics(histgb, x_test1, y_test1, print_report=False)\n",
    "save_model(histgb, \"histgb_building1\")"
   ]
  },
  {
   "cell_type": "code",
   "execution_count": 27,
   "metadata": {},
   "outputs": [
    {
     "name": "stdout",
     "output_type": "stream",
     "text": [
      "              precision    recall  f1-score   support\n",
      "\n",
      "         Off     0.9977    0.9775    0.9874      2173\n",
      "          On     0.6549    0.9490    0.7750        98\n",
      "\n",
      "    accuracy                         0.9762      2271\n",
      "   macro avg     0.8263    0.9632    0.8812      2271\n",
      "weighted avg     0.9829    0.9762    0.9783      2271\n",
      "\n"
     ]
    }
   ],
   "source": [
    "histgb.fit(x_train2, y_train2)\n",
    "model_metrics[\"Building 2\"][model_name] = calculate_metrics(histgb, x_val2, y_val2)\n",
    "tuned_metrics[\"Building 2\"][model_name + \" (default)\"] = calculate_metrics(histgb, x_test2, y_test2, print_report=False)\n",
    "save_model(histgb, \"histgb_building2\")"
   ]
  },
  {
   "cell_type": "code",
   "execution_count": 28,
   "metadata": {},
   "outputs": [
    {
     "name": "stdout",
     "output_type": "stream",
     "text": [
      "              precision    recall  f1-score   support\n",
      "\n",
      "         Off     1.0000    0.9966    0.9983     45760\n",
      "          On     0.8639    0.9990    0.9266       985\n",
      "\n",
      "    accuracy                         0.9967     46745\n",
      "   macro avg     0.9319    0.9978    0.9624     46745\n",
      "weighted avg     0.9971    0.9967    0.9968     46745\n",
      "\n"
     ]
    }
   ],
   "source": [
    "histgb.fit(x_train3, y_train3)\n",
    "model_metrics[\"Building 3\"][model_name] = calculate_metrics(histgb, x_val3, y_val3)\n",
    "tuned_metrics[\"Building 3\"][model_name + \" (default)\"] = calculate_metrics(histgb, x_test3, y_test3, print_report=False)\n",
    "save_model(histgb, \"histgb_building3\")"
   ]
  },
  {
   "cell_type": "markdown",
   "metadata": {},
   "source": [
    "## Logistic Regression"
   ]
  },
  {
   "cell_type": "code",
   "execution_count": 29,
   "metadata": {},
   "outputs": [],
   "source": [
    "from sklearn.preprocessing import StandardScaler\n",
    "from sklearn.impute import SimpleImputer\n",
    "from sklearn.linear_model import LogisticRegression\n",
    "\n",
    "model_name = \"Logistic Regression\"\n",
    "logit = LogisticRegression(random_state=42)\n",
    "logit = make_pipeline(encode([\"Zone_name\"]), SimpleImputer(), StandardScaler(), logit)"
   ]
  },
  {
   "cell_type": "code",
   "execution_count": 30,
   "metadata": {},
   "outputs": [
    {
     "name": "stdout",
     "output_type": "stream",
     "text": [
      "              precision    recall  f1-score   support\n",
      "\n",
      "         Off     0.8199    0.8899    0.8535     26636\n",
      "          On     0.6409    0.5014    0.5626     10439\n",
      "\n",
      "    accuracy                         0.7805     37075\n",
      "   macro avg     0.7304    0.6956    0.7080     37075\n",
      "weighted avg     0.7695    0.7805    0.7716     37075\n",
      "\n"
     ]
    }
   ],
   "source": [
    "logit.fit(x_train1, y_train1)\n",
    "model_metrics[\"Building 1\"][model_name] = calculate_metrics(logit, x_val1, y_val1)\n",
    "tuned_metrics[\"Building 1\"][model_name + \" (default)\"] = calculate_metrics(logit, x_test1, y_test1, print_report=False)\n",
    "save_model(logit, \"logit_building1\")"
   ]
  },
  {
   "cell_type": "code",
   "execution_count": 31,
   "metadata": {},
   "outputs": [
    {
     "name": "stdout",
     "output_type": "stream",
     "text": [
      "              precision    recall  f1-score   support\n",
      "\n",
      "         Off     0.9779    0.9374    0.9572      2173\n",
      "          On     0.2766    0.5306    0.3636        98\n",
      "\n",
      "    accuracy                         0.9199      2271\n",
      "   macro avg     0.6273    0.7340    0.6604      2271\n",
      "weighted avg     0.9477    0.9199    0.9316      2271\n",
      "\n"
     ]
    }
   ],
   "source": [
    "logit.fit(x_train2, y_train2)\n",
    "model_metrics[\"Building 2\"][model_name] = calculate_metrics(logit, x_val2, y_val2)\n",
    "tuned_metrics[\"Building 2\"][model_name + \" (default)\"] = calculate_metrics(logit, x_test2, y_test2, print_report=False)\n",
    "save_model(logit, \"logit_building2\")"
   ]
  },
  {
   "cell_type": "code",
   "execution_count": 32,
   "metadata": {},
   "outputs": [
    {
     "name": "stdout",
     "output_type": "stream",
     "text": [
      "              precision    recall  f1-score   support\n",
      "\n",
      "         Off     0.9944    0.9661    0.9801     45760\n",
      "          On     0.3226    0.7492    0.4510       985\n",
      "\n",
      "    accuracy                         0.9616     46745\n",
      "   macro avg     0.6585    0.8577    0.7155     46745\n",
      "weighted avg     0.9803    0.9616    0.9689     46745\n",
      "\n"
     ]
    }
   ],
   "source": [
    "logit.fit(x_train3, y_train3)\n",
    "model_metrics[\"Building 3\"][model_name] = calculate_metrics(logit, x_val3, y_val3)\n",
    "tuned_metrics[\"Building 3\"][model_name + \" (default)\"] = calculate_metrics(logit, x_test3, y_test3, print_report=False)\n",
    "save_model(logit, \"logit_building3\")"
   ]
  },
  {
   "cell_type": "markdown",
   "metadata": {},
   "source": [
    "## Linear Discriminant Analysis"
   ]
  },
  {
   "cell_type": "code",
   "execution_count": 33,
   "metadata": {},
   "outputs": [],
   "source": [
    "from sklearn.impute import SimpleImputer\n",
    "from sklearn.discriminant_analysis import LinearDiscriminantAnalysis\n",
    "\n",
    "model_name = \"Linear Discriminant Analysis\"\n",
    "lda = LinearDiscriminantAnalysis()\n",
    "lda = make_pipeline(encode([\"Zone_name\"]), SimpleImputer(), lda)"
   ]
  },
  {
   "cell_type": "code",
   "execution_count": 34,
   "metadata": {},
   "outputs": [
    {
     "name": "stdout",
     "output_type": "stream",
     "text": [
      "              precision    recall  f1-score   support\n",
      "\n",
      "         Off     0.8594    0.8939    0.8763     26636\n",
      "          On     0.6984    0.6270    0.6608     10439\n",
      "\n",
      "    accuracy                         0.8187     37075\n",
      "   macro avg     0.7789    0.7604    0.7686     37075\n",
      "weighted avg     0.8141    0.8187    0.8156     37075\n",
      "\n"
     ]
    }
   ],
   "source": [
    "lda.fit(x_train1, y_train1)\n",
    "model_metrics[\"Building 1\"][model_name] = calculate_metrics(lda, x_val1, y_val1)\n",
    "tuned_metrics[\"Building 1\"][model_name + \" (default)\"] = calculate_metrics(lda, x_test1, y_test1, print_report=False)\n",
    "save_model(lda, \"lda_building1\")"
   ]
  },
  {
   "cell_type": "code",
   "execution_count": 35,
   "metadata": {},
   "outputs": [
    {
     "name": "stdout",
     "output_type": "stream",
     "text": [
      "              precision    recall  f1-score   support\n",
      "\n",
      "         Off     0.9739    0.9457    0.9596      2173\n",
      "          On     0.2671    0.4388    0.3320        98\n",
      "\n",
      "    accuracy                         0.9238      2271\n",
      "   macro avg     0.6205    0.6922    0.6458      2271\n",
      "weighted avg     0.9434    0.9238    0.9325      2271\n",
      "\n"
     ]
    }
   ],
   "source": [
    "lda.fit(x_train2, y_train2)\n",
    "model_metrics[\"Building 2\"][model_name] = calculate_metrics(lda, x_val2, y_val2)\n",
    "tuned_metrics[\"Building 2\"][model_name + \" (default)\"] = calculate_metrics(lda, x_test2, y_test2, print_report=False)\n",
    "save_model(lda, \"lda_building2\")"
   ]
  },
  {
   "cell_type": "code",
   "execution_count": 36,
   "metadata": {},
   "outputs": [
    {
     "name": "stdout",
     "output_type": "stream",
     "text": [
      "              precision    recall  f1-score   support\n",
      "\n",
      "         Off     0.9931    0.9794    0.9862     45760\n",
      "          On     0.4174    0.6853    0.5188       985\n",
      "\n",
      "    accuracy                         0.9732     46745\n",
      "   macro avg     0.7053    0.8323    0.7525     46745\n",
      "weighted avg     0.9810    0.9732    0.9764     46745\n",
      "\n"
     ]
    }
   ],
   "source": [
    "lda.fit(x_train3, y_train3)\n",
    "model_metrics[\"Building 3\"][model_name] = calculate_metrics(lda, x_val3, y_val3)\n",
    "tuned_metrics[\"Building 3\"][model_name + \" (default)\"] = calculate_metrics(lda, x_test3, y_test3, print_report=False)\n",
    "save_model(lda, \"lda_building3\")"
   ]
  },
  {
   "cell_type": "markdown",
   "metadata": {},
   "source": [
    "## Linear Support Vector Machine (SVM)"
   ]
  },
  {
   "cell_type": "code",
   "execution_count": 37,
   "metadata": {},
   "outputs": [],
   "source": [
    "from sklearn.preprocessing import MinMaxScaler, Normalizer\n",
    "from sklearn.impute import SimpleImputer\n",
    "from sklearn.svm import LinearSVC\n",
    "\n",
    "model_name = \"Linear SVM\"\n",
    "svm = LinearSVC(random_state=42)\n",
    "svm = make_pipeline(encode([\"Zone_name\"]), SimpleImputer(), MinMaxScaler(), Normalizer(), svm)"
   ]
  },
  {
   "cell_type": "code",
   "execution_count": 38,
   "metadata": {},
   "outputs": [
    {
     "name": "stdout",
     "output_type": "stream",
     "text": [
      "              precision    recall  f1-score   support\n",
      "\n",
      "         Off     0.8715    0.8749    0.8732     26636\n",
      "          On     0.6775    0.6708    0.6741     10439\n",
      "\n",
      "    accuracy                         0.8174     37075\n",
      "   macro avg     0.7745    0.7728    0.7736     37075\n",
      "weighted avg     0.8169    0.8174    0.8171     37075\n",
      "\n"
     ]
    }
   ],
   "source": [
    "svm.fit(x_train1, y_train1)\n",
    "model_metrics[\"Building 1\"][model_name] = calculate_metrics(svm, x_val1, y_val1)\n",
    "tuned_metrics[\"Building 1\"][model_name + \" (default)\"] = calculate_metrics(svm, x_test1, y_test1, print_report=False)\n",
    "save_model(svm, \"svm_linear_building1\")"
   ]
  },
  {
   "cell_type": "code",
   "execution_count": 39,
   "metadata": {},
   "outputs": [
    {
     "name": "stdout",
     "output_type": "stream",
     "text": [
      "              precision    recall  f1-score   support\n",
      "\n",
      "         Off     0.9714    0.9540    0.9626      2173\n",
      "          On     0.2701    0.3776    0.3149        98\n",
      "\n",
      "    accuracy                         0.9291      2271\n",
      "   macro avg     0.6207    0.6658    0.6388      2271\n",
      "weighted avg     0.9412    0.9291    0.9347      2271\n",
      "\n"
     ]
    }
   ],
   "source": [
    "svm.fit(x_train2, y_train2)\n",
    "model_metrics[\"Building 2\"][model_name] = calculate_metrics(svm, x_val2, y_val2)\n",
    "tuned_metrics[\"Building 2\"][model_name + \" (default)\"] = calculate_metrics(svm, x_test2, y_test2, print_report=False)\n",
    "save_model(svm, \"svm_linear_building2\")"
   ]
  },
  {
   "cell_type": "code",
   "execution_count": 40,
   "metadata": {},
   "outputs": [
    {
     "name": "stdout",
     "output_type": "stream",
     "text": [
      "              precision    recall  f1-score   support\n",
      "\n",
      "         Off     0.9938    0.9710    0.9823     45760\n",
      "          On     0.3487    0.7208    0.4700       985\n",
      "\n",
      "    accuracy                         0.9658     46745\n",
      "   macro avg     0.6713    0.8459    0.7262     46745\n",
      "weighted avg     0.9803    0.9658    0.9715     46745\n",
      "\n"
     ]
    }
   ],
   "source": [
    "svm.fit(x_train3, y_train3)\n",
    "model_metrics[\"Building 3\"][model_name] = calculate_metrics(svm, x_val3, y_val3)\n",
    "tuned_metrics[\"Building 3\"][model_name + \" (default)\"] = calculate_metrics(svm, x_test3, y_test3, print_report=False)\n",
    "save_model(svm, \"svm_linear_building3\")"
   ]
  },
  {
   "cell_type": "markdown",
   "metadata": {},
   "source": [
    "## SVM with RBF Kernel\n",
    "\n",
    "SVM takes a long time for large datasets. Even after loading the saved model file, making predictions on the buildings took around 1 hour."
   ]
  },
  {
   "cell_type": "code",
   "execution_count": 41,
   "metadata": {},
   "outputs": [],
   "source": [
    "from sklearn.preprocessing import MinMaxScaler, Normalizer\n",
    "from sklearn.impute import SimpleImputer\n",
    "from sklearn.svm import SVC\n",
    "\n",
    "model_name = \"RBF SVM\"\n",
    "svm = SVC(random_state=42)\n",
    "svm = make_pipeline(encode([\"Zone_name\"]), SimpleImputer(), MinMaxScaler(), Normalizer(), svm)"
   ]
  },
  {
   "cell_type": "code",
   "execution_count": 42,
   "metadata": {},
   "outputs": [],
   "source": [
    "#from sklearn.preprocessing import MinMaxScaler, Normalizer\n",
    "#from sklearn.impute import SimpleImputer\n",
    "#from sklearn.svm import LinearSVC\n",
    "#from sklearn.kernel_approximation import Nystroem\n",
    "\n",
    "#model_name = \"SVM (RBF)\"\n",
    "#svm = LinearSVC(random_state=42)\n",
    "#svm = make_pipeline(encode([\"Zone_name\"]), SimpleImputer(), MinMaxScaler(), Normalizer(), Nystroem(), svm)"
   ]
  },
  {
   "cell_type": "code",
   "execution_count": 43,
   "metadata": {},
   "outputs": [
    {
     "name": "stdout",
     "output_type": "stream",
     "text": [
      "Loading previously saved model\n",
      "              precision    recall  f1-score   support\n",
      "\n",
      "         Off     0.9762    0.9720    0.9741     26636\n",
      "          On     0.9294    0.9395    0.9344     10439\n",
      "\n",
      "    accuracy                         0.9629     37075\n",
      "   macro avg     0.9528    0.9557    0.9542     37075\n",
      "weighted avg     0.9630    0.9629    0.9629     37075\n",
      "\n"
     ]
    }
   ],
   "source": [
    "# Building 1 SVM training took around 3 hours for me. We'll try loading the saved model file instead.\n",
    "model_file = \"svm_rbf_building1\"\n",
    "if load_model(model_file):\n",
    "    print(\"Loading previously saved model\")\n",
    "    svm = load_model(model_file)\n",
    "    model_metrics[\"Building 1\"][model_name] = calculate_metrics(svm, x_val1, y_val1)\n",
    "    tuned_metrics[\"Building 1\"][model_name + \" (default)\"] = calculate_metrics(svm, x_test1, y_test1, print_report=False)\n",
    "else:\n",
    "    print(\"Training model...\")\n",
    "    svm.fit(x_train1, y_train1)\n",
    "    save_model(svm, model_file)\n",
    "    model_metrics[\"Building 1\"][model_name] = calculate_metrics(svm, x_val1, y_val1)\n",
    "    tuned_metrics[\"Building 1\"][model_name + \" (default)\"] = calculate_metrics(svm, x_test1, y_test1, print_report=False)"
   ]
  },
  {
   "cell_type": "code",
   "execution_count": 44,
   "metadata": {},
   "outputs": [
    {
     "name": "stdout",
     "output_type": "stream",
     "text": [
      "              precision    recall  f1-score   support\n",
      "\n",
      "         Off     0.9818    0.9696    0.9757      2173\n",
      "          On     0.4720    0.6020    0.5291        98\n",
      "\n",
      "    accuracy                         0.9538      2271\n",
      "   macro avg     0.7269    0.7858    0.7524      2271\n",
      "weighted avg     0.9598    0.9538    0.9564      2271\n",
      "\n"
     ]
    }
   ],
   "source": [
    "svm.fit(x_train2, y_train2)\n",
    "model_metrics[\"Building 2\"][model_name] = calculate_metrics(svm, x_val2, y_val2)\n",
    "tuned_metrics[\"Building 2\"][model_name + \" (default)\"] = calculate_metrics(svm, x_test2, y_test2, print_report=False)\n",
    "save_model(svm, \"svm_rbf_building2\")"
   ]
  },
  {
   "cell_type": "code",
   "execution_count": 45,
   "metadata": {},
   "outputs": [
    {
     "name": "stdout",
     "output_type": "stream",
     "text": [
      "Loading previously saved model\n",
      "              precision    recall  f1-score   support\n",
      "\n",
      "         Off     0.9848    0.7331    0.8405     45760\n",
      "          On     0.0369    0.4751    0.0685       985\n",
      "\n",
      "    accuracy                         0.7277     46745\n",
      "   macro avg     0.5109    0.6041    0.4545     46745\n",
      "weighted avg     0.9648    0.7277    0.8242     46745\n",
      "\n"
     ]
    }
   ],
   "source": [
    "# Building 3 SVM training took around 1 hour for me. We'll try loading the saved model file instead.\n",
    "model_file = \"svm_rbf_building3\"\n",
    "if load_model(model_file):\n",
    "    print(\"Loading previously saved model\")\n",
    "    svm = load_model(model_file)\n",
    "    model_metrics[\"Building 3\"][model_name] = calculate_metrics(svm, x_val3, y_val3)\n",
    "    tuned_metrics[\"Building 3\"][model_name + \" (default)\"] = calculate_metrics(svm, x_test3, y_test3, print_report=False)\n",
    "else:\n",
    "    print(\"Training model...\")\n",
    "    svm.fit(x_train1, y_train1)\n",
    "    model_metrics[\"Building 3\"][model_name] = calculate_metrics(svm, x_val3, y_val3)\n",
    "    tuned_metrics[\"Building 3\"][model_name + \" (default)\"] = calculate_metrics(svm, x_test3, y_test3, print_report=False)\n",
    "    save_model(svm, model_file)"
   ]
  },
  {
   "cell_type": "markdown",
   "metadata": {},
   "source": [
    "## Model Performance\n",
    "### Building 1"
   ]
  },
  {
   "cell_type": "code",
   "execution_count": 57,
   "metadata": {},
   "outputs": [
    {
     "data": {
      "text/html": [
       "<div>\n",
       "<style scoped>\n",
       "    .dataframe tbody tr th:only-of-type {\n",
       "        vertical-align: middle;\n",
       "    }\n",
       "\n",
       "    .dataframe tbody tr th {\n",
       "        vertical-align: top;\n",
       "    }\n",
       "\n",
       "    .dataframe thead th {\n",
       "        text-align: right;\n",
       "    }\n",
       "</style>\n",
       "<table border=\"1\" class=\"dataframe\">\n",
       "  <thead>\n",
       "    <tr style=\"text-align: right;\">\n",
       "      <th></th>\n",
       "      <th>Accuracy</th>\n",
       "      <th>f1</th>\n",
       "      <th>Matthews</th>\n",
       "      <th>TN</th>\n",
       "      <th>FP</th>\n",
       "      <th>FN</th>\n",
       "      <th>TP</th>\n",
       "    </tr>\n",
       "  </thead>\n",
       "  <tbody>\n",
       "    <tr>\n",
       "      <th>Hist Gradient Boosting</th>\n",
       "      <td>0.999622</td>\n",
       "      <td>0.999329</td>\n",
       "      <td>0.999067</td>\n",
       "      <td>26631.0</td>\n",
       "      <td>5.0</td>\n",
       "      <td>9.0</td>\n",
       "      <td>10430.0</td>\n",
       "    </tr>\n",
       "    <tr>\n",
       "      <th>Decision Tree</th>\n",
       "      <td>0.999595</td>\n",
       "      <td>0.999281</td>\n",
       "      <td>0.999000</td>\n",
       "      <td>26632.0</td>\n",
       "      <td>4.0</td>\n",
       "      <td>11.0</td>\n",
       "      <td>10428.0</td>\n",
       "    </tr>\n",
       "    <tr>\n",
       "      <th>Random Forest</th>\n",
       "      <td>0.999568</td>\n",
       "      <td>0.999233</td>\n",
       "      <td>0.998933</td>\n",
       "      <td>26635.0</td>\n",
       "      <td>1.0</td>\n",
       "      <td>15.0</td>\n",
       "      <td>10424.0</td>\n",
       "    </tr>\n",
       "    <tr>\n",
       "      <th>RBF SVM</th>\n",
       "      <td>0.962859</td>\n",
       "      <td>0.934400</td>\n",
       "      <td>0.908524</td>\n",
       "      <td>25891.0</td>\n",
       "      <td>745.0</td>\n",
       "      <td>632.0</td>\n",
       "      <td>9807.0</td>\n",
       "    </tr>\n",
       "    <tr>\n",
       "      <th>Linear SVM</th>\n",
       "      <td>0.817397</td>\n",
       "      <td>0.674112</td>\n",
       "      <td>0.547293</td>\n",
       "      <td>23303.0</td>\n",
       "      <td>3333.0</td>\n",
       "      <td>3437.0</td>\n",
       "      <td>7002.0</td>\n",
       "    </tr>\n",
       "    <tr>\n",
       "      <th>Linear Discriminant Analysis</th>\n",
       "      <td>0.818746</td>\n",
       "      <td>0.660777</td>\n",
       "      <td>0.539059</td>\n",
       "      <td>23810.0</td>\n",
       "      <td>2826.0</td>\n",
       "      <td>3894.0</td>\n",
       "      <td>6545.0</td>\n",
       "    </tr>\n",
       "    <tr>\n",
       "      <th>Logistic Regression</th>\n",
       "      <td>0.780499</td>\n",
       "      <td>0.562614</td>\n",
       "      <td>0.424625</td>\n",
       "      <td>23703.0</td>\n",
       "      <td>2933.0</td>\n",
       "      <td>5205.0</td>\n",
       "      <td>5234.0</td>\n",
       "    </tr>\n",
       "  </tbody>\n",
       "</table>\n",
       "</div>"
      ],
      "text/plain": [
       "                              Accuracy        f1  Matthews       TN      FP  \\\n",
       "Hist Gradient Boosting        0.999622  0.999329  0.999067  26631.0     5.0   \n",
       "Decision Tree                 0.999595  0.999281  0.999000  26632.0     4.0   \n",
       "Random Forest                 0.999568  0.999233  0.998933  26635.0     1.0   \n",
       "RBF SVM                       0.962859  0.934400  0.908524  25891.0   745.0   \n",
       "Linear SVM                    0.817397  0.674112  0.547293  23303.0  3333.0   \n",
       "Linear Discriminant Analysis  0.818746  0.660777  0.539059  23810.0  2826.0   \n",
       "Logistic Regression           0.780499  0.562614  0.424625  23703.0  2933.0   \n",
       "\n",
       "                                  FN       TP  \n",
       "Hist Gradient Boosting           9.0  10430.0  \n",
       "Decision Tree                   11.0  10428.0  \n",
       "Random Forest                   15.0  10424.0  \n",
       "RBF SVM                        632.0   9807.0  \n",
       "Linear SVM                    3437.0   7002.0  \n",
       "Linear Discriminant Analysis  3894.0   6545.0  \n",
       "Logistic Regression           5205.0   5234.0  "
      ]
     },
     "execution_count": 57,
     "metadata": {},
     "output_type": "execute_result"
    }
   ],
   "source": [
    "pd.DataFrame(model_metrics[\"Building 1\"]).T.sort_values(\"f1\", ascending=False)"
   ]
  },
  {
   "cell_type": "markdown",
   "metadata": {},
   "source": [
    "### Building 2"
   ]
  },
  {
   "cell_type": "code",
   "execution_count": 58,
   "metadata": {},
   "outputs": [
    {
     "data": {
      "text/html": [
       "<div>\n",
       "<style scoped>\n",
       "    .dataframe tbody tr th:only-of-type {\n",
       "        vertical-align: middle;\n",
       "    }\n",
       "\n",
       "    .dataframe tbody tr th {\n",
       "        vertical-align: top;\n",
       "    }\n",
       "\n",
       "    .dataframe thead th {\n",
       "        text-align: right;\n",
       "    }\n",
       "</style>\n",
       "<table border=\"1\" class=\"dataframe\">\n",
       "  <thead>\n",
       "    <tr style=\"text-align: right;\">\n",
       "      <th></th>\n",
       "      <th>Accuracy</th>\n",
       "      <th>f1</th>\n",
       "      <th>Matthews</th>\n",
       "      <th>TN</th>\n",
       "      <th>FP</th>\n",
       "      <th>FN</th>\n",
       "      <th>TP</th>\n",
       "    </tr>\n",
       "  </thead>\n",
       "  <tbody>\n",
       "    <tr>\n",
       "      <th>Random Forest</th>\n",
       "      <td>0.977983</td>\n",
       "      <td>0.782609</td>\n",
       "      <td>0.780781</td>\n",
       "      <td>2131.0</td>\n",
       "      <td>42.0</td>\n",
       "      <td>8.0</td>\n",
       "      <td>90.0</td>\n",
       "    </tr>\n",
       "    <tr>\n",
       "      <th>Hist Gradient Boosting</th>\n",
       "      <td>0.976222</td>\n",
       "      <td>0.775000</td>\n",
       "      <td>0.777541</td>\n",
       "      <td>2124.0</td>\n",
       "      <td>49.0</td>\n",
       "      <td>5.0</td>\n",
       "      <td>93.0</td>\n",
       "    </tr>\n",
       "    <tr>\n",
       "      <th>Decision Tree</th>\n",
       "      <td>0.946279</td>\n",
       "      <td>0.598684</td>\n",
       "      <td>0.619554</td>\n",
       "      <td>2058.0</td>\n",
       "      <td>115.0</td>\n",
       "      <td>7.0</td>\n",
       "      <td>91.0</td>\n",
       "    </tr>\n",
       "    <tr>\n",
       "      <th>RBF SVM</th>\n",
       "      <td>0.953765</td>\n",
       "      <td>0.529148</td>\n",
       "      <td>0.509351</td>\n",
       "      <td>2107.0</td>\n",
       "      <td>66.0</td>\n",
       "      <td>39.0</td>\n",
       "      <td>59.0</td>\n",
       "    </tr>\n",
       "    <tr>\n",
       "      <th>Logistic Regression</th>\n",
       "      <td>0.919859</td>\n",
       "      <td>0.363636</td>\n",
       "      <td>0.345135</td>\n",
       "      <td>2037.0</td>\n",
       "      <td>136.0</td>\n",
       "      <td>46.0</td>\n",
       "      <td>52.0</td>\n",
       "    </tr>\n",
       "    <tr>\n",
       "      <th>Linear Discriminant Analysis</th>\n",
       "      <td>0.923822</td>\n",
       "      <td>0.332046</td>\n",
       "      <td>0.304407</td>\n",
       "      <td>2055.0</td>\n",
       "      <td>118.0</td>\n",
       "      <td>55.0</td>\n",
       "      <td>43.0</td>\n",
       "    </tr>\n",
       "    <tr>\n",
       "      <th>Linear SVM</th>\n",
       "      <td>0.929106</td>\n",
       "      <td>0.314894</td>\n",
       "      <td>0.282950</td>\n",
       "      <td>2073.0</td>\n",
       "      <td>100.0</td>\n",
       "      <td>61.0</td>\n",
       "      <td>37.0</td>\n",
       "    </tr>\n",
       "  </tbody>\n",
       "</table>\n",
       "</div>"
      ],
      "text/plain": [
       "                              Accuracy        f1  Matthews      TN     FP  \\\n",
       "Random Forest                 0.977983  0.782609  0.780781  2131.0   42.0   \n",
       "Hist Gradient Boosting        0.976222  0.775000  0.777541  2124.0   49.0   \n",
       "Decision Tree                 0.946279  0.598684  0.619554  2058.0  115.0   \n",
       "RBF SVM                       0.953765  0.529148  0.509351  2107.0   66.0   \n",
       "Logistic Regression           0.919859  0.363636  0.345135  2037.0  136.0   \n",
       "Linear Discriminant Analysis  0.923822  0.332046  0.304407  2055.0  118.0   \n",
       "Linear SVM                    0.929106  0.314894  0.282950  2073.0  100.0   \n",
       "\n",
       "                                FN    TP  \n",
       "Random Forest                  8.0  90.0  \n",
       "Hist Gradient Boosting         5.0  93.0  \n",
       "Decision Tree                  7.0  91.0  \n",
       "RBF SVM                       39.0  59.0  \n",
       "Logistic Regression           46.0  52.0  \n",
       "Linear Discriminant Analysis  55.0  43.0  \n",
       "Linear SVM                    61.0  37.0  "
      ]
     },
     "execution_count": 58,
     "metadata": {},
     "output_type": "execute_result"
    }
   ],
   "source": [
    "pd.DataFrame(model_metrics[\"Building 2\"]).T.sort_values(\"f1\", ascending=False)"
   ]
  },
  {
   "cell_type": "markdown",
   "metadata": {},
   "source": [
    "### Building 3"
   ]
  },
  {
   "cell_type": "code",
   "execution_count": 59,
   "metadata": {},
   "outputs": [
    {
     "data": {
      "text/html": [
       "<div>\n",
       "<style scoped>\n",
       "    .dataframe tbody tr th:only-of-type {\n",
       "        vertical-align: middle;\n",
       "    }\n",
       "\n",
       "    .dataframe tbody tr th {\n",
       "        vertical-align: top;\n",
       "    }\n",
       "\n",
       "    .dataframe thead th {\n",
       "        text-align: right;\n",
       "    }\n",
       "</style>\n",
       "<table border=\"1\" class=\"dataframe\">\n",
       "  <thead>\n",
       "    <tr style=\"text-align: right;\">\n",
       "      <th></th>\n",
       "      <th>Accuracy</th>\n",
       "      <th>f1</th>\n",
       "      <th>Matthews</th>\n",
       "      <th>TN</th>\n",
       "      <th>FP</th>\n",
       "      <th>FN</th>\n",
       "      <th>TP</th>\n",
       "    </tr>\n",
       "  </thead>\n",
       "  <tbody>\n",
       "    <tr>\n",
       "      <th>Hist Gradient Boosting</th>\n",
       "      <td>0.996663</td>\n",
       "      <td>0.926554</td>\n",
       "      <td>0.927411</td>\n",
       "      <td>45605.0</td>\n",
       "      <td>155.0</td>\n",
       "      <td>1.0</td>\n",
       "      <td>984.0</td>\n",
       "    </tr>\n",
       "    <tr>\n",
       "      <th>Random Forest</th>\n",
       "      <td>0.996042</td>\n",
       "      <td>0.913833</td>\n",
       "      <td>0.915084</td>\n",
       "      <td>45579.0</td>\n",
       "      <td>181.0</td>\n",
       "      <td>4.0</td>\n",
       "      <td>981.0</td>\n",
       "    </tr>\n",
       "    <tr>\n",
       "      <th>Decision Tree</th>\n",
       "      <td>0.995401</td>\n",
       "      <td>0.900693</td>\n",
       "      <td>0.902200</td>\n",
       "      <td>45555.0</td>\n",
       "      <td>205.0</td>\n",
       "      <td>10.0</td>\n",
       "      <td>975.0</td>\n",
       "    </tr>\n",
       "    <tr>\n",
       "      <th>Linear Discriminant Analysis</th>\n",
       "      <td>0.973216</td>\n",
       "      <td>0.518832</td>\n",
       "      <td>0.522402</td>\n",
       "      <td>44818.0</td>\n",
       "      <td>942.0</td>\n",
       "      <td>310.0</td>\n",
       "      <td>675.0</td>\n",
       "    </tr>\n",
       "    <tr>\n",
       "      <th>Linear SVM</th>\n",
       "      <td>0.965750</td>\n",
       "      <td>0.470043</td>\n",
       "      <td>0.486830</td>\n",
       "      <td>44434.0</td>\n",
       "      <td>1326.0</td>\n",
       "      <td>275.0</td>\n",
       "      <td>710.0</td>\n",
       "    </tr>\n",
       "    <tr>\n",
       "      <th>Logistic Regression</th>\n",
       "      <td>0.961557</td>\n",
       "      <td>0.450962</td>\n",
       "      <td>0.476202</td>\n",
       "      <td>44210.0</td>\n",
       "      <td>1550.0</td>\n",
       "      <td>247.0</td>\n",
       "      <td>738.0</td>\n",
       "    </tr>\n",
       "    <tr>\n",
       "      <th>RBF SVM</th>\n",
       "      <td>0.727650</td>\n",
       "      <td>0.068486</td>\n",
       "      <td>0.067256</td>\n",
       "      <td>33546.0</td>\n",
       "      <td>12214.0</td>\n",
       "      <td>517.0</td>\n",
       "      <td>468.0</td>\n",
       "    </tr>\n",
       "  </tbody>\n",
       "</table>\n",
       "</div>"
      ],
      "text/plain": [
       "                              Accuracy        f1  Matthews       TN       FP  \\\n",
       "Hist Gradient Boosting        0.996663  0.926554  0.927411  45605.0    155.0   \n",
       "Random Forest                 0.996042  0.913833  0.915084  45579.0    181.0   \n",
       "Decision Tree                 0.995401  0.900693  0.902200  45555.0    205.0   \n",
       "Linear Discriminant Analysis  0.973216  0.518832  0.522402  44818.0    942.0   \n",
       "Linear SVM                    0.965750  0.470043  0.486830  44434.0   1326.0   \n",
       "Logistic Regression           0.961557  0.450962  0.476202  44210.0   1550.0   \n",
       "RBF SVM                       0.727650  0.068486  0.067256  33546.0  12214.0   \n",
       "\n",
       "                                 FN     TP  \n",
       "Hist Gradient Boosting          1.0  984.0  \n",
       "Random Forest                   4.0  981.0  \n",
       "Decision Tree                  10.0  975.0  \n",
       "Linear Discriminant Analysis  310.0  675.0  \n",
       "Linear SVM                    275.0  710.0  \n",
       "Logistic Regression           247.0  738.0  \n",
       "RBF SVM                       517.0  468.0  "
      ]
     },
     "execution_count": 59,
     "metadata": {},
     "output_type": "execute_result"
    }
   ],
   "source": [
    "pd.DataFrame(model_metrics[\"Building 3\"]).T.sort_values(\"f1\", ascending=False)"
   ]
  },
  {
   "cell_type": "markdown",
   "metadata": {},
   "source": [
    "## Model Tuning"
   ]
  },
  {
   "cell_type": "markdown",
   "metadata": {},
   "source": [
    "Creating and evaluating all model variants takes a long time to complete from scratch. Data will be cached so that future runs will not take as long."
   ]
  },
  {
   "cell_type": "code",
   "execution_count": 60,
   "metadata": {},
   "outputs": [],
   "source": [
    "from mlmodel import SCORES\n",
    "scores = list(SCORES)\n",
    "save_folder = None"
   ]
  },
  {
   "cell_type": "markdown",
   "metadata": {},
   "source": [
    "### Decision Tree"
   ]
  },
  {
   "cell_type": "code",
   "execution_count": 61,
   "metadata": {},
   "outputs": [],
   "source": [
    "from mlmodel import GridSearchDecisionTree\n",
    "model_name = \"Decision Tree\"\n",
    "#save_folder = \"output/decision_tree/analysis\"\n",
    "save_folder = None"
   ]
  },
  {
   "cell_type": "markdown",
   "metadata": {},
   "source": [
    "#### Building 1"
   ]
  },
  {
   "cell_type": "code",
   "execution_count": 62,
   "metadata": {},
   "outputs": [
    {
     "name": "stdout",
     "output_type": "stream",
     "text": [
      "All parameters have been previously checked.\n"
     ]
    },
    {
     "data": {
      "text/plain": [
       "<Axes: xlabel='nodes'>"
      ]
     },
     "metadata": {},
     "output_type": "display_data"
    },
    {
     "data": {
      "image/png": "[encoded data removed]",
      "text/plain": [
       "<Figure size 640x480 with 1 Axes>"
      ]
     },
     "metadata": {},
     "output_type": "display_data"
    }
   ],
   "source": [
    "opt1 = GridSearchDecisionTree(\"building1\", n_fits=-1)\n",
    "opt1.fit(x_train1, y_train1, x_val1, y_val1)\n",
    "if save_folder:\n",
    "    print(opt1.save_results(save_folder))\n",
    "\n",
    "df = opt1.results\n",
    "df = pd.DataFrame(df[scores], index=df[\"nodes\"])\n",
    "plt = sns.lineplot(df)\n",
    "plt.set_xlim(0, len(df))\n",
    "#plt.set_ylim(0.998, 1.0)\n",
    "display(plt)"
   ]
  },
  {
   "cell_type": "code",
   "execution_count": 63,
   "metadata": {},
   "outputs": [
    {
     "name": "stdout",
     "output_type": "stream",
     "text": [
      "              precision    recall  f1-score   support\n",
      "\n",
      "         Off     0.9995    0.9996    0.9995     26732\n",
      "          On     0.9989    0.9986    0.9988     10343\n",
      "\n",
      "    accuracy                         0.9993     37075\n",
      "   macro avg     0.9992    0.9991    0.9992     37075\n",
      "weighted avg     0.9993    0.9993    0.9993     37075\n",
      "\n"
     ]
    }
   ],
   "source": [
    "tuned_metrics[\"Building 1\"][model_name] = calculate_metrics(opt1.model, x_test1, y_test1)\n",
    "save_model(opt1.model, \"decisiontree_building1_tuned\")"
   ]
  },
  {
   "cell_type": "markdown",
   "metadata": {},
   "source": [
    "#### Building 2"
   ]
  },
  {
   "cell_type": "code",
   "execution_count": 64,
   "metadata": {},
   "outputs": [
    {
     "name": "stdout",
     "output_type": "stream",
     "text": [
      "All parameters have been previously checked.\n"
     ]
    },
    {
     "data": {
      "text/plain": [
       "<Axes: xlabel='nodes'>"
      ]
     },
     "metadata": {},
     "output_type": "display_data"
    },
    {
     "data": {
      "image/png": "[encoded data removed]",
      "text/plain": [
       "<Figure size 640x480 with 1 Axes>"
      ]
     },
     "metadata": {},
     "output_type": "display_data"
    }
   ],
   "source": [
    "opt2 = GridSearchDecisionTree(\"building2\", n_fits=-1)\n",
    "opt2.fit(x_train2, y_train2, x_val2, y_val2)\n",
    "if save_folder:\n",
    "    print(opt2.save_results(save_folder))\n",
    "\n",
    "df = opt2.results\n",
    "df = pd.DataFrame(df[scores], index=df[\"nodes\"])\n",
    "plt = sns.lineplot(df)\n",
    "plt.set_xlim(0, len(df))\n",
    "#plt.set_ylim(0.6, 1.0)\n",
    "display(plt)"
   ]
  },
  {
   "cell_type": "code",
   "execution_count": 65,
   "metadata": {},
   "outputs": [
    {
     "name": "stdout",
     "output_type": "stream",
     "text": [
      "              precision    recall  f1-score   support\n",
      "\n",
      "         Off     0.9913    0.9597    0.9752      2135\n",
      "          On     0.5805    0.8686    0.6959       137\n",
      "\n",
      "    accuracy                         0.9542      2272\n",
      "   macro avg     0.7859    0.9142    0.8356      2272\n",
      "weighted avg     0.9665    0.9542    0.9584      2272\n",
      "\n"
     ]
    }
   ],
   "source": [
    "tuned_metrics[\"Building 2\"][model_name] = calculate_metrics(opt2.model, x_test2, y_test2)\n",
    "save_model(opt2.model, \"decisiontree_building2_tuned\")"
   ]
  },
  {
   "cell_type": "markdown",
   "metadata": {},
   "source": [
    "#### Building 3"
   ]
  },
  {
   "cell_type": "code",
   "execution_count": 66,
   "metadata": {},
   "outputs": [
    {
     "name": "stdout",
     "output_type": "stream",
     "text": [
      "All parameters have been previously checked.\n"
     ]
    },
    {
     "data": {
      "text/plain": [
       "<Axes: xlabel='nodes'>"
      ]
     },
     "metadata": {},
     "output_type": "display_data"
    },
    {
     "data": {
      "image/png": "[encoded data removed]",
      "text/plain": [
       "<Figure size 640x480 with 1 Axes>"
      ]
     },
     "metadata": {},
     "output_type": "display_data"
    }
   ],
   "source": [
    "opt3 = GridSearchDecisionTree(\"building3\", n_fits=-1)\n",
    "opt3.fit(x_train3, y_train3, x_val3, y_val3)\n",
    "if save_folder:\n",
    "    print(opt3.save_results(save_folder))\n",
    "\n",
    "df = opt3.results\n",
    "df = pd.DataFrame(df[scores], index=df[\"nodes\"])\n",
    "plt = sns.lineplot(df)\n",
    "plt.set_xlim(0, len(df))\n",
    "#plt.set_ylim(0.92, 1.0)\n",
    "display(plt)"
   ]
  },
  {
   "cell_type": "code",
   "execution_count": 67,
   "metadata": {},
   "outputs": [
    {
     "name": "stdout",
     "output_type": "stream",
     "text": [
      "              precision    recall  f1-score   support\n",
      "\n",
      "         Off     0.9998    0.9960    0.9979     45812\n",
      "          On     0.8348    0.9904    0.9060       934\n",
      "\n",
      "    accuracy                         0.9959     46746\n",
      "   macro avg     0.9173    0.9932    0.9519     46746\n",
      "weighted avg     0.9965    0.9959    0.9961     46746\n",
      "\n"
     ]
    }
   ],
   "source": [
    "tuned_metrics[\"Building 3\"][model_name] = calculate_metrics(opt3.model, x_test3, y_test3)\n",
    "save_model(opt3.model, \"decisiontree_building3_tuned\")"
   ]
  },
  {
   "cell_type": "markdown",
   "metadata": {},
   "source": [
    "### Random Forest"
   ]
  },
  {
   "cell_type": "code",
   "execution_count": 68,
   "metadata": {},
   "outputs": [],
   "source": [
    "from mlmodel import GridSearchRandomForest\n",
    "model_name = \"Random Forest\"\n",
    "#save_folder = \"output/random_forest/analysis\"\n",
    "save_folder = None"
   ]
  },
  {
   "cell_type": "markdown",
   "metadata": {},
   "source": [
    "#### Building 1"
   ]
  },
  {
   "cell_type": "code",
   "execution_count": 69,
   "metadata": {},
   "outputs": [
    {
     "name": "stderr",
     "output_type": "stream",
     "text": [
      "  0%|          | 0/324 [00:00<?, ?it/s]"
     ]
    },
    {
     "ename": "KeyboardInterrupt",
     "evalue": "",
     "output_type": "error",
     "traceback": [
      "\u001b[1;31m---------------------------------------------------------------------------\u001b[0m",
      "\u001b[1;31mKeyboardInterrupt\u001b[0m                         Traceback (most recent call last)",
      "Cell \u001b[1;32mIn[69], line 2\u001b[0m\n\u001b[0;32m      1\u001b[0m opt1 \u001b[38;5;241m=\u001b[39m GridSearchRandomForest(\u001b[38;5;124m\"\u001b[39m\u001b[38;5;124mbuilding1\u001b[39m\u001b[38;5;124m\"\u001b[39m, n_fits\u001b[38;5;241m=\u001b[39m\u001b[38;5;241m-\u001b[39m\u001b[38;5;241m1\u001b[39m)\n\u001b[1;32m----> 2\u001b[0m \u001b[43mopt1\u001b[49m\u001b[38;5;241;43m.\u001b[39;49m\u001b[43mfit\u001b[49m\u001b[43m(\u001b[49m\u001b[43mx_train1\u001b[49m\u001b[43m,\u001b[49m\u001b[43m \u001b[49m\u001b[43my_train1\u001b[49m\u001b[43m,\u001b[49m\u001b[43m \u001b[49m\u001b[43mx_val1\u001b[49m\u001b[43m,\u001b[49m\u001b[43m \u001b[49m\u001b[43my_val1\u001b[49m\u001b[43m)\u001b[49m\n\u001b[0;32m      3\u001b[0m \u001b[38;5;28;01mif\u001b[39;00m save_folder:\n\u001b[0;32m      4\u001b[0m     \u001b[38;5;28mprint\u001b[39m(opt1\u001b[38;5;241m.\u001b[39msave_results(save_folder))\n",
      "File \u001b[1;32md:\\BA-CS\\COS40005 Computing Technology Project A\\MachineLearningModel\\mlmodels\\mlmodel\\grid_search_model.py:358\u001b[0m, in \u001b[0;36mGridSearchRandomForest.fit\u001b[1;34m(self, x_train, y_train, x_val, y_val, show_progress, reset)\u001b[0m\n\u001b[0;32m    354\u001b[0m     x_val_transformed \u001b[38;5;241m=\u001b[39m layer\u001b[38;5;241m.\u001b[39mtransform(x_val_transformed)\n\u001b[0;32m    356\u001b[0m models \u001b[38;5;241m=\u001b[39m \u001b[38;5;28mself\u001b[39m\u001b[38;5;241m.\u001b[39m_models_from_param_grid(params_to_check, x_train_transformed, y_train, x_val_transformed, y_val, \n\u001b[0;32m    357\u001b[0m                                       n_estimators, n_jobs\u001b[38;5;241m=\u001b[39m\u001b[38;5;28mself\u001b[39m\u001b[38;5;241m.\u001b[39m_n_fits, show_progress\u001b[38;5;241m=\u001b[39mshow_progress)\n\u001b[1;32m--> 358\u001b[0m \u001b[43m\u001b[49m\u001b[38;5;28;43;01mfor\u001b[39;49;00m\u001b[43m \u001b[49m\u001b[43mparams\u001b[49m\u001b[43m,\u001b[49m\u001b[43m \u001b[49m\u001b[43mclf\u001b[49m\u001b[43m,\u001b[49m\u001b[43m \u001b[49m\u001b[43mpredictions\u001b[49m\u001b[43m,\u001b[49m\u001b[43m \u001b[49m\u001b[43mscores\u001b[49m\u001b[43m \u001b[49m\u001b[38;5;129;43;01min\u001b[39;49;00m\u001b[43m \u001b[49m\u001b[43mmodels\u001b[49m\u001b[43m:\u001b[49m\n\u001b[0;32m    359\u001b[0m \u001b[43m    \u001b[49m\u001b[38;5;28;43mself\u001b[39;49m\u001b[38;5;241;43m.\u001b[39;49m\u001b[43m_update_index_file\u001b[49m\u001b[43m(\u001b[49m\u001b[43mclf\u001b[49m\u001b[43m,\u001b[49m\u001b[43m \u001b[49m\u001b[43mparams\u001b[49m\u001b[43m,\u001b[49m\u001b[43m \u001b[49m\u001b[43mpredictions\u001b[49m\u001b[43m,\u001b[49m\u001b[43m \u001b[49m\u001b[43mscores\u001b[49m\u001b[43m)\u001b[49m\n\u001b[0;32m    361\u001b[0m \u001b[38;5;66;03m# remove empty columns\u001b[39;00m\n",
      "File \u001b[1;32md:\\BA-CS\\COS40005 Computing Technology Project A\\MachineLearningModel\\mlmodels\\mlmodel\\grid_search_model.py:425\u001b[0m, in \u001b[0;36mGridSearchRandomForest._models_from_param_grid\u001b[1;34m(self, param_grid, x_train, y_train, x_val, y_val, n_estimators, n_jobs, show_progress)\u001b[0m\n\u001b[0;32m    422\u001b[0m \u001b[38;5;28;01melse\u001b[39;00m:\n\u001b[0;32m    423\u001b[0m     \u001b[38;5;66;03m#parallel = Parallel(n_jobs=-1, verbose=show_progress, return_as=\"generator_unordered\")\u001b[39;00m\n\u001b[0;32m    424\u001b[0m     parallel \u001b[38;5;241m=\u001b[39m Parallel(n_jobs\u001b[38;5;241m=\u001b[39mn_jobs, return_as\u001b[38;5;241m=\u001b[39m\u001b[38;5;124m\"\u001b[39m\u001b[38;5;124mgenerator_unordered\u001b[39m\u001b[38;5;124m\"\u001b[39m)\n\u001b[1;32m--> 425\u001b[0m     \u001b[38;5;28;01myield from\u001b[39;00m chain\u001b[38;5;241m.\u001b[39mfrom_iterable(parallel(delayed(clf)(params) \u001b[38;5;28;01mfor\u001b[39;00m params \u001b[38;5;129;01min\u001b[39;00m param_grid))\n",
      "File \u001b[1;32md:\\BA-CS\\COS40005 Computing Technology Project A\\MachineLearningModel\\venv\\Lib\\site-packages\\joblib\\parallel.py:1650\u001b[0m, in \u001b[0;36mParallel._get_outputs\u001b[1;34m(self, iterator, pre_dispatch)\u001b[0m\n\u001b[0;32m   1647\u001b[0m     \u001b[38;5;28;01myield\u001b[39;00m\n\u001b[0;32m   1649\u001b[0m     \u001b[38;5;28;01mwith\u001b[39;00m \u001b[38;5;28mself\u001b[39m\u001b[38;5;241m.\u001b[39m_backend\u001b[38;5;241m.\u001b[39mretrieval_context():\n\u001b[1;32m-> 1650\u001b[0m         \u001b[38;5;28;01myield from\u001b[39;00m \u001b[38;5;28mself\u001b[39m\u001b[38;5;241m.\u001b[39m_retrieve()\n\u001b[0;32m   1652\u001b[0m \u001b[38;5;28;01mexcept\u001b[39;00m \u001b[38;5;167;01mGeneratorExit\u001b[39;00m:\n\u001b[0;32m   1653\u001b[0m     \u001b[38;5;66;03m# The generator has been garbage collected before being fully\u001b[39;00m\n\u001b[0;32m   1654\u001b[0m     \u001b[38;5;66;03m# consumed. This aborts the remaining tasks if possible and warn\u001b[39;00m\n\u001b[0;32m   1655\u001b[0m     \u001b[38;5;66;03m# the user if necessary.\u001b[39;00m\n\u001b[0;32m   1656\u001b[0m     \u001b[38;5;28mself\u001b[39m\u001b[38;5;241m.\u001b[39m_exception \u001b[38;5;241m=\u001b[39m \u001b[38;5;28;01mTrue\u001b[39;00m\n",
      "File \u001b[1;32md:\\BA-CS\\COS40005 Computing Technology Project A\\MachineLearningModel\\venv\\Lib\\site-packages\\joblib\\parallel.py:1762\u001b[0m, in \u001b[0;36mParallel._retrieve\u001b[1;34m(self)\u001b[0m\n\u001b[0;32m   1757\u001b[0m \u001b[38;5;66;03m# If the next job is not ready for retrieval yet, we just wait for\u001b[39;00m\n\u001b[0;32m   1758\u001b[0m \u001b[38;5;66;03m# async callbacks to progress.\u001b[39;00m\n\u001b[0;32m   1759\u001b[0m \u001b[38;5;28;01mif\u001b[39;00m ((\u001b[38;5;28mlen\u001b[39m(\u001b[38;5;28mself\u001b[39m\u001b[38;5;241m.\u001b[39m_jobs) \u001b[38;5;241m==\u001b[39m \u001b[38;5;241m0\u001b[39m) \u001b[38;5;129;01mor\u001b[39;00m\n\u001b[0;32m   1760\u001b[0m     (\u001b[38;5;28mself\u001b[39m\u001b[38;5;241m.\u001b[39m_jobs[\u001b[38;5;241m0\u001b[39m]\u001b[38;5;241m.\u001b[39mget_status(\n\u001b[0;32m   1761\u001b[0m         timeout\u001b[38;5;241m=\u001b[39m\u001b[38;5;28mself\u001b[39m\u001b[38;5;241m.\u001b[39mtimeout) \u001b[38;5;241m==\u001b[39m TASK_PENDING)):\n\u001b[1;32m-> 1762\u001b[0m     time\u001b[38;5;241m.\u001b[39msleep(\u001b[38;5;241m0.01\u001b[39m)\n\u001b[0;32m   1763\u001b[0m     \u001b[38;5;28;01mcontinue\u001b[39;00m\n\u001b[0;32m   1765\u001b[0m \u001b[38;5;66;03m# We need to be careful: the job list can be filling up as\u001b[39;00m\n\u001b[0;32m   1766\u001b[0m \u001b[38;5;66;03m# we empty it and Python list are not thread-safe by\u001b[39;00m\n\u001b[0;32m   1767\u001b[0m \u001b[38;5;66;03m# default hence the use of the lock\u001b[39;00m\n",
      "\u001b[1;31mKeyboardInterrupt\u001b[0m: "
     ]
    }
   ],
   "source": [
    "opt1 = GridSearchRandomForest(\"building1\", n_fits=-1)\n",
    "opt1.fit(x_train1, y_train1, x_val1, y_val1)\n",
    "if save_folder:\n",
    "    print(opt1.save_results(save_folder))\n",
    "\n",
    "opt1.model[-1]"
   ]
  },
  {
   "cell_type": "code",
   "execution_count": null,
   "metadata": {},
   "outputs": [],
   "source": [
    "df = opt1.results\n",
    "df = pd.DataFrame(df[scores], index=df[\"min_samples_split\"])\n",
    "plt = sns.lineplot(df)\n",
    "#plt.set_xlim(0, df.index.max())\n",
    "#plt.set_ylim(0.98, 1.0)\n",
    "display(plt)"
   ]
  },
  {
   "cell_type": "code",
   "execution_count": null,
   "metadata": {},
   "outputs": [],
   "source": [
    "tuned_metrics[\"Building 1\"][model_name] = calculate_metrics(opt1.model, x_test1, y_test1)\n",
    "save_model(opt1.model, \"randomforest_building1_tuned\")"
   ]
  },
  {
   "cell_type": "markdown",
   "metadata": {},
   "source": [
    "#### Building 2"
   ]
  },
  {
   "cell_type": "code",
   "execution_count": null,
   "metadata": {},
   "outputs": [],
   "source": [
    "opt2 = GridSearchRandomForest(\"building2\", n_fits=-1)\n",
    "opt2.fit(x_train2, y_train2, x_val2, y_val2)\n",
    "if save_folder:\n",
    "    print(opt2.save_results(save_folder))\n",
    "\n",
    "opt2.model[-1]"
   ]
  },
  {
   "cell_type": "code",
   "execution_count": null,
   "metadata": {},
   "outputs": [],
   "source": [
    "df = opt2.results\n",
    "df = pd.DataFrame(df[scores], index=df[\"min_samples_split\"])\n",
    "plt = sns.lineplot(df)\n",
    "display(plt)"
   ]
  },
  {
   "cell_type": "code",
   "execution_count": null,
   "metadata": {},
   "outputs": [],
   "source": [
    "tuned_metrics[\"Building 2\"][model_name] = calculate_metrics(opt2.model, x_test2, y_test2)\n",
    "save_model(opt2.model, \"randomforest_building2_tuned\")"
   ]
  },
  {
   "cell_type": "code",
   "execution_count": null,
   "metadata": {},
   "outputs": [],
   "source": [
    "opt3 = GridSearchRandomForest(\"building3\", n_fits=-1)\n",
    "opt3.fit(x_train3, y_train3, x_val3, y_val3)\n",
    "if save_folder:\n",
    "    print(opt3.save_results(save_folder))\n",
    "\n",
    "opt3.model[-1]"
   ]
  },
  {
   "cell_type": "code",
   "execution_count": null,
   "metadata": {},
   "outputs": [],
   "source": [
    "df = opt3.results\n",
    "df = pd.DataFrame(df[scores], index=df[\"min_samples_split\"])\n",
    "plt = sns.lineplot(df)\n",
    "display(plt)"
   ]
  },
  {
   "cell_type": "code",
   "execution_count": null,
   "metadata": {},
   "outputs": [],
   "source": [
    "tuned_metrics[\"Building 3\"][model_name] = calculate_metrics(opt3.model, x_test3, y_test3)\n",
    "save_model(opt3.model, \"randomforest_building3_tuned\")"
   ]
  },
  {
   "cell_type": "markdown",
   "metadata": {},
   "source": [
    "## Tuned Model Performance\n",
    "### Building 1"
   ]
  },
  {
   "cell_type": "code",
   "execution_count": 70,
   "metadata": {},
   "outputs": [
    {
     "data": {
      "text/html": [
       "<div>\n",
       "<style scoped>\n",
       "    .dataframe tbody tr th:only-of-type {\n",
       "        vertical-align: middle;\n",
       "    }\n",
       "\n",
       "    .dataframe tbody tr th {\n",
       "        vertical-align: top;\n",
       "    }\n",
       "\n",
       "    .dataframe thead th {\n",
       "        text-align: right;\n",
       "    }\n",
       "</style>\n",
       "<table border=\"1\" class=\"dataframe\">\n",
       "  <thead>\n",
       "    <tr style=\"text-align: right;\">\n",
       "      <th></th>\n",
       "      <th>Accuracy</th>\n",
       "      <th>f1</th>\n",
       "      <th>Matthews</th>\n",
       "      <th>TN</th>\n",
       "      <th>FP</th>\n",
       "      <th>FN</th>\n",
       "      <th>TP</th>\n",
       "    </tr>\n",
       "  </thead>\n",
       "  <tbody>\n",
       "    <tr>\n",
       "      <th>Random Forest (default)</th>\n",
       "      <td>0.999784</td>\n",
       "      <td>0.999613</td>\n",
       "      <td>0.999464</td>\n",
       "      <td>26730.0</td>\n",
       "      <td>2.0</td>\n",
       "      <td>6.0</td>\n",
       "      <td>10337.0</td>\n",
       "    </tr>\n",
       "    <tr>\n",
       "      <th>Hist Gradient Boosting (default)</th>\n",
       "      <td>0.999595</td>\n",
       "      <td>0.999275</td>\n",
       "      <td>0.998994</td>\n",
       "      <td>26723.0</td>\n",
       "      <td>9.0</td>\n",
       "      <td>6.0</td>\n",
       "      <td>10337.0</td>\n",
       "    </tr>\n",
       "    <tr>\n",
       "      <th>Decision Tree (default)</th>\n",
       "      <td>0.999514</td>\n",
       "      <td>0.999130</td>\n",
       "      <td>0.998793</td>\n",
       "      <td>26723.0</td>\n",
       "      <td>9.0</td>\n",
       "      <td>9.0</td>\n",
       "      <td>10334.0</td>\n",
       "    </tr>\n",
       "    <tr>\n",
       "      <th>Decision Tree</th>\n",
       "      <td>0.999326</td>\n",
       "      <td>0.998791</td>\n",
       "      <td>0.998324</td>\n",
       "      <td>26721.0</td>\n",
       "      <td>11.0</td>\n",
       "      <td>14.0</td>\n",
       "      <td>10329.0</td>\n",
       "    </tr>\n",
       "    <tr>\n",
       "      <th>RBF SVM (default)</th>\n",
       "      <td>0.963048</td>\n",
       "      <td>0.933976</td>\n",
       "      <td>0.908329</td>\n",
       "      <td>26015.0</td>\n",
       "      <td>717.0</td>\n",
       "      <td>653.0</td>\n",
       "      <td>9690.0</td>\n",
       "    </tr>\n",
       "    <tr>\n",
       "      <th>Linear SVM (default)</th>\n",
       "      <td>0.819042</td>\n",
       "      <td>0.676534</td>\n",
       "      <td>0.550924</td>\n",
       "      <td>23350.0</td>\n",
       "      <td>3382.0</td>\n",
       "      <td>3327.0</td>\n",
       "      <td>7016.0</td>\n",
       "    </tr>\n",
       "    <tr>\n",
       "      <th>Linear Discriminant Analysis (default)</th>\n",
       "      <td>0.818827</td>\n",
       "      <td>0.658949</td>\n",
       "      <td>0.537285</td>\n",
       "      <td>23869.0</td>\n",
       "      <td>2863.0</td>\n",
       "      <td>3854.0</td>\n",
       "      <td>6489.0</td>\n",
       "    </tr>\n",
       "    <tr>\n",
       "      <th>Logistic Regression (default)</th>\n",
       "      <td>0.779501</td>\n",
       "      <td>0.559370</td>\n",
       "      <td>0.419832</td>\n",
       "      <td>23711.0</td>\n",
       "      <td>3021.0</td>\n",
       "      <td>5154.0</td>\n",
       "      <td>5189.0</td>\n",
       "    </tr>\n",
       "  </tbody>\n",
       "</table>\n",
       "</div>"
      ],
      "text/plain": [
       "                                        Accuracy        f1  Matthews       TN  \\\n",
       "Random Forest (default)                 0.999784  0.999613  0.999464  26730.0   \n",
       "Hist Gradient Boosting (default)        0.999595  0.999275  0.998994  26723.0   \n",
       "Decision Tree (default)                 0.999514  0.999130  0.998793  26723.0   \n",
       "Decision Tree                           0.999326  0.998791  0.998324  26721.0   \n",
       "RBF SVM (default)                       0.963048  0.933976  0.908329  26015.0   \n",
       "Linear SVM (default)                    0.819042  0.676534  0.550924  23350.0   \n",
       "Linear Discriminant Analysis (default)  0.818827  0.658949  0.537285  23869.0   \n",
       "Logistic Regression (default)           0.779501  0.559370  0.419832  23711.0   \n",
       "\n",
       "                                            FP      FN       TP  \n",
       "Random Forest (default)                    2.0     6.0  10337.0  \n",
       "Hist Gradient Boosting (default)           9.0     6.0  10337.0  \n",
       "Decision Tree (default)                    9.0     9.0  10334.0  \n",
       "Decision Tree                             11.0    14.0  10329.0  \n",
       "RBF SVM (default)                        717.0   653.0   9690.0  \n",
       "Linear SVM (default)                    3382.0  3327.0   7016.0  \n",
       "Linear Discriminant Analysis (default)  2863.0  3854.0   6489.0  \n",
       "Logistic Regression (default)           3021.0  5154.0   5189.0  "
      ]
     },
     "execution_count": 70,
     "metadata": {},
     "output_type": "execute_result"
    }
   ],
   "source": [
    "pd.DataFrame(tuned_metrics[\"Building 1\"]).T.sort_values(\"f1\", ascending=False)"
   ]
  },
  {
   "cell_type": "markdown",
   "metadata": {},
   "source": [
    "### Building 2"
   ]
  },
  {
   "cell_type": "code",
   "execution_count": 71,
   "metadata": {},
   "outputs": [
    {
     "data": {
      "text/html": [
       "<div>\n",
       "<style scoped>\n",
       "    .dataframe tbody tr th:only-of-type {\n",
       "        vertical-align: middle;\n",
       "    }\n",
       "\n",
       "    .dataframe tbody tr th {\n",
       "        vertical-align: top;\n",
       "    }\n",
       "\n",
       "    .dataframe thead th {\n",
       "        text-align: right;\n",
       "    }\n",
       "</style>\n",
       "<table border=\"1\" class=\"dataframe\">\n",
       "  <thead>\n",
       "    <tr style=\"text-align: right;\">\n",
       "      <th></th>\n",
       "      <th>Accuracy</th>\n",
       "      <th>f1</th>\n",
       "      <th>Matthews</th>\n",
       "      <th>TN</th>\n",
       "      <th>FP</th>\n",
       "      <th>FN</th>\n",
       "      <th>TP</th>\n",
       "    </tr>\n",
       "  </thead>\n",
       "  <tbody>\n",
       "    <tr>\n",
       "      <th>Random Forest (default)</th>\n",
       "      <td>0.975352</td>\n",
       "      <td>0.819355</td>\n",
       "      <td>0.812643</td>\n",
       "      <td>2089.0</td>\n",
       "      <td>46.0</td>\n",
       "      <td>10.0</td>\n",
       "      <td>127.0</td>\n",
       "    </tr>\n",
       "    <tr>\n",
       "      <th>Hist Gradient Boosting (default)</th>\n",
       "      <td>0.969630</td>\n",
       "      <td>0.783699</td>\n",
       "      <td>0.776680</td>\n",
       "      <td>2078.0</td>\n",
       "      <td>57.0</td>\n",
       "      <td>12.0</td>\n",
       "      <td>125.0</td>\n",
       "    </tr>\n",
       "    <tr>\n",
       "      <th>Decision Tree</th>\n",
       "      <td>0.954225</td>\n",
       "      <td>0.695906</td>\n",
       "      <td>0.688203</td>\n",
       "      <td>2049.0</td>\n",
       "      <td>86.0</td>\n",
       "      <td>18.0</td>\n",
       "      <td>119.0</td>\n",
       "    </tr>\n",
       "    <tr>\n",
       "      <th>Decision Tree (default)</th>\n",
       "      <td>0.946303</td>\n",
       "      <td>0.664835</td>\n",
       "      <td>0.661665</td>\n",
       "      <td>2029.0</td>\n",
       "      <td>106.0</td>\n",
       "      <td>16.0</td>\n",
       "      <td>121.0</td>\n",
       "    </tr>\n",
       "    <tr>\n",
       "      <th>RBF SVM (default)</th>\n",
       "      <td>0.940141</td>\n",
       "      <td>0.537415</td>\n",
       "      <td>0.506915</td>\n",
       "      <td>2057.0</td>\n",
       "      <td>78.0</td>\n",
       "      <td>58.0</td>\n",
       "      <td>79.0</td>\n",
       "    </tr>\n",
       "    <tr>\n",
       "      <th>Linear Discriminant Analysis (default)</th>\n",
       "      <td>0.911532</td>\n",
       "      <td>0.385321</td>\n",
       "      <td>0.344273</td>\n",
       "      <td>2008.0</td>\n",
       "      <td>127.0</td>\n",
       "      <td>74.0</td>\n",
       "      <td>63.0</td>\n",
       "    </tr>\n",
       "    <tr>\n",
       "      <th>Logistic Regression (default)</th>\n",
       "      <td>0.906250</td>\n",
       "      <td>0.375367</td>\n",
       "      <td>0.334380</td>\n",
       "      <td>1995.0</td>\n",
       "      <td>140.0</td>\n",
       "      <td>73.0</td>\n",
       "      <td>64.0</td>\n",
       "    </tr>\n",
       "    <tr>\n",
       "      <th>Linear SVM (default)</th>\n",
       "      <td>0.920335</td>\n",
       "      <td>0.336996</td>\n",
       "      <td>0.294620</td>\n",
       "      <td>2045.0</td>\n",
       "      <td>90.0</td>\n",
       "      <td>91.0</td>\n",
       "      <td>46.0</td>\n",
       "    </tr>\n",
       "  </tbody>\n",
       "</table>\n",
       "</div>"
      ],
      "text/plain": [
       "                                        Accuracy        f1  Matthews      TN  \\\n",
       "Random Forest (default)                 0.975352  0.819355  0.812643  2089.0   \n",
       "Hist Gradient Boosting (default)        0.969630  0.783699  0.776680  2078.0   \n",
       "Decision Tree                           0.954225  0.695906  0.688203  2049.0   \n",
       "Decision Tree (default)                 0.946303  0.664835  0.661665  2029.0   \n",
       "RBF SVM (default)                       0.940141  0.537415  0.506915  2057.0   \n",
       "Linear Discriminant Analysis (default)  0.911532  0.385321  0.344273  2008.0   \n",
       "Logistic Regression (default)           0.906250  0.375367  0.334380  1995.0   \n",
       "Linear SVM (default)                    0.920335  0.336996  0.294620  2045.0   \n",
       "\n",
       "                                           FP    FN     TP  \n",
       "Random Forest (default)                  46.0  10.0  127.0  \n",
       "Hist Gradient Boosting (default)         57.0  12.0  125.0  \n",
       "Decision Tree                            86.0  18.0  119.0  \n",
       "Decision Tree (default)                 106.0  16.0  121.0  \n",
       "RBF SVM (default)                        78.0  58.0   79.0  \n",
       "Linear Discriminant Analysis (default)  127.0  74.0   63.0  \n",
       "Logistic Regression (default)           140.0  73.0   64.0  \n",
       "Linear SVM (default)                     90.0  91.0   46.0  "
      ]
     },
     "execution_count": 71,
     "metadata": {},
     "output_type": "execute_result"
    }
   ],
   "source": [
    "pd.DataFrame(tuned_metrics[\"Building 2\"]).T.sort_values(\"f1\", ascending=False)"
   ]
  },
  {
   "cell_type": "markdown",
   "metadata": {},
   "source": [
    "### Building 3"
   ]
  },
  {
   "cell_type": "code",
   "execution_count": 72,
   "metadata": {},
   "outputs": [
    {
     "data": {
      "text/html": [
       "<div>\n",
       "<style scoped>\n",
       "    .dataframe tbody tr th:only-of-type {\n",
       "        vertical-align: middle;\n",
       "    }\n",
       "\n",
       "    .dataframe tbody tr th {\n",
       "        vertical-align: top;\n",
       "    }\n",
       "\n",
       "    .dataframe thead th {\n",
       "        text-align: right;\n",
       "    }\n",
       "</style>\n",
       "<table border=\"1\" class=\"dataframe\">\n",
       "  <thead>\n",
       "    <tr style=\"text-align: right;\">\n",
       "      <th></th>\n",
       "      <th>Accuracy</th>\n",
       "      <th>f1</th>\n",
       "      <th>Matthews</th>\n",
       "      <th>TN</th>\n",
       "      <th>FP</th>\n",
       "      <th>FN</th>\n",
       "      <th>TP</th>\n",
       "    </tr>\n",
       "  </thead>\n",
       "  <tbody>\n",
       "    <tr>\n",
       "      <th>Hist Gradient Boosting (default)</th>\n",
       "      <td>0.996556</td>\n",
       "      <td>0.920415</td>\n",
       "      <td>0.921495</td>\n",
       "      <td>45654.0</td>\n",
       "      <td>158.0</td>\n",
       "      <td>3.0</td>\n",
       "      <td>931.0</td>\n",
       "    </tr>\n",
       "    <tr>\n",
       "      <th>Decision Tree</th>\n",
       "      <td>0.995893</td>\n",
       "      <td>0.905975</td>\n",
       "      <td>0.907339</td>\n",
       "      <td>45629.0</td>\n",
       "      <td>183.0</td>\n",
       "      <td>9.0</td>\n",
       "      <td>925.0</td>\n",
       "    </tr>\n",
       "    <tr>\n",
       "      <th>Random Forest (default)</th>\n",
       "      <td>0.995743</td>\n",
       "      <td>0.903163</td>\n",
       "      <td>0.904929</td>\n",
       "      <td>45619.0</td>\n",
       "      <td>193.0</td>\n",
       "      <td>6.0</td>\n",
       "      <td>928.0</td>\n",
       "    </tr>\n",
       "    <tr>\n",
       "      <th>Decision Tree (default)</th>\n",
       "      <td>0.994973</td>\n",
       "      <td>0.886309</td>\n",
       "      <td>0.888075</td>\n",
       "      <td>45595.0</td>\n",
       "      <td>217.0</td>\n",
       "      <td>18.0</td>\n",
       "      <td>916.0</td>\n",
       "    </tr>\n",
       "    <tr>\n",
       "      <th>Linear Discriminant Analysis (default)</th>\n",
       "      <td>0.972297</td>\n",
       "      <td>0.487940</td>\n",
       "      <td>0.492743</td>\n",
       "      <td>44834.0</td>\n",
       "      <td>978.0</td>\n",
       "      <td>317.0</td>\n",
       "      <td>617.0</td>\n",
       "    </tr>\n",
       "    <tr>\n",
       "      <th>Linear SVM (default)</th>\n",
       "      <td>0.964917</td>\n",
       "      <td>0.447067</td>\n",
       "      <td>0.466624</td>\n",
       "      <td>44443.0</td>\n",
       "      <td>1369.0</td>\n",
       "      <td>271.0</td>\n",
       "      <td>663.0</td>\n",
       "    </tr>\n",
       "    <tr>\n",
       "      <th>Logistic Regression (default)</th>\n",
       "      <td>0.960553</td>\n",
       "      <td>0.424110</td>\n",
       "      <td>0.450879</td>\n",
       "      <td>44223.0</td>\n",
       "      <td>1589.0</td>\n",
       "      <td>255.0</td>\n",
       "      <td>679.0</td>\n",
       "    </tr>\n",
       "    <tr>\n",
       "      <th>RBF SVM (default)</th>\n",
       "      <td>0.724490</td>\n",
       "      <td>0.065452</td>\n",
       "      <td>0.066541</td>\n",
       "      <td>33416.0</td>\n",
       "      <td>12396.0</td>\n",
       "      <td>483.0</td>\n",
       "      <td>451.0</td>\n",
       "    </tr>\n",
       "  </tbody>\n",
       "</table>\n",
       "</div>"
      ],
      "text/plain": [
       "                                        Accuracy        f1  Matthews       TN  \\\n",
       "Hist Gradient Boosting (default)        0.996556  0.920415  0.921495  45654.0   \n",
       "Decision Tree                           0.995893  0.905975  0.907339  45629.0   \n",
       "Random Forest (default)                 0.995743  0.903163  0.904929  45619.0   \n",
       "Decision Tree (default)                 0.994973  0.886309  0.888075  45595.0   \n",
       "Linear Discriminant Analysis (default)  0.972297  0.487940  0.492743  44834.0   \n",
       "Linear SVM (default)                    0.964917  0.447067  0.466624  44443.0   \n",
       "Logistic Regression (default)           0.960553  0.424110  0.450879  44223.0   \n",
       "RBF SVM (default)                       0.724490  0.065452  0.066541  33416.0   \n",
       "\n",
       "                                             FP     FN     TP  \n",
       "Hist Gradient Boosting (default)          158.0    3.0  931.0  \n",
       "Decision Tree                             183.0    9.0  925.0  \n",
       "Random Forest (default)                   193.0    6.0  928.0  \n",
       "Decision Tree (default)                   217.0   18.0  916.0  \n",
       "Linear Discriminant Analysis (default)    978.0  317.0  617.0  \n",
       "Linear SVM (default)                     1369.0  271.0  663.0  \n",
       "Logistic Regression (default)            1589.0  255.0  679.0  \n",
       "RBF SVM (default)                       12396.0  483.0  451.0  "
      ]
     },
     "execution_count": 72,
     "metadata": {},
     "output_type": "execute_result"
    }
   ],
   "source": [
    "pd.DataFrame(tuned_metrics[\"Building 3\"]).T.sort_values(\"f1\", ascending=False)"
   ]
  }
 ],
 "metadata": {
  "kernelspec": {
   "display_name": "venv",
   "language": "python",
   "name": "python3"
  },
  "language_info": {
   "codemirror_mode": {
    "name": "ipython",
    "version": 3
   },
   "file_extension": ".py",
   "mimetype": "text/x-python",
   "name": "python",
   "nbconvert_exporter": "python",
   "pygments_lexer": "ipython3",
   "version": "3.11.9"
  }
 },
 "nbformat": 4,
 "nbformat_minor": 2
}

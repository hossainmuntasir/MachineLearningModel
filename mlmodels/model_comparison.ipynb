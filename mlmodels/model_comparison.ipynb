{
 "cells": [
  {
   "cell_type": "markdown",
   "metadata": {},
   "source": [
    "Python version should be `3.11`.\n",
    "\n",
    "Scikit-learn version should be `1.5.2`."
   ]
  },
  {
   "cell_type": "code",
   "execution_count": 1,
   "metadata": {},
   "outputs": [
    {
     "name": "stdout",
     "output_type": "stream",
     "text": [
      "Python version is 3.11.9\n",
      "Scikit-learn version is 1.5.2\n"
     ]
    }
   ],
   "source": [
    "import sklearn\n",
    "import platform\n",
    "\n",
    "print(f\"Python version is {platform.python_version()}\")\n",
    "print(f\"Scikit-learn version is {sklearn.__version__}\")"
   ]
  },
  {
   "cell_type": "markdown",
   "metadata": {},
   "source": [
    "## Import data"
   ]
  },
  {
   "cell_type": "code",
   "execution_count": 2,
   "metadata": {},
   "outputs": [
    {
     "name": "stdout",
     "output_type": "stream",
     "text": [
      "Building 1 has 376821 out of 2097150 valid rows.\n",
      "Building 2 has 22716 out of 520938 valid rows.\n",
      "Building 3 has 467517 out of 1942515 valid rows.\n"
     ]
    }
   ],
   "source": [
    "import pandas as pd\n",
    "df1 = pd.read_parquet(\"validated_data/cleaned1.parquet\")\n",
    "df2 = pd.read_parquet(\"validated_data/cleaned2.parquet\")\n",
    "df3 = pd.read_parquet(\"validated_data/cleaned3.parquet\")\n",
    "\n",
    "dfs = [df1, df2, df3]\n",
    "for i, df in enumerate(dfs):\n",
    "    dfs[i] = df[df[\"Faulty\"] == False]\n",
    "    print(f\"Building {i+1} has {len(dfs[i])} out of {len(df)} valid rows.\")\n",
    "df1, df2, df3 = dfs"
   ]
  },
  {
   "cell_type": "markdown",
   "metadata": {},
   "source": [
    "## Data preparation"
   ]
  },
  {
   "cell_type": "code",
   "execution_count": 3,
   "metadata": {},
   "outputs": [],
   "source": [
    "#df2.groupby(\"Zone_name\").count()"
   ]
  },
  {
   "cell_type": "markdown",
   "metadata": {},
   "source": [
    "Only keep columns with useful information.\n",
    "- `Slab_temp` and `Dew_temp` values do not vary in building 1\n",
    "- `building_no` is the same value within dataframes\n",
    "- `Fan_on_group` and `Cumulative_fan_on_mins` values were calculated using the target variable `Fan_status`\n",
    "- `Date` and `Time` cannot be easily converted to numeric values\n",
    "- `Year` values should probably not be used for prediction\n",
    "- `Damper_open_group` and `Louver_open_group` are categorical labels\n",
    "- Cumulative metrics probably won't be available when trying to predict future values\n",
    "- `Louver_status` values are missing in building 3"
   ]
  },
  {
   "cell_type": "code",
   "execution_count": 4,
   "metadata": {},
   "outputs": [],
   "source": [
    "exclude = [\"building_no\", \"Fan_on_group\", \"Date\", \"Time\", \"Year\", \"Damper_open_group\", \"Louver_open_group\", \"Faulty\", \"Cumulative_fan_on_mins\", \"Cumulative_damper_open_mins\", \"Cumulative_louver_open_mins\"]\n",
    "exclude_df1 = exclude + [\"Slab_temp\", \"Dew_temp\", \"Slab_temp_diff\", \"Dew_temp_diff\"]\n",
    "exclude_df3 = exclude + [\"Louver_status\"]\n",
    "\n",
    "df1 = df1[df1.columns.difference(exclude_df1)]\n",
    "df2 = df2[df2.columns.difference(exclude)]\n",
    "df3 = df3[df3.columns.difference(exclude_df3)]\n",
    "dfs = [df1, df2, df3]"
   ]
  },
  {
   "cell_type": "markdown",
   "metadata": {},
   "source": [
    "Use `Datetime` to get day of year and minutes past midnight"
   ]
  },
  {
   "cell_type": "code",
   "execution_count": 5,
   "metadata": {},
   "outputs": [],
   "source": [
    "for df in dfs:\n",
    "    df[\"Day_of_Year\"] = df[\"Datetime\"].dt.day_of_year\n",
    "    df[\"Minutes_past_midnight\"] = ((df[\"Datetime\"] - df[\"Datetime\"].dt.normalize()) / pd.Timedelta(minutes=1))\n",
    "    #df[\"DOW\"] = df[\"Datetime\"].dt.day_name().astype(\"category\")\n",
    "    del df[\"Datetime\"]\n",
    "\n",
    "#import seaborn as sns\n",
    "#sns.heatmap(df1[df1.columns.difference([\"Fan_status\", \"Zone_name\", \"DOW\"])].corr(), cmap=\"BrBG\", vmin=-1, vmax=1)"
   ]
  },
  {
   "cell_type": "markdown",
   "metadata": {},
   "source": [
    "Remove rows with `NA` values for columns that do not have many `NA` values."
   ]
  },
  {
   "cell_type": "code",
   "execution_count": 6,
   "metadata": {},
   "outputs": [],
   "source": [
    "for df in dfs:\n",
    "    # limit to columns with less than 5% NA values\n",
    "    cutoff = len(df) // 20\n",
    "\n",
    "    sums = df.isna().sum()\n",
    "    sums = sums[sums != 0]\n",
    "    #print(cutoff)\n",
    "    #print(sums)\n",
    "    sums = sums[sums <= cutoff]\n",
    "    df.dropna(subset=sums.index, inplace=True)"
   ]
  },
  {
   "cell_type": "markdown",
   "metadata": {},
   "source": [
    "We need to transform `Zone_name` from categorical to numeric. We'll use scikit-learn preprocessing for encoding."
   ]
  },
  {
   "cell_type": "code",
   "execution_count": 7,
   "metadata": {},
   "outputs": [],
   "source": [
    "from sklearn.compose import make_column_transformer\n",
    "from sklearn.preprocessing import TargetEncoder\n",
    "\n",
    "def encode(categorical_columns: list[int] | list[int]):\n",
    "    return make_column_transformer((TargetEncoder(random_state=42), categorical_columns), remainder=\"passthrough\")\n",
    "\n",
    "#categorical_columns = [\"Zone_name\"]\n",
    "#categorical_columns = [\"Zone_name\", \"DOW\"]\n",
    "#df1 = pd.get_dummies(df1, columns=categorical_columns)\n",
    "#dfs[0] = df1\n",
    "#df2 = pd.get_dummies(df2, columns=categorical_columns)\n",
    "#dfs[1] = df2\n",
    "#df3 = pd.get_dummies(df3, columns=categorical_columns)\n",
    "#dfs[2] = df3"
   ]
  },
  {
   "cell_type": "markdown",
   "metadata": {},
   "source": [
    "Dump the processed datasets."
   ]
  },
  {
   "cell_type": "code",
   "execution_count": 8,
   "metadata": {},
   "outputs": [],
   "source": [
    "from pathlib import Path\n",
    "\n",
    "save_folder = Path(\"output/data\")\n",
    "save_folder.mkdir(parents=True, exist_ok=True)\n",
    "for i, df in enumerate(dfs):\n",
    "    df.to_parquet(save_folder / f\"building{i+1}.parquet\")"
   ]
  },
  {
   "cell_type": "markdown",
   "metadata": {},
   "source": [
    "## Split datasets into training and testing subsets\n",
    "We use a 80% training, 10% validation, 10% testing split."
   ]
  },
  {
   "cell_type": "code",
   "execution_count": 9,
   "metadata": {},
   "outputs": [],
   "source": [
    "from sklearn.model_selection import train_test_split\n",
    "\n",
    "train1, test1 = train_test_split(df1, test_size=0.2, random_state=42)\n",
    "val1, test1 = train_test_split(test1, test_size=0.5, random_state=42)\n",
    "train2, test2 = train_test_split(df2, test_size=0.2, random_state=42)\n",
    "val2, test2 = train_test_split(test2, test_size=0.5, random_state=42)\n",
    "train3, test3 = train_test_split(df3, test_size=0.2, random_state=42)\n",
    "val3, test3 = train_test_split(test3, test_size=0.5, random_state=42)"
   ]
  },
  {
   "cell_type": "markdown",
   "metadata": {},
   "source": [
    "Use random undersampling to handle unbalanced training sets."
   ]
  },
  {
   "cell_type": "code",
   "execution_count": 10,
   "metadata": {},
   "outputs": [],
   "source": [
    "target = \"Fan_status\"\n",
    "\n",
    "for train in [train1, train2, train3]:\n",
    "    counts = train[target].value_counts()\n",
    "    if counts[\"On\"] > counts[\"Off\"] * 3:\n",
    "        # data is already in random order, so we can just remove the relevant records after the cutoff\n",
    "        drop = train[train[target] == \"On\"].index[counts[\"Off\"] * 3:]\n",
    "        #train.drop(drop, inplace=True)\n",
    "    elif counts[\"Off\"] > counts[\"On\"] * 3:\n",
    "        drop = train[train[target] == \"Off\"].index[counts[\"On\"] * 3:]\n",
    "        #train.drop(drop, inplace=True)"
   ]
  },
  {
   "cell_type": "code",
   "execution_count": 11,
   "metadata": {},
   "outputs": [],
   "source": [
    "features1 = df1.columns.to_list()\n",
    "features1.remove(target)\n",
    "y_train1 = train1[target]\n",
    "y_val1 = val1[target]\n",
    "y_test1 = test1[target]\n",
    "x_train1 = train1[features1]\n",
    "x_val1 = val1[features1]\n",
    "x_test1 = test1[features1]\n",
    "\n",
    "features2 = df2.columns.to_list()\n",
    "features2.remove(target)\n",
    "y_train2 = train2[target]\n",
    "y_val2 = val2[target]\n",
    "y_test2 = test2[target]\n",
    "x_train2 = train2[features2]\n",
    "x_val2 = val2[features2]\n",
    "x_test2 = test2[features2]\n",
    "\n",
    "features3 = df3.columns.to_list()\n",
    "features3.remove(target)\n",
    "y_train3 = train3[target]\n",
    "y_val3 = val3[target]\n",
    "y_test3 = test3[target]\n",
    "x_train3 = train3[features3]\n",
    "x_val3 = val3[features3]\n",
    "x_test3 = test3[features3]"
   ]
  },
  {
   "cell_type": "markdown",
   "metadata": {},
   "source": [
    "## Saving and loading models"
   ]
  },
  {
   "cell_type": "code",
   "execution_count": 12,
   "metadata": {},
   "outputs": [],
   "source": [
    "from sklearn.base import BaseEstimator\n",
    "from joblib import dump, load\n",
    "\n",
    "def save_model(model: BaseEstimator, filename: str):\n",
    "    models_folder = Path(\"output/models\")\n",
    "    models_folder.mkdir(parents=True, exist_ok=True)\n",
    "    filename = filename + \".joblib\"\n",
    "    dump(model, models_folder / filename)\n",
    "\n",
    "def load_model(filename: str) -> BaseEstimator | None:\n",
    "    models_folder = Path(\"output/models\")\n",
    "    filename = filename + \".joblib\"\n",
    "    filename: Path = models_folder / filename\n",
    "    if filename.is_file():\n",
    "        #print(\"File found!\")\n",
    "        return load(filename)\n",
    "    #print(\"File does not exist!\")"
   ]
  },
  {
   "cell_type": "markdown",
   "metadata": {},
   "source": [
    "## Evaluating Model Performance"
   ]
  },
  {
   "cell_type": "code",
   "execution_count": 13,
   "metadata": {},
   "outputs": [],
   "source": [
    "from sklearn.metrics import classification_report, accuracy_score, f1_score, roc_auc_score, average_precision_score, matthews_corrcoef, confusion_matrix\n",
    "\n",
    "def calculate_metrics(model: BaseEstimator, X: pd.Series, y: pd.Series, print_report = True):\n",
    "    y_predict = model.predict(X)\n",
    "    # SVM predictions take a long time to compute and are unreliable (https://stackoverflow.com/questions/15111408/how-does-sklearn-svm-svcs-function-predict-proba-work-internally)\n",
    "    #y_proba = model.predict_proba(X)[:,1]\n",
    "\n",
    "    if print_report:\n",
    "        print(classification_report(y, y_predict, digits=4))\n",
    "    \n",
    "    tn, fp, fn, tp = confusion_matrix(y, y_predict).ravel()\n",
    "\n",
    "    return {\n",
    "        \"Accuracy\": accuracy_score(y, y_predict),\n",
    "        \"f1\": f1_score(y, y_predict, pos_label=\"On\"),\n",
    "        #\"ROC AUC\": roc_auc_score(y, y_proba),\n",
    "        #\"PR AUC\": average_precision_score(y, y_proba, pos_label=\"On\"),\n",
    "        \"Matthews\": matthews_corrcoef(y, y_predict),\n",
    "        \"TN\": tn,\n",
    "        \"FP\": fp,\n",
    "        \"FN\": fn,\n",
    "        \"TP\": tp,\n",
    "    }\n",
    "\n",
    "model_metrics = {f\"Building {n+1}\": {} for n in range(3)}\n",
    "tuned_metrics = {f\"Building {n+1}\": {} for n in range(3)}"
   ]
  },
  {
   "cell_type": "markdown",
   "metadata": {},
   "source": [
    "## Decision Tree"
   ]
  },
  {
   "cell_type": "code",
   "execution_count": 14,
   "metadata": {},
   "outputs": [],
   "source": [
    "from sklearn.tree import DecisionTreeClassifier\n",
    "from sklearn.pipeline import make_pipeline\n",
    "\n",
    "tree = DecisionTreeClassifier(random_state=42)\n",
    "tree = make_pipeline(encode([\"Zone_name\"]), tree)\n",
    "model_name = \"Decision Tree\""
   ]
  },
  {
   "cell_type": "markdown",
   "metadata": {},
   "source": [
    "### Building 1"
   ]
  },
  {
   "cell_type": "code",
   "execution_count": 15,
   "metadata": {},
   "outputs": [
    {
     "name": "stdout",
     "output_type": "stream",
     "text": [
      "              precision    recall  f1-score   support\n",
      "\n",
      "         Off     0.9996    0.9998    0.9997     26636\n",
      "          On     0.9996    0.9989    0.9993     10439\n",
      "\n",
      "    accuracy                         0.9996     37075\n",
      "   macro avg     0.9996    0.9994    0.9995     37075\n",
      "weighted avg     0.9996    0.9996    0.9996     37075\n",
      "\n"
     ]
    }
   ],
   "source": [
    "tree.fit(x_train1, y_train1)\n",
    "model_metrics[\"Building 1\"][model_name] = calculate_metrics(tree, x_val1, y_val1)\n",
    "tuned_metrics[\"Building 1\"][model_name + \" (default)\"] = calculate_metrics(tree, x_test1, y_test1, print_report=False)\n",
    "save_model(tree, \"decisiontree_building1\")"
   ]
  },
  {
   "cell_type": "markdown",
   "metadata": {},
   "source": [
    "### Building 2"
   ]
  },
  {
   "cell_type": "code",
   "execution_count": 16,
   "metadata": {},
   "outputs": [
    {
     "name": "stdout",
     "output_type": "stream",
     "text": [
      "              precision    recall  f1-score   support\n",
      "\n",
      "         Off     0.9917    0.9913    0.9915      2173\n",
      "          On     0.8081    0.8163    0.8122        98\n",
      "\n",
      "    accuracy                         0.9837      2271\n",
      "   macro avg     0.8999    0.9038    0.9018      2271\n",
      "weighted avg     0.9838    0.9837    0.9837      2271\n",
      "\n"
     ]
    }
   ],
   "source": [
    "tree.fit(x_train2, y_train2)\n",
    "model_metrics[\"Building 2\"][model_name] = calculate_metrics(tree, x_val2, y_val2)\n",
    "tuned_metrics[\"Building 2\"][model_name + \" (default)\"] = calculate_metrics(tree, x_test2, y_test2, print_report=False)\n",
    "save_model(tree, \"decisiontree_building2\")"
   ]
  },
  {
   "cell_type": "markdown",
   "metadata": {},
   "source": [
    "### Building 3"
   ]
  },
  {
   "cell_type": "code",
   "execution_count": 17,
   "metadata": {},
   "outputs": [
    {
     "name": "stdout",
     "output_type": "stream",
     "text": [
      "              precision    recall  f1-score   support\n",
      "\n",
      "         Off     0.9993    0.9990    0.9992     45760\n",
      "          On     0.9549    0.9675    0.9612       985\n",
      "\n",
      "    accuracy                         0.9984     46745\n",
      "   macro avg     0.9771    0.9833    0.9802     46745\n",
      "weighted avg     0.9984    0.9984    0.9984     46745\n",
      "\n"
     ]
    }
   ],
   "source": [
    "tree.fit(x_train3, y_train3)\n",
    "model_metrics[\"Building 3\"][model_name] = calculate_metrics(tree, x_val3, y_val3)\n",
    "tuned_metrics[\"Building 3\"][model_name + \" (default)\"] = calculate_metrics(tree, x_test3, y_test3, print_report=False)\n",
    "save_model(tree, \"decisiontree_building3\")"
   ]
  },
  {
   "cell_type": "markdown",
   "metadata": {},
   "source": [
    "## Random Forest"
   ]
  },
  {
   "cell_type": "code",
   "execution_count": 18,
   "metadata": {},
   "outputs": [],
   "source": [
    "from sklearn.ensemble import RandomForestClassifier\n",
    "import seaborn as sns\n",
    "\n",
    "model_name = \"Random Forest\"\n",
    "forest = RandomForestClassifier(random_state=42, n_jobs=-1)\n",
    "forest = make_pipeline(encode([\"Zone_name\"]), forest)"
   ]
  },
  {
   "cell_type": "markdown",
   "metadata": {},
   "source": [
    "### Building 1"
   ]
  },
  {
   "cell_type": "code",
   "execution_count": 19,
   "metadata": {},
   "outputs": [
    {
     "data": {
      "text/plain": [
       "<Axes: >"
      ]
     },
     "execution_count": 19,
     "metadata": {},
     "output_type": "execute_result"
    },
    {
     "data": {
      "image/png": "[encoded data removed]",
      "text/plain": [
       "<Figure size 640x480 with 1 Axes>"
      ]
     },
     "metadata": {},
     "output_type": "display_data"
    }
   ],
   "source": [
    "forest.fit(x_train1, y_train1)\n",
    "feature_names = forest[0].get_feature_names_out()\n",
    "feature_names = [feature.split(\"__\")[1] for feature in feature_names]\n",
    "sns.barplot(pd.DataFrame(forest[-1].feature_importances_, index=feature_names).T, orient=\"h\")"
   ]
  },
  {
   "cell_type": "code",
   "execution_count": 20,
   "metadata": {},
   "outputs": [
    {
     "name": "stdout",
     "output_type": "stream",
     "text": [
      "              precision    recall  f1-score   support\n",
      "\n",
      "         Off     0.9994    1.0000    0.9997     26636\n",
      "          On     0.9999    0.9986    0.9992     10439\n",
      "\n",
      "    accuracy                         0.9996     37075\n",
      "   macro avg     0.9997    0.9993    0.9995     37075\n",
      "weighted avg     0.9996    0.9996    0.9996     37075\n",
      "\n"
     ]
    }
   ],
   "source": [
    "model_metrics[\"Building 1\"][model_name] = calculate_metrics(forest, x_val1, y_val1)\n",
    "tuned_metrics[\"Building 1\"][model_name + \" (default)\"] = calculate_metrics(forest, x_test1, y_test1, print_report=False)\n",
    "save_model(forest, \"randomforest_building1\")"
   ]
  },
  {
   "cell_type": "markdown",
   "metadata": {},
   "source": [
    "### Building 2"
   ]
  },
  {
   "cell_type": "code",
   "execution_count": 21,
   "metadata": {},
   "outputs": [
    {
     "data": {
      "text/plain": [
       "<Axes: >"
      ]
     },
     "execution_count": 21,
     "metadata": {},
     "output_type": "execute_result"
    },
    {
     "data": {
      "image/png": "[encoded data removed]",
      "text/plain": [
       "<Figure size 640x480 with 1 Axes>"
      ]
     },
     "metadata": {},
     "output_type": "display_data"
    }
   ],
   "source": [
    "forest.fit(x_train2, y_train2)\n",
    "feature_names = forest[0].get_feature_names_out()\n",
    "feature_names = [feature.split(\"__\")[1] for feature in feature_names]\n",
    "sns.barplot(pd.DataFrame(forest[-1].feature_importances_, index=feature_names).T, orient=\"h\")"
   ]
  },
  {
   "cell_type": "code",
   "execution_count": 22,
   "metadata": {},
   "outputs": [
    {
     "name": "stdout",
     "output_type": "stream",
     "text": [
      "              precision    recall  f1-score   support\n",
      "\n",
      "         Off     0.9922    0.9982    0.9952      2173\n",
      "          On     0.9529    0.8265    0.8852        98\n",
      "\n",
      "    accuracy                         0.9908      2271\n",
      "   macro avg     0.9726    0.9123    0.9402      2271\n",
      "weighted avg     0.9905    0.9908    0.9904      2271\n",
      "\n"
     ]
    }
   ],
   "source": [
    "model_metrics[\"Building 2\"][model_name] = calculate_metrics(forest, x_val2, y_val2)\n",
    "tuned_metrics[\"Building 2\"][model_name + \" (default)\"] = calculate_metrics(forest, x_test2, y_test2, print_report=False)\n",
    "save_model(forest, \"randomforest_building2\")"
   ]
  },
  {
   "cell_type": "markdown",
   "metadata": {},
   "source": [
    "### Building 3"
   ]
  },
  {
   "cell_type": "code",
   "execution_count": 23,
   "metadata": {},
   "outputs": [
    {
     "data": {
      "text/plain": [
       "<Axes: >"
      ]
     },
     "execution_count": 23,
     "metadata": {},
     "output_type": "execute_result"
    },
    {
     "data": {
      "image/png": "[encoded data removed]",
      "text/plain": [
       "<Figure size 640x480 with 1 Axes>"
      ]
     },
     "metadata": {},
     "output_type": "display_data"
    }
   ],
   "source": [
    "forest.fit(x_train3, y_train3)\n",
    "feature_names = forest[0].get_feature_names_out()\n",
    "feature_names = [feature.split(\"__\")[1] for feature in feature_names]\n",
    "sns.barplot(pd.DataFrame(forest[-1].feature_importances_, index=feature_names).T, orient=\"h\")"
   ]
  },
  {
   "cell_type": "code",
   "execution_count": 24,
   "metadata": {},
   "outputs": [
    {
     "name": "stdout",
     "output_type": "stream",
     "text": [
      "              precision    recall  f1-score   support\n",
      "\n",
      "         Off     0.9988    0.9997    0.9993     45760\n",
      "          On     0.9852    0.9462    0.9653       985\n",
      "\n",
      "    accuracy                         0.9986     46745\n",
      "   macro avg     0.9920    0.9729    0.9823     46745\n",
      "weighted avg     0.9986    0.9986    0.9986     46745\n",
      "\n"
     ]
    }
   ],
   "source": [
    "model_metrics[\"Building 3\"][model_name] = calculate_metrics(forest, x_val3, y_val3)\n",
    "tuned_metrics[\"Building 3\"][model_name + \" (default)\"] = calculate_metrics(forest, x_test3, y_test3, print_report=False)\n",
    "save_model(forest, \"randomforest_building3\")"
   ]
  },
  {
   "cell_type": "markdown",
   "metadata": {},
   "source": [
    "## Histogram-based Gradient Boosting"
   ]
  },
  {
   "cell_type": "code",
   "execution_count": 25,
   "metadata": {},
   "outputs": [],
   "source": [
    "from sklearn.ensemble import HistGradientBoostingClassifier\n",
    "\n",
    "model_name = \"Hist Gradient Boosting\"\n",
    "histgb = HistGradientBoostingClassifier(random_state=42, categorical_features=[\"Zone_name\"])"
   ]
  },
  {
   "cell_type": "code",
   "execution_count": 26,
   "metadata": {},
   "outputs": [
    {
     "name": "stdout",
     "output_type": "stream",
     "text": [
      "              precision    recall  f1-score   support\n",
      "\n",
      "         Off     0.9997    0.9998    0.9997     26636\n",
      "          On     0.9995    0.9991    0.9993     10439\n",
      "\n",
      "    accuracy                         0.9996     37075\n",
      "   macro avg     0.9996    0.9995    0.9995     37075\n",
      "weighted avg     0.9996    0.9996    0.9996     37075\n",
      "\n"
     ]
    }
   ],
   "source": [
    "histgb.fit(x_train1, y_train1)\n",
    "model_metrics[\"Building 1\"][model_name] = calculate_metrics(histgb, x_val1, y_val1)\n",
    "tuned_metrics[\"Building 1\"][model_name + \" (default)\"] = calculate_metrics(histgb, x_test1, y_test1, print_report=False)\n",
    "save_model(histgb, \"histgb_building1\")"
   ]
  },
  {
   "cell_type": "code",
   "execution_count": 27,
   "metadata": {},
   "outputs": [
    {
     "name": "stdout",
     "output_type": "stream",
     "text": [
      "              precision    recall  f1-score   support\n",
      "\n",
      "         Off     0.9922    0.9972    0.9947      2173\n",
      "          On     0.9310    0.8265    0.8757        98\n",
      "\n",
      "    accuracy                         0.9899      2271\n",
      "   macro avg     0.9616    0.9119    0.9352      2271\n",
      "weighted avg     0.9896    0.9899    0.9896      2271\n",
      "\n"
     ]
    }
   ],
   "source": [
    "histgb.fit(x_train2, y_train2)\n",
    "model_metrics[\"Building 2\"][model_name] = calculate_metrics(histgb, x_val2, y_val2)\n",
    "tuned_metrics[\"Building 2\"][model_name + \" (default)\"] = calculate_metrics(histgb, x_test2, y_test2, print_report=False)\n",
    "save_model(histgb, \"histgb_building2\")"
   ]
  },
  {
   "cell_type": "code",
   "execution_count": 28,
   "metadata": {},
   "outputs": [
    {
     "name": "stdout",
     "output_type": "stream",
     "text": [
      "              precision    recall  f1-score   support\n",
      "\n",
      "         Off     0.9993    0.9992    0.9993     45760\n",
      "          On     0.9637    0.9695    0.9666       985\n",
      "\n",
      "    accuracy                         0.9986     46745\n",
      "   macro avg     0.9815    0.9844    0.9829     46745\n",
      "weighted avg     0.9986    0.9986    0.9986     46745\n",
      "\n"
     ]
    }
   ],
   "source": [
    "histgb.fit(x_train3, y_train3)\n",
    "model_metrics[\"Building 3\"][model_name] = calculate_metrics(histgb, x_val3, y_val3)\n",
    "tuned_metrics[\"Building 3\"][model_name + \" (default)\"] = calculate_metrics(histgb, x_test3, y_test3, print_report=False)\n",
    "save_model(histgb, \"histgb_building3\")"
   ]
  },
  {
   "cell_type": "markdown",
   "metadata": {},
   "source": [
    "## Logistic Regression"
   ]
  },
  {
   "cell_type": "code",
   "execution_count": 29,
   "metadata": {},
   "outputs": [],
   "source": [
    "from sklearn.preprocessing import StandardScaler\n",
    "from sklearn.impute import SimpleImputer\n",
    "from sklearn.linear_model import LogisticRegression\n",
    "\n",
    "model_name = \"Logistic Regression\"\n",
    "logit = LogisticRegression(random_state=42)\n",
    "logit = make_pipeline(encode([\"Zone_name\"]), SimpleImputer(), StandardScaler(), logit)"
   ]
  },
  {
   "cell_type": "code",
   "execution_count": 30,
   "metadata": {},
   "outputs": [
    {
     "name": "stdout",
     "output_type": "stream",
     "text": [
      "              precision    recall  f1-score   support\n",
      "\n",
      "         Off     0.8199    0.8899    0.8535     26636\n",
      "          On     0.6409    0.5014    0.5626     10439\n",
      "\n",
      "    accuracy                         0.7805     37075\n",
      "   macro avg     0.7304    0.6956    0.7080     37075\n",
      "weighted avg     0.7695    0.7805    0.7716     37075\n",
      "\n"
     ]
    }
   ],
   "source": [
    "logit.fit(x_train1, y_train1)\n",
    "model_metrics[\"Building 1\"][model_name] = calculate_metrics(logit, x_val1, y_val1)\n",
    "tuned_metrics[\"Building 1\"][model_name + \" (default)\"] = calculate_metrics(logit, x_test1, y_test1, print_report=False)\n",
    "save_model(logit, \"logit_building1\")"
   ]
  },
  {
   "cell_type": "code",
   "execution_count": 31,
   "metadata": {},
   "outputs": [
    {
     "name": "stdout",
     "output_type": "stream",
     "text": [
      "              precision    recall  f1-score   support\n",
      "\n",
      "         Off     0.9661    0.9972    0.9814      2173\n",
      "          On     0.7857    0.2245    0.3492        98\n",
      "\n",
      "    accuracy                         0.9639      2271\n",
      "   macro avg     0.8759    0.6109    0.6653      2271\n",
      "weighted avg     0.9583    0.9639    0.9541      2271\n",
      "\n"
     ]
    }
   ],
   "source": [
    "logit.fit(x_train2, y_train2)\n",
    "model_metrics[\"Building 2\"][model_name] = calculate_metrics(logit, x_val2, y_val2)\n",
    "tuned_metrics[\"Building 2\"][model_name + \" (default)\"] = calculate_metrics(logit, x_test2, y_test2, print_report=False)\n",
    "save_model(logit, \"logit_building2\")"
   ]
  },
  {
   "cell_type": "code",
   "execution_count": 32,
   "metadata": {},
   "outputs": [
    {
     "name": "stdout",
     "output_type": "stream",
     "text": [
      "              precision    recall  f1-score   support\n",
      "\n",
      "         Off     0.9909    0.9999    0.9954     45760\n",
      "          On     0.9912    0.5726    0.7259       985\n",
      "\n",
      "    accuracy                         0.9909     46745\n",
      "   macro avg     0.9910    0.7862    0.8606     46745\n",
      "weighted avg     0.9909    0.9909    0.9897     46745\n",
      "\n"
     ]
    }
   ],
   "source": [
    "logit.fit(x_train3, y_train3)\n",
    "model_metrics[\"Building 3\"][model_name] = calculate_metrics(logit, x_val3, y_val3)\n",
    "tuned_metrics[\"Building 3\"][model_name + \" (default)\"] = calculate_metrics(logit, x_test3, y_test3, print_report=False)\n",
    "save_model(logit, \"logit_building3\")"
   ]
  },
  {
   "cell_type": "markdown",
   "metadata": {},
   "source": [
    "## Linear Discriminant Analysis"
   ]
  },
  {
   "cell_type": "code",
   "execution_count": 33,
   "metadata": {},
   "outputs": [],
   "source": [
    "from sklearn.impute import SimpleImputer\n",
    "from sklearn.discriminant_analysis import LinearDiscriminantAnalysis\n",
    "\n",
    "model_name = \"Linear Discriminant Analysis\"\n",
    "lda = LinearDiscriminantAnalysis()\n",
    "lda = make_pipeline(encode([\"Zone_name\"]), SimpleImputer(), lda)"
   ]
  },
  {
   "cell_type": "code",
   "execution_count": 34,
   "metadata": {},
   "outputs": [
    {
     "name": "stdout",
     "output_type": "stream",
     "text": [
      "              precision    recall  f1-score   support\n",
      "\n",
      "         Off     0.8594    0.8939    0.8763     26636\n",
      "          On     0.6984    0.6270    0.6608     10439\n",
      "\n",
      "    accuracy                         0.8187     37075\n",
      "   macro avg     0.7789    0.7604    0.7686     37075\n",
      "weighted avg     0.8141    0.8187    0.8156     37075\n",
      "\n"
     ]
    }
   ],
   "source": [
    "lda.fit(x_train1, y_train1)\n",
    "model_metrics[\"Building 1\"][model_name] = calculate_metrics(lda, x_val1, y_val1)\n",
    "tuned_metrics[\"Building 1\"][model_name + \" (default)\"] = calculate_metrics(lda, x_test1, y_test1, print_report=False)\n",
    "save_model(lda, \"lda_building1\")"
   ]
  },
  {
   "cell_type": "code",
   "execution_count": 35,
   "metadata": {},
   "outputs": [
    {
     "name": "stdout",
     "output_type": "stream",
     "text": [
      "              precision    recall  f1-score   support\n",
      "\n",
      "         Off     0.9682    0.9936    0.9807      2173\n",
      "          On     0.6585    0.2755    0.3885        98\n",
      "\n",
      "    accuracy                         0.9626      2271\n",
      "   macro avg     0.8133    0.6345    0.6846      2271\n",
      "weighted avg     0.9548    0.9626    0.9551      2271\n",
      "\n"
     ]
    }
   ],
   "source": [
    "lda.fit(x_train2, y_train2)\n",
    "model_metrics[\"Building 2\"][model_name] = calculate_metrics(lda, x_val2, y_val2)\n",
    "tuned_metrics[\"Building 2\"][model_name + \" (default)\"] = calculate_metrics(lda, x_test2, y_test2, print_report=False)\n",
    "save_model(lda, \"lda_building2\")"
   ]
  },
  {
   "cell_type": "code",
   "execution_count": 36,
   "metadata": {},
   "outputs": [
    {
     "name": "stdout",
     "output_type": "stream",
     "text": [
      "              precision    recall  f1-score   support\n",
      "\n",
      "         Off     0.9908    1.0000    0.9954     45760\n",
      "          On     1.0000    0.5675    0.7241       985\n",
      "\n",
      "    accuracy                         0.9909     46745\n",
      "   macro avg     0.9954    0.7838    0.8597     46745\n",
      "weighted avg     0.9910    0.9909    0.9897     46745\n",
      "\n"
     ]
    }
   ],
   "source": [
    "lda.fit(x_train3, y_train3)\n",
    "model_metrics[\"Building 3\"][model_name] = calculate_metrics(lda, x_val3, y_val3)\n",
    "tuned_metrics[\"Building 3\"][model_name + \" (default)\"] = calculate_metrics(lda, x_test3, y_test3, print_report=False)\n",
    "save_model(lda, \"lda_building3\")"
   ]
  },
  {
   "cell_type": "markdown",
   "metadata": {},
   "source": [
    "## Linear Support Vector Machine (SVM)"
   ]
  },
  {
   "cell_type": "code",
   "execution_count": 37,
   "metadata": {},
   "outputs": [],
   "source": [
    "from sklearn.preprocessing import MinMaxScaler, Normalizer\n",
    "from sklearn.impute import SimpleImputer\n",
    "from sklearn.svm import LinearSVC\n",
    "\n",
    "model_name = \"Linear SVM\"\n",
    "svm = LinearSVC(random_state=42)\n",
    "svm = make_pipeline(encode([\"Zone_name\"]), SimpleImputer(), MinMaxScaler(), Normalizer(), svm)"
   ]
  },
  {
   "cell_type": "code",
   "execution_count": 38,
   "metadata": {},
   "outputs": [
    {
     "name": "stdout",
     "output_type": "stream",
     "text": [
      "              precision    recall  f1-score   support\n",
      "\n",
      "         Off     0.8715    0.8749    0.8732     26636\n",
      "          On     0.6775    0.6708    0.6741     10439\n",
      "\n",
      "    accuracy                         0.8174     37075\n",
      "   macro avg     0.7745    0.7728    0.7736     37075\n",
      "weighted avg     0.8169    0.8174    0.8171     37075\n",
      "\n"
     ]
    }
   ],
   "source": [
    "svm.fit(x_train1, y_train1)\n",
    "model_metrics[\"Building 1\"][model_name] = calculate_metrics(svm, x_val1, y_val1)\n",
    "tuned_metrics[\"Building 1\"][model_name + \" (default)\"] = calculate_metrics(svm, x_test1, y_test1, print_report=False)\n",
    "save_model(svm, \"svm_linear_building1\")"
   ]
  },
  {
   "cell_type": "code",
   "execution_count": 39,
   "metadata": {},
   "outputs": [
    {
     "name": "stdout",
     "output_type": "stream",
     "text": [
      "              precision    recall  f1-score   support\n",
      "\n",
      "         Off     0.9568    1.0000    0.9779      2173\n",
      "          On     0.0000    0.0000    0.0000        98\n",
      "\n",
      "    accuracy                         0.9568      2271\n",
      "   macro avg     0.4784    0.5000    0.4890      2271\n",
      "weighted avg     0.9156    0.9568    0.9357      2271\n",
      "\n"
     ]
    },
    {
     "name": "stderr",
     "output_type": "stream",
     "text": [
      "c:\\Users\\Alan\\Documents\\COS40006\\COS40005 Computing Technology Project A\\venv\\Lib\\site-packages\\sklearn\\metrics\\_classification.py:1531: UndefinedMetricWarning: Precision is ill-defined and being set to 0.0 in labels with no predicted samples. Use `zero_division` parameter to control this behavior.\n",
      "  _warn_prf(average, modifier, f\"{metric.capitalize()} is\", len(result))\n",
      "c:\\Users\\Alan\\Documents\\COS40006\\COS40005 Computing Technology Project A\\venv\\Lib\\site-packages\\sklearn\\metrics\\_classification.py:1531: UndefinedMetricWarning: Precision is ill-defined and being set to 0.0 in labels with no predicted samples. Use `zero_division` parameter to control this behavior.\n",
      "  _warn_prf(average, modifier, f\"{metric.capitalize()} is\", len(result))\n",
      "c:\\Users\\Alan\\Documents\\COS40006\\COS40005 Computing Technology Project A\\venv\\Lib\\site-packages\\sklearn\\metrics\\_classification.py:1531: UndefinedMetricWarning: Precision is ill-defined and being set to 0.0 in labels with no predicted samples. Use `zero_division` parameter to control this behavior.\n",
      "  _warn_prf(average, modifier, f\"{metric.capitalize()} is\", len(result))\n"
     ]
    }
   ],
   "source": [
    "svm.fit(x_train2, y_train2)\n",
    "model_metrics[\"Building 2\"][model_name] = calculate_metrics(svm, x_val2, y_val2)\n",
    "tuned_metrics[\"Building 2\"][model_name + \" (default)\"] = calculate_metrics(svm, x_test2, y_test2, print_report=False)\n",
    "save_model(svm, \"svm_linear_building2\")"
   ]
  },
  {
   "cell_type": "code",
   "execution_count": 40,
   "metadata": {},
   "outputs": [
    {
     "name": "stdout",
     "output_type": "stream",
     "text": [
      "              precision    recall  f1-score   support\n",
      "\n",
      "         Off     0.9908    1.0000    0.9954     45760\n",
      "          On     1.0000    0.5675    0.7241       985\n",
      "\n",
      "    accuracy                         0.9909     46745\n",
      "   macro avg     0.9954    0.7838    0.8597     46745\n",
      "weighted avg     0.9910    0.9909    0.9897     46745\n",
      "\n"
     ]
    }
   ],
   "source": [
    "svm.fit(x_train3, y_train3)\n",
    "model_metrics[\"Building 3\"][model_name] = calculate_metrics(svm, x_val3, y_val3)\n",
    "tuned_metrics[\"Building 3\"][model_name + \" (default)\"] = calculate_metrics(svm, x_test3, y_test3, print_report=False)\n",
    "save_model(svm, \"svm_linear_building3\")"
   ]
  },
  {
   "cell_type": "markdown",
   "metadata": {},
   "source": [
    "## SVM with RBF Kernel\n",
    "\n",
    "SVM takes a long time for large datasets. Even after loading the saved model file, making predictions on the buildings takes around ~~1 hour~~ 6 minutes."
   ]
  },
  {
   "cell_type": "code",
   "execution_count": 41,
   "metadata": {},
   "outputs": [],
   "source": [
    "from sklearn.preprocessing import MinMaxScaler, Normalizer\n",
    "from sklearn.impute import SimpleImputer\n",
    "from sklearn.svm import SVC\n",
    "\n",
    "model_name = \"RBF SVM\"\n",
    "svm = SVC(random_state=42)\n",
    "svm = make_pipeline(encode([\"Zone_name\"]), SimpleImputer(), MinMaxScaler(), Normalizer(), svm)"
   ]
  },
  {
   "cell_type": "code",
   "execution_count": 42,
   "metadata": {},
   "outputs": [],
   "source": [
    "#from sklearn.preprocessing import MinMaxScaler, Normalizer\n",
    "#from sklearn.impute import SimpleImputer\n",
    "#from sklearn.svm import LinearSVC\n",
    "#from sklearn.kernel_approximation import Nystroem\n",
    "\n",
    "#model_name = \"SVM (RBF)\"\n",
    "#svm = LinearSVC(random_state=42)\n",
    "#svm = make_pipeline(encode([\"Zone_name\"]), SimpleImputer(), MinMaxScaler(), Normalizer(), Nystroem(), svm)"
   ]
  },
  {
   "cell_type": "code",
   "execution_count": 43,
   "metadata": {},
   "outputs": [
    {
     "name": "stdout",
     "output_type": "stream",
     "text": [
      "Training model...\n",
      "              precision    recall  f1-score   support\n",
      "\n",
      "         Off     0.9762    0.9720    0.9741     26636\n",
      "          On     0.9294    0.9395    0.9344     10439\n",
      "\n",
      "    accuracy                         0.9629     37075\n",
      "   macro avg     0.9528    0.9557    0.9542     37075\n",
      "weighted avg     0.9630    0.9629    0.9629     37075\n",
      "\n"
     ]
    }
   ],
   "source": [
    "# Building 1 SVM training took around 15 minutes (3 hours for the original dataset). Calculating metrics alone takes about 3 minutes.\n",
    "model_file = \"svm_rbf_building1\"\n",
    "if load_model(model_file):\n",
    "    print(\"Loading previously saved model\")\n",
    "    svm = load_model(model_file)\n",
    "    model_metrics[\"Building 1\"][model_name] = calculate_metrics(svm, x_val1, y_val1)\n",
    "    tuned_metrics[\"Building 1\"][model_name + \" (default)\"] = calculate_metrics(svm, x_test1, y_test1, print_report=False)\n",
    "else:\n",
    "    print(\"Training model...\")\n",
    "    svm.fit(x_train1, y_train1)\n",
    "    save_model(svm, model_file)\n",
    "    model_metrics[\"Building 1\"][model_name] = calculate_metrics(svm, x_val1, y_val1)\n",
    "    tuned_metrics[\"Building 1\"][model_name + \" (default)\"] = calculate_metrics(svm, x_test1, y_test1, print_report=False)"
   ]
  },
  {
   "cell_type": "code",
   "execution_count": 44,
   "metadata": {},
   "outputs": [
    {
     "name": "stdout",
     "output_type": "stream",
     "text": [
      "              precision    recall  f1-score   support\n",
      "\n",
      "         Off     0.9606    0.9986    0.9792      2173\n",
      "          On     0.7500    0.0918    0.1636        98\n",
      "\n",
      "    accuracy                         0.9595      2271\n",
      "   macro avg     0.8553    0.5452    0.5714      2271\n",
      "weighted avg     0.9515    0.9595    0.9440      2271\n",
      "\n"
     ]
    }
   ],
   "source": [
    "svm.fit(x_train2, y_train2)\n",
    "model_metrics[\"Building 2\"][model_name] = calculate_metrics(svm, x_val2, y_val2)\n",
    "tuned_metrics[\"Building 2\"][model_name + \" (default)\"] = calculate_metrics(svm, x_test2, y_test2, print_report=False)\n",
    "save_model(svm, \"svm_rbf_building2\")"
   ]
  },
  {
   "cell_type": "code",
   "execution_count": 45,
   "metadata": {},
   "outputs": [
    {
     "name": "stdout",
     "output_type": "stream",
     "text": [
      "              precision    recall  f1-score   support\n",
      "\n",
      "         Off     0.9921    0.9998    0.9959     45760\n",
      "          On     0.9857    0.6294    0.7683       985\n",
      "\n",
      "    accuracy                         0.9920     46745\n",
      "   macro avg     0.9889    0.8146    0.8821     46745\n",
      "weighted avg     0.9920    0.9920    0.9911     46745\n",
      "\n"
     ]
    }
   ],
   "source": [
    "svm.fit(x_train3, y_train3)\n",
    "model_metrics[\"Building 3\"][model_name] = calculate_metrics(svm, x_val3, y_val3)\n",
    "tuned_metrics[\"Building 3\"][model_name + \" (default)\"] = calculate_metrics(svm, x_test3, y_test3, print_report=False)\n",
    "save_model(svm, model_file)"
   ]
  },
  {
   "cell_type": "markdown",
   "metadata": {},
   "source": [
    "## Model Performance\n",
    "### Building 1"
   ]
  },
  {
   "cell_type": "code",
   "execution_count": 46,
   "metadata": {},
   "outputs": [
    {
     "data": {
      "text/html": [
       "<div>\n",
       "<style scoped>\n",
       "    .dataframe tbody tr th:only-of-type {\n",
       "        vertical-align: middle;\n",
       "    }\n",
       "\n",
       "    .dataframe tbody tr th {\n",
       "        vertical-align: top;\n",
       "    }\n",
       "\n",
       "    .dataframe thead th {\n",
       "        text-align: right;\n",
       "    }\n",
       "</style>\n",
       "<table border=\"1\" class=\"dataframe\">\n",
       "  <thead>\n",
       "    <tr style=\"text-align: right;\">\n",
       "      <th></th>\n",
       "      <th>Accuracy</th>\n",
       "      <th>f1</th>\n",
       "      <th>Matthews</th>\n",
       "      <th>TN</th>\n",
       "      <th>FP</th>\n",
       "      <th>FN</th>\n",
       "      <th>TP</th>\n",
       "    </tr>\n",
       "  </thead>\n",
       "  <tbody>\n",
       "    <tr>\n",
       "      <th>Hist Gradient Boosting</th>\n",
       "      <td>0.999622</td>\n",
       "      <td>0.999329</td>\n",
       "      <td>0.999067</td>\n",
       "      <td>26631.0</td>\n",
       "      <td>5.0</td>\n",
       "      <td>9.0</td>\n",
       "      <td>10430.0</td>\n",
       "    </tr>\n",
       "    <tr>\n",
       "      <th>Decision Tree</th>\n",
       "      <td>0.999595</td>\n",
       "      <td>0.999281</td>\n",
       "      <td>0.999000</td>\n",
       "      <td>26632.0</td>\n",
       "      <td>4.0</td>\n",
       "      <td>11.0</td>\n",
       "      <td>10428.0</td>\n",
       "    </tr>\n",
       "    <tr>\n",
       "      <th>Random Forest</th>\n",
       "      <td>0.999568</td>\n",
       "      <td>0.999233</td>\n",
       "      <td>0.998933</td>\n",
       "      <td>26635.0</td>\n",
       "      <td>1.0</td>\n",
       "      <td>15.0</td>\n",
       "      <td>10424.0</td>\n",
       "    </tr>\n",
       "    <tr>\n",
       "      <th>RBF SVM</th>\n",
       "      <td>0.962859</td>\n",
       "      <td>0.934400</td>\n",
       "      <td>0.908524</td>\n",
       "      <td>25891.0</td>\n",
       "      <td>745.0</td>\n",
       "      <td>632.0</td>\n",
       "      <td>9807.0</td>\n",
       "    </tr>\n",
       "    <tr>\n",
       "      <th>Linear SVM</th>\n",
       "      <td>0.817397</td>\n",
       "      <td>0.674112</td>\n",
       "      <td>0.547293</td>\n",
       "      <td>23303.0</td>\n",
       "      <td>3333.0</td>\n",
       "      <td>3437.0</td>\n",
       "      <td>7002.0</td>\n",
       "    </tr>\n",
       "    <tr>\n",
       "      <th>Linear Discriminant Analysis</th>\n",
       "      <td>0.818746</td>\n",
       "      <td>0.660777</td>\n",
       "      <td>0.539059</td>\n",
       "      <td>23810.0</td>\n",
       "      <td>2826.0</td>\n",
       "      <td>3894.0</td>\n",
       "      <td>6545.0</td>\n",
       "    </tr>\n",
       "    <tr>\n",
       "      <th>Logistic Regression</th>\n",
       "      <td>0.780499</td>\n",
       "      <td>0.562614</td>\n",
       "      <td>0.424625</td>\n",
       "      <td>23703.0</td>\n",
       "      <td>2933.0</td>\n",
       "      <td>5205.0</td>\n",
       "      <td>5234.0</td>\n",
       "    </tr>\n",
       "  </tbody>\n",
       "</table>\n",
       "</div>"
      ],
      "text/plain": [
       "                              Accuracy        f1  Matthews       TN      FP  \\\n",
       "Hist Gradient Boosting        0.999622  0.999329  0.999067  26631.0     5.0   \n",
       "Decision Tree                 0.999595  0.999281  0.999000  26632.0     4.0   \n",
       "Random Forest                 0.999568  0.999233  0.998933  26635.0     1.0   \n",
       "RBF SVM                       0.962859  0.934400  0.908524  25891.0   745.0   \n",
       "Linear SVM                    0.817397  0.674112  0.547293  23303.0  3333.0   \n",
       "Linear Discriminant Analysis  0.818746  0.660777  0.539059  23810.0  2826.0   \n",
       "Logistic Regression           0.780499  0.562614  0.424625  23703.0  2933.0   \n",
       "\n",
       "                                  FN       TP  \n",
       "Hist Gradient Boosting           9.0  10430.0  \n",
       "Decision Tree                   11.0  10428.0  \n",
       "Random Forest                   15.0  10424.0  \n",
       "RBF SVM                        632.0   9807.0  \n",
       "Linear SVM                    3437.0   7002.0  \n",
       "Linear Discriminant Analysis  3894.0   6545.0  \n",
       "Logistic Regression           5205.0   5234.0  "
      ]
     },
     "execution_count": 46,
     "metadata": {},
     "output_type": "execute_result"
    }
   ],
   "source": [
    "pd.DataFrame(model_metrics[\"Building 1\"]).T.sort_values(\"f1\", ascending=False)"
   ]
  },
  {
   "cell_type": "markdown",
   "metadata": {},
   "source": [
    "### Building 2"
   ]
  },
  {
   "cell_type": "code",
   "execution_count": 47,
   "metadata": {},
   "outputs": [
    {
     "data": {
      "text/html": [
       "<div>\n",
       "<style scoped>\n",
       "    .dataframe tbody tr th:only-of-type {\n",
       "        vertical-align: middle;\n",
       "    }\n",
       "\n",
       "    .dataframe tbody tr th {\n",
       "        vertical-align: top;\n",
       "    }\n",
       "\n",
       "    .dataframe thead th {\n",
       "        text-align: right;\n",
       "    }\n",
       "</style>\n",
       "<table border=\"1\" class=\"dataframe\">\n",
       "  <thead>\n",
       "    <tr style=\"text-align: right;\">\n",
       "      <th></th>\n",
       "      <th>Accuracy</th>\n",
       "      <th>f1</th>\n",
       "      <th>Matthews</th>\n",
       "      <th>TN</th>\n",
       "      <th>FP</th>\n",
       "      <th>FN</th>\n",
       "      <th>TP</th>\n",
       "    </tr>\n",
       "  </thead>\n",
       "  <tbody>\n",
       "    <tr>\n",
       "      <th>Random Forest</th>\n",
       "      <td>0.990753</td>\n",
       "      <td>0.885246</td>\n",
       "      <td>0.882875</td>\n",
       "      <td>2169.0</td>\n",
       "      <td>4.0</td>\n",
       "      <td>17.0</td>\n",
       "      <td>81.0</td>\n",
       "    </tr>\n",
       "    <tr>\n",
       "      <th>Hist Gradient Boosting</th>\n",
       "      <td>0.989872</td>\n",
       "      <td>0.875676</td>\n",
       "      <td>0.872093</td>\n",
       "      <td>2167.0</td>\n",
       "      <td>6.0</td>\n",
       "      <td>17.0</td>\n",
       "      <td>81.0</td>\n",
       "    </tr>\n",
       "    <tr>\n",
       "      <th>Decision Tree</th>\n",
       "      <td>0.983708</td>\n",
       "      <td>0.812183</td>\n",
       "      <td>0.803679</td>\n",
       "      <td>2154.0</td>\n",
       "      <td>19.0</td>\n",
       "      <td>18.0</td>\n",
       "      <td>80.0</td>\n",
       "    </tr>\n",
       "    <tr>\n",
       "      <th>Linear Discriminant Analysis</th>\n",
       "      <td>0.962572</td>\n",
       "      <td>0.388489</td>\n",
       "      <td>0.410639</td>\n",
       "      <td>2159.0</td>\n",
       "      <td>14.0</td>\n",
       "      <td>71.0</td>\n",
       "      <td>27.0</td>\n",
       "    </tr>\n",
       "    <tr>\n",
       "      <th>Logistic Regression</th>\n",
       "      <td>0.963893</td>\n",
       "      <td>0.349206</td>\n",
       "      <td>0.408292</td>\n",
       "      <td>2167.0</td>\n",
       "      <td>6.0</td>\n",
       "      <td>76.0</td>\n",
       "      <td>22.0</td>\n",
       "    </tr>\n",
       "    <tr>\n",
       "      <th>RBF SVM</th>\n",
       "      <td>0.959489</td>\n",
       "      <td>0.163636</td>\n",
       "      <td>0.253532</td>\n",
       "      <td>2170.0</td>\n",
       "      <td>3.0</td>\n",
       "      <td>89.0</td>\n",
       "      <td>9.0</td>\n",
       "    </tr>\n",
       "    <tr>\n",
       "      <th>Linear SVM</th>\n",
       "      <td>0.956847</td>\n",
       "      <td>0.000000</td>\n",
       "      <td>0.000000</td>\n",
       "      <td>2173.0</td>\n",
       "      <td>0.0</td>\n",
       "      <td>98.0</td>\n",
       "      <td>0.0</td>\n",
       "    </tr>\n",
       "  </tbody>\n",
       "</table>\n",
       "</div>"
      ],
      "text/plain": [
       "                              Accuracy        f1  Matthews      TN    FP  \\\n",
       "Random Forest                 0.990753  0.885246  0.882875  2169.0   4.0   \n",
       "Hist Gradient Boosting        0.989872  0.875676  0.872093  2167.0   6.0   \n",
       "Decision Tree                 0.983708  0.812183  0.803679  2154.0  19.0   \n",
       "Linear Discriminant Analysis  0.962572  0.388489  0.410639  2159.0  14.0   \n",
       "Logistic Regression           0.963893  0.349206  0.408292  2167.0   6.0   \n",
       "RBF SVM                       0.959489  0.163636  0.253532  2170.0   3.0   \n",
       "Linear SVM                    0.956847  0.000000  0.000000  2173.0   0.0   \n",
       "\n",
       "                                FN    TP  \n",
       "Random Forest                 17.0  81.0  \n",
       "Hist Gradient Boosting        17.0  81.0  \n",
       "Decision Tree                 18.0  80.0  \n",
       "Linear Discriminant Analysis  71.0  27.0  \n",
       "Logistic Regression           76.0  22.0  \n",
       "RBF SVM                       89.0   9.0  \n",
       "Linear SVM                    98.0   0.0  "
      ]
     },
     "execution_count": 47,
     "metadata": {},
     "output_type": "execute_result"
    }
   ],
   "source": [
    "pd.DataFrame(model_metrics[\"Building 2\"]).T.sort_values(\"f1\", ascending=False)"
   ]
  },
  {
   "cell_type": "markdown",
   "metadata": {},
   "source": [
    "### Building 3"
   ]
  },
  {
   "cell_type": "code",
   "execution_count": 48,
   "metadata": {},
   "outputs": [
    {
     "data": {
      "text/html": [
       "<div>\n",
       "<style scoped>\n",
       "    .dataframe tbody tr th:only-of-type {\n",
       "        vertical-align: middle;\n",
       "    }\n",
       "\n",
       "    .dataframe tbody tr th {\n",
       "        vertical-align: top;\n",
       "    }\n",
       "\n",
       "    .dataframe thead th {\n",
       "        text-align: right;\n",
       "    }\n",
       "</style>\n",
       "<table border=\"1\" class=\"dataframe\">\n",
       "  <thead>\n",
       "    <tr style=\"text-align: right;\">\n",
       "      <th></th>\n",
       "      <th>Accuracy</th>\n",
       "      <th>f1</th>\n",
       "      <th>Matthews</th>\n",
       "      <th>TN</th>\n",
       "      <th>FP</th>\n",
       "      <th>FN</th>\n",
       "      <th>TP</th>\n",
       "    </tr>\n",
       "  </thead>\n",
       "  <tbody>\n",
       "    <tr>\n",
       "      <th>Hist Gradient Boosting</th>\n",
       "      <td>0.998588</td>\n",
       "      <td>0.966599</td>\n",
       "      <td>0.965883</td>\n",
       "      <td>45724.0</td>\n",
       "      <td>36.0</td>\n",
       "      <td>30.0</td>\n",
       "      <td>955.0</td>\n",
       "    </tr>\n",
       "    <tr>\n",
       "      <th>Random Forest</th>\n",
       "      <td>0.998567</td>\n",
       "      <td>0.965303</td>\n",
       "      <td>0.964777</td>\n",
       "      <td>45746.0</td>\n",
       "      <td>14.0</td>\n",
       "      <td>53.0</td>\n",
       "      <td>932.0</td>\n",
       "    </tr>\n",
       "    <tr>\n",
       "      <th>Decision Tree</th>\n",
       "      <td>0.998353</td>\n",
       "      <td>0.961170</td>\n",
       "      <td>0.960350</td>\n",
       "      <td>45715.0</td>\n",
       "      <td>45.0</td>\n",
       "      <td>32.0</td>\n",
       "      <td>953.0</td>\n",
       "    </tr>\n",
       "    <tr>\n",
       "      <th>RBF SVM</th>\n",
       "      <td>0.991999</td>\n",
       "      <td>0.768278</td>\n",
       "      <td>0.784386</td>\n",
       "      <td>45751.0</td>\n",
       "      <td>9.0</td>\n",
       "      <td>365.0</td>\n",
       "      <td>620.0</td>\n",
       "    </tr>\n",
       "    <tr>\n",
       "      <th>Logistic Regression</th>\n",
       "      <td>0.990887</td>\n",
       "      <td>0.725869</td>\n",
       "      <td>0.749820</td>\n",
       "      <td>45755.0</td>\n",
       "      <td>5.0</td>\n",
       "      <td>421.0</td>\n",
       "      <td>564.0</td>\n",
       "    </tr>\n",
       "    <tr>\n",
       "      <th>Linear Discriminant Analysis</th>\n",
       "      <td>0.990887</td>\n",
       "      <td>0.724093</td>\n",
       "      <td>0.749852</td>\n",
       "      <td>45760.0</td>\n",
       "      <td>0.0</td>\n",
       "      <td>426.0</td>\n",
       "      <td>559.0</td>\n",
       "    </tr>\n",
       "    <tr>\n",
       "      <th>Linear SVM</th>\n",
       "      <td>0.990887</td>\n",
       "      <td>0.724093</td>\n",
       "      <td>0.749852</td>\n",
       "      <td>45760.0</td>\n",
       "      <td>0.0</td>\n",
       "      <td>426.0</td>\n",
       "      <td>559.0</td>\n",
       "    </tr>\n",
       "  </tbody>\n",
       "</table>\n",
       "</div>"
      ],
      "text/plain": [
       "                              Accuracy        f1  Matthews       TN    FP  \\\n",
       "Hist Gradient Boosting        0.998588  0.966599  0.965883  45724.0  36.0   \n",
       "Random Forest                 0.998567  0.965303  0.964777  45746.0  14.0   \n",
       "Decision Tree                 0.998353  0.961170  0.960350  45715.0  45.0   \n",
       "RBF SVM                       0.991999  0.768278  0.784386  45751.0   9.0   \n",
       "Logistic Regression           0.990887  0.725869  0.749820  45755.0   5.0   \n",
       "Linear Discriminant Analysis  0.990887  0.724093  0.749852  45760.0   0.0   \n",
       "Linear SVM                    0.990887  0.724093  0.749852  45760.0   0.0   \n",
       "\n",
       "                                 FN     TP  \n",
       "Hist Gradient Boosting         30.0  955.0  \n",
       "Random Forest                  53.0  932.0  \n",
       "Decision Tree                  32.0  953.0  \n",
       "RBF SVM                       365.0  620.0  \n",
       "Logistic Regression           421.0  564.0  \n",
       "Linear Discriminant Analysis  426.0  559.0  \n",
       "Linear SVM                    426.0  559.0  "
      ]
     },
     "execution_count": 48,
     "metadata": {},
     "output_type": "execute_result"
    }
   ],
   "source": [
    "pd.DataFrame(model_metrics[\"Building 3\"]).T.sort_values(\"f1\", ascending=False)"
   ]
  },
  {
   "cell_type": "markdown",
   "metadata": {},
   "source": [
    "## Model Tuning"
   ]
  },
  {
   "cell_type": "markdown",
   "metadata": {},
   "source": [
    "Creating and evaluating all model variants takes a long time to complete from scratch. Data will be cached so that future runs will not take as long."
   ]
  },
  {
   "cell_type": "code",
   "execution_count": 49,
   "metadata": {},
   "outputs": [],
   "source": [
    "from mlmodel import SCORES\n",
    "scores = list(SCORES)\n",
    "save_folder = None"
   ]
  },
  {
   "cell_type": "markdown",
   "metadata": {},
   "source": [
    "### Decision Tree"
   ]
  },
  {
   "cell_type": "code",
   "execution_count": 50,
   "metadata": {},
   "outputs": [],
   "source": [
    "from mlmodel import GridSearchDecisionTree\n",
    "model_name = \"Decision Tree\"\n",
    "#save_folder = \"output/decision_tree/analysis\"\n",
    "save_folder = None"
   ]
  },
  {
   "cell_type": "markdown",
   "metadata": {},
   "source": [
    "#### Building 1"
   ]
  },
  {
   "cell_type": "code",
   "execution_count": 51,
   "metadata": {},
   "outputs": [
    {
     "name": "stdout",
     "output_type": "stream",
     "text": [
      "All parameters have been previously checked.\n"
     ]
    },
    {
     "data": {
      "text/plain": [
       "<Axes: xlabel='nodes'>"
      ]
     },
     "metadata": {},
     "output_type": "display_data"
    },
    {
     "data": {
      "image/png": "[encoded data removed]",
      "text/plain": [
       "<Figure size 640x480 with 1 Axes>"
      ]
     },
     "metadata": {},
     "output_type": "display_data"
    }
   ],
   "source": [
    "opt1 = GridSearchDecisionTree(\"building1\", n_fits=-1)\n",
    "opt1.fit(x_train1, y_train1, x_val1, y_val1)\n",
    "if save_folder:\n",
    "    print(opt1.save_results(save_folder))\n",
    "\n",
    "df = opt1.results\n",
    "df = pd.DataFrame(df[scores], index=df[\"nodes\"])\n",
    "plt = sns.lineplot(df)\n",
    "plt.set_xlim(0, len(df))\n",
    "#plt.set_ylim(0.998, 1.0)\n",
    "display(plt)"
   ]
  },
  {
   "cell_type": "code",
   "execution_count": 52,
   "metadata": {},
   "outputs": [
    {
     "name": "stdout",
     "output_type": "stream",
     "text": [
      "              precision    recall  f1-score   support\n",
      "\n",
      "         Off     0.9995    0.9996    0.9995     26732\n",
      "          On     0.9989    0.9986    0.9988     10343\n",
      "\n",
      "    accuracy                         0.9993     37075\n",
      "   macro avg     0.9992    0.9991    0.9992     37075\n",
      "weighted avg     0.9993    0.9993    0.9993     37075\n",
      "\n"
     ]
    }
   ],
   "source": [
    "tuned_metrics[\"Building 1\"][model_name] = calculate_metrics(opt1.model, x_test1, y_test1)\n",
    "save_model(opt1.model, \"decisiontree_building1_tuned\")"
   ]
  },
  {
   "cell_type": "markdown",
   "metadata": {},
   "source": [
    "#### Building 2"
   ]
  },
  {
   "cell_type": "code",
   "execution_count": 53,
   "metadata": {},
   "outputs": [
    {
     "name": "stderr",
     "output_type": "stream",
     "text": [
      "100%|██████████| 120/120 [00:04<00:00, 24.43it/s]\n"
     ]
    },
    {
     "data": {
      "text/plain": [
       "<Axes: xlabel='nodes'>"
      ]
     },
     "metadata": {},
     "output_type": "display_data"
    },
    {
     "data": {
      "image/png": "[encoded data removed]",
      "text/plain": [
       "<Figure size 640x480 with 1 Axes>"
      ]
     },
     "metadata": {},
     "output_type": "display_data"
    }
   ],
   "source": [
    "opt2 = GridSearchDecisionTree(\"building2\", n_fits=-1)\n",
    "opt2.fit(x_train2, y_train2, x_val2, y_val2)\n",
    "if save_folder:\n",
    "    print(opt2.save_results(save_folder))\n",
    "\n",
    "df = opt2.results\n",
    "df = pd.DataFrame(df[scores], index=df[\"nodes\"])\n",
    "plt = sns.lineplot(df)\n",
    "plt.set_xlim(0, len(df))\n",
    "#plt.set_ylim(0.6, 1.0)\n",
    "display(plt)"
   ]
  },
  {
   "cell_type": "code",
   "execution_count": 54,
   "metadata": {},
   "outputs": [
    {
     "name": "stdout",
     "output_type": "stream",
     "text": [
      "              precision    recall  f1-score   support\n",
      "\n",
      "         Off     0.9815    0.9944    0.9879      2135\n",
      "          On     0.8899    0.7080    0.7886       137\n",
      "\n",
      "    accuracy                         0.9771      2272\n",
      "   macro avg     0.9357    0.8512    0.8883      2272\n",
      "weighted avg     0.9760    0.9771    0.9759      2272\n",
      "\n"
     ]
    }
   ],
   "source": [
    "tuned_metrics[\"Building 2\"][model_name] = calculate_metrics(opt2.model, x_test2, y_test2)\n",
    "save_model(opt2.model, \"decisiontree_building2_tuned\")"
   ]
  },
  {
   "cell_type": "markdown",
   "metadata": {},
   "source": [
    "#### Building 3"
   ]
  },
  {
   "cell_type": "code",
   "execution_count": 55,
   "metadata": {},
   "outputs": [
    {
     "name": "stderr",
     "output_type": "stream",
     "text": [
      "100%|██████████| 223/223 [01:26<00:00,  2.59it/s]\n"
     ]
    },
    {
     "data": {
      "text/plain": [
       "<Axes: xlabel='nodes'>"
      ]
     },
     "metadata": {},
     "output_type": "display_data"
    },
    {
     "data": {
      "image/png": "[encoded data removed]",
      "text/plain": [
       "<Figure size 640x480 with 1 Axes>"
      ]
     },
     "metadata": {},
     "output_type": "display_data"
    }
   ],
   "source": [
    "opt3 = GridSearchDecisionTree(\"building3\", n_fits=-1)\n",
    "opt3.fit(x_train3, y_train3, x_val3, y_val3)\n",
    "if save_folder:\n",
    "    print(opt3.save_results(save_folder))\n",
    "\n",
    "df = opt3.results\n",
    "df = pd.DataFrame(df[scores], index=df[\"nodes\"])\n",
    "plt = sns.lineplot(df)\n",
    "plt.set_xlim(0, len(df))\n",
    "#plt.set_ylim(0.92, 1.0)\n",
    "display(plt)"
   ]
  },
  {
   "cell_type": "code",
   "execution_count": 56,
   "metadata": {},
   "outputs": [
    {
     "name": "stdout",
     "output_type": "stream",
     "text": [
      "              precision    recall  f1-score   support\n",
      "\n",
      "         Off     0.9994    0.9992    0.9993     45812\n",
      "          On     0.9617    0.9690    0.9653       934\n",
      "\n",
      "    accuracy                         0.9986     46746\n",
      "   macro avg     0.9806    0.9841    0.9823     46746\n",
      "weighted avg     0.9986    0.9986    0.9986     46746\n",
      "\n"
     ]
    }
   ],
   "source": [
    "tuned_metrics[\"Building 3\"][model_name] = calculate_metrics(opt3.model, x_test3, y_test3)\n",
    "save_model(opt3.model, \"decisiontree_building3_tuned\")"
   ]
  },
  {
   "cell_type": "markdown",
   "metadata": {},
   "source": [
    "### Random Forest"
   ]
  },
  {
   "cell_type": "code",
   "execution_count": 57,
   "metadata": {},
   "outputs": [],
   "source": [
    "from mlmodel import GridSearchRandomForest\n",
    "model_name = \"Random Forest\"\n",
    "#save_folder = \"output/random_forest/analysis\"\n",
    "save_folder = None"
   ]
  },
  {
   "cell_type": "markdown",
   "metadata": {},
   "source": [
    "#### Building 1"
   ]
  },
  {
   "cell_type": "code",
   "execution_count": 58,
   "metadata": {},
   "outputs": [
    {
     "name": "stderr",
     "output_type": "stream",
     "text": [
      "100%|██████████| 324/324 [1:25:50<00:00, 15.90s/it]\n"
     ]
    },
    {
     "data": {
      "text/html": [
       "<style>#sk-container-id-1 {\n",
       "  /* Definition of color scheme common for light and dark mode */\n",
       "  --sklearn-color-text: black;\n",
       "  --sklearn-color-line: gray;\n",
       "  /* Definition of color scheme for unfitted estimators */\n",
       "  --sklearn-color-unfitted-level-0: #fff5e6;\n",
       "  --sklearn-color-unfitted-level-1: #f6e4d2;\n",
       "  --sklearn-color-unfitted-level-2: #ffe0b3;\n",
       "  --sklearn-color-unfitted-level-3: chocolate;\n",
       "  /* Definition of color scheme for fitted estimators */\n",
       "  --sklearn-color-fitted-level-0: #f0f8ff;\n",
       "  --sklearn-color-fitted-level-1: #d4ebff;\n",
       "  --sklearn-color-fitted-level-2: #b3dbfd;\n",
       "  --sklearn-color-fitted-level-3: cornflowerblue;\n",
       "\n",
       "  /* Specific color for light theme */\n",
       "  --sklearn-color-text-on-default-background: var(--sg-text-color, var(--theme-code-foreground, var(--jp-content-font-color1, black)));\n",
       "  --sklearn-color-background: var(--sg-background-color, var(--theme-background, var(--jp-layout-color0, white)));\n",
       "  --sklearn-color-border-box: var(--sg-text-color, var(--theme-code-foreground, var(--jp-content-font-color1, black)));\n",
       "  --sklearn-color-icon: #696969;\n",
       "\n",
       "  @media (prefers-color-scheme: dark) {\n",
       "    /* Redefinition of color scheme for dark theme */\n",
       "    --sklearn-color-text-on-default-background: var(--sg-text-color, var(--theme-code-foreground, var(--jp-content-font-color1, white)));\n",
       "    --sklearn-color-background: var(--sg-background-color, var(--theme-background, var(--jp-layout-color0, #111)));\n",
       "    --sklearn-color-border-box: var(--sg-text-color, var(--theme-code-foreground, var(--jp-content-font-color1, white)));\n",
       "    --sklearn-color-icon: #878787;\n",
       "  }\n",
       "}\n",
       "\n",
       "#sk-container-id-1 {\n",
       "  color: var(--sklearn-color-text);\n",
       "}\n",
       "\n",
       "#sk-container-id-1 pre {\n",
       "  padding: 0;\n",
       "}\n",
       "\n",
       "#sk-container-id-1 input.sk-hidden--visually {\n",
       "  border: 0;\n",
       "  clip: rect(1px 1px 1px 1px);\n",
       "  clip: rect(1px, 1px, 1px, 1px);\n",
       "  height: 1px;\n",
       "  margin: -1px;\n",
       "  overflow: hidden;\n",
       "  padding: 0;\n",
       "  position: absolute;\n",
       "  width: 1px;\n",
       "}\n",
       "\n",
       "#sk-container-id-1 div.sk-dashed-wrapped {\n",
       "  border: 1px dashed var(--sklearn-color-line);\n",
       "  margin: 0 0.4em 0.5em 0.4em;\n",
       "  box-sizing: border-box;\n",
       "  padding-bottom: 0.4em;\n",
       "  background-color: var(--sklearn-color-background);\n",
       "}\n",
       "\n",
       "#sk-container-id-1 div.sk-container {\n",
       "  /* jupyter's `normalize.less` sets `[hidden] { display: none; }`\n",
       "     but bootstrap.min.css set `[hidden] { display: none !important; }`\n",
       "     so we also need the `!important` here to be able to override the\n",
       "     default hidden behavior on the sphinx rendered scikit-learn.org.\n",
       "     See: https://github.com/scikit-learn/scikit-learn/issues/21755 */\n",
       "  display: inline-block !important;\n",
       "  position: relative;\n",
       "}\n",
       "\n",
       "#sk-container-id-1 div.sk-text-repr-fallback {\n",
       "  display: none;\n",
       "}\n",
       "\n",
       "div.sk-parallel-item,\n",
       "div.sk-serial,\n",
       "div.sk-item {\n",
       "  /* draw centered vertical line to link estimators */\n",
       "  background-image: linear-gradient(var(--sklearn-color-text-on-default-background), var(--sklearn-color-text-on-default-background));\n",
       "  background-size: 2px 100%;\n",
       "  background-repeat: no-repeat;\n",
       "  background-position: center center;\n",
       "}\n",
       "\n",
       "/* Parallel-specific style estimator block */\n",
       "\n",
       "#sk-container-id-1 div.sk-parallel-item::after {\n",
       "  content: \"\";\n",
       "  width: 100%;\n",
       "  border-bottom: 2px solid var(--sklearn-color-text-on-default-background);\n",
       "  flex-grow: 1;\n",
       "}\n",
       "\n",
       "#sk-container-id-1 div.sk-parallel {\n",
       "  display: flex;\n",
       "  align-items: stretch;\n",
       "  justify-content: center;\n",
       "  background-color: var(--sklearn-color-background);\n",
       "  position: relative;\n",
       "}\n",
       "\n",
       "#sk-container-id-1 div.sk-parallel-item {\n",
       "  display: flex;\n",
       "  flex-direction: column;\n",
       "}\n",
       "\n",
       "#sk-container-id-1 div.sk-parallel-item:first-child::after {\n",
       "  align-self: flex-end;\n",
       "  width: 50%;\n",
       "}\n",
       "\n",
       "#sk-container-id-1 div.sk-parallel-item:last-child::after {\n",
       "  align-self: flex-start;\n",
       "  width: 50%;\n",
       "}\n",
       "\n",
       "#sk-container-id-1 div.sk-parallel-item:only-child::after {\n",
       "  width: 0;\n",
       "}\n",
       "\n",
       "/* Serial-specific style estimator block */\n",
       "\n",
       "#sk-container-id-1 div.sk-serial {\n",
       "  display: flex;\n",
       "  flex-direction: column;\n",
       "  align-items: center;\n",
       "  background-color: var(--sklearn-color-background);\n",
       "  padding-right: 1em;\n",
       "  padding-left: 1em;\n",
       "}\n",
       "\n",
       "\n",
       "/* Toggleable style: style used for estimator/Pipeline/ColumnTransformer box that is\n",
       "clickable and can be expanded/collapsed.\n",
       "- Pipeline and ColumnTransformer use this feature and define the default style\n",
       "- Estimators will overwrite some part of the style using the `sk-estimator` class\n",
       "*/\n",
       "\n",
       "/* Pipeline and ColumnTransformer style (default) */\n",
       "\n",
       "#sk-container-id-1 div.sk-toggleable {\n",
       "  /* Default theme specific background. It is overwritten whether we have a\n",
       "  specific estimator or a Pipeline/ColumnTransformer */\n",
       "  background-color: var(--sklearn-color-background);\n",
       "}\n",
       "\n",
       "/* Toggleable label */\n",
       "#sk-container-id-1 label.sk-toggleable__label {\n",
       "  cursor: pointer;\n",
       "  display: block;\n",
       "  width: 100%;\n",
       "  margin-bottom: 0;\n",
       "  padding: 0.5em;\n",
       "  box-sizing: border-box;\n",
       "  text-align: center;\n",
       "}\n",
       "\n",
       "#sk-container-id-1 label.sk-toggleable__label-arrow:before {\n",
       "  /* Arrow on the left of the label */\n",
       "  content: \"▸\";\n",
       "  float: left;\n",
       "  margin-right: 0.25em;\n",
       "  color: var(--sklearn-color-icon);\n",
       "}\n",
       "\n",
       "#sk-container-id-1 label.sk-toggleable__label-arrow:hover:before {\n",
       "  color: var(--sklearn-color-text);\n",
       "}\n",
       "\n",
       "/* Toggleable content - dropdown */\n",
       "\n",
       "#sk-container-id-1 div.sk-toggleable__content {\n",
       "  max-height: 0;\n",
       "  max-width: 0;\n",
       "  overflow: hidden;\n",
       "  text-align: left;\n",
       "  /* unfitted */\n",
       "  background-color: var(--sklearn-color-unfitted-level-0);\n",
       "}\n",
       "\n",
       "#sk-container-id-1 div.sk-toggleable__content.fitted {\n",
       "  /* fitted */\n",
       "  background-color: var(--sklearn-color-fitted-level-0);\n",
       "}\n",
       "\n",
       "#sk-container-id-1 div.sk-toggleable__content pre {\n",
       "  margin: 0.2em;\n",
       "  border-radius: 0.25em;\n",
       "  color: var(--sklearn-color-text);\n",
       "  /* unfitted */\n",
       "  background-color: var(--sklearn-color-unfitted-level-0);\n",
       "}\n",
       "\n",
       "#sk-container-id-1 div.sk-toggleable__content.fitted pre {\n",
       "  /* unfitted */\n",
       "  background-color: var(--sklearn-color-fitted-level-0);\n",
       "}\n",
       "\n",
       "#sk-container-id-1 input.sk-toggleable__control:checked~div.sk-toggleable__content {\n",
       "  /* Expand drop-down */\n",
       "  max-height: 200px;\n",
       "  max-width: 100%;\n",
       "  overflow: auto;\n",
       "}\n",
       "\n",
       "#sk-container-id-1 input.sk-toggleable__control:checked~label.sk-toggleable__label-arrow:before {\n",
       "  content: \"▾\";\n",
       "}\n",
       "\n",
       "/* Pipeline/ColumnTransformer-specific style */\n",
       "\n",
       "#sk-container-id-1 div.sk-label input.sk-toggleable__control:checked~label.sk-toggleable__label {\n",
       "  color: var(--sklearn-color-text);\n",
       "  background-color: var(--sklearn-color-unfitted-level-2);\n",
       "}\n",
       "\n",
       "#sk-container-id-1 div.sk-label.fitted input.sk-toggleable__control:checked~label.sk-toggleable__label {\n",
       "  background-color: var(--sklearn-color-fitted-level-2);\n",
       "}\n",
       "\n",
       "/* Estimator-specific style */\n",
       "\n",
       "/* Colorize estimator box */\n",
       "#sk-container-id-1 div.sk-estimator input.sk-toggleable__control:checked~label.sk-toggleable__label {\n",
       "  /* unfitted */\n",
       "  background-color: var(--sklearn-color-unfitted-level-2);\n",
       "}\n",
       "\n",
       "#sk-container-id-1 div.sk-estimator.fitted input.sk-toggleable__control:checked~label.sk-toggleable__label {\n",
       "  /* fitted */\n",
       "  background-color: var(--sklearn-color-fitted-level-2);\n",
       "}\n",
       "\n",
       "#sk-container-id-1 div.sk-label label.sk-toggleable__label,\n",
       "#sk-container-id-1 div.sk-label label {\n",
       "  /* The background is the default theme color */\n",
       "  color: var(--sklearn-color-text-on-default-background);\n",
       "}\n",
       "\n",
       "/* On hover, darken the color of the background */\n",
       "#sk-container-id-1 div.sk-label:hover label.sk-toggleable__label {\n",
       "  color: var(--sklearn-color-text);\n",
       "  background-color: var(--sklearn-color-unfitted-level-2);\n",
       "}\n",
       "\n",
       "/* Label box, darken color on hover, fitted */\n",
       "#sk-container-id-1 div.sk-label.fitted:hover label.sk-toggleable__label.fitted {\n",
       "  color: var(--sklearn-color-text);\n",
       "  background-color: var(--sklearn-color-fitted-level-2);\n",
       "}\n",
       "\n",
       "/* Estimator label */\n",
       "\n",
       "#sk-container-id-1 div.sk-label label {\n",
       "  font-family: monospace;\n",
       "  font-weight: bold;\n",
       "  display: inline-block;\n",
       "  line-height: 1.2em;\n",
       "}\n",
       "\n",
       "#sk-container-id-1 div.sk-label-container {\n",
       "  text-align: center;\n",
       "}\n",
       "\n",
       "/* Estimator-specific */\n",
       "#sk-container-id-1 div.sk-estimator {\n",
       "  font-family: monospace;\n",
       "  border: 1px dotted var(--sklearn-color-border-box);\n",
       "  border-radius: 0.25em;\n",
       "  box-sizing: border-box;\n",
       "  margin-bottom: 0.5em;\n",
       "  /* unfitted */\n",
       "  background-color: var(--sklearn-color-unfitted-level-0);\n",
       "}\n",
       "\n",
       "#sk-container-id-1 div.sk-estimator.fitted {\n",
       "  /* fitted */\n",
       "  background-color: var(--sklearn-color-fitted-level-0);\n",
       "}\n",
       "\n",
       "/* on hover */\n",
       "#sk-container-id-1 div.sk-estimator:hover {\n",
       "  /* unfitted */\n",
       "  background-color: var(--sklearn-color-unfitted-level-2);\n",
       "}\n",
       "\n",
       "#sk-container-id-1 div.sk-estimator.fitted:hover {\n",
       "  /* fitted */\n",
       "  background-color: var(--sklearn-color-fitted-level-2);\n",
       "}\n",
       "\n",
       "/* Specification for estimator info (e.g. \"i\" and \"?\") */\n",
       "\n",
       "/* Common style for \"i\" and \"?\" */\n",
       "\n",
       ".sk-estimator-doc-link,\n",
       "a:link.sk-estimator-doc-link,\n",
       "a:visited.sk-estimator-doc-link {\n",
       "  float: right;\n",
       "  font-size: smaller;\n",
       "  line-height: 1em;\n",
       "  font-family: monospace;\n",
       "  background-color: var(--sklearn-color-background);\n",
       "  border-radius: 1em;\n",
       "  height: 1em;\n",
       "  width: 1em;\n",
       "  text-decoration: none !important;\n",
       "  margin-left: 1ex;\n",
       "  /* unfitted */\n",
       "  border: var(--sklearn-color-unfitted-level-1) 1pt solid;\n",
       "  color: var(--sklearn-color-unfitted-level-1);\n",
       "}\n",
       "\n",
       ".sk-estimator-doc-link.fitted,\n",
       "a:link.sk-estimator-doc-link.fitted,\n",
       "a:visited.sk-estimator-doc-link.fitted {\n",
       "  /* fitted */\n",
       "  border: var(--sklearn-color-fitted-level-1) 1pt solid;\n",
       "  color: var(--sklearn-color-fitted-level-1);\n",
       "}\n",
       "\n",
       "/* On hover */\n",
       "div.sk-estimator:hover .sk-estimator-doc-link:hover,\n",
       ".sk-estimator-doc-link:hover,\n",
       "div.sk-label-container:hover .sk-estimator-doc-link:hover,\n",
       ".sk-estimator-doc-link:hover {\n",
       "  /* unfitted */\n",
       "  background-color: var(--sklearn-color-unfitted-level-3);\n",
       "  color: var(--sklearn-color-background);\n",
       "  text-decoration: none;\n",
       "}\n",
       "\n",
       "div.sk-estimator.fitted:hover .sk-estimator-doc-link.fitted:hover,\n",
       ".sk-estimator-doc-link.fitted:hover,\n",
       "div.sk-label-container:hover .sk-estimator-doc-link.fitted:hover,\n",
       ".sk-estimator-doc-link.fitted:hover {\n",
       "  /* fitted */\n",
       "  background-color: var(--sklearn-color-fitted-level-3);\n",
       "  color: var(--sklearn-color-background);\n",
       "  text-decoration: none;\n",
       "}\n",
       "\n",
       "/* Span, style for the box shown on hovering the info icon */\n",
       ".sk-estimator-doc-link span {\n",
       "  display: none;\n",
       "  z-index: 9999;\n",
       "  position: relative;\n",
       "  font-weight: normal;\n",
       "  right: .2ex;\n",
       "  padding: .5ex;\n",
       "  margin: .5ex;\n",
       "  width: min-content;\n",
       "  min-width: 20ex;\n",
       "  max-width: 50ex;\n",
       "  color: var(--sklearn-color-text);\n",
       "  box-shadow: 2pt 2pt 4pt #999;\n",
       "  /* unfitted */\n",
       "  background: var(--sklearn-color-unfitted-level-0);\n",
       "  border: .5pt solid var(--sklearn-color-unfitted-level-3);\n",
       "}\n",
       "\n",
       ".sk-estimator-doc-link.fitted span {\n",
       "  /* fitted */\n",
       "  background: var(--sklearn-color-fitted-level-0);\n",
       "  border: var(--sklearn-color-fitted-level-3);\n",
       "}\n",
       "\n",
       ".sk-estimator-doc-link:hover span {\n",
       "  display: block;\n",
       "}\n",
       "\n",
       "/* \"?\"-specific style due to the `<a>` HTML tag */\n",
       "\n",
       "#sk-container-id-1 a.estimator_doc_link {\n",
       "  float: right;\n",
       "  font-size: 1rem;\n",
       "  line-height: 1em;\n",
       "  font-family: monospace;\n",
       "  background-color: var(--sklearn-color-background);\n",
       "  border-radius: 1rem;\n",
       "  height: 1rem;\n",
       "  width: 1rem;\n",
       "  text-decoration: none;\n",
       "  /* unfitted */\n",
       "  color: var(--sklearn-color-unfitted-level-1);\n",
       "  border: var(--sklearn-color-unfitted-level-1) 1pt solid;\n",
       "}\n",
       "\n",
       "#sk-container-id-1 a.estimator_doc_link.fitted {\n",
       "  /* fitted */\n",
       "  border: var(--sklearn-color-fitted-level-1) 1pt solid;\n",
       "  color: var(--sklearn-color-fitted-level-1);\n",
       "}\n",
       "\n",
       "/* On hover */\n",
       "#sk-container-id-1 a.estimator_doc_link:hover {\n",
       "  /* unfitted */\n",
       "  background-color: var(--sklearn-color-unfitted-level-3);\n",
       "  color: var(--sklearn-color-background);\n",
       "  text-decoration: none;\n",
       "}\n",
       "\n",
       "#sk-container-id-1 a.estimator_doc_link.fitted:hover {\n",
       "  /* fitted */\n",
       "  background-color: var(--sklearn-color-fitted-level-3);\n",
       "}\n",
       "</style><div id=\"sk-container-id-1\" class=\"sk-top-container\"><div class=\"sk-text-repr-fallback\"><pre>RandomForestClassifier(max_features=11, n_estimators=150, random_state=42)</pre><b>In a Jupyter environment, please rerun this cell to show the HTML representation or trust the notebook. <br />On GitHub, the HTML representation is unable to render, please try loading this page with nbviewer.org.</b></div><div class=\"sk-container\" hidden><div class=\"sk-item\"><div class=\"sk-estimator fitted sk-toggleable\"><input class=\"sk-toggleable__control sk-hidden--visually\" id=\"sk-estimator-id-1\" type=\"checkbox\" checked><label for=\"sk-estimator-id-1\" class=\"sk-toggleable__label fitted sk-toggleable__label-arrow fitted\">&nbsp;&nbsp;RandomForestClassifier<a class=\"sk-estimator-doc-link fitted\" rel=\"noreferrer\" target=\"_blank\" href=\"https://scikit-learn.org/1.5/modules/generated/sklearn.ensemble.RandomForestClassifier.html\">?<span>Documentation for RandomForestClassifier</span></a><span class=\"sk-estimator-doc-link fitted\">i<span>Fitted</span></span></label><div class=\"sk-toggleable__content fitted\"><pre>RandomForestClassifier(max_features=11, n_estimators=150, random_state=42)</pre></div> </div></div></div></div>"
      ],
      "text/plain": [
       "RandomForestClassifier(max_features=11, n_estimators=150, random_state=42)"
      ]
     },
     "execution_count": 58,
     "metadata": {},
     "output_type": "execute_result"
    }
   ],
   "source": [
    "opt1 = GridSearchRandomForest(\"building1\", n_fits=-1)\n",
    "opt1.fit(x_train1, y_train1, x_val1, y_val1)\n",
    "if save_folder:\n",
    "    print(opt1.save_results(save_folder))\n",
    "\n",
    "opt1.model[-1]"
   ]
  },
  {
   "cell_type": "code",
   "execution_count": 59,
   "metadata": {},
   "outputs": [
    {
     "data": {
      "text/plain": [
       "<Axes: xlabel='min_samples_split'>"
      ]
     },
     "metadata": {},
     "output_type": "display_data"
    },
    {
     "data": {
      "image/png": "[encoded data removed]",
      "text/plain": [
       "<Figure size 640x480 with 1 Axes>"
      ]
     },
     "metadata": {},
     "output_type": "display_data"
    }
   ],
   "source": [
    "df = opt1.results\n",
    "df = pd.DataFrame(df[scores], index=df[\"min_samples_split\"])\n",
    "plt = sns.lineplot(df)\n",
    "#plt.set_xlim(0, df.index.max())\n",
    "#plt.set_ylim(0.98, 1.0)\n",
    "display(plt)"
   ]
  },
  {
   "cell_type": "code",
   "execution_count": 60,
   "metadata": {},
   "outputs": [
    {
     "name": "stdout",
     "output_type": "stream",
     "text": [
      "              precision    recall  f1-score   support\n",
      "\n",
      "         Off     0.9999    0.9999    0.9999     26732\n",
      "          On     0.9997    0.9997    0.9997     10343\n",
      "\n",
      "    accuracy                         0.9998     37075\n",
      "   macro avg     0.9998    0.9998    0.9998     37075\n",
      "weighted avg     0.9998    0.9998    0.9998     37075\n",
      "\n"
     ]
    }
   ],
   "source": [
    "tuned_metrics[\"Building 1\"][model_name] = calculate_metrics(opt1.model, x_test1, y_test1)\n",
    "save_model(opt1.model, \"randomforest_building1_tuned\")"
   ]
  },
  {
   "cell_type": "markdown",
   "metadata": {},
   "source": [
    "#### Building 2"
   ]
  },
  {
   "cell_type": "code",
   "execution_count": 61,
   "metadata": {},
   "outputs": [
    {
     "name": "stderr",
     "output_type": "stream",
     "text": [
      "100%|██████████| 432/432 [12:34<00:00,  1.75s/it]\n"
     ]
    },
    {
     "data": {
      "text/html": [
       "<style>#sk-container-id-2 {\n",
       "  /* Definition of color scheme common for light and dark mode */\n",
       "  --sklearn-color-text: black;\n",
       "  --sklearn-color-line: gray;\n",
       "  /* Definition of color scheme for unfitted estimators */\n",
       "  --sklearn-color-unfitted-level-0: #fff5e6;\n",
       "  --sklearn-color-unfitted-level-1: #f6e4d2;\n",
       "  --sklearn-color-unfitted-level-2: #ffe0b3;\n",
       "  --sklearn-color-unfitted-level-3: chocolate;\n",
       "  /* Definition of color scheme for fitted estimators */\n",
       "  --sklearn-color-fitted-level-0: #f0f8ff;\n",
       "  --sklearn-color-fitted-level-1: #d4ebff;\n",
       "  --sklearn-color-fitted-level-2: #b3dbfd;\n",
       "  --sklearn-color-fitted-level-3: cornflowerblue;\n",
       "\n",
       "  /* Specific color for light theme */\n",
       "  --sklearn-color-text-on-default-background: var(--sg-text-color, var(--theme-code-foreground, var(--jp-content-font-color1, black)));\n",
       "  --sklearn-color-background: var(--sg-background-color, var(--theme-background, var(--jp-layout-color0, white)));\n",
       "  --sklearn-color-border-box: var(--sg-text-color, var(--theme-code-foreground, var(--jp-content-font-color1, black)));\n",
       "  --sklearn-color-icon: #696969;\n",
       "\n",
       "  @media (prefers-color-scheme: dark) {\n",
       "    /* Redefinition of color scheme for dark theme */\n",
       "    --sklearn-color-text-on-default-background: var(--sg-text-color, var(--theme-code-foreground, var(--jp-content-font-color1, white)));\n",
       "    --sklearn-color-background: var(--sg-background-color, var(--theme-background, var(--jp-layout-color0, #111)));\n",
       "    --sklearn-color-border-box: var(--sg-text-color, var(--theme-code-foreground, var(--jp-content-font-color1, white)));\n",
       "    --sklearn-color-icon: #878787;\n",
       "  }\n",
       "}\n",
       "\n",
       "#sk-container-id-2 {\n",
       "  color: var(--sklearn-color-text);\n",
       "}\n",
       "\n",
       "#sk-container-id-2 pre {\n",
       "  padding: 0;\n",
       "}\n",
       "\n",
       "#sk-container-id-2 input.sk-hidden--visually {\n",
       "  border: 0;\n",
       "  clip: rect(1px 1px 1px 1px);\n",
       "  clip: rect(1px, 1px, 1px, 1px);\n",
       "  height: 1px;\n",
       "  margin: -1px;\n",
       "  overflow: hidden;\n",
       "  padding: 0;\n",
       "  position: absolute;\n",
       "  width: 1px;\n",
       "}\n",
       "\n",
       "#sk-container-id-2 div.sk-dashed-wrapped {\n",
       "  border: 1px dashed var(--sklearn-color-line);\n",
       "  margin: 0 0.4em 0.5em 0.4em;\n",
       "  box-sizing: border-box;\n",
       "  padding-bottom: 0.4em;\n",
       "  background-color: var(--sklearn-color-background);\n",
       "}\n",
       "\n",
       "#sk-container-id-2 div.sk-container {\n",
       "  /* jupyter's `normalize.less` sets `[hidden] { display: none; }`\n",
       "     but bootstrap.min.css set `[hidden] { display: none !important; }`\n",
       "     so we also need the `!important` here to be able to override the\n",
       "     default hidden behavior on the sphinx rendered scikit-learn.org.\n",
       "     See: https://github.com/scikit-learn/scikit-learn/issues/21755 */\n",
       "  display: inline-block !important;\n",
       "  position: relative;\n",
       "}\n",
       "\n",
       "#sk-container-id-2 div.sk-text-repr-fallback {\n",
       "  display: none;\n",
       "}\n",
       "\n",
       "div.sk-parallel-item,\n",
       "div.sk-serial,\n",
       "div.sk-item {\n",
       "  /* draw centered vertical line to link estimators */\n",
       "  background-image: linear-gradient(var(--sklearn-color-text-on-default-background), var(--sklearn-color-text-on-default-background));\n",
       "  background-size: 2px 100%;\n",
       "  background-repeat: no-repeat;\n",
       "  background-position: center center;\n",
       "}\n",
       "\n",
       "/* Parallel-specific style estimator block */\n",
       "\n",
       "#sk-container-id-2 div.sk-parallel-item::after {\n",
       "  content: \"\";\n",
       "  width: 100%;\n",
       "  border-bottom: 2px solid var(--sklearn-color-text-on-default-background);\n",
       "  flex-grow: 1;\n",
       "}\n",
       "\n",
       "#sk-container-id-2 div.sk-parallel {\n",
       "  display: flex;\n",
       "  align-items: stretch;\n",
       "  justify-content: center;\n",
       "  background-color: var(--sklearn-color-background);\n",
       "  position: relative;\n",
       "}\n",
       "\n",
       "#sk-container-id-2 div.sk-parallel-item {\n",
       "  display: flex;\n",
       "  flex-direction: column;\n",
       "}\n",
       "\n",
       "#sk-container-id-2 div.sk-parallel-item:first-child::after {\n",
       "  align-self: flex-end;\n",
       "  width: 50%;\n",
       "}\n",
       "\n",
       "#sk-container-id-2 div.sk-parallel-item:last-child::after {\n",
       "  align-self: flex-start;\n",
       "  width: 50%;\n",
       "}\n",
       "\n",
       "#sk-container-id-2 div.sk-parallel-item:only-child::after {\n",
       "  width: 0;\n",
       "}\n",
       "\n",
       "/* Serial-specific style estimator block */\n",
       "\n",
       "#sk-container-id-2 div.sk-serial {\n",
       "  display: flex;\n",
       "  flex-direction: column;\n",
       "  align-items: center;\n",
       "  background-color: var(--sklearn-color-background);\n",
       "  padding-right: 1em;\n",
       "  padding-left: 1em;\n",
       "}\n",
       "\n",
       "\n",
       "/* Toggleable style: style used for estimator/Pipeline/ColumnTransformer box that is\n",
       "clickable and can be expanded/collapsed.\n",
       "- Pipeline and ColumnTransformer use this feature and define the default style\n",
       "- Estimators will overwrite some part of the style using the `sk-estimator` class\n",
       "*/\n",
       "\n",
       "/* Pipeline and ColumnTransformer style (default) */\n",
       "\n",
       "#sk-container-id-2 div.sk-toggleable {\n",
       "  /* Default theme specific background. It is overwritten whether we have a\n",
       "  specific estimator or a Pipeline/ColumnTransformer */\n",
       "  background-color: var(--sklearn-color-background);\n",
       "}\n",
       "\n",
       "/* Toggleable label */\n",
       "#sk-container-id-2 label.sk-toggleable__label {\n",
       "  cursor: pointer;\n",
       "  display: block;\n",
       "  width: 100%;\n",
       "  margin-bottom: 0;\n",
       "  padding: 0.5em;\n",
       "  box-sizing: border-box;\n",
       "  text-align: center;\n",
       "}\n",
       "\n",
       "#sk-container-id-2 label.sk-toggleable__label-arrow:before {\n",
       "  /* Arrow on the left of the label */\n",
       "  content: \"▸\";\n",
       "  float: left;\n",
       "  margin-right: 0.25em;\n",
       "  color: var(--sklearn-color-icon);\n",
       "}\n",
       "\n",
       "#sk-container-id-2 label.sk-toggleable__label-arrow:hover:before {\n",
       "  color: var(--sklearn-color-text);\n",
       "}\n",
       "\n",
       "/* Toggleable content - dropdown */\n",
       "\n",
       "#sk-container-id-2 div.sk-toggleable__content {\n",
       "  max-height: 0;\n",
       "  max-width: 0;\n",
       "  overflow: hidden;\n",
       "  text-align: left;\n",
       "  /* unfitted */\n",
       "  background-color: var(--sklearn-color-unfitted-level-0);\n",
       "}\n",
       "\n",
       "#sk-container-id-2 div.sk-toggleable__content.fitted {\n",
       "  /* fitted */\n",
       "  background-color: var(--sklearn-color-fitted-level-0);\n",
       "}\n",
       "\n",
       "#sk-container-id-2 div.sk-toggleable__content pre {\n",
       "  margin: 0.2em;\n",
       "  border-radius: 0.25em;\n",
       "  color: var(--sklearn-color-text);\n",
       "  /* unfitted */\n",
       "  background-color: var(--sklearn-color-unfitted-level-0);\n",
       "}\n",
       "\n",
       "#sk-container-id-2 div.sk-toggleable__content.fitted pre {\n",
       "  /* unfitted */\n",
       "  background-color: var(--sklearn-color-fitted-level-0);\n",
       "}\n",
       "\n",
       "#sk-container-id-2 input.sk-toggleable__control:checked~div.sk-toggleable__content {\n",
       "  /* Expand drop-down */\n",
       "  max-height: 200px;\n",
       "  max-width: 100%;\n",
       "  overflow: auto;\n",
       "}\n",
       "\n",
       "#sk-container-id-2 input.sk-toggleable__control:checked~label.sk-toggleable__label-arrow:before {\n",
       "  content: \"▾\";\n",
       "}\n",
       "\n",
       "/* Pipeline/ColumnTransformer-specific style */\n",
       "\n",
       "#sk-container-id-2 div.sk-label input.sk-toggleable__control:checked~label.sk-toggleable__label {\n",
       "  color: var(--sklearn-color-text);\n",
       "  background-color: var(--sklearn-color-unfitted-level-2);\n",
       "}\n",
       "\n",
       "#sk-container-id-2 div.sk-label.fitted input.sk-toggleable__control:checked~label.sk-toggleable__label {\n",
       "  background-color: var(--sklearn-color-fitted-level-2);\n",
       "}\n",
       "\n",
       "/* Estimator-specific style */\n",
       "\n",
       "/* Colorize estimator box */\n",
       "#sk-container-id-2 div.sk-estimator input.sk-toggleable__control:checked~label.sk-toggleable__label {\n",
       "  /* unfitted */\n",
       "  background-color: var(--sklearn-color-unfitted-level-2);\n",
       "}\n",
       "\n",
       "#sk-container-id-2 div.sk-estimator.fitted input.sk-toggleable__control:checked~label.sk-toggleable__label {\n",
       "  /* fitted */\n",
       "  background-color: var(--sklearn-color-fitted-level-2);\n",
       "}\n",
       "\n",
       "#sk-container-id-2 div.sk-label label.sk-toggleable__label,\n",
       "#sk-container-id-2 div.sk-label label {\n",
       "  /* The background is the default theme color */\n",
       "  color: var(--sklearn-color-text-on-default-background);\n",
       "}\n",
       "\n",
       "/* On hover, darken the color of the background */\n",
       "#sk-container-id-2 div.sk-label:hover label.sk-toggleable__label {\n",
       "  color: var(--sklearn-color-text);\n",
       "  background-color: var(--sklearn-color-unfitted-level-2);\n",
       "}\n",
       "\n",
       "/* Label box, darken color on hover, fitted */\n",
       "#sk-container-id-2 div.sk-label.fitted:hover label.sk-toggleable__label.fitted {\n",
       "  color: var(--sklearn-color-text);\n",
       "  background-color: var(--sklearn-color-fitted-level-2);\n",
       "}\n",
       "\n",
       "/* Estimator label */\n",
       "\n",
       "#sk-container-id-2 div.sk-label label {\n",
       "  font-family: monospace;\n",
       "  font-weight: bold;\n",
       "  display: inline-block;\n",
       "  line-height: 1.2em;\n",
       "}\n",
       "\n",
       "#sk-container-id-2 div.sk-label-container {\n",
       "  text-align: center;\n",
       "}\n",
       "\n",
       "/* Estimator-specific */\n",
       "#sk-container-id-2 div.sk-estimator {\n",
       "  font-family: monospace;\n",
       "  border: 1px dotted var(--sklearn-color-border-box);\n",
       "  border-radius: 0.25em;\n",
       "  box-sizing: border-box;\n",
       "  margin-bottom: 0.5em;\n",
       "  /* unfitted */\n",
       "  background-color: var(--sklearn-color-unfitted-level-0);\n",
       "}\n",
       "\n",
       "#sk-container-id-2 div.sk-estimator.fitted {\n",
       "  /* fitted */\n",
       "  background-color: var(--sklearn-color-fitted-level-0);\n",
       "}\n",
       "\n",
       "/* on hover */\n",
       "#sk-container-id-2 div.sk-estimator:hover {\n",
       "  /* unfitted */\n",
       "  background-color: var(--sklearn-color-unfitted-level-2);\n",
       "}\n",
       "\n",
       "#sk-container-id-2 div.sk-estimator.fitted:hover {\n",
       "  /* fitted */\n",
       "  background-color: var(--sklearn-color-fitted-level-2);\n",
       "}\n",
       "\n",
       "/* Specification for estimator info (e.g. \"i\" and \"?\") */\n",
       "\n",
       "/* Common style for \"i\" and \"?\" */\n",
       "\n",
       ".sk-estimator-doc-link,\n",
       "a:link.sk-estimator-doc-link,\n",
       "a:visited.sk-estimator-doc-link {\n",
       "  float: right;\n",
       "  font-size: smaller;\n",
       "  line-height: 1em;\n",
       "  font-family: monospace;\n",
       "  background-color: var(--sklearn-color-background);\n",
       "  border-radius: 1em;\n",
       "  height: 1em;\n",
       "  width: 1em;\n",
       "  text-decoration: none !important;\n",
       "  margin-left: 1ex;\n",
       "  /* unfitted */\n",
       "  border: var(--sklearn-color-unfitted-level-1) 1pt solid;\n",
       "  color: var(--sklearn-color-unfitted-level-1);\n",
       "}\n",
       "\n",
       ".sk-estimator-doc-link.fitted,\n",
       "a:link.sk-estimator-doc-link.fitted,\n",
       "a:visited.sk-estimator-doc-link.fitted {\n",
       "  /* fitted */\n",
       "  border: var(--sklearn-color-fitted-level-1) 1pt solid;\n",
       "  color: var(--sklearn-color-fitted-level-1);\n",
       "}\n",
       "\n",
       "/* On hover */\n",
       "div.sk-estimator:hover .sk-estimator-doc-link:hover,\n",
       ".sk-estimator-doc-link:hover,\n",
       "div.sk-label-container:hover .sk-estimator-doc-link:hover,\n",
       ".sk-estimator-doc-link:hover {\n",
       "  /* unfitted */\n",
       "  background-color: var(--sklearn-color-unfitted-level-3);\n",
       "  color: var(--sklearn-color-background);\n",
       "  text-decoration: none;\n",
       "}\n",
       "\n",
       "div.sk-estimator.fitted:hover .sk-estimator-doc-link.fitted:hover,\n",
       ".sk-estimator-doc-link.fitted:hover,\n",
       "div.sk-label-container:hover .sk-estimator-doc-link.fitted:hover,\n",
       ".sk-estimator-doc-link.fitted:hover {\n",
       "  /* fitted */\n",
       "  background-color: var(--sklearn-color-fitted-level-3);\n",
       "  color: var(--sklearn-color-background);\n",
       "  text-decoration: none;\n",
       "}\n",
       "\n",
       "/* Span, style for the box shown on hovering the info icon */\n",
       ".sk-estimator-doc-link span {\n",
       "  display: none;\n",
       "  z-index: 9999;\n",
       "  position: relative;\n",
       "  font-weight: normal;\n",
       "  right: .2ex;\n",
       "  padding: .5ex;\n",
       "  margin: .5ex;\n",
       "  width: min-content;\n",
       "  min-width: 20ex;\n",
       "  max-width: 50ex;\n",
       "  color: var(--sklearn-color-text);\n",
       "  box-shadow: 2pt 2pt 4pt #999;\n",
       "  /* unfitted */\n",
       "  background: var(--sklearn-color-unfitted-level-0);\n",
       "  border: .5pt solid var(--sklearn-color-unfitted-level-3);\n",
       "}\n",
       "\n",
       ".sk-estimator-doc-link.fitted span {\n",
       "  /* fitted */\n",
       "  background: var(--sklearn-color-fitted-level-0);\n",
       "  border: var(--sklearn-color-fitted-level-3);\n",
       "}\n",
       "\n",
       ".sk-estimator-doc-link:hover span {\n",
       "  display: block;\n",
       "}\n",
       "\n",
       "/* \"?\"-specific style due to the `<a>` HTML tag */\n",
       "\n",
       "#sk-container-id-2 a.estimator_doc_link {\n",
       "  float: right;\n",
       "  font-size: 1rem;\n",
       "  line-height: 1em;\n",
       "  font-family: monospace;\n",
       "  background-color: var(--sklearn-color-background);\n",
       "  border-radius: 1rem;\n",
       "  height: 1rem;\n",
       "  width: 1rem;\n",
       "  text-decoration: none;\n",
       "  /* unfitted */\n",
       "  color: var(--sklearn-color-unfitted-level-1);\n",
       "  border: var(--sklearn-color-unfitted-level-1) 1pt solid;\n",
       "}\n",
       "\n",
       "#sk-container-id-2 a.estimator_doc_link.fitted {\n",
       "  /* fitted */\n",
       "  border: var(--sklearn-color-fitted-level-1) 1pt solid;\n",
       "  color: var(--sklearn-color-fitted-level-1);\n",
       "}\n",
       "\n",
       "/* On hover */\n",
       "#sk-container-id-2 a.estimator_doc_link:hover {\n",
       "  /* unfitted */\n",
       "  background-color: var(--sklearn-color-unfitted-level-3);\n",
       "  color: var(--sklearn-color-background);\n",
       "  text-decoration: none;\n",
       "}\n",
       "\n",
       "#sk-container-id-2 a.estimator_doc_link.fitted:hover {\n",
       "  /* fitted */\n",
       "  background-color: var(--sklearn-color-fitted-level-3);\n",
       "}\n",
       "</style><div id=\"sk-container-id-2\" class=\"sk-top-container\"><div class=\"sk-text-repr-fallback\"><pre>RandomForestClassifier(criterion=&#x27;entropy&#x27;, max_features=7, min_samples_split=5,\n",
       "                       n_estimators=50, random_state=42)</pre><b>In a Jupyter environment, please rerun this cell to show the HTML representation or trust the notebook. <br />On GitHub, the HTML representation is unable to render, please try loading this page with nbviewer.org.</b></div><div class=\"sk-container\" hidden><div class=\"sk-item\"><div class=\"sk-estimator fitted sk-toggleable\"><input class=\"sk-toggleable__control sk-hidden--visually\" id=\"sk-estimator-id-2\" type=\"checkbox\" checked><label for=\"sk-estimator-id-2\" class=\"sk-toggleable__label fitted sk-toggleable__label-arrow fitted\">&nbsp;&nbsp;RandomForestClassifier<a class=\"sk-estimator-doc-link fitted\" rel=\"noreferrer\" target=\"_blank\" href=\"https://scikit-learn.org/1.5/modules/generated/sklearn.ensemble.RandomForestClassifier.html\">?<span>Documentation for RandomForestClassifier</span></a><span class=\"sk-estimator-doc-link fitted\">i<span>Fitted</span></span></label><div class=\"sk-toggleable__content fitted\"><pre>RandomForestClassifier(criterion=&#x27;entropy&#x27;, max_features=7, min_samples_split=5,\n",
       "                       n_estimators=50, random_state=42)</pre></div> </div></div></div></div>"
      ],
      "text/plain": [
       "RandomForestClassifier(criterion='entropy', max_features=7, min_samples_split=5,\n",
       "                       n_estimators=50, random_state=42)"
      ]
     },
     "execution_count": 61,
     "metadata": {},
     "output_type": "execute_result"
    }
   ],
   "source": [
    "opt2 = GridSearchRandomForest(\"building2\", n_fits=-1)\n",
    "opt2.fit(x_train2, y_train2, x_val2, y_val2)\n",
    "if save_folder:\n",
    "    print(opt2.save_results(save_folder))\n",
    "\n",
    "opt2.model[-1]"
   ]
  },
  {
   "cell_type": "code",
   "execution_count": 62,
   "metadata": {},
   "outputs": [
    {
     "data": {
      "text/plain": [
       "<Axes: xlabel='min_samples_split'>"
      ]
     },
     "metadata": {},
     "output_type": "display_data"
    },
    {
     "data": {
      "image/png": "[encoded data removed]",
      "text/plain": [
       "<Figure size 640x480 with 1 Axes>"
      ]
     },
     "metadata": {},
     "output_type": "display_data"
    }
   ],
   "source": [
    "df = opt2.results\n",
    "df = pd.DataFrame(df[scores], index=df[\"min_samples_split\"])\n",
    "plt = sns.lineplot(df)\n",
    "display(plt)"
   ]
  },
  {
   "cell_type": "code",
   "execution_count": 63,
   "metadata": {},
   "outputs": [
    {
     "name": "stdout",
     "output_type": "stream",
     "text": [
      "              precision    recall  f1-score   support\n",
      "\n",
      "         Off     0.9907    0.9977    0.9942      2135\n",
      "          On     0.9590    0.8540    0.9035       137\n",
      "\n",
      "    accuracy                         0.9890      2272\n",
      "   macro avg     0.9749    0.9258    0.9488      2272\n",
      "weighted avg     0.9888    0.9890    0.9887      2272\n",
      "\n"
     ]
    }
   ],
   "source": [
    "tuned_metrics[\"Building 2\"][model_name] = calculate_metrics(opt2.model, x_test2, y_test2)\n",
    "save_model(opt2.model, \"randomforest_building2_tuned\")"
   ]
  },
  {
   "cell_type": "code",
   "execution_count": 64,
   "metadata": {},
   "outputs": [
    {
     "name": "stderr",
     "output_type": "stream",
     "text": [
      "100%|██████████| 459/459 [3:56:08<00:00, 30.87s/it]  \n"
     ]
    },
    {
     "data": {
      "text/html": [
       "<style>#sk-container-id-3 {\n",
       "  /* Definition of color scheme common for light and dark mode */\n",
       "  --sklearn-color-text: black;\n",
       "  --sklearn-color-line: gray;\n",
       "  /* Definition of color scheme for unfitted estimators */\n",
       "  --sklearn-color-unfitted-level-0: #fff5e6;\n",
       "  --sklearn-color-unfitted-level-1: #f6e4d2;\n",
       "  --sklearn-color-unfitted-level-2: #ffe0b3;\n",
       "  --sklearn-color-unfitted-level-3: chocolate;\n",
       "  /* Definition of color scheme for fitted estimators */\n",
       "  --sklearn-color-fitted-level-0: #f0f8ff;\n",
       "  --sklearn-color-fitted-level-1: #d4ebff;\n",
       "  --sklearn-color-fitted-level-2: #b3dbfd;\n",
       "  --sklearn-color-fitted-level-3: cornflowerblue;\n",
       "\n",
       "  /* Specific color for light theme */\n",
       "  --sklearn-color-text-on-default-background: var(--sg-text-color, var(--theme-code-foreground, var(--jp-content-font-color1, black)));\n",
       "  --sklearn-color-background: var(--sg-background-color, var(--theme-background, var(--jp-layout-color0, white)));\n",
       "  --sklearn-color-border-box: var(--sg-text-color, var(--theme-code-foreground, var(--jp-content-font-color1, black)));\n",
       "  --sklearn-color-icon: #696969;\n",
       "\n",
       "  @media (prefers-color-scheme: dark) {\n",
       "    /* Redefinition of color scheme for dark theme */\n",
       "    --sklearn-color-text-on-default-background: var(--sg-text-color, var(--theme-code-foreground, var(--jp-content-font-color1, white)));\n",
       "    --sklearn-color-background: var(--sg-background-color, var(--theme-background, var(--jp-layout-color0, #111)));\n",
       "    --sklearn-color-border-box: var(--sg-text-color, var(--theme-code-foreground, var(--jp-content-font-color1, white)));\n",
       "    --sklearn-color-icon: #878787;\n",
       "  }\n",
       "}\n",
       "\n",
       "#sk-container-id-3 {\n",
       "  color: var(--sklearn-color-text);\n",
       "}\n",
       "\n",
       "#sk-container-id-3 pre {\n",
       "  padding: 0;\n",
       "}\n",
       "\n",
       "#sk-container-id-3 input.sk-hidden--visually {\n",
       "  border: 0;\n",
       "  clip: rect(1px 1px 1px 1px);\n",
       "  clip: rect(1px, 1px, 1px, 1px);\n",
       "  height: 1px;\n",
       "  margin: -1px;\n",
       "  overflow: hidden;\n",
       "  padding: 0;\n",
       "  position: absolute;\n",
       "  width: 1px;\n",
       "}\n",
       "\n",
       "#sk-container-id-3 div.sk-dashed-wrapped {\n",
       "  border: 1px dashed var(--sklearn-color-line);\n",
       "  margin: 0 0.4em 0.5em 0.4em;\n",
       "  box-sizing: border-box;\n",
       "  padding-bottom: 0.4em;\n",
       "  background-color: var(--sklearn-color-background);\n",
       "}\n",
       "\n",
       "#sk-container-id-3 div.sk-container {\n",
       "  /* jupyter's `normalize.less` sets `[hidden] { display: none; }`\n",
       "     but bootstrap.min.css set `[hidden] { display: none !important; }`\n",
       "     so we also need the `!important` here to be able to override the\n",
       "     default hidden behavior on the sphinx rendered scikit-learn.org.\n",
       "     See: https://github.com/scikit-learn/scikit-learn/issues/21755 */\n",
       "  display: inline-block !important;\n",
       "  position: relative;\n",
       "}\n",
       "\n",
       "#sk-container-id-3 div.sk-text-repr-fallback {\n",
       "  display: none;\n",
       "}\n",
       "\n",
       "div.sk-parallel-item,\n",
       "div.sk-serial,\n",
       "div.sk-item {\n",
       "  /* draw centered vertical line to link estimators */\n",
       "  background-image: linear-gradient(var(--sklearn-color-text-on-default-background), var(--sklearn-color-text-on-default-background));\n",
       "  background-size: 2px 100%;\n",
       "  background-repeat: no-repeat;\n",
       "  background-position: center center;\n",
       "}\n",
       "\n",
       "/* Parallel-specific style estimator block */\n",
       "\n",
       "#sk-container-id-3 div.sk-parallel-item::after {\n",
       "  content: \"\";\n",
       "  width: 100%;\n",
       "  border-bottom: 2px solid var(--sklearn-color-text-on-default-background);\n",
       "  flex-grow: 1;\n",
       "}\n",
       "\n",
       "#sk-container-id-3 div.sk-parallel {\n",
       "  display: flex;\n",
       "  align-items: stretch;\n",
       "  justify-content: center;\n",
       "  background-color: var(--sklearn-color-background);\n",
       "  position: relative;\n",
       "}\n",
       "\n",
       "#sk-container-id-3 div.sk-parallel-item {\n",
       "  display: flex;\n",
       "  flex-direction: column;\n",
       "}\n",
       "\n",
       "#sk-container-id-3 div.sk-parallel-item:first-child::after {\n",
       "  align-self: flex-end;\n",
       "  width: 50%;\n",
       "}\n",
       "\n",
       "#sk-container-id-3 div.sk-parallel-item:last-child::after {\n",
       "  align-self: flex-start;\n",
       "  width: 50%;\n",
       "}\n",
       "\n",
       "#sk-container-id-3 div.sk-parallel-item:only-child::after {\n",
       "  width: 0;\n",
       "}\n",
       "\n",
       "/* Serial-specific style estimator block */\n",
       "\n",
       "#sk-container-id-3 div.sk-serial {\n",
       "  display: flex;\n",
       "  flex-direction: column;\n",
       "  align-items: center;\n",
       "  background-color: var(--sklearn-color-background);\n",
       "  padding-right: 1em;\n",
       "  padding-left: 1em;\n",
       "}\n",
       "\n",
       "\n",
       "/* Toggleable style: style used for estimator/Pipeline/ColumnTransformer box that is\n",
       "clickable and can be expanded/collapsed.\n",
       "- Pipeline and ColumnTransformer use this feature and define the default style\n",
       "- Estimators will overwrite some part of the style using the `sk-estimator` class\n",
       "*/\n",
       "\n",
       "/* Pipeline and ColumnTransformer style (default) */\n",
       "\n",
       "#sk-container-id-3 div.sk-toggleable {\n",
       "  /* Default theme specific background. It is overwritten whether we have a\n",
       "  specific estimator or a Pipeline/ColumnTransformer */\n",
       "  background-color: var(--sklearn-color-background);\n",
       "}\n",
       "\n",
       "/* Toggleable label */\n",
       "#sk-container-id-3 label.sk-toggleable__label {\n",
       "  cursor: pointer;\n",
       "  display: block;\n",
       "  width: 100%;\n",
       "  margin-bottom: 0;\n",
       "  padding: 0.5em;\n",
       "  box-sizing: border-box;\n",
       "  text-align: center;\n",
       "}\n",
       "\n",
       "#sk-container-id-3 label.sk-toggleable__label-arrow:before {\n",
       "  /* Arrow on the left of the label */\n",
       "  content: \"▸\";\n",
       "  float: left;\n",
       "  margin-right: 0.25em;\n",
       "  color: var(--sklearn-color-icon);\n",
       "}\n",
       "\n",
       "#sk-container-id-3 label.sk-toggleable__label-arrow:hover:before {\n",
       "  color: var(--sklearn-color-text);\n",
       "}\n",
       "\n",
       "/* Toggleable content - dropdown */\n",
       "\n",
       "#sk-container-id-3 div.sk-toggleable__content {\n",
       "  max-height: 0;\n",
       "  max-width: 0;\n",
       "  overflow: hidden;\n",
       "  text-align: left;\n",
       "  /* unfitted */\n",
       "  background-color: var(--sklearn-color-unfitted-level-0);\n",
       "}\n",
       "\n",
       "#sk-container-id-3 div.sk-toggleable__content.fitted {\n",
       "  /* fitted */\n",
       "  background-color: var(--sklearn-color-fitted-level-0);\n",
       "}\n",
       "\n",
       "#sk-container-id-3 div.sk-toggleable__content pre {\n",
       "  margin: 0.2em;\n",
       "  border-radius: 0.25em;\n",
       "  color: var(--sklearn-color-text);\n",
       "  /* unfitted */\n",
       "  background-color: var(--sklearn-color-unfitted-level-0);\n",
       "}\n",
       "\n",
       "#sk-container-id-3 div.sk-toggleable__content.fitted pre {\n",
       "  /* unfitted */\n",
       "  background-color: var(--sklearn-color-fitted-level-0);\n",
       "}\n",
       "\n",
       "#sk-container-id-3 input.sk-toggleable__control:checked~div.sk-toggleable__content {\n",
       "  /* Expand drop-down */\n",
       "  max-height: 200px;\n",
       "  max-width: 100%;\n",
       "  overflow: auto;\n",
       "}\n",
       "\n",
       "#sk-container-id-3 input.sk-toggleable__control:checked~label.sk-toggleable__label-arrow:before {\n",
       "  content: \"▾\";\n",
       "}\n",
       "\n",
       "/* Pipeline/ColumnTransformer-specific style */\n",
       "\n",
       "#sk-container-id-3 div.sk-label input.sk-toggleable__control:checked~label.sk-toggleable__label {\n",
       "  color: var(--sklearn-color-text);\n",
       "  background-color: var(--sklearn-color-unfitted-level-2);\n",
       "}\n",
       "\n",
       "#sk-container-id-3 div.sk-label.fitted input.sk-toggleable__control:checked~label.sk-toggleable__label {\n",
       "  background-color: var(--sklearn-color-fitted-level-2);\n",
       "}\n",
       "\n",
       "/* Estimator-specific style */\n",
       "\n",
       "/* Colorize estimator box */\n",
       "#sk-container-id-3 div.sk-estimator input.sk-toggleable__control:checked~label.sk-toggleable__label {\n",
       "  /* unfitted */\n",
       "  background-color: var(--sklearn-color-unfitted-level-2);\n",
       "}\n",
       "\n",
       "#sk-container-id-3 div.sk-estimator.fitted input.sk-toggleable__control:checked~label.sk-toggleable__label {\n",
       "  /* fitted */\n",
       "  background-color: var(--sklearn-color-fitted-level-2);\n",
       "}\n",
       "\n",
       "#sk-container-id-3 div.sk-label label.sk-toggleable__label,\n",
       "#sk-container-id-3 div.sk-label label {\n",
       "  /* The background is the default theme color */\n",
       "  color: var(--sklearn-color-text-on-default-background);\n",
       "}\n",
       "\n",
       "/* On hover, darken the color of the background */\n",
       "#sk-container-id-3 div.sk-label:hover label.sk-toggleable__label {\n",
       "  color: var(--sklearn-color-text);\n",
       "  background-color: var(--sklearn-color-unfitted-level-2);\n",
       "}\n",
       "\n",
       "/* Label box, darken color on hover, fitted */\n",
       "#sk-container-id-3 div.sk-label.fitted:hover label.sk-toggleable__label.fitted {\n",
       "  color: var(--sklearn-color-text);\n",
       "  background-color: var(--sklearn-color-fitted-level-2);\n",
       "}\n",
       "\n",
       "/* Estimator label */\n",
       "\n",
       "#sk-container-id-3 div.sk-label label {\n",
       "  font-family: monospace;\n",
       "  font-weight: bold;\n",
       "  display: inline-block;\n",
       "  line-height: 1.2em;\n",
       "}\n",
       "\n",
       "#sk-container-id-3 div.sk-label-container {\n",
       "  text-align: center;\n",
       "}\n",
       "\n",
       "/* Estimator-specific */\n",
       "#sk-container-id-3 div.sk-estimator {\n",
       "  font-family: monospace;\n",
       "  border: 1px dotted var(--sklearn-color-border-box);\n",
       "  border-radius: 0.25em;\n",
       "  box-sizing: border-box;\n",
       "  margin-bottom: 0.5em;\n",
       "  /* unfitted */\n",
       "  background-color: var(--sklearn-color-unfitted-level-0);\n",
       "}\n",
       "\n",
       "#sk-container-id-3 div.sk-estimator.fitted {\n",
       "  /* fitted */\n",
       "  background-color: var(--sklearn-color-fitted-level-0);\n",
       "}\n",
       "\n",
       "/* on hover */\n",
       "#sk-container-id-3 div.sk-estimator:hover {\n",
       "  /* unfitted */\n",
       "  background-color: var(--sklearn-color-unfitted-level-2);\n",
       "}\n",
       "\n",
       "#sk-container-id-3 div.sk-estimator.fitted:hover {\n",
       "  /* fitted */\n",
       "  background-color: var(--sklearn-color-fitted-level-2);\n",
       "}\n",
       "\n",
       "/* Specification for estimator info (e.g. \"i\" and \"?\") */\n",
       "\n",
       "/* Common style for \"i\" and \"?\" */\n",
       "\n",
       ".sk-estimator-doc-link,\n",
       "a:link.sk-estimator-doc-link,\n",
       "a:visited.sk-estimator-doc-link {\n",
       "  float: right;\n",
       "  font-size: smaller;\n",
       "  line-height: 1em;\n",
       "  font-family: monospace;\n",
       "  background-color: var(--sklearn-color-background);\n",
       "  border-radius: 1em;\n",
       "  height: 1em;\n",
       "  width: 1em;\n",
       "  text-decoration: none !important;\n",
       "  margin-left: 1ex;\n",
       "  /* unfitted */\n",
       "  border: var(--sklearn-color-unfitted-level-1) 1pt solid;\n",
       "  color: var(--sklearn-color-unfitted-level-1);\n",
       "}\n",
       "\n",
       ".sk-estimator-doc-link.fitted,\n",
       "a:link.sk-estimator-doc-link.fitted,\n",
       "a:visited.sk-estimator-doc-link.fitted {\n",
       "  /* fitted */\n",
       "  border: var(--sklearn-color-fitted-level-1) 1pt solid;\n",
       "  color: var(--sklearn-color-fitted-level-1);\n",
       "}\n",
       "\n",
       "/* On hover */\n",
       "div.sk-estimator:hover .sk-estimator-doc-link:hover,\n",
       ".sk-estimator-doc-link:hover,\n",
       "div.sk-label-container:hover .sk-estimator-doc-link:hover,\n",
       ".sk-estimator-doc-link:hover {\n",
       "  /* unfitted */\n",
       "  background-color: var(--sklearn-color-unfitted-level-3);\n",
       "  color: var(--sklearn-color-background);\n",
       "  text-decoration: none;\n",
       "}\n",
       "\n",
       "div.sk-estimator.fitted:hover .sk-estimator-doc-link.fitted:hover,\n",
       ".sk-estimator-doc-link.fitted:hover,\n",
       "div.sk-label-container:hover .sk-estimator-doc-link.fitted:hover,\n",
       ".sk-estimator-doc-link.fitted:hover {\n",
       "  /* fitted */\n",
       "  background-color: var(--sklearn-color-fitted-level-3);\n",
       "  color: var(--sklearn-color-background);\n",
       "  text-decoration: none;\n",
       "}\n",
       "\n",
       "/* Span, style for the box shown on hovering the info icon */\n",
       ".sk-estimator-doc-link span {\n",
       "  display: none;\n",
       "  z-index: 9999;\n",
       "  position: relative;\n",
       "  font-weight: normal;\n",
       "  right: .2ex;\n",
       "  padding: .5ex;\n",
       "  margin: .5ex;\n",
       "  width: min-content;\n",
       "  min-width: 20ex;\n",
       "  max-width: 50ex;\n",
       "  color: var(--sklearn-color-text);\n",
       "  box-shadow: 2pt 2pt 4pt #999;\n",
       "  /* unfitted */\n",
       "  background: var(--sklearn-color-unfitted-level-0);\n",
       "  border: .5pt solid var(--sklearn-color-unfitted-level-3);\n",
       "}\n",
       "\n",
       ".sk-estimator-doc-link.fitted span {\n",
       "  /* fitted */\n",
       "  background: var(--sklearn-color-fitted-level-0);\n",
       "  border: var(--sklearn-color-fitted-level-3);\n",
       "}\n",
       "\n",
       ".sk-estimator-doc-link:hover span {\n",
       "  display: block;\n",
       "}\n",
       "\n",
       "/* \"?\"-specific style due to the `<a>` HTML tag */\n",
       "\n",
       "#sk-container-id-3 a.estimator_doc_link {\n",
       "  float: right;\n",
       "  font-size: 1rem;\n",
       "  line-height: 1em;\n",
       "  font-family: monospace;\n",
       "  background-color: var(--sklearn-color-background);\n",
       "  border-radius: 1rem;\n",
       "  height: 1rem;\n",
       "  width: 1rem;\n",
       "  text-decoration: none;\n",
       "  /* unfitted */\n",
       "  color: var(--sklearn-color-unfitted-level-1);\n",
       "  border: var(--sklearn-color-unfitted-level-1) 1pt solid;\n",
       "}\n",
       "\n",
       "#sk-container-id-3 a.estimator_doc_link.fitted {\n",
       "  /* fitted */\n",
       "  border: var(--sklearn-color-fitted-level-1) 1pt solid;\n",
       "  color: var(--sklearn-color-fitted-level-1);\n",
       "}\n",
       "\n",
       "/* On hover */\n",
       "#sk-container-id-3 a.estimator_doc_link:hover {\n",
       "  /* unfitted */\n",
       "  background-color: var(--sklearn-color-unfitted-level-3);\n",
       "  color: var(--sklearn-color-background);\n",
       "  text-decoration: none;\n",
       "}\n",
       "\n",
       "#sk-container-id-3 a.estimator_doc_link.fitted:hover {\n",
       "  /* fitted */\n",
       "  background-color: var(--sklearn-color-fitted-level-3);\n",
       "}\n",
       "</style><div id=\"sk-container-id-3\" class=\"sk-top-container\"><div class=\"sk-text-repr-fallback\"><pre>RandomForestClassifier(criterion=&#x27;entropy&#x27;, max_features=17,\n",
       "                       min_samples_split=3, n_estimators=150, random_state=42)</pre><b>In a Jupyter environment, please rerun this cell to show the HTML representation or trust the notebook. <br />On GitHub, the HTML representation is unable to render, please try loading this page with nbviewer.org.</b></div><div class=\"sk-container\" hidden><div class=\"sk-item\"><div class=\"sk-estimator fitted sk-toggleable\"><input class=\"sk-toggleable__control sk-hidden--visually\" id=\"sk-estimator-id-3\" type=\"checkbox\" checked><label for=\"sk-estimator-id-3\" class=\"sk-toggleable__label fitted sk-toggleable__label-arrow fitted\">&nbsp;&nbsp;RandomForestClassifier<a class=\"sk-estimator-doc-link fitted\" rel=\"noreferrer\" target=\"_blank\" href=\"https://scikit-learn.org/1.5/modules/generated/sklearn.ensemble.RandomForestClassifier.html\">?<span>Documentation for RandomForestClassifier</span></a><span class=\"sk-estimator-doc-link fitted\">i<span>Fitted</span></span></label><div class=\"sk-toggleable__content fitted\"><pre>RandomForestClassifier(criterion=&#x27;entropy&#x27;, max_features=17,\n",
       "                       min_samples_split=3, n_estimators=150, random_state=42)</pre></div> </div></div></div></div>"
      ],
      "text/plain": [
       "RandomForestClassifier(criterion='entropy', max_features=17,\n",
       "                       min_samples_split=3, n_estimators=150, random_state=42)"
      ]
     },
     "execution_count": 64,
     "metadata": {},
     "output_type": "execute_result"
    }
   ],
   "source": [
    "opt3 = GridSearchRandomForest(\"building3\", n_fits=-1)\n",
    "opt3.fit(x_train3, y_train3, x_val3, y_val3)\n",
    "if save_folder:\n",
    "    print(opt3.save_results(save_folder))\n",
    "\n",
    "opt3.model[-1]"
   ]
  },
  {
   "cell_type": "code",
   "execution_count": 65,
   "metadata": {},
   "outputs": [
    {
     "data": {
      "text/plain": [
       "<Axes: xlabel='min_samples_split'>"
      ]
     },
     "metadata": {},
     "output_type": "display_data"
    },
    {
     "data": {
      "image/png": "[encoded data removed]",
      "text/plain": [
       "<Figure size 640x480 with 1 Axes>"
      ]
     },
     "metadata": {},
     "output_type": "display_data"
    }
   ],
   "source": [
    "df = opt3.results\n",
    "df = pd.DataFrame(df[scores], index=df[\"min_samples_split\"])\n",
    "plt = sns.lineplot(df)\n",
    "display(plt)"
   ]
  },
  {
   "cell_type": "code",
   "execution_count": 66,
   "metadata": {},
   "outputs": [
    {
     "name": "stdout",
     "output_type": "stream",
     "text": [
      "              precision    recall  f1-score   support\n",
      "\n",
      "         Off     0.9995    0.9994    0.9995     45812\n",
      "          On     0.9702    0.9764    0.9733       934\n",
      "\n",
      "    accuracy                         0.9989     46746\n",
      "   macro avg     0.9849    0.9879    0.9864     46746\n",
      "weighted avg     0.9989    0.9989    0.9989     46746\n",
      "\n"
     ]
    }
   ],
   "source": [
    "tuned_metrics[\"Building 3\"][model_name] = calculate_metrics(opt3.model, x_test3, y_test3)\n",
    "save_model(opt3.model, \"randomforest_building3_tuned\")"
   ]
  },
  {
   "cell_type": "markdown",
   "metadata": {},
   "source": [
    "## Tuned Model Performance\n",
    "### Building 1"
   ]
  },
  {
   "cell_type": "code",
   "execution_count": 67,
   "metadata": {},
   "outputs": [
    {
     "data": {
      "text/html": [
       "<div>\n",
       "<style scoped>\n",
       "    .dataframe tbody tr th:only-of-type {\n",
       "        vertical-align: middle;\n",
       "    }\n",
       "\n",
       "    .dataframe tbody tr th {\n",
       "        vertical-align: top;\n",
       "    }\n",
       "\n",
       "    .dataframe thead th {\n",
       "        text-align: right;\n",
       "    }\n",
       "</style>\n",
       "<table border=\"1\" class=\"dataframe\">\n",
       "  <thead>\n",
       "    <tr style=\"text-align: right;\">\n",
       "      <th></th>\n",
       "      <th>Accuracy</th>\n",
       "      <th>f1</th>\n",
       "      <th>Matthews</th>\n",
       "      <th>TN</th>\n",
       "      <th>FP</th>\n",
       "      <th>FN</th>\n",
       "      <th>TP</th>\n",
       "    </tr>\n",
       "  </thead>\n",
       "  <tbody>\n",
       "    <tr>\n",
       "      <th>Random Forest</th>\n",
       "      <td>0.999838</td>\n",
       "      <td>0.999710</td>\n",
       "      <td>0.999598</td>\n",
       "      <td>26729.0</td>\n",
       "      <td>3.0</td>\n",
       "      <td>3.0</td>\n",
       "      <td>10340.0</td>\n",
       "    </tr>\n",
       "    <tr>\n",
       "      <th>Random Forest (default)</th>\n",
       "      <td>0.999784</td>\n",
       "      <td>0.999613</td>\n",
       "      <td>0.999464</td>\n",
       "      <td>26730.0</td>\n",
       "      <td>2.0</td>\n",
       "      <td>6.0</td>\n",
       "      <td>10337.0</td>\n",
       "    </tr>\n",
       "    <tr>\n",
       "      <th>Hist Gradient Boosting (default)</th>\n",
       "      <td>0.999595</td>\n",
       "      <td>0.999275</td>\n",
       "      <td>0.998994</td>\n",
       "      <td>26723.0</td>\n",
       "      <td>9.0</td>\n",
       "      <td>6.0</td>\n",
       "      <td>10337.0</td>\n",
       "    </tr>\n",
       "    <tr>\n",
       "      <th>Decision Tree (default)</th>\n",
       "      <td>0.999514</td>\n",
       "      <td>0.999130</td>\n",
       "      <td>0.998793</td>\n",
       "      <td>26723.0</td>\n",
       "      <td>9.0</td>\n",
       "      <td>9.0</td>\n",
       "      <td>10334.0</td>\n",
       "    </tr>\n",
       "    <tr>\n",
       "      <th>Decision Tree</th>\n",
       "      <td>0.999326</td>\n",
       "      <td>0.998791</td>\n",
       "      <td>0.998324</td>\n",
       "      <td>26721.0</td>\n",
       "      <td>11.0</td>\n",
       "      <td>14.0</td>\n",
       "      <td>10329.0</td>\n",
       "    </tr>\n",
       "    <tr>\n",
       "      <th>RBF SVM (default)</th>\n",
       "      <td>0.963048</td>\n",
       "      <td>0.933976</td>\n",
       "      <td>0.908329</td>\n",
       "      <td>26015.0</td>\n",
       "      <td>717.0</td>\n",
       "      <td>653.0</td>\n",
       "      <td>9690.0</td>\n",
       "    </tr>\n",
       "    <tr>\n",
       "      <th>Linear SVM (default)</th>\n",
       "      <td>0.819042</td>\n",
       "      <td>0.676534</td>\n",
       "      <td>0.550924</td>\n",
       "      <td>23350.0</td>\n",
       "      <td>3382.0</td>\n",
       "      <td>3327.0</td>\n",
       "      <td>7016.0</td>\n",
       "    </tr>\n",
       "    <tr>\n",
       "      <th>Linear Discriminant Analysis (default)</th>\n",
       "      <td>0.818827</td>\n",
       "      <td>0.658949</td>\n",
       "      <td>0.537285</td>\n",
       "      <td>23869.0</td>\n",
       "      <td>2863.0</td>\n",
       "      <td>3854.0</td>\n",
       "      <td>6489.0</td>\n",
       "    </tr>\n",
       "    <tr>\n",
       "      <th>Logistic Regression (default)</th>\n",
       "      <td>0.779501</td>\n",
       "      <td>0.559370</td>\n",
       "      <td>0.419832</td>\n",
       "      <td>23711.0</td>\n",
       "      <td>3021.0</td>\n",
       "      <td>5154.0</td>\n",
       "      <td>5189.0</td>\n",
       "    </tr>\n",
       "  </tbody>\n",
       "</table>\n",
       "</div>"
      ],
      "text/plain": [
       "                                        Accuracy        f1  Matthews       TN  \\\n",
       "Random Forest                           0.999838  0.999710  0.999598  26729.0   \n",
       "Random Forest (default)                 0.999784  0.999613  0.999464  26730.0   \n",
       "Hist Gradient Boosting (default)        0.999595  0.999275  0.998994  26723.0   \n",
       "Decision Tree (default)                 0.999514  0.999130  0.998793  26723.0   \n",
       "Decision Tree                           0.999326  0.998791  0.998324  26721.0   \n",
       "RBF SVM (default)                       0.963048  0.933976  0.908329  26015.0   \n",
       "Linear SVM (default)                    0.819042  0.676534  0.550924  23350.0   \n",
       "Linear Discriminant Analysis (default)  0.818827  0.658949  0.537285  23869.0   \n",
       "Logistic Regression (default)           0.779501  0.559370  0.419832  23711.0   \n",
       "\n",
       "                                            FP      FN       TP  \n",
       "Random Forest                              3.0     3.0  10340.0  \n",
       "Random Forest (default)                    2.0     6.0  10337.0  \n",
       "Hist Gradient Boosting (default)           9.0     6.0  10337.0  \n",
       "Decision Tree (default)                    9.0     9.0  10334.0  \n",
       "Decision Tree                             11.0    14.0  10329.0  \n",
       "RBF SVM (default)                        717.0   653.0   9690.0  \n",
       "Linear SVM (default)                    3382.0  3327.0   7016.0  \n",
       "Linear Discriminant Analysis (default)  2863.0  3854.0   6489.0  \n",
       "Logistic Regression (default)           3021.0  5154.0   5189.0  "
      ]
     },
     "execution_count": 67,
     "metadata": {},
     "output_type": "execute_result"
    }
   ],
   "source": [
    "pd.DataFrame(tuned_metrics[\"Building 1\"]).T.sort_values(\"f1\", ascending=False)"
   ]
  },
  {
   "cell_type": "markdown",
   "metadata": {},
   "source": [
    "### Building 2"
   ]
  },
  {
   "cell_type": "code",
   "execution_count": 68,
   "metadata": {},
   "outputs": [
    {
     "data": {
      "text/html": [
       "<div>\n",
       "<style scoped>\n",
       "    .dataframe tbody tr th:only-of-type {\n",
       "        vertical-align: middle;\n",
       "    }\n",
       "\n",
       "    .dataframe tbody tr th {\n",
       "        vertical-align: top;\n",
       "    }\n",
       "\n",
       "    .dataframe thead th {\n",
       "        text-align: right;\n",
       "    }\n",
       "</style>\n",
       "<table border=\"1\" class=\"dataframe\">\n",
       "  <thead>\n",
       "    <tr style=\"text-align: right;\">\n",
       "      <th></th>\n",
       "      <th>Accuracy</th>\n",
       "      <th>f1</th>\n",
       "      <th>Matthews</th>\n",
       "      <th>TN</th>\n",
       "      <th>FP</th>\n",
       "      <th>FN</th>\n",
       "      <th>TP</th>\n",
       "    </tr>\n",
       "  </thead>\n",
       "  <tbody>\n",
       "    <tr>\n",
       "      <th>Hist Gradient Boosting (default)</th>\n",
       "      <td>0.990757</td>\n",
       "      <td>0.918919</td>\n",
       "      <td>0.915764</td>\n",
       "      <td>2132.0</td>\n",
       "      <td>3.0</td>\n",
       "      <td>18.0</td>\n",
       "      <td>119.0</td>\n",
       "    </tr>\n",
       "    <tr>\n",
       "      <th>Random Forest</th>\n",
       "      <td>0.988996</td>\n",
       "      <td>0.903475</td>\n",
       "      <td>0.899358</td>\n",
       "      <td>2130.0</td>\n",
       "      <td>5.0</td>\n",
       "      <td>20.0</td>\n",
       "      <td>117.0</td>\n",
       "    </tr>\n",
       "    <tr>\n",
       "      <th>Random Forest (default)</th>\n",
       "      <td>0.984155</td>\n",
       "      <td>0.856000</td>\n",
       "      <td>0.852102</td>\n",
       "      <td>2129.0</td>\n",
       "      <td>6.0</td>\n",
       "      <td>30.0</td>\n",
       "      <td>107.0</td>\n",
       "    </tr>\n",
       "    <tr>\n",
       "      <th>Decision Tree</th>\n",
       "      <td>0.977113</td>\n",
       "      <td>0.788618</td>\n",
       "      <td>0.782362</td>\n",
       "      <td>2123.0</td>\n",
       "      <td>12.0</td>\n",
       "      <td>40.0</td>\n",
       "      <td>97.0</td>\n",
       "    </tr>\n",
       "    <tr>\n",
       "      <th>Decision Tree (default)</th>\n",
       "      <td>0.974032</td>\n",
       "      <td>0.777358</td>\n",
       "      <td>0.764084</td>\n",
       "      <td>2110.0</td>\n",
       "      <td>25.0</td>\n",
       "      <td>34.0</td>\n",
       "      <td>103.0</td>\n",
       "    </tr>\n",
       "    <tr>\n",
       "      <th>Linear Discriminant Analysis (default)</th>\n",
       "      <td>0.936620</td>\n",
       "      <td>0.265306</td>\n",
       "      <td>0.260916</td>\n",
       "      <td>2102.0</td>\n",
       "      <td>33.0</td>\n",
       "      <td>111.0</td>\n",
       "      <td>26.0</td>\n",
       "    </tr>\n",
       "    <tr>\n",
       "      <th>Logistic Regression (default)</th>\n",
       "      <td>0.941901</td>\n",
       "      <td>0.232558</td>\n",
       "      <td>0.268584</td>\n",
       "      <td>2120.0</td>\n",
       "      <td>15.0</td>\n",
       "      <td>117.0</td>\n",
       "      <td>20.0</td>\n",
       "    </tr>\n",
       "    <tr>\n",
       "      <th>RBF SVM (default)</th>\n",
       "      <td>0.945863</td>\n",
       "      <td>0.196078</td>\n",
       "      <td>0.310341</td>\n",
       "      <td>2134.0</td>\n",
       "      <td>1.0</td>\n",
       "      <td>122.0</td>\n",
       "      <td>15.0</td>\n",
       "    </tr>\n",
       "    <tr>\n",
       "      <th>Linear SVM (default)</th>\n",
       "      <td>0.939701</td>\n",
       "      <td>0.000000</td>\n",
       "      <td>0.000000</td>\n",
       "      <td>2135.0</td>\n",
       "      <td>0.0</td>\n",
       "      <td>137.0</td>\n",
       "      <td>0.0</td>\n",
       "    </tr>\n",
       "  </tbody>\n",
       "</table>\n",
       "</div>"
      ],
      "text/plain": [
       "                                        Accuracy        f1  Matthews      TN  \\\n",
       "Hist Gradient Boosting (default)        0.990757  0.918919  0.915764  2132.0   \n",
       "Random Forest                           0.988996  0.903475  0.899358  2130.0   \n",
       "Random Forest (default)                 0.984155  0.856000  0.852102  2129.0   \n",
       "Decision Tree                           0.977113  0.788618  0.782362  2123.0   \n",
       "Decision Tree (default)                 0.974032  0.777358  0.764084  2110.0   \n",
       "Linear Discriminant Analysis (default)  0.936620  0.265306  0.260916  2102.0   \n",
       "Logistic Regression (default)           0.941901  0.232558  0.268584  2120.0   \n",
       "RBF SVM (default)                       0.945863  0.196078  0.310341  2134.0   \n",
       "Linear SVM (default)                    0.939701  0.000000  0.000000  2135.0   \n",
       "\n",
       "                                          FP     FN     TP  \n",
       "Hist Gradient Boosting (default)         3.0   18.0  119.0  \n",
       "Random Forest                            5.0   20.0  117.0  \n",
       "Random Forest (default)                  6.0   30.0  107.0  \n",
       "Decision Tree                           12.0   40.0   97.0  \n",
       "Decision Tree (default)                 25.0   34.0  103.0  \n",
       "Linear Discriminant Analysis (default)  33.0  111.0   26.0  \n",
       "Logistic Regression (default)           15.0  117.0   20.0  \n",
       "RBF SVM (default)                        1.0  122.0   15.0  \n",
       "Linear SVM (default)                     0.0  137.0    0.0  "
      ]
     },
     "execution_count": 68,
     "metadata": {},
     "output_type": "execute_result"
    }
   ],
   "source": [
    "pd.DataFrame(tuned_metrics[\"Building 2\"]).T.sort_values(\"f1\", ascending=False)"
   ]
  },
  {
   "cell_type": "markdown",
   "metadata": {},
   "source": [
    "### Building 3"
   ]
  },
  {
   "cell_type": "code",
   "execution_count": 69,
   "metadata": {},
   "outputs": [
    {
     "data": {
      "text/html": [
       "<div>\n",
       "<style scoped>\n",
       "    .dataframe tbody tr th:only-of-type {\n",
       "        vertical-align: middle;\n",
       "    }\n",
       "\n",
       "    .dataframe tbody tr th {\n",
       "        vertical-align: top;\n",
       "    }\n",
       "\n",
       "    .dataframe thead th {\n",
       "        text-align: right;\n",
       "    }\n",
       "</style>\n",
       "<table border=\"1\" class=\"dataframe\">\n",
       "  <thead>\n",
       "    <tr style=\"text-align: right;\">\n",
       "      <th></th>\n",
       "      <th>Accuracy</th>\n",
       "      <th>f1</th>\n",
       "      <th>Matthews</th>\n",
       "      <th>TN</th>\n",
       "      <th>FP</th>\n",
       "      <th>FN</th>\n",
       "      <th>TP</th>\n",
       "    </tr>\n",
       "  </thead>\n",
       "  <tbody>\n",
       "    <tr>\n",
       "      <th>Random Forest</th>\n",
       "      <td>0.998930</td>\n",
       "      <td>0.973319</td>\n",
       "      <td>0.972779</td>\n",
       "      <td>45784.0</td>\n",
       "      <td>28.0</td>\n",
       "      <td>22.0</td>\n",
       "      <td>912.0</td>\n",
       "    </tr>\n",
       "    <tr>\n",
       "      <th>Hist Gradient Boosting (default)</th>\n",
       "      <td>0.998866</td>\n",
       "      <td>0.971612</td>\n",
       "      <td>0.971034</td>\n",
       "      <td>45786.0</td>\n",
       "      <td>26.0</td>\n",
       "      <td>27.0</td>\n",
       "      <td>907.0</td>\n",
       "    </tr>\n",
       "    <tr>\n",
       "      <th>Decision Tree</th>\n",
       "      <td>0.998610</td>\n",
       "      <td>0.965333</td>\n",
       "      <td>0.964631</td>\n",
       "      <td>45776.0</td>\n",
       "      <td>36.0</td>\n",
       "      <td>29.0</td>\n",
       "      <td>905.0</td>\n",
       "    </tr>\n",
       "    <tr>\n",
       "      <th>Random Forest (default)</th>\n",
       "      <td>0.998588</td>\n",
       "      <td>0.963816</td>\n",
       "      <td>0.963388</td>\n",
       "      <td>45801.0</td>\n",
       "      <td>11.0</td>\n",
       "      <td>55.0</td>\n",
       "      <td>879.0</td>\n",
       "    </tr>\n",
       "    <tr>\n",
       "      <th>Decision Tree (default)</th>\n",
       "      <td>0.998481</td>\n",
       "      <td>0.962093</td>\n",
       "      <td>0.961322</td>\n",
       "      <td>45774.0</td>\n",
       "      <td>38.0</td>\n",
       "      <td>33.0</td>\n",
       "      <td>901.0</td>\n",
       "    </tr>\n",
       "    <tr>\n",
       "      <th>RBF SVM (default)</th>\n",
       "      <td>0.991807</td>\n",
       "      <td>0.747195</td>\n",
       "      <td>0.764986</td>\n",
       "      <td>45797.0</td>\n",
       "      <td>15.0</td>\n",
       "      <td>368.0</td>\n",
       "      <td>566.0</td>\n",
       "    </tr>\n",
       "    <tr>\n",
       "      <th>Logistic Regression (default)</th>\n",
       "      <td>0.991229</td>\n",
       "      <td>0.720327</td>\n",
       "      <td>0.745659</td>\n",
       "      <td>45808.0</td>\n",
       "      <td>4.0</td>\n",
       "      <td>406.0</td>\n",
       "      <td>528.0</td>\n",
       "    </tr>\n",
       "    <tr>\n",
       "      <th>Linear Discriminant Analysis (default)</th>\n",
       "      <td>0.991251</td>\n",
       "      <td>0.719671</td>\n",
       "      <td>0.746408</td>\n",
       "      <td>45812.0</td>\n",
       "      <td>0.0</td>\n",
       "      <td>409.0</td>\n",
       "      <td>525.0</td>\n",
       "    </tr>\n",
       "    <tr>\n",
       "      <th>Linear SVM (default)</th>\n",
       "      <td>0.991251</td>\n",
       "      <td>0.719671</td>\n",
       "      <td>0.746408</td>\n",
       "      <td>45812.0</td>\n",
       "      <td>0.0</td>\n",
       "      <td>409.0</td>\n",
       "      <td>525.0</td>\n",
       "    </tr>\n",
       "  </tbody>\n",
       "</table>\n",
       "</div>"
      ],
      "text/plain": [
       "                                        Accuracy        f1  Matthews       TN  \\\n",
       "Random Forest                           0.998930  0.973319  0.972779  45784.0   \n",
       "Hist Gradient Boosting (default)        0.998866  0.971612  0.971034  45786.0   \n",
       "Decision Tree                           0.998610  0.965333  0.964631  45776.0   \n",
       "Random Forest (default)                 0.998588  0.963816  0.963388  45801.0   \n",
       "Decision Tree (default)                 0.998481  0.962093  0.961322  45774.0   \n",
       "RBF SVM (default)                       0.991807  0.747195  0.764986  45797.0   \n",
       "Logistic Regression (default)           0.991229  0.720327  0.745659  45808.0   \n",
       "Linear Discriminant Analysis (default)  0.991251  0.719671  0.746408  45812.0   \n",
       "Linear SVM (default)                    0.991251  0.719671  0.746408  45812.0   \n",
       "\n",
       "                                          FP     FN     TP  \n",
       "Random Forest                           28.0   22.0  912.0  \n",
       "Hist Gradient Boosting (default)        26.0   27.0  907.0  \n",
       "Decision Tree                           36.0   29.0  905.0  \n",
       "Random Forest (default)                 11.0   55.0  879.0  \n",
       "Decision Tree (default)                 38.0   33.0  901.0  \n",
       "RBF SVM (default)                       15.0  368.0  566.0  \n",
       "Logistic Regression (default)            4.0  406.0  528.0  \n",
       "Linear Discriminant Analysis (default)   0.0  409.0  525.0  \n",
       "Linear SVM (default)                     0.0  409.0  525.0  "
      ]
     },
     "execution_count": 69,
     "metadata": {},
     "output_type": "execute_result"
    }
   ],
   "source": [
    "pd.DataFrame(tuned_metrics[\"Building 3\"]).T.sort_values(\"f1\", ascending=False)"
   ]
  }
 ],
 "metadata": {
  "kernelspec": {
   "display_name": "venv",
   "language": "python",
   "name": "python3"
  },
  "language_info": {
   "codemirror_mode": {
    "name": "ipython",
    "version": 3
   },
   "file_extension": ".py",
   "mimetype": "text/x-python",
   "name": "python",
   "nbconvert_exporter": "python",
   "pygments_lexer": "ipython3",
   "version": "3.11.9"
  }
 },
 "nbformat": 4,
 "nbformat_minor": 2
}

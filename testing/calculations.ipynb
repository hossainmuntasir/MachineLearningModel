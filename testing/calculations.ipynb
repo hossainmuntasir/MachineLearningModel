{
 "cells": [
  {
   "cell_type": "code",
   "execution_count": 36,
   "metadata": {},
   "outputs": [],
   "source": [
    "import pandas as pd\n",
    "from viz_classes import BarChartCreator, PieChartCreator, LineChartCreator"
   ]
  },
  {
   "cell_type": "code",
   "execution_count": 2,
   "metadata": {},
   "outputs": [
    {
     "data": {
      "text/html": [
       "<div>\n",
       "<style scoped>\n",
       "    .dataframe tbody tr th:only-of-type {\n",
       "        vertical-align: middle;\n",
       "    }\n",
       "\n",
       "    .dataframe tbody tr th {\n",
       "        vertical-align: top;\n",
       "    }\n",
       "\n",
       "    .dataframe thead th {\n",
       "        text-align: right;\n",
       "    }\n",
       "</style>\n",
       "<table border=\"1\" class=\"dataframe\">\n",
       "  <thead>\n",
       "    <tr style=\"text-align: right;\">\n",
       "      <th></th>\n",
       "      <th>building_no</th>\n",
       "      <th>Zone_name</th>\n",
       "      <th>Datetime</th>\n",
       "      <th>Season</th>\n",
       "      <th>Faulty</th>\n",
       "      <th>Fan_status</th>\n",
       "      <th>Fan_time_diff</th>\n",
       "      <th>Predicted</th>\n",
       "    </tr>\n",
       "  </thead>\n",
       "  <tbody>\n",
       "    <tr>\n",
       "      <th>0</th>\n",
       "      <td>1</td>\n",
       "      <td>ActEast</td>\n",
       "      <td>2023-03-23</td>\n",
       "      <td>2</td>\n",
       "      <td>True</td>\n",
       "      <td>None</td>\n",
       "      <td>34200.0</td>\n",
       "      <td>31053.130335</td>\n",
       "    </tr>\n",
       "    <tr>\n",
       "      <th>1</th>\n",
       "      <td>1</td>\n",
       "      <td>ActEast</td>\n",
       "      <td>2023-03-24</td>\n",
       "      <td>2</td>\n",
       "      <td>True</td>\n",
       "      <td>None</td>\n",
       "      <td>86640.0</td>\n",
       "      <td>52959.389325</td>\n",
       "    </tr>\n",
       "    <tr>\n",
       "      <th>2</th>\n",
       "      <td>1</td>\n",
       "      <td>ActEast</td>\n",
       "      <td>2023-03-25</td>\n",
       "      <td>2</td>\n",
       "      <td>True</td>\n",
       "      <td>None</td>\n",
       "      <td>86400.0</td>\n",
       "      <td>72425.248406</td>\n",
       "    </tr>\n",
       "    <tr>\n",
       "      <th>3</th>\n",
       "      <td>1</td>\n",
       "      <td>ActEast</td>\n",
       "      <td>2023-03-26</td>\n",
       "      <td>2</td>\n",
       "      <td>True</td>\n",
       "      <td>None</td>\n",
       "      <td>86400.0</td>\n",
       "      <td>56703.078787</td>\n",
       "    </tr>\n",
       "    <tr>\n",
       "      <th>4</th>\n",
       "      <td>1</td>\n",
       "      <td>ActEast</td>\n",
       "      <td>2023-03-27</td>\n",
       "      <td>2</td>\n",
       "      <td>True</td>\n",
       "      <td>None</td>\n",
       "      <td>86400.0</td>\n",
       "      <td>42406.888444</td>\n",
       "    </tr>\n",
       "  </tbody>\n",
       "</table>\n",
       "</div>"
      ],
      "text/plain": [
       "   building_no Zone_name    Datetime  Season  Faulty Fan_status  \\\n",
       "0            1   ActEast  2023-03-23       2    True       None   \n",
       "1            1   ActEast  2023-03-24       2    True       None   \n",
       "2            1   ActEast  2023-03-25       2    True       None   \n",
       "3            1   ActEast  2023-03-26       2    True       None   \n",
       "4            1   ActEast  2023-03-27       2    True       None   \n",
       "\n",
       "   Fan_time_diff     Predicted  \n",
       "0        34200.0  31053.130335  \n",
       "1        86640.0  52959.389325  \n",
       "2        86400.0  72425.248406  \n",
       "3        86400.0  56703.078787  \n",
       "4        86400.0  42406.888444  "
      ]
     },
     "execution_count": 2,
     "metadata": {},
     "output_type": "execute_result"
    }
   ],
   "source": [
    "df = pd.read_parquet(\"summary_all.parquet\")\n",
    "df.head()"
   ]
  },
  {
   "cell_type": "code",
   "execution_count": null,
   "metadata": {},
   "outputs": [],
   "source": []
  },
  {
   "cell_type": "code",
   "execution_count": 6,
   "metadata": {},
   "outputs": [
    {
     "data": {
      "text/plain": [
       "0        ActEast\n",
       "1        ActEast\n",
       "2        ActEast\n",
       "3        ActEast\n",
       "4        ActEast\n",
       "          ...   \n",
       "15365      West3\n",
       "15366      West3\n",
       "15367      West3\n",
       "15368      West3\n",
       "15369      West3\n",
       "Name: Zone_name, Length: 15370, dtype: object"
      ]
     },
     "execution_count": 6,
     "metadata": {},
     "output_type": "execute_result"
    }
   ],
   "source": [
    "df[df['building_no'] == 1]['Zone_name']"
   ]
  },
  {
   "cell_type": "code",
   "execution_count": 11,
   "metadata": {},
   "outputs": [
    {
     "data": {
      "application/vnd.plotly.v1+json": {
       "config": {
        "plotlyServerURL": "https://plot.ly"
       },
       "data": [
        {
         "marker": {
          "color": "#EF553B",
          "cornerradius": 5,
          "line": {
           "color": "black",
           "width": 0.5
          },
          "opacity": 0.6
         },
         "name": "Acu101",
         "opacity": 0.6,
         "showlegend": false,
         "type": "bar",
         "x": [
          "Acu101"
         ],
         "y": [
          5856.6466666666665
         ]
        },
        {
         "marker": {
          "color": "#00CC96",
          "cornerradius": 5,
          "line": {
           "color": "black",
           "width": 0.5
          },
          "opacity": 0.6
         },
         "name": "Acu101",
         "opacity": 0.6,
         "showlegend": false,
         "type": "bar",
         "width": 0.65,
         "x": [
          "Acu101"
         ],
         "y": [
          4013.719971309773
         ]
        },
        {
         "marker": {
          "color": "#EF553B",
          "cornerradius": 5,
          "line": {
           "color": "black",
           "width": 0.5
          },
          "opacity": 0.6
         },
         "name": "Acu102",
         "opacity": 0.6,
         "showlegend": false,
         "type": "bar",
         "x": [
          "Acu102"
         ],
         "y": [
          5856.6466666666665
         ]
        },
        {
         "marker": {
          "color": "#00CC96",
          "cornerradius": 5,
          "line": {
           "color": "black",
           "width": 0.5
          },
          "opacity": 0.6
         },
         "name": "Acu102",
         "opacity": 0.6,
         "showlegend": false,
         "type": "bar",
         "width": 0.65,
         "x": [
          "Acu102"
         ],
         "y": [
          3993.6965305208855
         ]
        },
        {
         "marker": {
          "color": "#EF553B",
          "cornerradius": 5,
          "line": {
           "color": "black",
           "width": 0.5
          },
          "opacity": 0.6
         },
         "name": "Acu103",
         "opacity": 0.6,
         "showlegend": false,
         "type": "bar",
         "x": [
          "Acu103"
         ],
         "y": [
          5856.6466666666665
         ]
        },
        {
         "marker": {
          "color": "#00CC96",
          "cornerradius": 5,
          "line": {
           "color": "black",
           "width": 0.5
          },
          "opacity": 0.6
         },
         "name": "Acu103",
         "opacity": 0.6,
         "showlegend": false,
         "type": "bar",
         "width": 0.65,
         "x": [
          "Acu103"
         ],
         "y": [
          3997.2784468037903
         ]
        },
        {
         "marker": {
          "color": "#EF553B",
          "cornerradius": 5,
          "line": {
           "color": "black",
           "width": 0.5
          },
          "opacity": 0.6
         },
         "name": "Acu104",
         "opacity": 0.6,
         "showlegend": false,
         "type": "bar",
         "x": [
          "Acu104"
         ],
         "y": [
          5772.814722222222
         ]
        },
        {
         "marker": {
          "color": "#00CC96",
          "cornerradius": 5,
          "line": {
           "color": "black",
           "width": 0.5
          },
          "opacity": 0.6
         },
         "name": "Acu104",
         "opacity": 0.6,
         "showlegend": false,
         "type": "bar",
         "width": 0.65,
         "x": [
          "Acu104"
         ],
         "y": [
          3902.100328775281
         ]
        },
        {
         "marker": {
          "color": "#EF553B",
          "cornerradius": 5,
          "line": {
           "color": "black",
           "width": 0.5
          },
          "opacity": 0.6
         },
         "name": "Acu105",
         "opacity": 0.6,
         "showlegend": false,
         "type": "bar",
         "x": [
          "Acu105"
         ],
         "y": [
          5762.316666666667
         ]
        },
        {
         "marker": {
          "color": "#00CC96",
          "cornerradius": 5,
          "line": {
           "color": "black",
           "width": 0.5
          },
          "opacity": 0.6
         },
         "name": "Acu105",
         "opacity": 0.6,
         "showlegend": false,
         "type": "bar",
         "width": 0.65,
         "x": [
          "Acu105"
         ],
         "y": [
          3849.5367847546268
         ]
        },
        {
         "marker": {
          "color": "#EF553B",
          "cornerradius": 5,
          "line": {
           "color": "black",
           "width": 0.5
          },
          "opacity": 0.6
         },
         "name": "Acu106",
         "opacity": 0.6,
         "showlegend": false,
         "type": "bar",
         "x": [
          "Acu106"
         ],
         "y": [
          5761.815277777778
         ]
        },
        {
         "marker": {
          "color": "#00CC96",
          "cornerradius": 5,
          "line": {
           "color": "black",
           "width": 0.5
          },
          "opacity": 0.6
         },
         "name": "Acu106",
         "opacity": 0.6,
         "showlegend": false,
         "type": "bar",
         "width": 0.65,
         "x": [
          "Acu106"
         ],
         "y": [
          3812.0553451651035
         ]
        },
        {
         "marker": {
          "color": "#EF553B",
          "cornerradius": 5,
          "line": {
           "color": "black",
           "width": 0.5
          },
          "opacity": 0.6
         },
         "name": "Acu107",
         "opacity": 0.6,
         "showlegend": false,
         "type": "bar",
         "x": [
          "Acu107"
         ],
         "y": [
          7143.168888888889
         ]
        },
        {
         "marker": {
          "color": "#00CC96",
          "cornerradius": 5,
          "line": {
           "color": "black",
           "width": 0.5
          },
          "opacity": 0.6
         },
         "name": "Acu107",
         "opacity": 0.6,
         "showlegend": false,
         "type": "bar",
         "width": 0.65,
         "x": [
          "Acu107"
         ],
         "y": [
          4883.011505669382
         ]
        },
        {
         "marker": {
          "color": "#EF553B",
          "cornerradius": 5,
          "line": {
           "color": "black",
           "width": 0.5
          },
          "opacity": 0.6
         },
         "name": "Acu201",
         "opacity": 0.6,
         "showlegend": false,
         "type": "bar",
         "x": [
          "Acu201"
         ],
         "y": [
          6060.986111111111
         ]
        },
        {
         "marker": {
          "color": "#00CC96",
          "cornerradius": 5,
          "line": {
           "color": "black",
           "width": 0.5
          },
          "opacity": 0.6
         },
         "name": "Acu201",
         "opacity": 0.6,
         "showlegend": false,
         "type": "bar",
         "width": 0.65,
         "x": [
          "Acu201"
         ],
         "y": [
          4111.1317742613855
         ]
        },
        {
         "marker": {
          "color": "#EF553B",
          "cornerradius": 5,
          "line": {
           "color": "black",
           "width": 0.5
          },
          "opacity": 0.6
         },
         "name": "Acu202",
         "opacity": 0.6,
         "showlegend": false,
         "type": "bar",
         "x": [
          "Acu202"
         ],
         "y": [
          6001.486111111111
         ]
        },
        {
         "marker": {
          "color": "#00CC96",
          "cornerradius": 5,
          "line": {
           "color": "black",
           "width": 0.5
          },
          "opacity": 0.6
         },
         "name": "Acu202",
         "opacity": 0.6,
         "showlegend": false,
         "type": "bar",
         "width": 0.65,
         "x": [
          "Acu202"
         ],
         "y": [
          3983.3867624553177
         ]
        },
        {
         "marker": {
          "color": "#EF553B",
          "cornerradius": 5,
          "line": {
           "color": "black",
           "width": 0.5
          },
          "opacity": 0.6
         },
         "name": "Acu203",
         "opacity": 0.6,
         "showlegend": false,
         "type": "bar",
         "x": [
          "Acu203"
         ],
         "y": [
          6060.986111111111
         ]
        },
        {
         "marker": {
          "color": "#00CC96",
          "cornerradius": 5,
          "line": {
           "color": "black",
           "width": 0.5
          },
          "opacity": 0.6
         },
         "name": "Acu203",
         "opacity": 0.6,
         "showlegend": false,
         "type": "bar",
         "width": 0.65,
         "x": [
          "Acu203"
         ],
         "y": [
          4260.605866655675
         ]
        },
        {
         "marker": {
          "color": "#EF553B",
          "cornerradius": 5,
          "line": {
           "color": "black",
           "width": 0.5
          },
          "opacity": 0.6
         },
         "name": "Acu204",
         "opacity": 0.6,
         "showlegend": false,
         "type": "bar",
         "x": [
          "Acu204"
         ],
         "y": [
          6060.986111111111
         ]
        },
        {
         "marker": {
          "color": "#00CC96",
          "cornerradius": 5,
          "line": {
           "color": "black",
           "width": 0.5
          },
          "opacity": 0.6
         },
         "name": "Acu204",
         "opacity": 0.6,
         "showlegend": false,
         "type": "bar",
         "width": 0.65,
         "x": [
          "Acu204"
         ],
         "y": [
          3977.759764488564
         ]
        },
        {
         "marker": {
          "color": "#EF553B",
          "cornerradius": 5,
          "line": {
           "color": "black",
           "width": 0.5
          },
          "opacity": 0.6
         },
         "name": "Acu205",
         "opacity": 0.6,
         "showlegend": false,
         "type": "bar",
         "x": [
          "Acu205"
         ],
         "y": [
          6060.986111111111
         ]
        },
        {
         "marker": {
          "color": "#00CC96",
          "cornerradius": 5,
          "line": {
           "color": "black",
           "width": 0.5
          },
          "opacity": 0.6
         },
         "name": "Acu205",
         "opacity": 0.6,
         "showlegend": false,
         "type": "bar",
         "width": 0.65,
         "x": [
          "Acu205"
         ],
         "y": [
          4159.531108922843
         ]
        },
        {
         "marker": {
          "color": "#EF553B",
          "cornerradius": 5,
          "line": {
           "color": "black",
           "width": 0.5
          },
          "opacity": 0.6
         },
         "name": "Acu206",
         "opacity": 0.6,
         "showlegend": false,
         "type": "bar",
         "x": [
          "Acu206"
         ],
         "y": [
          6060.986111111111
         ]
        },
        {
         "marker": {
          "color": "#00CC96",
          "cornerradius": 5,
          "line": {
           "color": "black",
           "width": 0.5
          },
          "opacity": 0.6
         },
         "name": "Acu206",
         "opacity": 0.6,
         "showlegend": false,
         "type": "bar",
         "width": 0.65,
         "x": [
          "Acu206"
         ],
         "y": [
          3970.0361631064757
         ]
        },
        {
         "marker": {
          "color": "#EF553B",
          "cornerradius": 5,
          "line": {
           "color": "black",
           "width": 0.5
          },
          "opacity": 0.6
         },
         "name": "Acu207",
         "opacity": 0.6,
         "showlegend": false,
         "type": "bar",
         "x": [
          "Acu207"
         ],
         "y": [
          6060.986111111111
         ]
        },
        {
         "marker": {
          "color": "#00CC96",
          "cornerradius": 5,
          "line": {
           "color": "black",
           "width": 0.5
          },
          "opacity": 0.6
         },
         "name": "Acu207",
         "opacity": 0.6,
         "showlegend": false,
         "type": "bar",
         "width": 0.65,
         "x": [
          "Acu207"
         ],
         "y": [
          4120.104104880406
         ]
        },
        {
         "marker": {
          "color": "#EF553B",
          "cornerradius": 5,
          "line": {
           "color": "black",
           "width": 0.5
          },
          "opacity": 0.6
         },
         "name": "Acu301",
         "opacity": 0.6,
         "showlegend": false,
         "type": "bar",
         "x": [
          "Acu301"
         ],
         "y": [
          6013.984444444444
         ]
        },
        {
         "marker": {
          "color": "#00CC96",
          "cornerradius": 5,
          "line": {
           "color": "black",
           "width": 0.5
          },
          "opacity": 0.6
         },
         "name": "Acu301",
         "opacity": 0.6,
         "showlegend": false,
         "type": "bar",
         "width": 0.65,
         "x": [
          "Acu301"
         ],
         "y": [
          4113.983207481943
         ]
        },
        {
         "marker": {
          "color": "#EF553B",
          "cornerradius": 5,
          "line": {
           "color": "black",
           "width": 0.5
          },
          "opacity": 0.6
         },
         "name": "Acu302",
         "opacity": 0.6,
         "showlegend": false,
         "type": "bar",
         "x": [
          "Acu302"
         ],
         "y": [
          6013.984444444444
         ]
        },
        {
         "marker": {
          "color": "#00CC96",
          "cornerradius": 5,
          "line": {
           "color": "black",
           "width": 0.5
          },
          "opacity": 0.6
         },
         "name": "Acu302",
         "opacity": 0.6,
         "showlegend": false,
         "type": "bar",
         "width": 0.65,
         "x": [
          "Acu302"
         ],
         "y": [
          4018.4109841571667
         ]
        },
        {
         "marker": {
          "color": "#EF553B",
          "cornerradius": 5,
          "line": {
           "color": "black",
           "width": 0.5
          },
          "opacity": 0.6
         },
         "name": "Acu303",
         "opacity": 0.6,
         "showlegend": false,
         "type": "bar",
         "x": [
          "Acu303"
         ],
         "y": [
          6013.984444444444
         ]
        },
        {
         "marker": {
          "color": "#00CC96",
          "cornerradius": 5,
          "line": {
           "color": "black",
           "width": 0.5
          },
          "opacity": 0.6
         },
         "name": "Acu303",
         "opacity": 0.6,
         "showlegend": false,
         "type": "bar",
         "width": 0.65,
         "x": [
          "Acu303"
         ],
         "y": [
          4016.6778004453267
         ]
        },
        {
         "marker": {
          "color": "#EF553B",
          "cornerradius": 5,
          "line": {
           "color": "black",
           "width": 0.5
          },
          "opacity": 0.6
         },
         "name": "Acu304",
         "opacity": 0.6,
         "showlegend": false,
         "type": "bar",
         "x": [
          "Acu304"
         ],
         "y": [
          6013.984444444444
         ]
        },
        {
         "marker": {
          "color": "#00CC96",
          "cornerradius": 5,
          "line": {
           "color": "black",
           "width": 0.5
          },
          "opacity": 0.6
         },
         "name": "Acu304",
         "opacity": 0.6,
         "showlegend": false,
         "type": "bar",
         "width": 0.65,
         "x": [
          "Acu304"
         ],
         "y": [
          4012.9676177539086
         ]
        },
        {
         "marker": {
          "color": "#EF553B",
          "cornerradius": 5,
          "line": {
           "color": "black",
           "width": 0.5
          },
          "opacity": 0.6
         },
         "name": "Acu305",
         "opacity": 0.6,
         "showlegend": false,
         "type": "bar",
         "x": [
          "Acu305"
         ],
         "y": [
          6013.984444444444
         ]
        },
        {
         "marker": {
          "color": "#00CC96",
          "cornerradius": 5,
          "line": {
           "color": "black",
           "width": 0.5
          },
          "opacity": 0.6
         },
         "name": "Acu305",
         "opacity": 0.6,
         "showlegend": false,
         "type": "bar",
         "width": 0.65,
         "x": [
          "Acu305"
         ],
         "y": [
          4032.4245800345175
         ]
        },
        {
         "marker": {
          "color": "#EF553B",
          "cornerradius": 5,
          "line": {
           "color": "black",
           "width": 0.5
          },
          "opacity": 0.6
         },
         "name": "Acu306",
         "opacity": 0.6,
         "showlegend": false,
         "type": "bar",
         "x": [
          "Acu306"
         ],
         "y": [
          6013.984444444444
         ]
        },
        {
         "marker": {
          "color": "#00CC96",
          "cornerradius": 5,
          "line": {
           "color": "black",
           "width": 0.5
          },
          "opacity": 0.6
         },
         "name": "Acu306",
         "opacity": 0.6,
         "showlegend": false,
         "type": "bar",
         "width": 0.65,
         "x": [
          "Acu306"
         ],
         "y": [
          4065.7183589320393
         ]
        },
        {
         "marker": {
          "color": "#EF553B",
          "cornerradius": 5,
          "line": {
           "color": "black",
           "width": 0.5
          },
          "opacity": 0.6
         },
         "name": "Acu307",
         "opacity": 0.6,
         "showlegend": false,
         "type": "bar",
         "x": [
          "Acu307"
         ],
         "y": [
          6013.984444444444
         ]
        },
        {
         "marker": {
          "color": "#00CC96",
          "cornerradius": 5,
          "line": {
           "color": "black",
           "width": 0.5
          },
          "opacity": 0.6
         },
         "name": "Acu307",
         "opacity": 0.6,
         "showlegend": false,
         "type": "bar",
         "width": 0.65,
         "x": [
          "Acu307"
         ],
         "y": [
          4070.5411188111516
         ]
        },
        {
         "marker": {
          "color": "#EF553B",
          "cornerradius": 5,
          "line": {
           "color": "black",
           "width": 0.5
          },
          "opacity": 0.6
         },
         "name": "Acu308",
         "opacity": 0.6,
         "showlegend": false,
         "type": "bar",
         "x": [
          "Acu308"
         ],
         "y": [
          6013.984444444444
         ]
        },
        {
         "marker": {
          "color": "#00CC96",
          "cornerradius": 5,
          "line": {
           "color": "black",
           "width": 0.5
          },
          "opacity": 0.6
         },
         "name": "Acu308",
         "opacity": 0.6,
         "showlegend": false,
         "type": "bar",
         "width": 0.65,
         "x": [
          "Acu308"
         ],
         "y": [
          4079.4598377507286
         ]
        },
        {
         "marker": {
          "color": "#EF553B"
         },
         "name": "Actual",
         "type": "bar",
         "x": [
          null
         ],
         "y": [
          null
         ]
        },
        {
         "marker": {
          "color": "#00CC96"
         },
         "name": "Predicted",
         "type": "bar",
         "x": [
          null
         ],
         "y": [
          null
         ]
        }
       ],
       "layout": {
        "barmode": "overlay",
        "legend": {
         "orientation": "h",
         "x": 1,
         "xanchor": "right",
         "y": 1,
         "yanchor": "bottom"
        },
        "margin": {
         "b": 50,
         "l": 50,
         "r": 50,
         "t": 50
        },
        "template": {
         "data": {
          "bar": [
           {
            "error_x": {
             "color": "#2a3f5f"
            },
            "error_y": {
             "color": "#2a3f5f"
            },
            "marker": {
             "line": {
              "color": "#E5ECF6",
              "width": 0.5
             },
             "pattern": {
              "fillmode": "overlay",
              "size": 10,
              "solidity": 0.2
             }
            },
            "type": "bar"
           }
          ],
          "barpolar": [
           {
            "marker": {
             "line": {
              "color": "#E5ECF6",
              "width": 0.5
             },
             "pattern": {
              "fillmode": "overlay",
              "size": 10,
              "solidity": 0.2
             }
            },
            "type": "barpolar"
           }
          ],
          "carpet": [
           {
            "aaxis": {
             "endlinecolor": "#2a3f5f",
             "gridcolor": "white",
             "linecolor": "white",
             "minorgridcolor": "white",
             "startlinecolor": "#2a3f5f"
            },
            "baxis": {
             "endlinecolor": "#2a3f5f",
             "gridcolor": "white",
             "linecolor": "white",
             "minorgridcolor": "white",
             "startlinecolor": "#2a3f5f"
            },
            "type": "carpet"
           }
          ],
          "choropleth": [
           {
            "colorbar": {
             "outlinewidth": 0,
             "ticks": ""
            },
            "type": "choropleth"
           }
          ],
          "contour": [
           {
            "colorbar": {
             "outlinewidth": 0,
             "ticks": ""
            },
            "colorscale": [
             [
              0,
              "#0d0887"
             ],
             [
              0.1111111111111111,
              "#46039f"
             ],
             [
              0.2222222222222222,
              "#7201a8"
             ],
             [
              0.3333333333333333,
              "#9c179e"
             ],
             [
              0.4444444444444444,
              "#bd3786"
             ],
             [
              0.5555555555555556,
              "#d8576b"
             ],
             [
              0.6666666666666666,
              "#ed7953"
             ],
             [
              0.7777777777777778,
              "#fb9f3a"
             ],
             [
              0.8888888888888888,
              "#fdca26"
             ],
             [
              1,
              "#f0f921"
             ]
            ],
            "type": "contour"
           }
          ],
          "contourcarpet": [
           {
            "colorbar": {
             "outlinewidth": 0,
             "ticks": ""
            },
            "type": "contourcarpet"
           }
          ],
          "heatmap": [
           {
            "colorbar": {
             "outlinewidth": 0,
             "ticks": ""
            },
            "colorscale": [
             [
              0,
              "#0d0887"
             ],
             [
              0.1111111111111111,
              "#46039f"
             ],
             [
              0.2222222222222222,
              "#7201a8"
             ],
             [
              0.3333333333333333,
              "#9c179e"
             ],
             [
              0.4444444444444444,
              "#bd3786"
             ],
             [
              0.5555555555555556,
              "#d8576b"
             ],
             [
              0.6666666666666666,
              "#ed7953"
             ],
             [
              0.7777777777777778,
              "#fb9f3a"
             ],
             [
              0.8888888888888888,
              "#fdca26"
             ],
             [
              1,
              "#f0f921"
             ]
            ],
            "type": "heatmap"
           }
          ],
          "heatmapgl": [
           {
            "colorbar": {
             "outlinewidth": 0,
             "ticks": ""
            },
            "colorscale": [
             [
              0,
              "#0d0887"
             ],
             [
              0.1111111111111111,
              "#46039f"
             ],
             [
              0.2222222222222222,
              "#7201a8"
             ],
             [
              0.3333333333333333,
              "#9c179e"
             ],
             [
              0.4444444444444444,
              "#bd3786"
             ],
             [
              0.5555555555555556,
              "#d8576b"
             ],
             [
              0.6666666666666666,
              "#ed7953"
             ],
             [
              0.7777777777777778,
              "#fb9f3a"
             ],
             [
              0.8888888888888888,
              "#fdca26"
             ],
             [
              1,
              "#f0f921"
             ]
            ],
            "type": "heatmapgl"
           }
          ],
          "histogram": [
           {
            "marker": {
             "pattern": {
              "fillmode": "overlay",
              "size": 10,
              "solidity": 0.2
             }
            },
            "type": "histogram"
           }
          ],
          "histogram2d": [
           {
            "colorbar": {
             "outlinewidth": 0,
             "ticks": ""
            },
            "colorscale": [
             [
              0,
              "#0d0887"
             ],
             [
              0.1111111111111111,
              "#46039f"
             ],
             [
              0.2222222222222222,
              "#7201a8"
             ],
             [
              0.3333333333333333,
              "#9c179e"
             ],
             [
              0.4444444444444444,
              "#bd3786"
             ],
             [
              0.5555555555555556,
              "#d8576b"
             ],
             [
              0.6666666666666666,
              "#ed7953"
             ],
             [
              0.7777777777777778,
              "#fb9f3a"
             ],
             [
              0.8888888888888888,
              "#fdca26"
             ],
             [
              1,
              "#f0f921"
             ]
            ],
            "type": "histogram2d"
           }
          ],
          "histogram2dcontour": [
           {
            "colorbar": {
             "outlinewidth": 0,
             "ticks": ""
            },
            "colorscale": [
             [
              0,
              "#0d0887"
             ],
             [
              0.1111111111111111,
              "#46039f"
             ],
             [
              0.2222222222222222,
              "#7201a8"
             ],
             [
              0.3333333333333333,
              "#9c179e"
             ],
             [
              0.4444444444444444,
              "#bd3786"
             ],
             [
              0.5555555555555556,
              "#d8576b"
             ],
             [
              0.6666666666666666,
              "#ed7953"
             ],
             [
              0.7777777777777778,
              "#fb9f3a"
             ],
             [
              0.8888888888888888,
              "#fdca26"
             ],
             [
              1,
              "#f0f921"
             ]
            ],
            "type": "histogram2dcontour"
           }
          ],
          "mesh3d": [
           {
            "colorbar": {
             "outlinewidth": 0,
             "ticks": ""
            },
            "type": "mesh3d"
           }
          ],
          "parcoords": [
           {
            "line": {
             "colorbar": {
              "outlinewidth": 0,
              "ticks": ""
             }
            },
            "type": "parcoords"
           }
          ],
          "pie": [
           {
            "automargin": true,
            "type": "pie"
           }
          ],
          "scatter": [
           {
            "fillpattern": {
             "fillmode": "overlay",
             "size": 10,
             "solidity": 0.2
            },
            "type": "scatter"
           }
          ],
          "scatter3d": [
           {
            "line": {
             "colorbar": {
              "outlinewidth": 0,
              "ticks": ""
             }
            },
            "marker": {
             "colorbar": {
              "outlinewidth": 0,
              "ticks": ""
             }
            },
            "type": "scatter3d"
           }
          ],
          "scattercarpet": [
           {
            "marker": {
             "colorbar": {
              "outlinewidth": 0,
              "ticks": ""
             }
            },
            "type": "scattercarpet"
           }
          ],
          "scattergeo": [
           {
            "marker": {
             "colorbar": {
              "outlinewidth": 0,
              "ticks": ""
             }
            },
            "type": "scattergeo"
           }
          ],
          "scattergl": [
           {
            "marker": {
             "colorbar": {
              "outlinewidth": 0,
              "ticks": ""
             }
            },
            "type": "scattergl"
           }
          ],
          "scattermapbox": [
           {
            "marker": {
             "colorbar": {
              "outlinewidth": 0,
              "ticks": ""
             }
            },
            "type": "scattermapbox"
           }
          ],
          "scatterpolar": [
           {
            "marker": {
             "colorbar": {
              "outlinewidth": 0,
              "ticks": ""
             }
            },
            "type": "scatterpolar"
           }
          ],
          "scatterpolargl": [
           {
            "marker": {
             "colorbar": {
              "outlinewidth": 0,
              "ticks": ""
             }
            },
            "type": "scatterpolargl"
           }
          ],
          "scatterternary": [
           {
            "marker": {
             "colorbar": {
              "outlinewidth": 0,
              "ticks": ""
             }
            },
            "type": "scatterternary"
           }
          ],
          "surface": [
           {
            "colorbar": {
             "outlinewidth": 0,
             "ticks": ""
            },
            "colorscale": [
             [
              0,
              "#0d0887"
             ],
             [
              0.1111111111111111,
              "#46039f"
             ],
             [
              0.2222222222222222,
              "#7201a8"
             ],
             [
              0.3333333333333333,
              "#9c179e"
             ],
             [
              0.4444444444444444,
              "#bd3786"
             ],
             [
              0.5555555555555556,
              "#d8576b"
             ],
             [
              0.6666666666666666,
              "#ed7953"
             ],
             [
              0.7777777777777778,
              "#fb9f3a"
             ],
             [
              0.8888888888888888,
              "#fdca26"
             ],
             [
              1,
              "#f0f921"
             ]
            ],
            "type": "surface"
           }
          ],
          "table": [
           {
            "cells": {
             "fill": {
              "color": "#EBF0F8"
             },
             "line": {
              "color": "white"
             }
            },
            "header": {
             "fill": {
              "color": "#C8D4E3"
             },
             "line": {
              "color": "white"
             }
            },
            "type": "table"
           }
          ]
         },
         "layout": {
          "annotationdefaults": {
           "arrowcolor": "#2a3f5f",
           "arrowhead": 0,
           "arrowwidth": 1
          },
          "autotypenumbers": "strict",
          "coloraxis": {
           "colorbar": {
            "outlinewidth": 0,
            "ticks": ""
           }
          },
          "colorscale": {
           "diverging": [
            [
             0,
             "#8e0152"
            ],
            [
             0.1,
             "#c51b7d"
            ],
            [
             0.2,
             "#de77ae"
            ],
            [
             0.3,
             "#f1b6da"
            ],
            [
             0.4,
             "#fde0ef"
            ],
            [
             0.5,
             "#f7f7f7"
            ],
            [
             0.6,
             "#e6f5d0"
            ],
            [
             0.7,
             "#b8e186"
            ],
            [
             0.8,
             "#7fbc41"
            ],
            [
             0.9,
             "#4d9221"
            ],
            [
             1,
             "#276419"
            ]
           ],
           "sequential": [
            [
             0,
             "#0d0887"
            ],
            [
             0.1111111111111111,
             "#46039f"
            ],
            [
             0.2222222222222222,
             "#7201a8"
            ],
            [
             0.3333333333333333,
             "#9c179e"
            ],
            [
             0.4444444444444444,
             "#bd3786"
            ],
            [
             0.5555555555555556,
             "#d8576b"
            ],
            [
             0.6666666666666666,
             "#ed7953"
            ],
            [
             0.7777777777777778,
             "#fb9f3a"
            ],
            [
             0.8888888888888888,
             "#fdca26"
            ],
            [
             1,
             "#f0f921"
            ]
           ],
           "sequentialminus": [
            [
             0,
             "#0d0887"
            ],
            [
             0.1111111111111111,
             "#46039f"
            ],
            [
             0.2222222222222222,
             "#7201a8"
            ],
            [
             0.3333333333333333,
             "#9c179e"
            ],
            [
             0.4444444444444444,
             "#bd3786"
            ],
            [
             0.5555555555555556,
             "#d8576b"
            ],
            [
             0.6666666666666666,
             "#ed7953"
            ],
            [
             0.7777777777777778,
             "#fb9f3a"
            ],
            [
             0.8888888888888888,
             "#fdca26"
            ],
            [
             1,
             "#f0f921"
            ]
           ]
          },
          "colorway": [
           "#636efa",
           "#EF553B",
           "#00cc96",
           "#ab63fa",
           "#FFA15A",
           "#19d3f3",
           "#FF6692",
           "#B6E880",
           "#FF97FF",
           "#FECB52"
          ],
          "font": {
           "color": "#2a3f5f"
          },
          "geo": {
           "bgcolor": "white",
           "lakecolor": "white",
           "landcolor": "#E5ECF6",
           "showlakes": true,
           "showland": true,
           "subunitcolor": "white"
          },
          "hoverlabel": {
           "align": "left"
          },
          "hovermode": "closest",
          "mapbox": {
           "style": "light"
          },
          "paper_bgcolor": "white",
          "plot_bgcolor": "#E5ECF6",
          "polar": {
           "angularaxis": {
            "gridcolor": "white",
            "linecolor": "white",
            "ticks": ""
           },
           "bgcolor": "#E5ECF6",
           "radialaxis": {
            "gridcolor": "white",
            "linecolor": "white",
            "ticks": ""
           }
          },
          "scene": {
           "xaxis": {
            "backgroundcolor": "#E5ECF6",
            "gridcolor": "white",
            "gridwidth": 2,
            "linecolor": "white",
            "showbackground": true,
            "ticks": "",
            "zerolinecolor": "white"
           },
           "yaxis": {
            "backgroundcolor": "#E5ECF6",
            "gridcolor": "white",
            "gridwidth": 2,
            "linecolor": "white",
            "showbackground": true,
            "ticks": "",
            "zerolinecolor": "white"
           },
           "zaxis": {
            "backgroundcolor": "#E5ECF6",
            "gridcolor": "white",
            "gridwidth": 2,
            "linecolor": "white",
            "showbackground": true,
            "ticks": "",
            "zerolinecolor": "white"
           }
          },
          "shapedefaults": {
           "line": {
            "color": "#2a3f5f"
           }
          },
          "ternary": {
           "aaxis": {
            "gridcolor": "white",
            "linecolor": "white",
            "ticks": ""
           },
           "baxis": {
            "gridcolor": "white",
            "linecolor": "white",
            "ticks": ""
           },
           "bgcolor": "#E5ECF6",
           "caxis": {
            "gridcolor": "white",
            "linecolor": "white",
            "ticks": ""
           }
          },
          "title": {
           "x": 0.05
          },
          "xaxis": {
           "automargin": true,
           "gridcolor": "white",
           "linecolor": "white",
           "ticks": "",
           "title": {
            "standoff": 15
           },
           "zerolinecolor": "white",
           "zerolinewidth": 2
          },
          "yaxis": {
           "automargin": true,
           "gridcolor": "white",
           "linecolor": "white",
           "ticks": "",
           "title": {
            "standoff": 15
           },
           "zerolinecolor": "white",
           "zerolinewidth": 2
          }
         }
        },
        "xaxis": {
         "title": {
          "text": "<b>Building 1 Zones</b>"
         }
        },
        "yaxis": {
         "title": {
          "text": "<b>Total Time Fan On (hours)</b>"
         }
        }
       }
      }
     },
     "metadata": {},
     "output_type": "display_data"
    }
   ],
   "source": [
    "fig = BarChartCreator(df,1)\n",
    "fig.fig"
   ]
  },
  {
   "cell_type": "code",
   "execution_count": 14,
   "metadata": {},
   "outputs": [
    {
     "data": {
      "text/plain": [
       "46"
      ]
     },
     "execution_count": 14,
     "metadata": {},
     "output_type": "execute_result"
    }
   ],
   "source": [
    "len(fig.fig.data)"
   ]
  },
  {
   "cell_type": "code",
   "execution_count": 15,
   "metadata": {},
   "outputs": [
    {
     "name": "stdout",
     "output_type": "stream",
     "text": [
      "(Bar({\n",
      "    'marker': {'color': '#EF553B', 'cornerradius': 5, 'line': {'color': 'black', 'width': 0.5}, 'opacity': 0.6},\n",
      "    'name': 'Acu101',\n",
      "    'opacity': 0.6,\n",
      "    'showlegend': False,\n",
      "    'x': [Acu101],\n",
      "    'y': [5856.6466666666665]\n",
      "}), Bar({\n",
      "    'marker': {'color': '#00CC96', 'cornerradius': 5, 'line': {'color': 'black', 'width': 0.5}, 'opacity': 0.6},\n",
      "    'name': 'Acu101',\n",
      "    'opacity': 0.6,\n",
      "    'showlegend': False,\n",
      "    'width': 0.65,\n",
      "    'x': [Acu101],\n",
      "    'y': [4013.719971309773]\n",
      "}), Bar({\n",
      "    'marker': {'color': '#EF553B', 'cornerradius': 5, 'line': {'color': 'black', 'width': 0.5}, 'opacity': 0.6},\n",
      "    'name': 'Acu102',\n",
      "    'opacity': 0.6,\n",
      "    'showlegend': False,\n",
      "    'x': [Acu102],\n",
      "    'y': [5856.6466666666665]\n",
      "}), Bar({\n",
      "    'marker': {'color': '#00CC96', 'cornerradius': 5, 'line': {'color': 'black', 'width': 0.5}, 'opacity': 0.6},\n",
      "    'name': 'Acu102',\n",
      "    'opacity': 0.6,\n",
      "    'showlegend': False,\n",
      "    'width': 0.65,\n",
      "    'x': [Acu102],\n",
      "    'y': [3993.6965305208855]\n",
      "}), Bar({\n",
      "    'marker': {'color': '#EF553B', 'cornerradius': 5, 'line': {'color': 'black', 'width': 0.5}, 'opacity': 0.6},\n",
      "    'name': 'Acu103',\n",
      "    'opacity': 0.6,\n",
      "    'showlegend': False,\n",
      "    'x': [Acu103],\n",
      "    'y': [5856.6466666666665]\n",
      "}), Bar({\n",
      "    'marker': {'color': '#00CC96', 'cornerradius': 5, 'line': {'color': 'black', 'width': 0.5}, 'opacity': 0.6},\n",
      "    'name': 'Acu103',\n",
      "    'opacity': 0.6,\n",
      "    'showlegend': False,\n",
      "    'width': 0.65,\n",
      "    'x': [Acu103],\n",
      "    'y': [3997.2784468037903]\n",
      "}), Bar({\n",
      "    'marker': {'color': '#EF553B', 'cornerradius': 5, 'line': {'color': 'black', 'width': 0.5}, 'opacity': 0.6},\n",
      "    'name': 'Acu104',\n",
      "    'opacity': 0.6,\n",
      "    'showlegend': False,\n",
      "    'x': [Acu104],\n",
      "    'y': [5772.814722222222]\n",
      "}), Bar({\n",
      "    'marker': {'color': '#00CC96', 'cornerradius': 5, 'line': {'color': 'black', 'width': 0.5}, 'opacity': 0.6},\n",
      "    'name': 'Acu104',\n",
      "    'opacity': 0.6,\n",
      "    'showlegend': False,\n",
      "    'width': 0.65,\n",
      "    'x': [Acu104],\n",
      "    'y': [3902.100328775281]\n",
      "}), Bar({\n",
      "    'marker': {'color': '#EF553B', 'cornerradius': 5, 'line': {'color': 'black', 'width': 0.5}, 'opacity': 0.6},\n",
      "    'name': 'Acu105',\n",
      "    'opacity': 0.6,\n",
      "    'showlegend': False,\n",
      "    'x': [Acu105],\n",
      "    'y': [5762.316666666667]\n",
      "}), Bar({\n",
      "    'marker': {'color': '#00CC96', 'cornerradius': 5, 'line': {'color': 'black', 'width': 0.5}, 'opacity': 0.6},\n",
      "    'name': 'Acu105',\n",
      "    'opacity': 0.6,\n",
      "    'showlegend': False,\n",
      "    'width': 0.65,\n",
      "    'x': [Acu105],\n",
      "    'y': [3849.5367847546268]\n",
      "}), Bar({\n",
      "    'marker': {'color': '#EF553B', 'cornerradius': 5, 'line': {'color': 'black', 'width': 0.5}, 'opacity': 0.6},\n",
      "    'name': 'Acu106',\n",
      "    'opacity': 0.6,\n",
      "    'showlegend': False,\n",
      "    'x': [Acu106],\n",
      "    'y': [5761.815277777778]\n",
      "}), Bar({\n",
      "    'marker': {'color': '#00CC96', 'cornerradius': 5, 'line': {'color': 'black', 'width': 0.5}, 'opacity': 0.6},\n",
      "    'name': 'Acu106',\n",
      "    'opacity': 0.6,\n",
      "    'showlegend': False,\n",
      "    'width': 0.65,\n",
      "    'x': [Acu106],\n",
      "    'y': [3812.0553451651035]\n",
      "}), Bar({\n",
      "    'marker': {'color': '#EF553B', 'cornerradius': 5, 'line': {'color': 'black', 'width': 0.5}, 'opacity': 0.6},\n",
      "    'name': 'Acu107',\n",
      "    'opacity': 0.6,\n",
      "    'showlegend': False,\n",
      "    'x': [Acu107],\n",
      "    'y': [7143.168888888889]\n",
      "}), Bar({\n",
      "    'marker': {'color': '#00CC96', 'cornerradius': 5, 'line': {'color': 'black', 'width': 0.5}, 'opacity': 0.6},\n",
      "    'name': 'Acu107',\n",
      "    'opacity': 0.6,\n",
      "    'showlegend': False,\n",
      "    'width': 0.65,\n",
      "    'x': [Acu107],\n",
      "    'y': [4883.011505669382]\n",
      "}), Bar({\n",
      "    'marker': {'color': '#EF553B', 'cornerradius': 5, 'line': {'color': 'black', 'width': 0.5}, 'opacity': 0.6},\n",
      "    'name': 'Acu201',\n",
      "    'opacity': 0.6,\n",
      "    'showlegend': False,\n",
      "    'x': [Acu201],\n",
      "    'y': [6060.986111111111]\n",
      "}), Bar({\n",
      "    'marker': {'color': '#00CC96', 'cornerradius': 5, 'line': {'color': 'black', 'width': 0.5}, 'opacity': 0.6},\n",
      "    'name': 'Acu201',\n",
      "    'opacity': 0.6,\n",
      "    'showlegend': False,\n",
      "    'width': 0.65,\n",
      "    'x': [Acu201],\n",
      "    'y': [4111.1317742613855]\n",
      "}), Bar({\n",
      "    'marker': {'color': '#EF553B', 'cornerradius': 5, 'line': {'color': 'black', 'width': 0.5}, 'opacity': 0.6},\n",
      "    'name': 'Acu202',\n",
      "    'opacity': 0.6,\n",
      "    'showlegend': False,\n",
      "    'x': [Acu202],\n",
      "    'y': [6001.486111111111]\n",
      "}), Bar({\n",
      "    'marker': {'color': '#00CC96', 'cornerradius': 5, 'line': {'color': 'black', 'width': 0.5}, 'opacity': 0.6},\n",
      "    'name': 'Acu202',\n",
      "    'opacity': 0.6,\n",
      "    'showlegend': False,\n",
      "    'width': 0.65,\n",
      "    'x': [Acu202],\n",
      "    'y': [3983.3867624553177]\n",
      "}), Bar({\n",
      "    'marker': {'color': '#EF553B', 'cornerradius': 5, 'line': {'color': 'black', 'width': 0.5}, 'opacity': 0.6},\n",
      "    'name': 'Acu203',\n",
      "    'opacity': 0.6,\n",
      "    'showlegend': False,\n",
      "    'x': [Acu203],\n",
      "    'y': [6060.986111111111]\n",
      "}), Bar({\n",
      "    'marker': {'color': '#00CC96', 'cornerradius': 5, 'line': {'color': 'black', 'width': 0.5}, 'opacity': 0.6},\n",
      "    'name': 'Acu203',\n",
      "    'opacity': 0.6,\n",
      "    'showlegend': False,\n",
      "    'width': 0.65,\n",
      "    'x': [Acu203],\n",
      "    'y': [4260.605866655675]\n",
      "}), Bar({\n",
      "    'marker': {'color': '#EF553B', 'cornerradius': 5, 'line': {'color': 'black', 'width': 0.5}, 'opacity': 0.6},\n",
      "    'name': 'Acu204',\n",
      "    'opacity': 0.6,\n",
      "    'showlegend': False,\n",
      "    'x': [Acu204],\n",
      "    'y': [6060.986111111111]\n",
      "}), Bar({\n",
      "    'marker': {'color': '#00CC96', 'cornerradius': 5, 'line': {'color': 'black', 'width': 0.5}, 'opacity': 0.6},\n",
      "    'name': 'Acu204',\n",
      "    'opacity': 0.6,\n",
      "    'showlegend': False,\n",
      "    'width': 0.65,\n",
      "    'x': [Acu204],\n",
      "    'y': [3977.759764488564]\n",
      "}), Bar({\n",
      "    'marker': {'color': '#EF553B', 'cornerradius': 5, 'line': {'color': 'black', 'width': 0.5}, 'opacity': 0.6},\n",
      "    'name': 'Acu205',\n",
      "    'opacity': 0.6,\n",
      "    'showlegend': False,\n",
      "    'x': [Acu205],\n",
      "    'y': [6060.986111111111]\n",
      "}), Bar({\n",
      "    'marker': {'color': '#00CC96', 'cornerradius': 5, 'line': {'color': 'black', 'width': 0.5}, 'opacity': 0.6},\n",
      "    'name': 'Acu205',\n",
      "    'opacity': 0.6,\n",
      "    'showlegend': False,\n",
      "    'width': 0.65,\n",
      "    'x': [Acu205],\n",
      "    'y': [4159.531108922843]\n",
      "}), Bar({\n",
      "    'marker': {'color': '#EF553B', 'cornerradius': 5, 'line': {'color': 'black', 'width': 0.5}, 'opacity': 0.6},\n",
      "    'name': 'Acu206',\n",
      "    'opacity': 0.6,\n",
      "    'showlegend': False,\n",
      "    'x': [Acu206],\n",
      "    'y': [6060.986111111111]\n",
      "}), Bar({\n",
      "    'marker': {'color': '#00CC96', 'cornerradius': 5, 'line': {'color': 'black', 'width': 0.5}, 'opacity': 0.6},\n",
      "    'name': 'Acu206',\n",
      "    'opacity': 0.6,\n",
      "    'showlegend': False,\n",
      "    'width': 0.65,\n",
      "    'x': [Acu206],\n",
      "    'y': [3970.0361631064757]\n",
      "}), Bar({\n",
      "    'marker': {'color': '#EF553B', 'cornerradius': 5, 'line': {'color': 'black', 'width': 0.5}, 'opacity': 0.6},\n",
      "    'name': 'Acu207',\n",
      "    'opacity': 0.6,\n",
      "    'showlegend': False,\n",
      "    'x': [Acu207],\n",
      "    'y': [6060.986111111111]\n",
      "}), Bar({\n",
      "    'marker': {'color': '#00CC96', 'cornerradius': 5, 'line': {'color': 'black', 'width': 0.5}, 'opacity': 0.6},\n",
      "    'name': 'Acu207',\n",
      "    'opacity': 0.6,\n",
      "    'showlegend': False,\n",
      "    'width': 0.65,\n",
      "    'x': [Acu207],\n",
      "    'y': [4120.104104880406]\n",
      "}), Bar({\n",
      "    'marker': {'color': '#EF553B', 'cornerradius': 5, 'line': {'color': 'black', 'width': 0.5}, 'opacity': 0.6},\n",
      "    'name': 'Acu301',\n",
      "    'opacity': 0.6,\n",
      "    'showlegend': False,\n",
      "    'x': [Acu301],\n",
      "    'y': [6013.984444444444]\n",
      "}), Bar({\n",
      "    'marker': {'color': '#00CC96', 'cornerradius': 5, 'line': {'color': 'black', 'width': 0.5}, 'opacity': 0.6},\n",
      "    'name': 'Acu301',\n",
      "    'opacity': 0.6,\n",
      "    'showlegend': False,\n",
      "    'width': 0.65,\n",
      "    'x': [Acu301],\n",
      "    'y': [4113.983207481943]\n",
      "}), Bar({\n",
      "    'marker': {'color': '#EF553B', 'cornerradius': 5, 'line': {'color': 'black', 'width': 0.5}, 'opacity': 0.6},\n",
      "    'name': 'Acu302',\n",
      "    'opacity': 0.6,\n",
      "    'showlegend': False,\n",
      "    'x': [Acu302],\n",
      "    'y': [6013.984444444444]\n",
      "}), Bar({\n",
      "    'marker': {'color': '#00CC96', 'cornerradius': 5, 'line': {'color': 'black', 'width': 0.5}, 'opacity': 0.6},\n",
      "    'name': 'Acu302',\n",
      "    'opacity': 0.6,\n",
      "    'showlegend': False,\n",
      "    'width': 0.65,\n",
      "    'x': [Acu302],\n",
      "    'y': [4018.4109841571667]\n",
      "}), Bar({\n",
      "    'marker': {'color': '#EF553B', 'cornerradius': 5, 'line': {'color': 'black', 'width': 0.5}, 'opacity': 0.6},\n",
      "    'name': 'Acu303',\n",
      "    'opacity': 0.6,\n",
      "    'showlegend': False,\n",
      "    'x': [Acu303],\n",
      "    'y': [6013.984444444444]\n",
      "}), Bar({\n",
      "    'marker': {'color': '#00CC96', 'cornerradius': 5, 'line': {'color': 'black', 'width': 0.5}, 'opacity': 0.6},\n",
      "    'name': 'Acu303',\n",
      "    'opacity': 0.6,\n",
      "    'showlegend': False,\n",
      "    'width': 0.65,\n",
      "    'x': [Acu303],\n",
      "    'y': [4016.6778004453267]\n",
      "}), Bar({\n",
      "    'marker': {'color': '#EF553B', 'cornerradius': 5, 'line': {'color': 'black', 'width': 0.5}, 'opacity': 0.6},\n",
      "    'name': 'Acu304',\n",
      "    'opacity': 0.6,\n",
      "    'showlegend': False,\n",
      "    'x': [Acu304],\n",
      "    'y': [6013.984444444444]\n",
      "}), Bar({\n",
      "    'marker': {'color': '#00CC96', 'cornerradius': 5, 'line': {'color': 'black', 'width': 0.5}, 'opacity': 0.6},\n",
      "    'name': 'Acu304',\n",
      "    'opacity': 0.6,\n",
      "    'showlegend': False,\n",
      "    'width': 0.65,\n",
      "    'x': [Acu304],\n",
      "    'y': [4012.9676177539086]\n",
      "}), Bar({\n",
      "    'marker': {'color': '#EF553B', 'cornerradius': 5, 'line': {'color': 'black', 'width': 0.5}, 'opacity': 0.6},\n",
      "    'name': 'Acu305',\n",
      "    'opacity': 0.6,\n",
      "    'showlegend': False,\n",
      "    'x': [Acu305],\n",
      "    'y': [6013.984444444444]\n",
      "}), Bar({\n",
      "    'marker': {'color': '#00CC96', 'cornerradius': 5, 'line': {'color': 'black', 'width': 0.5}, 'opacity': 0.6},\n",
      "    'name': 'Acu305',\n",
      "    'opacity': 0.6,\n",
      "    'showlegend': False,\n",
      "    'width': 0.65,\n",
      "    'x': [Acu305],\n",
      "    'y': [4032.4245800345175]\n",
      "}), Bar({\n",
      "    'marker': {'color': '#EF553B', 'cornerradius': 5, 'line': {'color': 'black', 'width': 0.5}, 'opacity': 0.6},\n",
      "    'name': 'Acu306',\n",
      "    'opacity': 0.6,\n",
      "    'showlegend': False,\n",
      "    'x': [Acu306],\n",
      "    'y': [6013.984444444444]\n",
      "}), Bar({\n",
      "    'marker': {'color': '#00CC96', 'cornerradius': 5, 'line': {'color': 'black', 'width': 0.5}, 'opacity': 0.6},\n",
      "    'name': 'Acu306',\n",
      "    'opacity': 0.6,\n",
      "    'showlegend': False,\n",
      "    'width': 0.65,\n",
      "    'x': [Acu306],\n",
      "    'y': [4065.7183589320393]\n",
      "}), Bar({\n",
      "    'marker': {'color': '#EF553B', 'cornerradius': 5, 'line': {'color': 'black', 'width': 0.5}, 'opacity': 0.6},\n",
      "    'name': 'Acu307',\n",
      "    'opacity': 0.6,\n",
      "    'showlegend': False,\n",
      "    'x': [Acu307],\n",
      "    'y': [6013.984444444444]\n",
      "}), Bar({\n",
      "    'marker': {'color': '#00CC96', 'cornerradius': 5, 'line': {'color': 'black', 'width': 0.5}, 'opacity': 0.6},\n",
      "    'name': 'Acu307',\n",
      "    'opacity': 0.6,\n",
      "    'showlegend': False,\n",
      "    'width': 0.65,\n",
      "    'x': [Acu307],\n",
      "    'y': [4070.5411188111516]\n",
      "}), Bar({\n",
      "    'marker': {'color': '#EF553B', 'cornerradius': 5, 'line': {'color': 'black', 'width': 0.5}, 'opacity': 0.6},\n",
      "    'name': 'Acu308',\n",
      "    'opacity': 0.6,\n",
      "    'showlegend': False,\n",
      "    'x': [Acu308],\n",
      "    'y': [6013.984444444444]\n",
      "}), Bar({\n",
      "    'marker': {'color': '#00CC96', 'cornerradius': 5, 'line': {'color': 'black', 'width': 0.5}, 'opacity': 0.6},\n",
      "    'name': 'Acu308',\n",
      "    'opacity': 0.6,\n",
      "    'showlegend': False,\n",
      "    'width': 0.65,\n",
      "    'x': [Acu308],\n",
      "    'y': [4079.4598377507286]\n",
      "}), Bar({\n",
      "    'marker': {'color': '#EF553B'}, 'name': 'Actual', 'x': [None], 'y': [None]\n",
      "}), Bar({\n",
      "    'marker': {'color': '#00CC96'}, 'name': 'Predicted', 'x': [None], 'y': [None]\n",
      "}))\n"
     ]
    }
   ],
   "source": [
    "print(fig.fig.data)"
   ]
  },
  {
   "cell_type": "code",
   "execution_count": 17,
   "metadata": {},
   "outputs": [],
   "source": [
    "data = {\n",
    "            \"building_no\": [1,1,2,3,1,1],\n",
    "            'Zone_name': ['ActEast','ActEast','Ac-2-1','Ahu-G-01','West3','West3'],\n",
    "            'Datetime': ['2023-03-24','2023-03-24','2023-03-24','2023-03-24','2023-03-24','2023-03-24'],\n",
    "            'Season':[2,2,2,2,2,2],\n",
    "            'Faulty':[True,True,False,False,True,False],\n",
    "            'Fan_status':['On','Off','On','Off','On','Off'],\n",
    "            'Fan_time_diff':[3000,4000,6000,7000,8000,9000],\n",
    "            'Predicted':[7000,8000,10000,2000,8000,9000]\n",
    "        }\n",
    "\n",
    "newdf = pd.DataFrame(data)"
   ]
  },
  {
   "cell_type": "code",
   "execution_count": 19,
   "metadata": {},
   "outputs": [],
   "source": [
    "newfig = BarChartCreator(newdf,1)"
   ]
  },
  {
   "cell_type": "code",
   "execution_count": 21,
   "metadata": {},
   "outputs": [
    {
     "data": {
      "application/vnd.plotly.v1+json": {
       "config": {
        "plotlyServerURL": "https://plot.ly"
       },
       "data": [
        {
         "marker": {
          "color": "#EF553B",
          "cornerradius": 5,
          "line": {
           "color": "black",
           "width": 0.5
          },
          "opacity": 0.6
         },
         "name": "ActEast",
         "opacity": 0.6,
         "showlegend": false,
         "type": "bar",
         "x": [
          "ActEast"
         ],
         "y": [
          0.8333333333333334
         ]
        },
        {
         "marker": {
          "color": "#00CC96",
          "cornerradius": 5,
          "line": {
           "color": "black",
           "width": 0.5
          },
          "opacity": 0.6
         },
         "name": "ActEast",
         "opacity": 0.6,
         "showlegend": false,
         "type": "bar",
         "width": 0.65,
         "x": [
          "ActEast"
         ],
         "y": [
          1.9444444444444444
         ]
        },
        {
         "marker": {
          "color": "#EF553B",
          "cornerradius": 5,
          "line": {
           "color": "black",
           "width": 0.5
          },
          "opacity": 0.6
         },
         "name": "West3",
         "opacity": 0.6,
         "showlegend": false,
         "type": "bar",
         "x": [
          "West3"
         ],
         "y": [
          2.2222222222222223
         ]
        },
        {
         "marker": {
          "color": "#00CC96",
          "cornerradius": 5,
          "line": {
           "color": "black",
           "width": 0.5
          },
          "opacity": 0.6
         },
         "name": "West3",
         "opacity": 0.6,
         "showlegend": false,
         "type": "bar",
         "width": 0.65,
         "x": [
          "West3"
         ],
         "y": [
          2.2222222222222223
         ]
        },
        {
         "marker": {
          "color": "#EF553B"
         },
         "name": "Actual",
         "type": "bar",
         "x": [
          null
         ],
         "y": [
          null
         ]
        },
        {
         "marker": {
          "color": "#00CC96"
         },
         "name": "Predicted",
         "type": "bar",
         "x": [
          null
         ],
         "y": [
          null
         ]
        }
       ],
       "layout": {
        "barmode": "overlay",
        "legend": {
         "orientation": "h",
         "x": 1,
         "xanchor": "right",
         "y": 1,
         "yanchor": "bottom"
        },
        "margin": {
         "b": 50,
         "l": 50,
         "r": 50,
         "t": 50
        },
        "template": {
         "data": {
          "bar": [
           {
            "error_x": {
             "color": "#2a3f5f"
            },
            "error_y": {
             "color": "#2a3f5f"
            },
            "marker": {
             "line": {
              "color": "#E5ECF6",
              "width": 0.5
             },
             "pattern": {
              "fillmode": "overlay",
              "size": 10,
              "solidity": 0.2
             }
            },
            "type": "bar"
           }
          ],
          "barpolar": [
           {
            "marker": {
             "line": {
              "color": "#E5ECF6",
              "width": 0.5
             },
             "pattern": {
              "fillmode": "overlay",
              "size": 10,
              "solidity": 0.2
             }
            },
            "type": "barpolar"
           }
          ],
          "carpet": [
           {
            "aaxis": {
             "endlinecolor": "#2a3f5f",
             "gridcolor": "white",
             "linecolor": "white",
             "minorgridcolor": "white",
             "startlinecolor": "#2a3f5f"
            },
            "baxis": {
             "endlinecolor": "#2a3f5f",
             "gridcolor": "white",
             "linecolor": "white",
             "minorgridcolor": "white",
             "startlinecolor": "#2a3f5f"
            },
            "type": "carpet"
           }
          ],
          "choropleth": [
           {
            "colorbar": {
             "outlinewidth": 0,
             "ticks": ""
            },
            "type": "choropleth"
           }
          ],
          "contour": [
           {
            "colorbar": {
             "outlinewidth": 0,
             "ticks": ""
            },
            "colorscale": [
             [
              0,
              "#0d0887"
             ],
             [
              0.1111111111111111,
              "#46039f"
             ],
             [
              0.2222222222222222,
              "#7201a8"
             ],
             [
              0.3333333333333333,
              "#9c179e"
             ],
             [
              0.4444444444444444,
              "#bd3786"
             ],
             [
              0.5555555555555556,
              "#d8576b"
             ],
             [
              0.6666666666666666,
              "#ed7953"
             ],
             [
              0.7777777777777778,
              "#fb9f3a"
             ],
             [
              0.8888888888888888,
              "#fdca26"
             ],
             [
              1,
              "#f0f921"
             ]
            ],
            "type": "contour"
           }
          ],
          "contourcarpet": [
           {
            "colorbar": {
             "outlinewidth": 0,
             "ticks": ""
            },
            "type": "contourcarpet"
           }
          ],
          "heatmap": [
           {
            "colorbar": {
             "outlinewidth": 0,
             "ticks": ""
            },
            "colorscale": [
             [
              0,
              "#0d0887"
             ],
             [
              0.1111111111111111,
              "#46039f"
             ],
             [
              0.2222222222222222,
              "#7201a8"
             ],
             [
              0.3333333333333333,
              "#9c179e"
             ],
             [
              0.4444444444444444,
              "#bd3786"
             ],
             [
              0.5555555555555556,
              "#d8576b"
             ],
             [
              0.6666666666666666,
              "#ed7953"
             ],
             [
              0.7777777777777778,
              "#fb9f3a"
             ],
             [
              0.8888888888888888,
              "#fdca26"
             ],
             [
              1,
              "#f0f921"
             ]
            ],
            "type": "heatmap"
           }
          ],
          "heatmapgl": [
           {
            "colorbar": {
             "outlinewidth": 0,
             "ticks": ""
            },
            "colorscale": [
             [
              0,
              "#0d0887"
             ],
             [
              0.1111111111111111,
              "#46039f"
             ],
             [
              0.2222222222222222,
              "#7201a8"
             ],
             [
              0.3333333333333333,
              "#9c179e"
             ],
             [
              0.4444444444444444,
              "#bd3786"
             ],
             [
              0.5555555555555556,
              "#d8576b"
             ],
             [
              0.6666666666666666,
              "#ed7953"
             ],
             [
              0.7777777777777778,
              "#fb9f3a"
             ],
             [
              0.8888888888888888,
              "#fdca26"
             ],
             [
              1,
              "#f0f921"
             ]
            ],
            "type": "heatmapgl"
           }
          ],
          "histogram": [
           {
            "marker": {
             "pattern": {
              "fillmode": "overlay",
              "size": 10,
              "solidity": 0.2
             }
            },
            "type": "histogram"
           }
          ],
          "histogram2d": [
           {
            "colorbar": {
             "outlinewidth": 0,
             "ticks": ""
            },
            "colorscale": [
             [
              0,
              "#0d0887"
             ],
             [
              0.1111111111111111,
              "#46039f"
             ],
             [
              0.2222222222222222,
              "#7201a8"
             ],
             [
              0.3333333333333333,
              "#9c179e"
             ],
             [
              0.4444444444444444,
              "#bd3786"
             ],
             [
              0.5555555555555556,
              "#d8576b"
             ],
             [
              0.6666666666666666,
              "#ed7953"
             ],
             [
              0.7777777777777778,
              "#fb9f3a"
             ],
             [
              0.8888888888888888,
              "#fdca26"
             ],
             [
              1,
              "#f0f921"
             ]
            ],
            "type": "histogram2d"
           }
          ],
          "histogram2dcontour": [
           {
            "colorbar": {
             "outlinewidth": 0,
             "ticks": ""
            },
            "colorscale": [
             [
              0,
              "#0d0887"
             ],
             [
              0.1111111111111111,
              "#46039f"
             ],
             [
              0.2222222222222222,
              "#7201a8"
             ],
             [
              0.3333333333333333,
              "#9c179e"
             ],
             [
              0.4444444444444444,
              "#bd3786"
             ],
             [
              0.5555555555555556,
              "#d8576b"
             ],
             [
              0.6666666666666666,
              "#ed7953"
             ],
             [
              0.7777777777777778,
              "#fb9f3a"
             ],
             [
              0.8888888888888888,
              "#fdca26"
             ],
             [
              1,
              "#f0f921"
             ]
            ],
            "type": "histogram2dcontour"
           }
          ],
          "mesh3d": [
           {
            "colorbar": {
             "outlinewidth": 0,
             "ticks": ""
            },
            "type": "mesh3d"
           }
          ],
          "parcoords": [
           {
            "line": {
             "colorbar": {
              "outlinewidth": 0,
              "ticks": ""
             }
            },
            "type": "parcoords"
           }
          ],
          "pie": [
           {
            "automargin": true,
            "type": "pie"
           }
          ],
          "scatter": [
           {
            "fillpattern": {
             "fillmode": "overlay",
             "size": 10,
             "solidity": 0.2
            },
            "type": "scatter"
           }
          ],
          "scatter3d": [
           {
            "line": {
             "colorbar": {
              "outlinewidth": 0,
              "ticks": ""
             }
            },
            "marker": {
             "colorbar": {
              "outlinewidth": 0,
              "ticks": ""
             }
            },
            "type": "scatter3d"
           }
          ],
          "scattercarpet": [
           {
            "marker": {
             "colorbar": {
              "outlinewidth": 0,
              "ticks": ""
             }
            },
            "type": "scattercarpet"
           }
          ],
          "scattergeo": [
           {
            "marker": {
             "colorbar": {
              "outlinewidth": 0,
              "ticks": ""
             }
            },
            "type": "scattergeo"
           }
          ],
          "scattergl": [
           {
            "marker": {
             "colorbar": {
              "outlinewidth": 0,
              "ticks": ""
             }
            },
            "type": "scattergl"
           }
          ],
          "scattermapbox": [
           {
            "marker": {
             "colorbar": {
              "outlinewidth": 0,
              "ticks": ""
             }
            },
            "type": "scattermapbox"
           }
          ],
          "scatterpolar": [
           {
            "marker": {
             "colorbar": {
              "outlinewidth": 0,
              "ticks": ""
             }
            },
            "type": "scatterpolar"
           }
          ],
          "scatterpolargl": [
           {
            "marker": {
             "colorbar": {
              "outlinewidth": 0,
              "ticks": ""
             }
            },
            "type": "scatterpolargl"
           }
          ],
          "scatterternary": [
           {
            "marker": {
             "colorbar": {
              "outlinewidth": 0,
              "ticks": ""
             }
            },
            "type": "scatterternary"
           }
          ],
          "surface": [
           {
            "colorbar": {
             "outlinewidth": 0,
             "ticks": ""
            },
            "colorscale": [
             [
              0,
              "#0d0887"
             ],
             [
              0.1111111111111111,
              "#46039f"
             ],
             [
              0.2222222222222222,
              "#7201a8"
             ],
             [
              0.3333333333333333,
              "#9c179e"
             ],
             [
              0.4444444444444444,
              "#bd3786"
             ],
             [
              0.5555555555555556,
              "#d8576b"
             ],
             [
              0.6666666666666666,
              "#ed7953"
             ],
             [
              0.7777777777777778,
              "#fb9f3a"
             ],
             [
              0.8888888888888888,
              "#fdca26"
             ],
             [
              1,
              "#f0f921"
             ]
            ],
            "type": "surface"
           }
          ],
          "table": [
           {
            "cells": {
             "fill": {
              "color": "#EBF0F8"
             },
             "line": {
              "color": "white"
             }
            },
            "header": {
             "fill": {
              "color": "#C8D4E3"
             },
             "line": {
              "color": "white"
             }
            },
            "type": "table"
           }
          ]
         },
         "layout": {
          "annotationdefaults": {
           "arrowcolor": "#2a3f5f",
           "arrowhead": 0,
           "arrowwidth": 1
          },
          "autotypenumbers": "strict",
          "coloraxis": {
           "colorbar": {
            "outlinewidth": 0,
            "ticks": ""
           }
          },
          "colorscale": {
           "diverging": [
            [
             0,
             "#8e0152"
            ],
            [
             0.1,
             "#c51b7d"
            ],
            [
             0.2,
             "#de77ae"
            ],
            [
             0.3,
             "#f1b6da"
            ],
            [
             0.4,
             "#fde0ef"
            ],
            [
             0.5,
             "#f7f7f7"
            ],
            [
             0.6,
             "#e6f5d0"
            ],
            [
             0.7,
             "#b8e186"
            ],
            [
             0.8,
             "#7fbc41"
            ],
            [
             0.9,
             "#4d9221"
            ],
            [
             1,
             "#276419"
            ]
           ],
           "sequential": [
            [
             0,
             "#0d0887"
            ],
            [
             0.1111111111111111,
             "#46039f"
            ],
            [
             0.2222222222222222,
             "#7201a8"
            ],
            [
             0.3333333333333333,
             "#9c179e"
            ],
            [
             0.4444444444444444,
             "#bd3786"
            ],
            [
             0.5555555555555556,
             "#d8576b"
            ],
            [
             0.6666666666666666,
             "#ed7953"
            ],
            [
             0.7777777777777778,
             "#fb9f3a"
            ],
            [
             0.8888888888888888,
             "#fdca26"
            ],
            [
             1,
             "#f0f921"
            ]
           ],
           "sequentialminus": [
            [
             0,
             "#0d0887"
            ],
            [
             0.1111111111111111,
             "#46039f"
            ],
            [
             0.2222222222222222,
             "#7201a8"
            ],
            [
             0.3333333333333333,
             "#9c179e"
            ],
            [
             0.4444444444444444,
             "#bd3786"
            ],
            [
             0.5555555555555556,
             "#d8576b"
            ],
            [
             0.6666666666666666,
             "#ed7953"
            ],
            [
             0.7777777777777778,
             "#fb9f3a"
            ],
            [
             0.8888888888888888,
             "#fdca26"
            ],
            [
             1,
             "#f0f921"
            ]
           ]
          },
          "colorway": [
           "#636efa",
           "#EF553B",
           "#00cc96",
           "#ab63fa",
           "#FFA15A",
           "#19d3f3",
           "#FF6692",
           "#B6E880",
           "#FF97FF",
           "#FECB52"
          ],
          "font": {
           "color": "#2a3f5f"
          },
          "geo": {
           "bgcolor": "white",
           "lakecolor": "white",
           "landcolor": "#E5ECF6",
           "showlakes": true,
           "showland": true,
           "subunitcolor": "white"
          },
          "hoverlabel": {
           "align": "left"
          },
          "hovermode": "closest",
          "mapbox": {
           "style": "light"
          },
          "paper_bgcolor": "white",
          "plot_bgcolor": "#E5ECF6",
          "polar": {
           "angularaxis": {
            "gridcolor": "white",
            "linecolor": "white",
            "ticks": ""
           },
           "bgcolor": "#E5ECF6",
           "radialaxis": {
            "gridcolor": "white",
            "linecolor": "white",
            "ticks": ""
           }
          },
          "scene": {
           "xaxis": {
            "backgroundcolor": "#E5ECF6",
            "gridcolor": "white",
            "gridwidth": 2,
            "linecolor": "white",
            "showbackground": true,
            "ticks": "",
            "zerolinecolor": "white"
           },
           "yaxis": {
            "backgroundcolor": "#E5ECF6",
            "gridcolor": "white",
            "gridwidth": 2,
            "linecolor": "white",
            "showbackground": true,
            "ticks": "",
            "zerolinecolor": "white"
           },
           "zaxis": {
            "backgroundcolor": "#E5ECF6",
            "gridcolor": "white",
            "gridwidth": 2,
            "linecolor": "white",
            "showbackground": true,
            "ticks": "",
            "zerolinecolor": "white"
           }
          },
          "shapedefaults": {
           "line": {
            "color": "#2a3f5f"
           }
          },
          "ternary": {
           "aaxis": {
            "gridcolor": "white",
            "linecolor": "white",
            "ticks": ""
           },
           "baxis": {
            "gridcolor": "white",
            "linecolor": "white",
            "ticks": ""
           },
           "bgcolor": "#E5ECF6",
           "caxis": {
            "gridcolor": "white",
            "linecolor": "white",
            "ticks": ""
           }
          },
          "title": {
           "x": 0.05
          },
          "xaxis": {
           "automargin": true,
           "gridcolor": "white",
           "linecolor": "white",
           "ticks": "",
           "title": {
            "standoff": 15
           },
           "zerolinecolor": "white",
           "zerolinewidth": 2
          },
          "yaxis": {
           "automargin": true,
           "gridcolor": "white",
           "linecolor": "white",
           "ticks": "",
           "title": {
            "standoff": 15
           },
           "zerolinecolor": "white",
           "zerolinewidth": 2
          }
         }
        },
        "xaxis": {
         "title": {
          "text": "<b>Building 1 Zones</b>"
         }
        },
        "yaxis": {
         "title": {
          "text": "<b>Total Time Fan On (hours)</b>"
         }
        }
       }
      }
     },
     "metadata": {},
     "output_type": "display_data"
    }
   ],
   "source": [
    "newfig.fig"
   ]
  },
  {
   "cell_type": "code",
   "execution_count": 22,
   "metadata": {},
   "outputs": [
    {
     "name": "stdout",
     "output_type": "stream",
     "text": [
      "(Bar({\n",
      "    'marker': {'color': '#EF553B', 'cornerradius': 5, 'line': {'color': 'black', 'width': 0.5}, 'opacity': 0.6},\n",
      "    'name': 'ActEast',\n",
      "    'opacity': 0.6,\n",
      "    'showlegend': False,\n",
      "    'x': [ActEast],\n",
      "    'y': [0.8333333333333334]\n",
      "}), Bar({\n",
      "    'marker': {'color': '#00CC96', 'cornerradius': 5, 'line': {'color': 'black', 'width': 0.5}, 'opacity': 0.6},\n",
      "    'name': 'ActEast',\n",
      "    'opacity': 0.6,\n",
      "    'showlegend': False,\n",
      "    'width': 0.65,\n",
      "    'x': [ActEast],\n",
      "    'y': [1.9444444444444444]\n",
      "}), Bar({\n",
      "    'marker': {'color': '#EF553B', 'cornerradius': 5, 'line': {'color': 'black', 'width': 0.5}, 'opacity': 0.6},\n",
      "    'name': 'West3',\n",
      "    'opacity': 0.6,\n",
      "    'showlegend': False,\n",
      "    'x': [West3],\n",
      "    'y': [2.2222222222222223]\n",
      "}), Bar({\n",
      "    'marker': {'color': '#00CC96', 'cornerradius': 5, 'line': {'color': 'black', 'width': 0.5}, 'opacity': 0.6},\n",
      "    'name': 'West3',\n",
      "    'opacity': 0.6,\n",
      "    'showlegend': False,\n",
      "    'width': 0.65,\n",
      "    'x': [West3],\n",
      "    'y': [2.2222222222222223]\n",
      "}), Bar({\n",
      "    'marker': {'color': '#EF553B'}, 'name': 'Actual', 'x': [None], 'y': [None]\n",
      "}), Bar({\n",
      "    'marker': {'color': '#00CC96'}, 'name': 'Predicted', 'x': [None], 'y': [None]\n",
      "}))\n"
     ]
    }
   ],
   "source": [
    "print(newfig.fig.data)"
   ]
  },
  {
   "cell_type": "code",
   "execution_count": 20,
   "metadata": {},
   "outputs": [
    {
     "data": {
      "text/plain": [
       "6"
      ]
     },
     "execution_count": 20,
     "metadata": {},
     "output_type": "execute_result"
    }
   ],
   "source": [
    "len(newfig.fig.data)"
   ]
  },
  {
   "cell_type": "code",
   "execution_count": 25,
   "metadata": {},
   "outputs": [
    {
     "data": {
      "application/vnd.plotly.v1+json": {
       "config": {
        "plotlyServerURL": "https://plot.ly"
       },
       "data": [
        {
         "hole": 0.2,
         "labels": [
          "Savings",
          "Regular Usage"
         ],
         "pull": [
          0,
          0.1
         ],
         "type": "pie",
         "values": [
          6634536.103284817,
          14449391.896715183
         ]
        }
       ],
       "layout": {
        "legend": {
         "orientation": "h",
         "x": 0.5,
         "xanchor": "center",
         "y": 1,
         "yanchor": "bottom"
        },
        "margin": {
         "b": 50,
         "l": 50,
         "r": 50,
         "t": 50
        },
        "template": {
         "data": {
          "bar": [
           {
            "error_x": {
             "color": "#2a3f5f"
            },
            "error_y": {
             "color": "#2a3f5f"
            },
            "marker": {
             "line": {
              "color": "#E5ECF6",
              "width": 0.5
             },
             "pattern": {
              "fillmode": "overlay",
              "size": 10,
              "solidity": 0.2
             }
            },
            "type": "bar"
           }
          ],
          "barpolar": [
           {
            "marker": {
             "line": {
              "color": "#E5ECF6",
              "width": 0.5
             },
             "pattern": {
              "fillmode": "overlay",
              "size": 10,
              "solidity": 0.2
             }
            },
            "type": "barpolar"
           }
          ],
          "carpet": [
           {
            "aaxis": {
             "endlinecolor": "#2a3f5f",
             "gridcolor": "white",
             "linecolor": "white",
             "minorgridcolor": "white",
             "startlinecolor": "#2a3f5f"
            },
            "baxis": {
             "endlinecolor": "#2a3f5f",
             "gridcolor": "white",
             "linecolor": "white",
             "minorgridcolor": "white",
             "startlinecolor": "#2a3f5f"
            },
            "type": "carpet"
           }
          ],
          "choropleth": [
           {
            "colorbar": {
             "outlinewidth": 0,
             "ticks": ""
            },
            "type": "choropleth"
           }
          ],
          "contour": [
           {
            "colorbar": {
             "outlinewidth": 0,
             "ticks": ""
            },
            "colorscale": [
             [
              0,
              "#0d0887"
             ],
             [
              0.1111111111111111,
              "#46039f"
             ],
             [
              0.2222222222222222,
              "#7201a8"
             ],
             [
              0.3333333333333333,
              "#9c179e"
             ],
             [
              0.4444444444444444,
              "#bd3786"
             ],
             [
              0.5555555555555556,
              "#d8576b"
             ],
             [
              0.6666666666666666,
              "#ed7953"
             ],
             [
              0.7777777777777778,
              "#fb9f3a"
             ],
             [
              0.8888888888888888,
              "#fdca26"
             ],
             [
              1,
              "#f0f921"
             ]
            ],
            "type": "contour"
           }
          ],
          "contourcarpet": [
           {
            "colorbar": {
             "outlinewidth": 0,
             "ticks": ""
            },
            "type": "contourcarpet"
           }
          ],
          "heatmap": [
           {
            "colorbar": {
             "outlinewidth": 0,
             "ticks": ""
            },
            "colorscale": [
             [
              0,
              "#0d0887"
             ],
             [
              0.1111111111111111,
              "#46039f"
             ],
             [
              0.2222222222222222,
              "#7201a8"
             ],
             [
              0.3333333333333333,
              "#9c179e"
             ],
             [
              0.4444444444444444,
              "#bd3786"
             ],
             [
              0.5555555555555556,
              "#d8576b"
             ],
             [
              0.6666666666666666,
              "#ed7953"
             ],
             [
              0.7777777777777778,
              "#fb9f3a"
             ],
             [
              0.8888888888888888,
              "#fdca26"
             ],
             [
              1,
              "#f0f921"
             ]
            ],
            "type": "heatmap"
           }
          ],
          "heatmapgl": [
           {
            "colorbar": {
             "outlinewidth": 0,
             "ticks": ""
            },
            "colorscale": [
             [
              0,
              "#0d0887"
             ],
             [
              0.1111111111111111,
              "#46039f"
             ],
             [
              0.2222222222222222,
              "#7201a8"
             ],
             [
              0.3333333333333333,
              "#9c179e"
             ],
             [
              0.4444444444444444,
              "#bd3786"
             ],
             [
              0.5555555555555556,
              "#d8576b"
             ],
             [
              0.6666666666666666,
              "#ed7953"
             ],
             [
              0.7777777777777778,
              "#fb9f3a"
             ],
             [
              0.8888888888888888,
              "#fdca26"
             ],
             [
              1,
              "#f0f921"
             ]
            ],
            "type": "heatmapgl"
           }
          ],
          "histogram": [
           {
            "marker": {
             "pattern": {
              "fillmode": "overlay",
              "size": 10,
              "solidity": 0.2
             }
            },
            "type": "histogram"
           }
          ],
          "histogram2d": [
           {
            "colorbar": {
             "outlinewidth": 0,
             "ticks": ""
            },
            "colorscale": [
             [
              0,
              "#0d0887"
             ],
             [
              0.1111111111111111,
              "#46039f"
             ],
             [
              0.2222222222222222,
              "#7201a8"
             ],
             [
              0.3333333333333333,
              "#9c179e"
             ],
             [
              0.4444444444444444,
              "#bd3786"
             ],
             [
              0.5555555555555556,
              "#d8576b"
             ],
             [
              0.6666666666666666,
              "#ed7953"
             ],
             [
              0.7777777777777778,
              "#fb9f3a"
             ],
             [
              0.8888888888888888,
              "#fdca26"
             ],
             [
              1,
              "#f0f921"
             ]
            ],
            "type": "histogram2d"
           }
          ],
          "histogram2dcontour": [
           {
            "colorbar": {
             "outlinewidth": 0,
             "ticks": ""
            },
            "colorscale": [
             [
              0,
              "#0d0887"
             ],
             [
              0.1111111111111111,
              "#46039f"
             ],
             [
              0.2222222222222222,
              "#7201a8"
             ],
             [
              0.3333333333333333,
              "#9c179e"
             ],
             [
              0.4444444444444444,
              "#bd3786"
             ],
             [
              0.5555555555555556,
              "#d8576b"
             ],
             [
              0.6666666666666666,
              "#ed7953"
             ],
             [
              0.7777777777777778,
              "#fb9f3a"
             ],
             [
              0.8888888888888888,
              "#fdca26"
             ],
             [
              1,
              "#f0f921"
             ]
            ],
            "type": "histogram2dcontour"
           }
          ],
          "mesh3d": [
           {
            "colorbar": {
             "outlinewidth": 0,
             "ticks": ""
            },
            "type": "mesh3d"
           }
          ],
          "parcoords": [
           {
            "line": {
             "colorbar": {
              "outlinewidth": 0,
              "ticks": ""
             }
            },
            "type": "parcoords"
           }
          ],
          "pie": [
           {
            "automargin": true,
            "type": "pie"
           }
          ],
          "scatter": [
           {
            "fillpattern": {
             "fillmode": "overlay",
             "size": 10,
             "solidity": 0.2
            },
            "type": "scatter"
           }
          ],
          "scatter3d": [
           {
            "line": {
             "colorbar": {
              "outlinewidth": 0,
              "ticks": ""
             }
            },
            "marker": {
             "colorbar": {
              "outlinewidth": 0,
              "ticks": ""
             }
            },
            "type": "scatter3d"
           }
          ],
          "scattercarpet": [
           {
            "marker": {
             "colorbar": {
              "outlinewidth": 0,
              "ticks": ""
             }
            },
            "type": "scattercarpet"
           }
          ],
          "scattergeo": [
           {
            "marker": {
             "colorbar": {
              "outlinewidth": 0,
              "ticks": ""
             }
            },
            "type": "scattergeo"
           }
          ],
          "scattergl": [
           {
            "marker": {
             "colorbar": {
              "outlinewidth": 0,
              "ticks": ""
             }
            },
            "type": "scattergl"
           }
          ],
          "scattermapbox": [
           {
            "marker": {
             "colorbar": {
              "outlinewidth": 0,
              "ticks": ""
             }
            },
            "type": "scattermapbox"
           }
          ],
          "scatterpolar": [
           {
            "marker": {
             "colorbar": {
              "outlinewidth": 0,
              "ticks": ""
             }
            },
            "type": "scatterpolar"
           }
          ],
          "scatterpolargl": [
           {
            "marker": {
             "colorbar": {
              "outlinewidth": 0,
              "ticks": ""
             }
            },
            "type": "scatterpolargl"
           }
          ],
          "scatterternary": [
           {
            "marker": {
             "colorbar": {
              "outlinewidth": 0,
              "ticks": ""
             }
            },
            "type": "scatterternary"
           }
          ],
          "surface": [
           {
            "colorbar": {
             "outlinewidth": 0,
             "ticks": ""
            },
            "colorscale": [
             [
              0,
              "#0d0887"
             ],
             [
              0.1111111111111111,
              "#46039f"
             ],
             [
              0.2222222222222222,
              "#7201a8"
             ],
             [
              0.3333333333333333,
              "#9c179e"
             ],
             [
              0.4444444444444444,
              "#bd3786"
             ],
             [
              0.5555555555555556,
              "#d8576b"
             ],
             [
              0.6666666666666666,
              "#ed7953"
             ],
             [
              0.7777777777777778,
              "#fb9f3a"
             ],
             [
              0.8888888888888888,
              "#fdca26"
             ],
             [
              1,
              "#f0f921"
             ]
            ],
            "type": "surface"
           }
          ],
          "table": [
           {
            "cells": {
             "fill": {
              "color": "#EBF0F8"
             },
             "line": {
              "color": "white"
             }
            },
            "header": {
             "fill": {
              "color": "#C8D4E3"
             },
             "line": {
              "color": "white"
             }
            },
            "type": "table"
           }
          ]
         },
         "layout": {
          "annotationdefaults": {
           "arrowcolor": "#2a3f5f",
           "arrowhead": 0,
           "arrowwidth": 1
          },
          "autotypenumbers": "strict",
          "coloraxis": {
           "colorbar": {
            "outlinewidth": 0,
            "ticks": ""
           }
          },
          "colorscale": {
           "diverging": [
            [
             0,
             "#8e0152"
            ],
            [
             0.1,
             "#c51b7d"
            ],
            [
             0.2,
             "#de77ae"
            ],
            [
             0.3,
             "#f1b6da"
            ],
            [
             0.4,
             "#fde0ef"
            ],
            [
             0.5,
             "#f7f7f7"
            ],
            [
             0.6,
             "#e6f5d0"
            ],
            [
             0.7,
             "#b8e186"
            ],
            [
             0.8,
             "#7fbc41"
            ],
            [
             0.9,
             "#4d9221"
            ],
            [
             1,
             "#276419"
            ]
           ],
           "sequential": [
            [
             0,
             "#0d0887"
            ],
            [
             0.1111111111111111,
             "#46039f"
            ],
            [
             0.2222222222222222,
             "#7201a8"
            ],
            [
             0.3333333333333333,
             "#9c179e"
            ],
            [
             0.4444444444444444,
             "#bd3786"
            ],
            [
             0.5555555555555556,
             "#d8576b"
            ],
            [
             0.6666666666666666,
             "#ed7953"
            ],
            [
             0.7777777777777778,
             "#fb9f3a"
            ],
            [
             0.8888888888888888,
             "#fdca26"
            ],
            [
             1,
             "#f0f921"
            ]
           ],
           "sequentialminus": [
            [
             0,
             "#0d0887"
            ],
            [
             0.1111111111111111,
             "#46039f"
            ],
            [
             0.2222222222222222,
             "#7201a8"
            ],
            [
             0.3333333333333333,
             "#9c179e"
            ],
            [
             0.4444444444444444,
             "#bd3786"
            ],
            [
             0.5555555555555556,
             "#d8576b"
            ],
            [
             0.6666666666666666,
             "#ed7953"
            ],
            [
             0.7777777777777778,
             "#fb9f3a"
            ],
            [
             0.8888888888888888,
             "#fdca26"
            ],
            [
             1,
             "#f0f921"
            ]
           ]
          },
          "colorway": [
           "#636efa",
           "#EF553B",
           "#00cc96",
           "#ab63fa",
           "#FFA15A",
           "#19d3f3",
           "#FF6692",
           "#B6E880",
           "#FF97FF",
           "#FECB52"
          ],
          "font": {
           "color": "#2a3f5f"
          },
          "geo": {
           "bgcolor": "white",
           "lakecolor": "white",
           "landcolor": "#E5ECF6",
           "showlakes": true,
           "showland": true,
           "subunitcolor": "white"
          },
          "hoverlabel": {
           "align": "left"
          },
          "hovermode": "closest",
          "mapbox": {
           "style": "light"
          },
          "paper_bgcolor": "white",
          "plot_bgcolor": "#E5ECF6",
          "polar": {
           "angularaxis": {
            "gridcolor": "white",
            "linecolor": "white",
            "ticks": ""
           },
           "bgcolor": "#E5ECF6",
           "radialaxis": {
            "gridcolor": "white",
            "linecolor": "white",
            "ticks": ""
           }
          },
          "scene": {
           "xaxis": {
            "backgroundcolor": "#E5ECF6",
            "gridcolor": "white",
            "gridwidth": 2,
            "linecolor": "white",
            "showbackground": true,
            "ticks": "",
            "zerolinecolor": "white"
           },
           "yaxis": {
            "backgroundcolor": "#E5ECF6",
            "gridcolor": "white",
            "gridwidth": 2,
            "linecolor": "white",
            "showbackground": true,
            "ticks": "",
            "zerolinecolor": "white"
           },
           "zaxis": {
            "backgroundcolor": "#E5ECF6",
            "gridcolor": "white",
            "gridwidth": 2,
            "linecolor": "white",
            "showbackground": true,
            "ticks": "",
            "zerolinecolor": "white"
           }
          },
          "shapedefaults": {
           "line": {
            "color": "#2a3f5f"
           }
          },
          "ternary": {
           "aaxis": {
            "gridcolor": "white",
            "linecolor": "white",
            "ticks": ""
           },
           "baxis": {
            "gridcolor": "white",
            "linecolor": "white",
            "ticks": ""
           },
           "bgcolor": "#E5ECF6",
           "caxis": {
            "gridcolor": "white",
            "linecolor": "white",
            "ticks": ""
           }
          },
          "title": {
           "x": 0.05
          },
          "xaxis": {
           "automargin": true,
           "gridcolor": "white",
           "linecolor": "white",
           "ticks": "",
           "title": {
            "standoff": 15
           },
           "zerolinecolor": "white",
           "zerolinewidth": 2
          },
          "yaxis": {
           "automargin": true,
           "gridcolor": "white",
           "linecolor": "white",
           "ticks": "",
           "title": {
            "standoff": 15
           },
           "zerolinecolor": "white",
           "zerolinewidth": 2
          }
         }
        }
       }
      }
     },
     "metadata": {},
     "output_type": "display_data"
    }
   ],
   "source": [
    "pie = PieChartCreator(df,1,\"Acu101\")\n",
    "pie.fig"
   ]
  },
  {
   "cell_type": "code",
   "execution_count": 34,
   "metadata": {},
   "outputs": [
    {
     "name": "stdout",
     "output_type": "stream",
     "text": [
      "(6634536.103284817, 14449391.896715183)\n"
     ]
    }
   ],
   "source": [
    "print(pie.fig.data[0].values)"
   ]
  },
  {
   "cell_type": "code",
   "execution_count": 75,
   "metadata": {},
   "outputs": [
    {
     "name": "stdout",
     "output_type": "stream",
     "text": [
      "Scattergl({\n",
      "    'marker': {'color': '#00CC96', 'line': {'color': 'black', 'width': 0.5}, 'size': 6},\n",
      "    'mode': 'markers+lines',\n",
      "    'name': 'Predicted',\n",
      "    'x': array([datetime.date(2023, 4, 24), datetime.date(2023, 5, 1),\n",
      "                datetime.date(2023, 5, 8), datetime.date(2023, 5, 15),\n",
      "                datetime.date(2023, 5, 22), datetime.date(2023, 5, 29),\n",
      "                datetime.date(2023, 5, 29), datetime.date(2023, 6, 5),\n",
      "                datetime.date(2023, 6, 12), datetime.date(2023, 6, 26),\n",
      "                datetime.date(2023, 7, 3), datetime.date(2023, 7, 10),\n",
      "                datetime.date(2023, 7, 17), datetime.date(2023, 7, 24),\n",
      "                datetime.date(2023, 7, 31), datetime.date(2023, 8, 7),\n",
      "                datetime.date(2023, 8, 14), datetime.date(2023, 8, 21),\n",
      "                datetime.date(2023, 8, 28), datetime.date(2023, 8, 28),\n",
      "                datetime.date(2023, 9, 4), datetime.date(2023, 9, 11),\n",
      "                datetime.date(2023, 9, 18), datetime.date(2023, 9, 25),\n",
      "                datetime.date(2023, 10, 2), datetime.date(2023, 10, 16),\n",
      "                datetime.date(2023, 10, 23), datetime.date(2023, 10, 30),\n",
      "                datetime.date(2023, 11, 6), datetime.date(2023, 11, 13),\n",
      "                datetime.date(2023, 11, 20), datetime.date(2023, 11, 27),\n",
      "                datetime.date(2023, 11, 27), datetime.date(2023, 12, 4),\n",
      "                datetime.date(2023, 12, 11), datetime.date(2023, 12, 18),\n",
      "                datetime.date(2023, 12, 25), datetime.date(2024, 1, 8),\n",
      "                datetime.date(2024, 1, 15), datetime.date(2024, 1, 22),\n",
      "                datetime.date(2024, 1, 29), datetime.date(2024, 2, 5),\n",
      "                datetime.date(2024, 2, 12), datetime.date(2024, 2, 19),\n",
      "                datetime.date(2024, 2, 26), datetime.date(2024, 2, 26),\n",
      "                datetime.date(2024, 3, 4), datetime.date(2024, 3, 11),\n",
      "                datetime.date(2024, 3, 18)], dtype=object),\n",
      "    'y': array([275901.57542951, 445214.23067524, 302611.94912126, 182684.55328499,\n",
      "                482120.70148315, 204767.03628546, 196155.52522167, 405921.23514871,\n",
      "                438698.00633043, 300048.42384179, 332401.98922272, 425074.71573393,\n",
      "                200833.01040216, 422304.46609633, 458459.21855355, 210756.33288467,\n",
      "                180493.88599077, 224062.27151317, 139817.59592009,  78113.0020326 ,\n",
      "                154154.60995841, 273220.79214467, 408443.38367175, 379514.24299161,\n",
      "                256423.51087839, 361534.40638277, 327892.16077921, 207781.110549  ,\n",
      "                177735.780467  , 385576.72404673, 339181.58749467, 158569.91542075,\n",
      "                244447.55482676, 353573.32785437, 443833.1720416 , 415835.23272407,\n",
      "                 74619.27361934, 370096.07344768, 433938.38327396, 236054.69700585,\n",
      "                247232.58212205, 376155.47714923, 265704.26508172, 384576.29972236,\n",
      "                203254.91510955, 178225.12198252, 410952.5075281 , 214997.88143759,\n",
      "                259427.18183131])\n",
      "})\n"
     ]
    }
   ],
   "source": [
    "line_fig = LineChartCreator(df,1,\"Acu101\",agg='week')\n",
    "print(line_fig.fig.data[1])"
   ]
  },
  {
   "cell_type": "code",
   "execution_count": 86,
   "metadata": {},
   "outputs": [
    {
     "data": {
      "text/plain": [
       "(Scattergl({\n",
       "     'marker': {'color': '#EF553B', 'line': {'color': 'black', 'width': 0.5}, 'size': 6},\n",
       "     'mode': 'markers+lines',\n",
       "     'name': 'Actual',\n",
       "     'x': array([datetime.date(2023, 4, 1), datetime.date(2023, 5, 1),\n",
       "                 datetime.date(2023, 6, 1), datetime.date(2023, 7, 1),\n",
       "                 datetime.date(2023, 8, 1), datetime.date(2023, 9, 1),\n",
       "                 datetime.date(2023, 10, 1), datetime.date(2023, 11, 1),\n",
       "                 datetime.date(2023, 12, 1), datetime.date(2024, 1, 1),\n",
       "                 datetime.date(2024, 2, 1), datetime.date(2024, 3, 1)], dtype=object),\n",
       "     'y': array([ 397801., 2230799., 1756800., 2204998., 1682964., 1832983., 1452595.,\n",
       "                 1934400., 2219400., 1759189., 2036400., 1575599.])\n",
       " }),\n",
       " Scattergl({\n",
       "     'marker': {'color': '#00CC96', 'line': {'color': 'black', 'width': 0.5}, 'size': 6},\n",
       "     'mode': 'markers+lines',\n",
       "     'name': 'Predicted',\n",
       "     'x': array([datetime.date(2023, 4, 1), datetime.date(2023, 5, 1),\n",
       "                 datetime.date(2023, 6, 1), datetime.date(2023, 7, 1),\n",
       "                 datetime.date(2023, 8, 1), datetime.date(2023, 9, 1),\n",
       "                 datetime.date(2023, 10, 1), datetime.date(2023, 11, 1),\n",
       "                 datetime.date(2023, 12, 1), datetime.date(2024, 1, 1),\n",
       "                 datetime.date(2024, 2, 1), datetime.date(2024, 3, 1)], dtype=object),\n",
       "     'y': array([ 275901.57542951, 1608786.95978632, 1221922.90036206, 1552403.47039269,\n",
       "                 1169311.81716901, 1240513.82173008, 1067421.18713053, 1286083.85736294,\n",
       "                 1446430.92166012, 1174194.6886178 , 1342818.0042946 , 1063602.69277952])\n",
       " }))"
      ]
     },
     "execution_count": 86,
     "metadata": {},
     "output_type": "execute_result"
    }
   ],
   "source": [
    "line_fig.update_fig(df,1,'Acu101',agg='month').data"
   ]
  },
  {
   "cell_type": "code",
   "execution_count": 79,
   "metadata": {},
   "outputs": [
    {
     "name": "stdout",
     "output_type": "stream",
     "text": [
      "[datetime.date(2023, 4, 24) datetime.date(2023, 5, 1)\n",
      " datetime.date(2023, 5, 8) datetime.date(2023, 5, 15)\n",
      " datetime.date(2023, 5, 22) datetime.date(2023, 5, 29)\n",
      " datetime.date(2023, 5, 29) datetime.date(2023, 6, 5)\n",
      " datetime.date(2023, 6, 12) datetime.date(2023, 6, 26)\n",
      " datetime.date(2023, 7, 3) datetime.date(2023, 7, 10)\n",
      " datetime.date(2023, 7, 17) datetime.date(2023, 7, 24)\n",
      " datetime.date(2023, 7, 31) datetime.date(2023, 8, 7)\n",
      " datetime.date(2023, 8, 14) datetime.date(2023, 8, 21)\n",
      " datetime.date(2023, 8, 28) datetime.date(2023, 8, 28)\n",
      " datetime.date(2023, 9, 4) datetime.date(2023, 9, 11)\n",
      " datetime.date(2023, 9, 18) datetime.date(2023, 9, 25)\n",
      " datetime.date(2023, 10, 2) datetime.date(2023, 10, 16)\n",
      " datetime.date(2023, 10, 23) datetime.date(2023, 10, 30)\n",
      " datetime.date(2023, 11, 6) datetime.date(2023, 11, 13)\n",
      " datetime.date(2023, 11, 20) datetime.date(2023, 11, 27)\n",
      " datetime.date(2023, 11, 27) datetime.date(2023, 12, 4)\n",
      " datetime.date(2023, 12, 11) datetime.date(2023, 12, 18)\n",
      " datetime.date(2023, 12, 25) datetime.date(2024, 1, 8)\n",
      " datetime.date(2024, 1, 15) datetime.date(2024, 1, 22)\n",
      " datetime.date(2024, 1, 29) datetime.date(2024, 2, 5)\n",
      " datetime.date(2024, 2, 12) datetime.date(2024, 2, 19)\n",
      " datetime.date(2024, 2, 26) datetime.date(2024, 2, 26)\n",
      " datetime.date(2024, 3, 4) datetime.date(2024, 3, 11)\n",
      " datetime.date(2024, 3, 18)]\n"
     ]
    }
   ],
   "source": [
    "print(line_fig.fig.data[0].x)"
   ]
  },
  {
   "cell_type": "code",
   "execution_count": 55,
   "metadata": {},
   "outputs": [],
   "source": [
    "data = {\n",
    "            \"building_no\": [1, 1, 1, 2, 3, 1, 1, 2, 3, 1, 2, 3, 1, 2, 3, 1, 1, 2, 3, 1],\n",
    "            'Zone_name': ['ActEast', 'ActEast', 'ActEast', 'Ac-2-1', 'Ahu-G-01', 'West3', 'West3', 'Ac-2-1', 'Ahu-G-01', 'ActEast', 'Ac-2-1', 'Ahu-G-01', 'West3', 'Ac-2-1', 'Ahu-G-01', 'ActEast', 'West3', 'Ac-2-1', 'Ahu-G-01', 'ActEast'],\n",
    "            'Datetime': pd.date_range('2023-03-01', periods=20, freq='D'),\n",
    "            'Season': [2]*20,\n",
    "            'Faulty': [True, True, True, False, False, True, False, True, False,  True, False, False, True, False, True, False, True, False, True, False],\n",
    "            'Fan_status': ['On', 'On', 'On', 'Off', 'Off', 'On', 'Off', 'On', 'Off', 'On', \n",
    "                        'Off', 'Off', 'On', 'On', 'Off', 'On', 'On', 'Off', 'On', 'On'],\n",
    "            'Fan_time_diff': [1000,3000,4000,5000,6000,9000,10000,12000,8000,7000,8800,9000,10000,13000,1000,2000,3000,4000,7000,1000],\n",
    "            'Predicted': [2000,4000,6000,3000,10000,12000,8000,10000,3000,2000,8200,5700,3000,9500,8100,4300,7500,6700,8900,3000]\n",
    "        }"
   ]
  },
  {
   "cell_type": "code",
   "execution_count": 56,
   "metadata": {},
   "outputs": [],
   "source": [
    "line_df = pd.DataFrame(data)"
   ]
  },
  {
   "cell_type": "code",
   "execution_count": 65,
   "metadata": {},
   "outputs": [],
   "source": [
    "line_df = line_df[(line_df.building_no==1)&(line_df.Fan_status=='On')&(line_df.Zone_name==\"ActEast\")]"
   ]
  },
  {
   "cell_type": "code",
   "execution_count": 68,
   "metadata": {},
   "outputs": [],
   "source": [
    "temp = pd.Series(pd.to_datetime(line_df.Datetime, errors='coerce').values, index=line_df.index, name='Datetime')\n",
    "group_mapping = {\n",
    "            'day': temp.dt.date,\n",
    "            'week': temp.dt.to_period('W').apply(lambda r: r.start_time).dt.date,\n",
    "            'month': temp.dt.to_period('M').apply(lambda r: r.start_time).dt.date\n",
    "        }"
   ]
  },
  {
   "cell_type": "code",
   "execution_count": 87,
   "metadata": {},
   "outputs": [
    {
     "data": {
      "text/plain": [
       "2"
      ]
     },
     "execution_count": 87,
     "metadata": {},
     "output_type": "execute_result"
    }
   ],
   "source": [
    "week_df = line_df.groupby(['building_no','Zone_name','Season','Faulty','Fan_status',group_mapping['month']])[['Fan_time_diff','Predicted']].sum().reset_index().sort_values(by='Datetime')\n",
    "len(week_df)\n"
   ]
  },
  {
   "cell_type": "code",
   "execution_count": null,
   "metadata": {},
   "outputs": [],
   "source": []
  }
 ],
 "metadata": {
  "kernelspec": {
   "display_name": "newenv",
   "language": "python",
   "name": "python3"
  },
  "language_info": {
   "codemirror_mode": {
    "name": "ipython",
    "version": 3
   },
   "file_extension": ".py",
   "mimetype": "text/x-python",
   "name": "python",
   "nbconvert_exporter": "python",
   "pygments_lexer": "ipython3",
   "version": "3.10.11"
  }
 },
 "nbformat": 4,
 "nbformat_minor": 2
}

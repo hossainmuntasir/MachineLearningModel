{
 "cells": [
  {
   "cell_type": "code",
   "execution_count": 2,
   "metadata": {},
   "outputs": [],
   "source": [
    "import pandas as pd\n",
    "from viz_classes import BarChartCreator, PieChartCreator, LineChartCreator, FeatureImportanceCreator\n",
    "from joblib import load"
   ]
  },
  {
   "cell_type": "code",
   "execution_count": 2,
   "metadata": {},
   "outputs": [
    {
     "data": {
      "text/html": [
       "<div>\n",
       "<style scoped>\n",
       "    .dataframe tbody tr th:only-of-type {\n",
       "        vertical-align: middle;\n",
       "    }\n",
       "\n",
       "    .dataframe tbody tr th {\n",
       "        vertical-align: top;\n",
       "    }\n",
       "\n",
       "    .dataframe thead th {\n",
       "        text-align: right;\n",
       "    }\n",
       "</style>\n",
       "<table border=\"1\" class=\"dataframe\">\n",
       "  <thead>\n",
       "    <tr style=\"text-align: right;\">\n",
       "      <th></th>\n",
       "      <th>building_no</th>\n",
       "      <th>Zone_name</th>\n",
       "      <th>Datetime</th>\n",
       "      <th>Season</th>\n",
       "      <th>Faulty</th>\n",
       "      <th>Fan_status</th>\n",
       "      <th>Fan_time_diff</th>\n",
       "      <th>Predicted</th>\n",
       "    </tr>\n",
       "  </thead>\n",
       "  <tbody>\n",
       "    <tr>\n",
       "      <th>0</th>\n",
       "      <td>1</td>\n",
       "      <td>ActEast</td>\n",
       "      <td>2023-03-23</td>\n",
       "      <td>2</td>\n",
       "      <td>True</td>\n",
       "      <td>None</td>\n",
       "      <td>34200.0</td>\n",
       "      <td>31053.130335</td>\n",
       "    </tr>\n",
       "    <tr>\n",
       "      <th>1</th>\n",
       "      <td>1</td>\n",
       "      <td>ActEast</td>\n",
       "      <td>2023-03-24</td>\n",
       "      <td>2</td>\n",
       "      <td>True</td>\n",
       "      <td>None</td>\n",
       "      <td>86640.0</td>\n",
       "      <td>52959.389325</td>\n",
       "    </tr>\n",
       "    <tr>\n",
       "      <th>2</th>\n",
       "      <td>1</td>\n",
       "      <td>ActEast</td>\n",
       "      <td>2023-03-25</td>\n",
       "      <td>2</td>\n",
       "      <td>True</td>\n",
       "      <td>None</td>\n",
       "      <td>86400.0</td>\n",
       "      <td>72425.248406</td>\n",
       "    </tr>\n",
       "    <tr>\n",
       "      <th>3</th>\n",
       "      <td>1</td>\n",
       "      <td>ActEast</td>\n",
       "      <td>2023-03-26</td>\n",
       "      <td>2</td>\n",
       "      <td>True</td>\n",
       "      <td>None</td>\n",
       "      <td>86400.0</td>\n",
       "      <td>56703.078787</td>\n",
       "    </tr>\n",
       "    <tr>\n",
       "      <th>4</th>\n",
       "      <td>1</td>\n",
       "      <td>ActEast</td>\n",
       "      <td>2023-03-27</td>\n",
       "      <td>2</td>\n",
       "      <td>True</td>\n",
       "      <td>None</td>\n",
       "      <td>86400.0</td>\n",
       "      <td>42406.888444</td>\n",
       "    </tr>\n",
       "  </tbody>\n",
       "</table>\n",
       "</div>"
      ],
      "text/plain": [
       "   building_no Zone_name    Datetime  Season  Faulty Fan_status  \\\n",
       "0            1   ActEast  2023-03-23       2    True       None   \n",
       "1            1   ActEast  2023-03-24       2    True       None   \n",
       "2            1   ActEast  2023-03-25       2    True       None   \n",
       "3            1   ActEast  2023-03-26       2    True       None   \n",
       "4            1   ActEast  2023-03-27       2    True       None   \n",
       "\n",
       "   Fan_time_diff     Predicted  \n",
       "0        34200.0  31053.130335  \n",
       "1        86640.0  52959.389325  \n",
       "2        86400.0  72425.248406  \n",
       "3        86400.0  56703.078787  \n",
       "4        86400.0  42406.888444  "
      ]
     },
     "execution_count": 2,
     "metadata": {},
     "output_type": "execute_result"
    }
   ],
   "source": [
    "df = pd.read_parquet(\"summary_all.parquet\")\n",
    "df.head()"
   ]
  },
  {
   "cell_type": "code",
   "execution_count": null,
   "metadata": {},
   "outputs": [],
   "source": []
  },
  {
   "cell_type": "code",
   "execution_count": 6,
   "metadata": {},
   "outputs": [
    {
     "data": {
      "text/plain": [
       "0        ActEast\n",
       "1        ActEast\n",
       "2        ActEast\n",
       "3        ActEast\n",
       "4        ActEast\n",
       "          ...   \n",
       "15365      West3\n",
       "15366      West3\n",
       "15367      West3\n",
       "15368      West3\n",
       "15369      West3\n",
       "Name: Zone_name, Length: 15370, dtype: object"
      ]
     },
     "execution_count": 6,
     "metadata": {},
     "output_type": "execute_result"
    }
   ],
   "source": [
    "df[df['building_no'] == 1]['Zone_name']"
   ]
  },
  {
   "cell_type": "code",
   "execution_count": 11,
   "metadata": {},
   "outputs": [
    {
     "data": {
      "application/vnd.plotly.v1+json": {
       "config": {
        "plotlyServerURL": "https://plot.ly"
       },
       "data": [
        {
         "marker": {
          "color": "#EF553B",
          "cornerradius": 5,
          "line": {
           "color": "black",
           "width": 0.5
          },
          "opacity": 0.6
         },
         "name": "Acu101",
         "opacity": 0.6,
         "showlegend": false,
         "type": "bar",
         "x": [
          "Acu101"
         ],
         "y": [
          5856.6466666666665
         ]
        },
        {
         "marker": {
          "color": "#00CC96",
          "cornerradius": 5,
          "line": {
           "color": "black",
           "width": 0.5
          },
          "opacity": 0.6
         },
         "name": "Acu101",
         "opacity": 0.6,
         "showlegend": false,
         "type": "bar",
         "width": 0.65,
         "x": [
          "Acu101"
         ],
         "y": [
          4013.719971309773
         ]
        },
        {
         "marker": {
          "color": "#EF553B",
          "cornerradius": 5,
          "line": {
           "color": "black",
           "width": 0.5
          },
          "opacity": 0.6
         },
         "name": "Acu102",
         "opacity": 0.6,
         "showlegend": false,
         "type": "bar",
         "x": [
          "Acu102"
         ],
         "y": [
          5856.6466666666665
         ]
        },
        {
         "marker": {
          "color": "#00CC96",
          "cornerradius": 5,
          "line": {
           "color": "black",
           "width": 0.5
          },
          "opacity": 0.6
         },
         "name": "Acu102",
         "opacity": 0.6,
         "showlegend": false,
         "type": "bar",
         "width": 0.65,
         "x": [
          "Acu102"
         ],
         "y": [
          3993.6965305208855
         ]
        },
        {
         "marker": {
          "color": "#EF553B",
          "cornerradius": 5,
          "line": {
           "color": "black",
           "width": 0.5
          },
          "opacity": 0.6
         },
         "name": "Acu103",
         "opacity": 0.6,
         "showlegend": false,
         "type": "bar",
         "x": [
          "Acu103"
         ],
         "y": [
          5856.6466666666665
         ]
        },
        {
         "marker": {
          "color": "#00CC96",
          "cornerradius": 5,
          "line": {
           "color": "black",
           "width": 0.5
          },
          "opacity": 0.6
         },
         "name": "Acu103",
         "opacity": 0.6,
         "showlegend": false,
         "type": "bar",
         "width": 0.65,
         "x": [
          "Acu103"
         ],
         "y": [
          3997.2784468037903
         ]
        },
        {
         "marker": {
          "color": "#EF553B",
          "cornerradius": 5,
          "line": {
           "color": "black",
           "width": 0.5
          },
          "opacity": 0.6
         },
         "name": "Acu104",
         "opacity": 0.6,
         "showlegend": false,
         "type": "bar",
         "x": [
          "Acu104"
         ],
         "y": [
          5772.814722222222
         ]
        },
        {
         "marker": {
          "color": "#00CC96",
          "cornerradius": 5,
          "line": {
           "color": "black",
           "width": 0.5
          },
          "opacity": 0.6
         },
         "name": "Acu104",
         "opacity": 0.6,
         "showlegend": false,
         "type": "bar",
         "width": 0.65,
         "x": [
          "Acu104"
         ],
         "y": [
          3902.100328775281
         ]
        },
        {
         "marker": {
          "color": "#EF553B",
          "cornerradius": 5,
          "line": {
           "color": "black",
           "width": 0.5
          },
          "opacity": 0.6
         },
         "name": "Acu105",
         "opacity": 0.6,
         "showlegend": false,
         "type": "bar",
         "x": [
          "Acu105"
         ],
         "y": [
          5762.316666666667
         ]
        },
        {
         "marker": {
          "color": "#00CC96",
          "cornerradius": 5,
          "line": {
           "color": "black",
           "width": 0.5
          },
          "opacity": 0.6
         },
         "name": "Acu105",
         "opacity": 0.6,
         "showlegend": false,
         "type": "bar",
         "width": 0.65,
         "x": [
          "Acu105"
         ],
         "y": [
          3849.5367847546268
         ]
        },
        {
         "marker": {
          "color": "#EF553B",
          "cornerradius": 5,
          "line": {
           "color": "black",
           "width": 0.5
          },
          "opacity": 0.6
         },
         "name": "Acu106",
         "opacity": 0.6,
         "showlegend": false,
         "type": "bar",
         "x": [
          "Acu106"
         ],
         "y": [
          5761.815277777778
         ]
        },
        {
         "marker": {
          "color": "#00CC96",
          "cornerradius": 5,
          "line": {
           "color": "black",
           "width": 0.5
          },
          "opacity": 0.6
         },
         "name": "Acu106",
         "opacity": 0.6,
         "showlegend": false,
         "type": "bar",
         "width": 0.65,
         "x": [
          "Acu106"
         ],
         "y": [
          3812.0553451651035
         ]
        },
        {
         "marker": {
          "color": "#EF553B",
          "cornerradius": 5,
          "line": {
           "color": "black",
           "width": 0.5
          },
          "opacity": 0.6
         },
         "name": "Acu107",
         "opacity": 0.6,
         "showlegend": false,
         "type": "bar",
         "x": [
          "Acu107"
         ],
         "y": [
          7143.168888888889
         ]
        },
        {
         "marker": {
          "color": "#00CC96",
          "cornerradius": 5,
          "line": {
           "color": "black",
           "width": 0.5
          },
          "opacity": 0.6
         },
         "name": "Acu107",
         "opacity": 0.6,
         "showlegend": false,
         "type": "bar",
         "width": 0.65,
         "x": [
          "Acu107"
         ],
         "y": [
          4883.011505669382
         ]
        },
        {
         "marker": {
          "color": "#EF553B",
          "cornerradius": 5,
          "line": {
           "color": "black",
           "width": 0.5
          },
          "opacity": 0.6
         },
         "name": "Acu201",
         "opacity": 0.6,
         "showlegend": false,
         "type": "bar",
         "x": [
          "Acu201"
         ],
         "y": [
          6060.986111111111
         ]
        },
        {
         "marker": {
          "color": "#00CC96",
          "cornerradius": 5,
          "line": {
           "color": "black",
           "width": 0.5
          },
          "opacity": 0.6
         },
         "name": "Acu201",
         "opacity": 0.6,
         "showlegend": false,
         "type": "bar",
         "width": 0.65,
         "x": [
          "Acu201"
         ],
         "y": [
          4111.1317742613855
         ]
        },
        {
         "marker": {
          "color": "#EF553B",
          "cornerradius": 5,
          "line": {
           "color": "black",
           "width": 0.5
          },
          "opacity": 0.6
         },
         "name": "Acu202",
         "opacity": 0.6,
         "showlegend": false,
         "type": "bar",
         "x": [
          "Acu202"
         ],
         "y": [
          6001.486111111111
         ]
        },
        {
         "marker": {
          "color": "#00CC96",
          "cornerradius": 5,
          "line": {
           "color": "black",
           "width": 0.5
          },
          "opacity": 0.6
         },
         "name": "Acu202",
         "opacity": 0.6,
         "showlegend": false,
         "type": "bar",
         "width": 0.65,
         "x": [
          "Acu202"
         ],
         "y": [
          3983.3867624553177
         ]
        },
        {
         "marker": {
          "color": "#EF553B",
          "cornerradius": 5,
          "line": {
           "color": "black",
           "width": 0.5
          },
          "opacity": 0.6
         },
         "name": "Acu203",
         "opacity": 0.6,
         "showlegend": false,
         "type": "bar",
         "x": [
          "Acu203"
         ],
         "y": [
          6060.986111111111
         ]
        },
        {
         "marker": {
          "color": "#00CC96",
          "cornerradius": 5,
          "line": {
           "color": "black",
           "width": 0.5
          },
          "opacity": 0.6
         },
         "name": "Acu203",
         "opacity": 0.6,
         "showlegend": false,
         "type": "bar",
         "width": 0.65,
         "x": [
          "Acu203"
         ],
         "y": [
          4260.605866655675
         ]
        },
        {
         "marker": {
          "color": "#EF553B",
          "cornerradius": 5,
          "line": {
           "color": "black",
           "width": 0.5
          },
          "opacity": 0.6
         },
         "name": "Acu204",
         "opacity": 0.6,
         "showlegend": false,
         "type": "bar",
         "x": [
          "Acu204"
         ],
         "y": [
          6060.986111111111
         ]
        },
        {
         "marker": {
          "color": "#00CC96",
          "cornerradius": 5,
          "line": {
           "color": "black",
           "width": 0.5
          },
          "opacity": 0.6
         },
         "name": "Acu204",
         "opacity": 0.6,
         "showlegend": false,
         "type": "bar",
         "width": 0.65,
         "x": [
          "Acu204"
         ],
         "y": [
          3977.759764488564
         ]
        },
        {
         "marker": {
          "color": "#EF553B",
          "cornerradius": 5,
          "line": {
           "color": "black",
           "width": 0.5
          },
          "opacity": 0.6
         },
         "name": "Acu205",
         "opacity": 0.6,
         "showlegend": false,
         "type": "bar",
         "x": [
          "Acu205"
         ],
         "y": [
          6060.986111111111
         ]
        },
        {
         "marker": {
          "color": "#00CC96",
          "cornerradius": 5,
          "line": {
           "color": "black",
           "width": 0.5
          },
          "opacity": 0.6
         },
         "name": "Acu205",
         "opacity": 0.6,
         "showlegend": false,
         "type": "bar",
         "width": 0.65,
         "x": [
          "Acu205"
         ],
         "y": [
          4159.531108922843
         ]
        },
        {
         "marker": {
          "color": "#EF553B",
          "cornerradius": 5,
          "line": {
           "color": "black",
           "width": 0.5
          },
          "opacity": 0.6
         },
         "name": "Acu206",
         "opacity": 0.6,
         "showlegend": false,
         "type": "bar",
         "x": [
          "Acu206"
         ],
         "y": [
          6060.986111111111
         ]
        },
        {
         "marker": {
          "color": "#00CC96",
          "cornerradius": 5,
          "line": {
           "color": "black",
           "width": 0.5
          },
          "opacity": 0.6
         },
         "name": "Acu206",
         "opacity": 0.6,
         "showlegend": false,
         "type": "bar",
         "width": 0.65,
         "x": [
          "Acu206"
         ],
         "y": [
          3970.0361631064757
         ]
        },
        {
         "marker": {
          "color": "#EF553B",
          "cornerradius": 5,
          "line": {
           "color": "black",
           "width": 0.5
          },
          "opacity": 0.6
         },
         "name": "Acu207",
         "opacity": 0.6,
         "showlegend": false,
         "type": "bar",
         "x": [
          "Acu207"
         ],
         "y": [
          6060.986111111111
         ]
        },
        {
         "marker": {
          "color": "#00CC96",
          "cornerradius": 5,
          "line": {
           "color": "black",
           "width": 0.5
          },
          "opacity": 0.6
         },
         "name": "Acu207",
         "opacity": 0.6,
         "showlegend": false,
         "type": "bar",
         "width": 0.65,
         "x": [
          "Acu207"
         ],
         "y": [
          4120.104104880406
         ]
        },
        {
         "marker": {
          "color": "#EF553B",
          "cornerradius": 5,
          "line": {
           "color": "black",
           "width": 0.5
          },
          "opacity": 0.6
         },
         "name": "Acu301",
         "opacity": 0.6,
         "showlegend": false,
         "type": "bar",
         "x": [
          "Acu301"
         ],
         "y": [
          6013.984444444444
         ]
        },
        {
         "marker": {
          "color": "#00CC96",
          "cornerradius": 5,
          "line": {
           "color": "black",
           "width": 0.5
          },
          "opacity": 0.6
         },
         "name": "Acu301",
         "opacity": 0.6,
         "showlegend": false,
         "type": "bar",
         "width": 0.65,
         "x": [
          "Acu301"
         ],
         "y": [
          4113.983207481943
         ]
        },
        {
         "marker": {
          "color": "#EF553B",
          "cornerradius": 5,
          "line": {
           "color": "black",
           "width": 0.5
          },
          "opacity": 0.6
         },
         "name": "Acu302",
         "opacity": 0.6,
         "showlegend": false,
         "type": "bar",
         "x": [
          "Acu302"
         ],
         "y": [
          6013.984444444444
         ]
        },
        {
         "marker": {
          "color": "#00CC96",
          "cornerradius": 5,
          "line": {
           "color": "black",
           "width": 0.5
          },
          "opacity": 0.6
         },
         "name": "Acu302",
         "opacity": 0.6,
         "showlegend": false,
         "type": "bar",
         "width": 0.65,
         "x": [
          "Acu302"
         ],
         "y": [
          4018.4109841571667
         ]
        },
        {
         "marker": {
          "color": "#EF553B",
          "cornerradius": 5,
          "line": {
           "color": "black",
           "width": 0.5
          },
          "opacity": 0.6
         },
         "name": "Acu303",
         "opacity": 0.6,
         "showlegend": false,
         "type": "bar",
         "x": [
          "Acu303"
         ],
         "y": [
          6013.984444444444
         ]
        },
        {
         "marker": {
          "color": "#00CC96",
          "cornerradius": 5,
          "line": {
           "color": "black",
           "width": 0.5
          },
          "opacity": 0.6
         },
         "name": "Acu303",
         "opacity": 0.6,
         "showlegend": false,
         "type": "bar",
         "width": 0.65,
         "x": [
          "Acu303"
         ],
         "y": [
          4016.6778004453267
         ]
        },
        {
         "marker": {
          "color": "#EF553B",
          "cornerradius": 5,
          "line": {
           "color": "black",
           "width": 0.5
          },
          "opacity": 0.6
         },
         "name": "Acu304",
         "opacity": 0.6,
         "showlegend": false,
         "type": "bar",
         "x": [
          "Acu304"
         ],
         "y": [
          6013.984444444444
         ]
        },
        {
         "marker": {
          "color": "#00CC96",
          "cornerradius": 5,
          "line": {
           "color": "black",
           "width": 0.5
          },
          "opacity": 0.6
         },
         "name": "Acu304",
         "opacity": 0.6,
         "showlegend": false,
         "type": "bar",
         "width": 0.65,
         "x": [
          "Acu304"
         ],
         "y": [
          4012.9676177539086
         ]
        },
        {
         "marker": {
          "color": "#EF553B",
          "cornerradius": 5,
          "line": {
           "color": "black",
           "width": 0.5
          },
          "opacity": 0.6
         },
         "name": "Acu305",
         "opacity": 0.6,
         "showlegend": false,
         "type": "bar",
         "x": [
          "Acu305"
         ],
         "y": [
          6013.984444444444
         ]
        },
        {
         "marker": {
          "color": "#00CC96",
          "cornerradius": 5,
          "line": {
           "color": "black",
           "width": 0.5
          },
          "opacity": 0.6
         },
         "name": "Acu305",
         "opacity": 0.6,
         "showlegend": false,
         "type": "bar",
         "width": 0.65,
         "x": [
          "Acu305"
         ],
         "y": [
          4032.4245800345175
         ]
        },
        {
         "marker": {
          "color": "#EF553B",
          "cornerradius": 5,
          "line": {
           "color": "black",
           "width": 0.5
          },
          "opacity": 0.6
         },
         "name": "Acu306",
         "opacity": 0.6,
         "showlegend": false,
         "type": "bar",
         "x": [
          "Acu306"
         ],
         "y": [
          6013.984444444444
         ]
        },
        {
         "marker": {
          "color": "#00CC96",
          "cornerradius": 5,
          "line": {
           "color": "black",
           "width": 0.5
          },
          "opacity": 0.6
         },
         "name": "Acu306",
         "opacity": 0.6,
         "showlegend": false,
         "type": "bar",
         "width": 0.65,
         "x": [
          "Acu306"
         ],
         "y": [
          4065.7183589320393
         ]
        },
        {
         "marker": {
          "color": "#EF553B",
          "cornerradius": 5,
          "line": {
           "color": "black",
           "width": 0.5
          },
          "opacity": 0.6
         },
         "name": "Acu307",
         "opacity": 0.6,
         "showlegend": false,
         "type": "bar",
         "x": [
          "Acu307"
         ],
         "y": [
          6013.984444444444
         ]
        },
        {
         "marker": {
          "color": "#00CC96",
          "cornerradius": 5,
          "line": {
           "color": "black",
           "width": 0.5
          },
          "opacity": 0.6
         },
         "name": "Acu307",
         "opacity": 0.6,
         "showlegend": false,
         "type": "bar",
         "width": 0.65,
         "x": [
          "Acu307"
         ],
         "y": [
          4070.5411188111516
         ]
        },
        {
         "marker": {
          "color": "#EF553B",
          "cornerradius": 5,
          "line": {
           "color": "black",
           "width": 0.5
          },
          "opacity": 0.6
         },
         "name": "Acu308",
         "opacity": 0.6,
         "showlegend": false,
         "type": "bar",
         "x": [
          "Acu308"
         ],
         "y": [
          6013.984444444444
         ]
        },
        {
         "marker": {
          "color": "#00CC96",
          "cornerradius": 5,
          "line": {
           "color": "black",
           "width": 0.5
          },
          "opacity": 0.6
         },
         "name": "Acu308",
         "opacity": 0.6,
         "showlegend": false,
         "type": "bar",
         "width": 0.65,
         "x": [
          "Acu308"
         ],
         "y": [
          4079.4598377507286
         ]
        },
        {
         "marker": {
          "color": "#EF553B"
         },
         "name": "Actual",
         "type": "bar",
         "x": [
          null
         ],
         "y": [
          null
         ]
        },
        {
         "marker": {
          "color": "#00CC96"
         },
         "name": "Predicted",
         "type": "bar",
         "x": [
          null
         ],
         "y": [
          null
         ]
        }
       ],
       "layout": {
        "barmode": "overlay",
        "legend": {
         "orientation": "h",
         "x": 1,
         "xanchor": "right",
         "y": 1,
         "yanchor": "bottom"
        },
        "margin": {
         "b": 50,
         "l": 50,
         "r": 50,
         "t": 50
        },
        "template": {
         "data": {
          "bar": [
           {
            "error_x": {
             "color": "#2a3f5f"
            },
            "error_y": {
             "color": "#2a3f5f"
            },
            "marker": {
             "line": {
              "color": "#E5ECF6",
              "width": 0.5
             },
             "pattern": {
              "fillmode": "overlay",
              "size": 10,
              "solidity": 0.2
             }
            },
            "type": "bar"
           }
          ],
          "barpolar": [
           {
            "marker": {
             "line": {
              "color": "#E5ECF6",
              "width": 0.5
             },
             "pattern": {
              "fillmode": "overlay",
              "size": 10,
              "solidity": 0.2
             }
            },
            "type": "barpolar"
           }
          ],
          "carpet": [
           {
            "aaxis": {
             "endlinecolor": "#2a3f5f",
             "gridcolor": "white",
             "linecolor": "white",
             "minorgridcolor": "white",
             "startlinecolor": "#2a3f5f"
            },
            "baxis": {
             "endlinecolor": "#2a3f5f",
             "gridcolor": "white",
             "linecolor": "white",
             "minorgridcolor": "white",
             "startlinecolor": "#2a3f5f"
            },
            "type": "carpet"
           }
          ],
          "choropleth": [
           {
            "colorbar": {
             "outlinewidth": 0,
             "ticks": ""
            },
            "type": "choropleth"
           }
          ],
          "contour": [
           {
            "colorbar": {
             "outlinewidth": 0,
             "ticks": ""
            },
            "colorscale": [
             [
              0,
              "#0d0887"
             ],
             [
              0.1111111111111111,
              "#46039f"
             ],
             [
              0.2222222222222222,
              "#7201a8"
             ],
             [
              0.3333333333333333,
              "#9c179e"
             ],
             [
              0.4444444444444444,
              "#bd3786"
             ],
             [
              0.5555555555555556,
              "#d8576b"
             ],
             [
              0.6666666666666666,
              "#ed7953"
             ],
             [
              0.7777777777777778,
              "#fb9f3a"
             ],
             [
              0.8888888888888888,
              "#fdca26"
             ],
             [
              1,
              "#f0f921"
             ]
            ],
            "type": "contour"
           }
          ],
          "contourcarpet": [
           {
            "colorbar": {
             "outlinewidth": 0,
             "ticks": ""
            },
            "type": "contourcarpet"
           }
          ],
          "heatmap": [
           {
            "colorbar": {
             "outlinewidth": 0,
             "ticks": ""
            },
            "colorscale": [
             [
              0,
              "#0d0887"
             ],
             [
              0.1111111111111111,
              "#46039f"
             ],
             [
              0.2222222222222222,
              "#7201a8"
             ],
             [
              0.3333333333333333,
              "#9c179e"
             ],
             [
              0.4444444444444444,
              "#bd3786"
             ],
             [
              0.5555555555555556,
              "#d8576b"
             ],
             [
              0.6666666666666666,
              "#ed7953"
             ],
             [
              0.7777777777777778,
              "#fb9f3a"
             ],
             [
              0.8888888888888888,
              "#fdca26"
             ],
             [
              1,
              "#f0f921"
             ]
            ],
            "type": "heatmap"
           }
          ],
          "heatmapgl": [
           {
            "colorbar": {
             "outlinewidth": 0,
             "ticks": ""
            },
            "colorscale": [
             [
              0,
              "#0d0887"
             ],
             [
              0.1111111111111111,
              "#46039f"
             ],
             [
              0.2222222222222222,
              "#7201a8"
             ],
             [
              0.3333333333333333,
              "#9c179e"
             ],
             [
              0.4444444444444444,
              "#bd3786"
             ],
             [
              0.5555555555555556,
              "#d8576b"
             ],
             [
              0.6666666666666666,
              "#ed7953"
             ],
             [
              0.7777777777777778,
              "#fb9f3a"
             ],
             [
              0.8888888888888888,
              "#fdca26"
             ],
             [
              1,
              "#f0f921"
             ]
            ],
            "type": "heatmapgl"
           }
          ],
          "histogram": [
           {
            "marker": {
             "pattern": {
              "fillmode": "overlay",
              "size": 10,
              "solidity": 0.2
             }
            },
            "type": "histogram"
           }
          ],
          "histogram2d": [
           {
            "colorbar": {
             "outlinewidth": 0,
             "ticks": ""
            },
            "colorscale": [
             [
              0,
              "#0d0887"
             ],
             [
              0.1111111111111111,
              "#46039f"
             ],
             [
              0.2222222222222222,
              "#7201a8"
             ],
             [
              0.3333333333333333,
              "#9c179e"
             ],
             [
              0.4444444444444444,
              "#bd3786"
             ],
             [
              0.5555555555555556,
              "#d8576b"
             ],
             [
              0.6666666666666666,
              "#ed7953"
             ],
             [
              0.7777777777777778,
              "#fb9f3a"
             ],
             [
              0.8888888888888888,
              "#fdca26"
             ],
             [
              1,
              "#f0f921"
             ]
            ],
            "type": "histogram2d"
           }
          ],
          "histogram2dcontour": [
           {
            "colorbar": {
             "outlinewidth": 0,
             "ticks": ""
            },
            "colorscale": [
             [
              0,
              "#0d0887"
             ],
             [
              0.1111111111111111,
              "#46039f"
             ],
             [
              0.2222222222222222,
              "#7201a8"
             ],
             [
              0.3333333333333333,
              "#9c179e"
             ],
             [
              0.4444444444444444,
              "#bd3786"
             ],
             [
              0.5555555555555556,
              "#d8576b"
             ],
             [
              0.6666666666666666,
              "#ed7953"
             ],
             [
              0.7777777777777778,
              "#fb9f3a"
             ],
             [
              0.8888888888888888,
              "#fdca26"
             ],
             [
              1,
              "#f0f921"
             ]
            ],
            "type": "histogram2dcontour"
           }
          ],
          "mesh3d": [
           {
            "colorbar": {
             "outlinewidth": 0,
             "ticks": ""
            },
            "type": "mesh3d"
           }
          ],
          "parcoords": [
           {
            "line": {
             "colorbar": {
              "outlinewidth": 0,
              "ticks": ""
             }
            },
            "type": "parcoords"
           }
          ],
          "pie": [
           {
            "automargin": true,
            "type": "pie"
           }
          ],
          "scatter": [
           {
            "fillpattern": {
             "fillmode": "overlay",
             "size": 10,
             "solidity": 0.2
            },
            "type": "scatter"
           }
          ],
          "scatter3d": [
           {
            "line": {
             "colorbar": {
              "outlinewidth": 0,
              "ticks": ""
             }
            },
            "marker": {
             "colorbar": {
              "outlinewidth": 0,
              "ticks": ""
             }
            },
            "type": "scatter3d"
           }
          ],
          "scattercarpet": [
           {
            "marker": {
             "colorbar": {
              "outlinewidth": 0,
              "ticks": ""
             }
            },
            "type": "scattercarpet"
           }
          ],
          "scattergeo": [
           {
            "marker": {
             "colorbar": {
              "outlinewidth": 0,
              "ticks": ""
             }
            },
            "type": "scattergeo"
           }
          ],
          "scattergl": [
           {
            "marker": {
             "colorbar": {
              "outlinewidth": 0,
              "ticks": ""
             }
            },
            "type": "scattergl"
           }
          ],
          "scattermapbox": [
           {
            "marker": {
             "colorbar": {
              "outlinewidth": 0,
              "ticks": ""
             }
            },
            "type": "scattermapbox"
           }
          ],
          "scatterpolar": [
           {
            "marker": {
             "colorbar": {
              "outlinewidth": 0,
              "ticks": ""
             }
            },
            "type": "scatterpolar"
           }
          ],
          "scatterpolargl": [
           {
            "marker": {
             "colorbar": {
              "outlinewidth": 0,
              "ticks": ""
             }
            },
            "type": "scatterpolargl"
           }
          ],
          "scatterternary": [
           {
            "marker": {
             "colorbar": {
              "outlinewidth": 0,
              "ticks": ""
             }
            },
            "type": "scatterternary"
           }
          ],
          "surface": [
           {
            "colorbar": {
             "outlinewidth": 0,
             "ticks": ""
            },
            "colorscale": [
             [
              0,
              "#0d0887"
             ],
             [
              0.1111111111111111,
              "#46039f"
             ],
             [
              0.2222222222222222,
              "#7201a8"
             ],
             [
              0.3333333333333333,
              "#9c179e"
             ],
             [
              0.4444444444444444,
              "#bd3786"
             ],
             [
              0.5555555555555556,
              "#d8576b"
             ],
             [
              0.6666666666666666,
              "#ed7953"
             ],
             [
              0.7777777777777778,
              "#fb9f3a"
             ],
             [
              0.8888888888888888,
              "#fdca26"
             ],
             [
              1,
              "#f0f921"
             ]
            ],
            "type": "surface"
           }
          ],
          "table": [
           {
            "cells": {
             "fill": {
              "color": "#EBF0F8"
             },
             "line": {
              "color": "white"
             }
            },
            "header": {
             "fill": {
              "color": "#C8D4E3"
             },
             "line": {
              "color": "white"
             }
            },
            "type": "table"
           }
          ]
         },
         "layout": {
          "annotationdefaults": {
           "arrowcolor": "#2a3f5f",
           "arrowhead": 0,
           "arrowwidth": 1
          },
          "autotypenumbers": "strict",
          "coloraxis": {
           "colorbar": {
            "outlinewidth": 0,
            "ticks": ""
           }
          },
          "colorscale": {
           "diverging": [
            [
             0,
             "#8e0152"
            ],
            [
             0.1,
             "#c51b7d"
            ],
            [
             0.2,
             "#de77ae"
            ],
            [
             0.3,
             "#f1b6da"
            ],
            [
             0.4,
             "#fde0ef"
            ],
            [
             0.5,
             "#f7f7f7"
            ],
            [
             0.6,
             "#e6f5d0"
            ],
            [
             0.7,
             "#b8e186"
            ],
            [
             0.8,
             "#7fbc41"
            ],
            [
             0.9,
             "#4d9221"
            ],
            [
             1,
             "#276419"
            ]
           ],
           "sequential": [
            [
             0,
             "#0d0887"
            ],
            [
             0.1111111111111111,
             "#46039f"
            ],
            [
             0.2222222222222222,
             "#7201a8"
            ],
            [
             0.3333333333333333,
             "#9c179e"
            ],
            [
             0.4444444444444444,
             "#bd3786"
            ],
            [
             0.5555555555555556,
             "#d8576b"
            ],
            [
             0.6666666666666666,
             "#ed7953"
            ],
            [
             0.7777777777777778,
             "#fb9f3a"
            ],
            [
             0.8888888888888888,
             "#fdca26"
            ],
            [
             1,
             "#f0f921"
            ]
           ],
           "sequentialminus": [
            [
             0,
             "#0d0887"
            ],
            [
             0.1111111111111111,
             "#46039f"
            ],
            [
             0.2222222222222222,
             "#7201a8"
            ],
            [
             0.3333333333333333,
             "#9c179e"
            ],
            [
             0.4444444444444444,
             "#bd3786"
            ],
            [
             0.5555555555555556,
             "#d8576b"
            ],
            [
             0.6666666666666666,
             "#ed7953"
            ],
            [
             0.7777777777777778,
             "#fb9f3a"
            ],
            [
             0.8888888888888888,
             "#fdca26"
            ],
            [
             1,
             "#f0f921"
            ]
           ]
          },
          "colorway": [
           "#636efa",
           "#EF553B",
           "#00cc96",
           "#ab63fa",
           "#FFA15A",
           "#19d3f3",
           "#FF6692",
           "#B6E880",
           "#FF97FF",
           "#FECB52"
          ],
          "font": {
           "color": "#2a3f5f"
          },
          "geo": {
           "bgcolor": "white",
           "lakecolor": "white",
           "landcolor": "#E5ECF6",
           "showlakes": true,
           "showland": true,
           "subunitcolor": "white"
          },
          "hoverlabel": {
           "align": "left"
          },
          "hovermode": "closest",
          "mapbox": {
           "style": "light"
          },
          "paper_bgcolor": "white",
          "plot_bgcolor": "#E5ECF6",
          "polar": {
           "angularaxis": {
            "gridcolor": "white",
            "linecolor": "white",
            "ticks": ""
           },
           "bgcolor": "#E5ECF6",
           "radialaxis": {
            "gridcolor": "white",
            "linecolor": "white",
            "ticks": ""
           }
          },
          "scene": {
           "xaxis": {
            "backgroundcolor": "#E5ECF6",
            "gridcolor": "white",
            "gridwidth": 2,
            "linecolor": "white",
            "showbackground": true,
            "ticks": "",
            "zerolinecolor": "white"
           },
           "yaxis": {
            "backgroundcolor": "#E5ECF6",
            "gridcolor": "white",
            "gridwidth": 2,
            "linecolor": "white",
            "showbackground": true,
            "ticks": "",
            "zerolinecolor": "white"
           },
           "zaxis": {
            "backgroundcolor": "#E5ECF6",
            "gridcolor": "white",
            "gridwidth": 2,
            "linecolor": "white",
            "showbackground": true,
            "ticks": "",
            "zerolinecolor": "white"
           }
          },
          "shapedefaults": {
           "line": {
            "color": "#2a3f5f"
           }
          },
          "ternary": {
           "aaxis": {
            "gridcolor": "white",
            "linecolor": "white",
            "ticks": ""
           },
           "baxis": {
            "gridcolor": "white",
            "linecolor": "white",
            "ticks": ""
           },
           "bgcolor": "#E5ECF6",
           "caxis": {
            "gridcolor": "white",
            "linecolor": "white",
            "ticks": ""
           }
          },
          "title": {
           "x": 0.05
          },
          "xaxis": {
           "automargin": true,
           "gridcolor": "white",
           "linecolor": "white",
           "ticks": "",
           "title": {
            "standoff": 15
           },
           "zerolinecolor": "white",
           "zerolinewidth": 2
          },
          "yaxis": {
           "automargin": true,
           "gridcolor": "white",
           "linecolor": "white",
           "ticks": "",
           "title": {
            "standoff": 15
           },
           "zerolinecolor": "white",
           "zerolinewidth": 2
          }
         }
        },
        "xaxis": {
         "title": {
          "text": "<b>Building 1 Zones</b>"
         }
        },
        "yaxis": {
         "title": {
          "text": "<b>Total Time Fan On (hours)</b>"
         }
        }
       }
      }
     },
     "metadata": {},
     "output_type": "display_data"
    }
   ],
   "source": [
    "fig = BarChartCreator(df,1)\n",
    "fig.fig"
   ]
  },
  {
   "cell_type": "code",
   "execution_count": 14,
   "metadata": {},
   "outputs": [
    {
     "data": {
      "text/plain": [
       "46"
      ]
     },
     "execution_count": 14,
     "metadata": {},
     "output_type": "execute_result"
    }
   ],
   "source": [
    "len(fig.fig.data)"
   ]
  },
  {
   "cell_type": "code",
   "execution_count": 15,
   "metadata": {},
   "outputs": [
    {
     "name": "stdout",
     "output_type": "stream",
     "text": [
      "(Bar({\n",
      "    'marker': {'color': '#EF553B', 'cornerradius': 5, 'line': {'color': 'black', 'width': 0.5}, 'opacity': 0.6},\n",
      "    'name': 'Acu101',\n",
      "    'opacity': 0.6,\n",
      "    'showlegend': False,\n",
      "    'x': [Acu101],\n",
      "    'y': [5856.6466666666665]\n",
      "}), Bar({\n",
      "    'marker': {'color': '#00CC96', 'cornerradius': 5, 'line': {'color': 'black', 'width': 0.5}, 'opacity': 0.6},\n",
      "    'name': 'Acu101',\n",
      "    'opacity': 0.6,\n",
      "    'showlegend': False,\n",
      "    'width': 0.65,\n",
      "    'x': [Acu101],\n",
      "    'y': [4013.719971309773]\n",
      "}), Bar({\n",
      "    'marker': {'color': '#EF553B', 'cornerradius': 5, 'line': {'color': 'black', 'width': 0.5}, 'opacity': 0.6},\n",
      "    'name': 'Acu102',\n",
      "    'opacity': 0.6,\n",
      "    'showlegend': False,\n",
      "    'x': [Acu102],\n",
      "    'y': [5856.6466666666665]\n",
      "}), Bar({\n",
      "    'marker': {'color': '#00CC96', 'cornerradius': 5, 'line': {'color': 'black', 'width': 0.5}, 'opacity': 0.6},\n",
      "    'name': 'Acu102',\n",
      "    'opacity': 0.6,\n",
      "    'showlegend': False,\n",
      "    'width': 0.65,\n",
      "    'x': [Acu102],\n",
      "    'y': [3993.6965305208855]\n",
      "}), Bar({\n",
      "    'marker': {'color': '#EF553B', 'cornerradius': 5, 'line': {'color': 'black', 'width': 0.5}, 'opacity': 0.6},\n",
      "    'name': 'Acu103',\n",
      "    'opacity': 0.6,\n",
      "    'showlegend': False,\n",
      "    'x': [Acu103],\n",
      "    'y': [5856.6466666666665]\n",
      "}), Bar({\n",
      "    'marker': {'color': '#00CC96', 'cornerradius': 5, 'line': {'color': 'black', 'width': 0.5}, 'opacity': 0.6},\n",
      "    'name': 'Acu103',\n",
      "    'opacity': 0.6,\n",
      "    'showlegend': False,\n",
      "    'width': 0.65,\n",
      "    'x': [Acu103],\n",
      "    'y': [3997.2784468037903]\n",
      "}), Bar({\n",
      "    'marker': {'color': '#EF553B', 'cornerradius': 5, 'line': {'color': 'black', 'width': 0.5}, 'opacity': 0.6},\n",
      "    'name': 'Acu104',\n",
      "    'opacity': 0.6,\n",
      "    'showlegend': False,\n",
      "    'x': [Acu104],\n",
      "    'y': [5772.814722222222]\n",
      "}), Bar({\n",
      "    'marker': {'color': '#00CC96', 'cornerradius': 5, 'line': {'color': 'black', 'width': 0.5}, 'opacity': 0.6},\n",
      "    'name': 'Acu104',\n",
      "    'opacity': 0.6,\n",
      "    'showlegend': False,\n",
      "    'width': 0.65,\n",
      "    'x': [Acu104],\n",
      "    'y': [3902.100328775281]\n",
      "}), Bar({\n",
      "    'marker': {'color': '#EF553B', 'cornerradius': 5, 'line': {'color': 'black', 'width': 0.5}, 'opacity': 0.6},\n",
      "    'name': 'Acu105',\n",
      "    'opacity': 0.6,\n",
      "    'showlegend': False,\n",
      "    'x': [Acu105],\n",
      "    'y': [5762.316666666667]\n",
      "}), Bar({\n",
      "    'marker': {'color': '#00CC96', 'cornerradius': 5, 'line': {'color': 'black', 'width': 0.5}, 'opacity': 0.6},\n",
      "    'name': 'Acu105',\n",
      "    'opacity': 0.6,\n",
      "    'showlegend': False,\n",
      "    'width': 0.65,\n",
      "    'x': [Acu105],\n",
      "    'y': [3849.5367847546268]\n",
      "}), Bar({\n",
      "    'marker': {'color': '#EF553B', 'cornerradius': 5, 'line': {'color': 'black', 'width': 0.5}, 'opacity': 0.6},\n",
      "    'name': 'Acu106',\n",
      "    'opacity': 0.6,\n",
      "    'showlegend': False,\n",
      "    'x': [Acu106],\n",
      "    'y': [5761.815277777778]\n",
      "}), Bar({\n",
      "    'marker': {'color': '#00CC96', 'cornerradius': 5, 'line': {'color': 'black', 'width': 0.5}, 'opacity': 0.6},\n",
      "    'name': 'Acu106',\n",
      "    'opacity': 0.6,\n",
      "    'showlegend': False,\n",
      "    'width': 0.65,\n",
      "    'x': [Acu106],\n",
      "    'y': [3812.0553451651035]\n",
      "}), Bar({\n",
      "    'marker': {'color': '#EF553B', 'cornerradius': 5, 'line': {'color': 'black', 'width': 0.5}, 'opacity': 0.6},\n",
      "    'name': 'Acu107',\n",
      "    'opacity': 0.6,\n",
      "    'showlegend': False,\n",
      "    'x': [Acu107],\n",
      "    'y': [7143.168888888889]\n",
      "}), Bar({\n",
      "    'marker': {'color': '#00CC96', 'cornerradius': 5, 'line': {'color': 'black', 'width': 0.5}, 'opacity': 0.6},\n",
      "    'name': 'Acu107',\n",
      "    'opacity': 0.6,\n",
      "    'showlegend': False,\n",
      "    'width': 0.65,\n",
      "    'x': [Acu107],\n",
      "    'y': [4883.011505669382]\n",
      "}), Bar({\n",
      "    'marker': {'color': '#EF553B', 'cornerradius': 5, 'line': {'color': 'black', 'width': 0.5}, 'opacity': 0.6},\n",
      "    'name': 'Acu201',\n",
      "    'opacity': 0.6,\n",
      "    'showlegend': False,\n",
      "    'x': [Acu201],\n",
      "    'y': [6060.986111111111]\n",
      "}), Bar({\n",
      "    'marker': {'color': '#00CC96', 'cornerradius': 5, 'line': {'color': 'black', 'width': 0.5}, 'opacity': 0.6},\n",
      "    'name': 'Acu201',\n",
      "    'opacity': 0.6,\n",
      "    'showlegend': False,\n",
      "    'width': 0.65,\n",
      "    'x': [Acu201],\n",
      "    'y': [4111.1317742613855]\n",
      "}), Bar({\n",
      "    'marker': {'color': '#EF553B', 'cornerradius': 5, 'line': {'color': 'black', 'width': 0.5}, 'opacity': 0.6},\n",
      "    'name': 'Acu202',\n",
      "    'opacity': 0.6,\n",
      "    'showlegend': False,\n",
      "    'x': [Acu202],\n",
      "    'y': [6001.486111111111]\n",
      "}), Bar({\n",
      "    'marker': {'color': '#00CC96', 'cornerradius': 5, 'line': {'color': 'black', 'width': 0.5}, 'opacity': 0.6},\n",
      "    'name': 'Acu202',\n",
      "    'opacity': 0.6,\n",
      "    'showlegend': False,\n",
      "    'width': 0.65,\n",
      "    'x': [Acu202],\n",
      "    'y': [3983.3867624553177]\n",
      "}), Bar({\n",
      "    'marker': {'color': '#EF553B', 'cornerradius': 5, 'line': {'color': 'black', 'width': 0.5}, 'opacity': 0.6},\n",
      "    'name': 'Acu203',\n",
      "    'opacity': 0.6,\n",
      "    'showlegend': False,\n",
      "    'x': [Acu203],\n",
      "    'y': [6060.986111111111]\n",
      "}), Bar({\n",
      "    'marker': {'color': '#00CC96', 'cornerradius': 5, 'line': {'color': 'black', 'width': 0.5}, 'opacity': 0.6},\n",
      "    'name': 'Acu203',\n",
      "    'opacity': 0.6,\n",
      "    'showlegend': False,\n",
      "    'width': 0.65,\n",
      "    'x': [Acu203],\n",
      "    'y': [4260.605866655675]\n",
      "}), Bar({\n",
      "    'marker': {'color': '#EF553B', 'cornerradius': 5, 'line': {'color': 'black', 'width': 0.5}, 'opacity': 0.6},\n",
      "    'name': 'Acu204',\n",
      "    'opacity': 0.6,\n",
      "    'showlegend': False,\n",
      "    'x': [Acu204],\n",
      "    'y': [6060.986111111111]\n",
      "}), Bar({\n",
      "    'marker': {'color': '#00CC96', 'cornerradius': 5, 'line': {'color': 'black', 'width': 0.5}, 'opacity': 0.6},\n",
      "    'name': 'Acu204',\n",
      "    'opacity': 0.6,\n",
      "    'showlegend': False,\n",
      "    'width': 0.65,\n",
      "    'x': [Acu204],\n",
      "    'y': [3977.759764488564]\n",
      "}), Bar({\n",
      "    'marker': {'color': '#EF553B', 'cornerradius': 5, 'line': {'color': 'black', 'width': 0.5}, 'opacity': 0.6},\n",
      "    'name': 'Acu205',\n",
      "    'opacity': 0.6,\n",
      "    'showlegend': False,\n",
      "    'x': [Acu205],\n",
      "    'y': [6060.986111111111]\n",
      "}), Bar({\n",
      "    'marker': {'color': '#00CC96', 'cornerradius': 5, 'line': {'color': 'black', 'width': 0.5}, 'opacity': 0.6},\n",
      "    'name': 'Acu205',\n",
      "    'opacity': 0.6,\n",
      "    'showlegend': False,\n",
      "    'width': 0.65,\n",
      "    'x': [Acu205],\n",
      "    'y': [4159.531108922843]\n",
      "}), Bar({\n",
      "    'marker': {'color': '#EF553B', 'cornerradius': 5, 'line': {'color': 'black', 'width': 0.5}, 'opacity': 0.6},\n",
      "    'name': 'Acu206',\n",
      "    'opacity': 0.6,\n",
      "    'showlegend': False,\n",
      "    'x': [Acu206],\n",
      "    'y': [6060.986111111111]\n",
      "}), Bar({\n",
      "    'marker': {'color': '#00CC96', 'cornerradius': 5, 'line': {'color': 'black', 'width': 0.5}, 'opacity': 0.6},\n",
      "    'name': 'Acu206',\n",
      "    'opacity': 0.6,\n",
      "    'showlegend': False,\n",
      "    'width': 0.65,\n",
      "    'x': [Acu206],\n",
      "    'y': [3970.0361631064757]\n",
      "}), Bar({\n",
      "    'marker': {'color': '#EF553B', 'cornerradius': 5, 'line': {'color': 'black', 'width': 0.5}, 'opacity': 0.6},\n",
      "    'name': 'Acu207',\n",
      "    'opacity': 0.6,\n",
      "    'showlegend': False,\n",
      "    'x': [Acu207],\n",
      "    'y': [6060.986111111111]\n",
      "}), Bar({\n",
      "    'marker': {'color': '#00CC96', 'cornerradius': 5, 'line': {'color': 'black', 'width': 0.5}, 'opacity': 0.6},\n",
      "    'name': 'Acu207',\n",
      "    'opacity': 0.6,\n",
      "    'showlegend': False,\n",
      "    'width': 0.65,\n",
      "    'x': [Acu207],\n",
      "    'y': [4120.104104880406]\n",
      "}), Bar({\n",
      "    'marker': {'color': '#EF553B', 'cornerradius': 5, 'line': {'color': 'black', 'width': 0.5}, 'opacity': 0.6},\n",
      "    'name': 'Acu301',\n",
      "    'opacity': 0.6,\n",
      "    'showlegend': False,\n",
      "    'x': [Acu301],\n",
      "    'y': [6013.984444444444]\n",
      "}), Bar({\n",
      "    'marker': {'color': '#00CC96', 'cornerradius': 5, 'line': {'color': 'black', 'width': 0.5}, 'opacity': 0.6},\n",
      "    'name': 'Acu301',\n",
      "    'opacity': 0.6,\n",
      "    'showlegend': False,\n",
      "    'width': 0.65,\n",
      "    'x': [Acu301],\n",
      "    'y': [4113.983207481943]\n",
      "}), Bar({\n",
      "    'marker': {'color': '#EF553B', 'cornerradius': 5, 'line': {'color': 'black', 'width': 0.5}, 'opacity': 0.6},\n",
      "    'name': 'Acu302',\n",
      "    'opacity': 0.6,\n",
      "    'showlegend': False,\n",
      "    'x': [Acu302],\n",
      "    'y': [6013.984444444444]\n",
      "}), Bar({\n",
      "    'marker': {'color': '#00CC96', 'cornerradius': 5, 'line': {'color': 'black', 'width': 0.5}, 'opacity': 0.6},\n",
      "    'name': 'Acu302',\n",
      "    'opacity': 0.6,\n",
      "    'showlegend': False,\n",
      "    'width': 0.65,\n",
      "    'x': [Acu302],\n",
      "    'y': [4018.4109841571667]\n",
      "}), Bar({\n",
      "    'marker': {'color': '#EF553B', 'cornerradius': 5, 'line': {'color': 'black', 'width': 0.5}, 'opacity': 0.6},\n",
      "    'name': 'Acu303',\n",
      "    'opacity': 0.6,\n",
      "    'showlegend': False,\n",
      "    'x': [Acu303],\n",
      "    'y': [6013.984444444444]\n",
      "}), Bar({\n",
      "    'marker': {'color': '#00CC96', 'cornerradius': 5, 'line': {'color': 'black', 'width': 0.5}, 'opacity': 0.6},\n",
      "    'name': 'Acu303',\n",
      "    'opacity': 0.6,\n",
      "    'showlegend': False,\n",
      "    'width': 0.65,\n",
      "    'x': [Acu303],\n",
      "    'y': [4016.6778004453267]\n",
      "}), Bar({\n",
      "    'marker': {'color': '#EF553B', 'cornerradius': 5, 'line': {'color': 'black', 'width': 0.5}, 'opacity': 0.6},\n",
      "    'name': 'Acu304',\n",
      "    'opacity': 0.6,\n",
      "    'showlegend': False,\n",
      "    'x': [Acu304],\n",
      "    'y': [6013.984444444444]\n",
      "}), Bar({\n",
      "    'marker': {'color': '#00CC96', 'cornerradius': 5, 'line': {'color': 'black', 'width': 0.5}, 'opacity': 0.6},\n",
      "    'name': 'Acu304',\n",
      "    'opacity': 0.6,\n",
      "    'showlegend': False,\n",
      "    'width': 0.65,\n",
      "    'x': [Acu304],\n",
      "    'y': [4012.9676177539086]\n",
      "}), Bar({\n",
      "    'marker': {'color': '#EF553B', 'cornerradius': 5, 'line': {'color': 'black', 'width': 0.5}, 'opacity': 0.6},\n",
      "    'name': 'Acu305',\n",
      "    'opacity': 0.6,\n",
      "    'showlegend': False,\n",
      "    'x': [Acu305],\n",
      "    'y': [6013.984444444444]\n",
      "}), Bar({\n",
      "    'marker': {'color': '#00CC96', 'cornerradius': 5, 'line': {'color': 'black', 'width': 0.5}, 'opacity': 0.6},\n",
      "    'name': 'Acu305',\n",
      "    'opacity': 0.6,\n",
      "    'showlegend': False,\n",
      "    'width': 0.65,\n",
      "    'x': [Acu305],\n",
      "    'y': [4032.4245800345175]\n",
      "}), Bar({\n",
      "    'marker': {'color': '#EF553B', 'cornerradius': 5, 'line': {'color': 'black', 'width': 0.5}, 'opacity': 0.6},\n",
      "    'name': 'Acu306',\n",
      "    'opacity': 0.6,\n",
      "    'showlegend': False,\n",
      "    'x': [Acu306],\n",
      "    'y': [6013.984444444444]\n",
      "}), Bar({\n",
      "    'marker': {'color': '#00CC96', 'cornerradius': 5, 'line': {'color': 'black', 'width': 0.5}, 'opacity': 0.6},\n",
      "    'name': 'Acu306',\n",
      "    'opacity': 0.6,\n",
      "    'showlegend': False,\n",
      "    'width': 0.65,\n",
      "    'x': [Acu306],\n",
      "    'y': [4065.7183589320393]\n",
      "}), Bar({\n",
      "    'marker': {'color': '#EF553B', 'cornerradius': 5, 'line': {'color': 'black', 'width': 0.5}, 'opacity': 0.6},\n",
      "    'name': 'Acu307',\n",
      "    'opacity': 0.6,\n",
      "    'showlegend': False,\n",
      "    'x': [Acu307],\n",
      "    'y': [6013.984444444444]\n",
      "}), Bar({\n",
      "    'marker': {'color': '#00CC96', 'cornerradius': 5, 'line': {'color': 'black', 'width': 0.5}, 'opacity': 0.6},\n",
      "    'name': 'Acu307',\n",
      "    'opacity': 0.6,\n",
      "    'showlegend': False,\n",
      "    'width': 0.65,\n",
      "    'x': [Acu307],\n",
      "    'y': [4070.5411188111516]\n",
      "}), Bar({\n",
      "    'marker': {'color': '#EF553B', 'cornerradius': 5, 'line': {'color': 'black', 'width': 0.5}, 'opacity': 0.6},\n",
      "    'name': 'Acu308',\n",
      "    'opacity': 0.6,\n",
      "    'showlegend': False,\n",
      "    'x': [Acu308],\n",
      "    'y': [6013.984444444444]\n",
      "}), Bar({\n",
      "    'marker': {'color': '#00CC96', 'cornerradius': 5, 'line': {'color': 'black', 'width': 0.5}, 'opacity': 0.6},\n",
      "    'name': 'Acu308',\n",
      "    'opacity': 0.6,\n",
      "    'showlegend': False,\n",
      "    'width': 0.65,\n",
      "    'x': [Acu308],\n",
      "    'y': [4079.4598377507286]\n",
      "}), Bar({\n",
      "    'marker': {'color': '#EF553B'}, 'name': 'Actual', 'x': [None], 'y': [None]\n",
      "}), Bar({\n",
      "    'marker': {'color': '#00CC96'}, 'name': 'Predicted', 'x': [None], 'y': [None]\n",
      "}))\n"
     ]
    }
   ],
   "source": [
    "print(fig.fig.data)"
   ]
  },
  {
   "cell_type": "code",
   "execution_count": 17,
   "metadata": {},
   "outputs": [],
   "source": [
    "data = {\n",
    "            \"building_no\": [1,1,2,3,1,1],\n",
    "            'Zone_name': ['ActEast','ActEast','Ac-2-1','Ahu-G-01','West3','West3'],\n",
    "            'Datetime': ['2023-03-24','2023-03-24','2023-03-24','2023-03-24','2023-03-24','2023-03-24'],\n",
    "            'Season':[2,2,2,2,2,2],\n",
    "            'Faulty':[True,True,False,False,True,False],\n",
    "            'Fan_status':['On','Off','On','Off','On','Off'],\n",
    "            'Fan_time_diff':[3000,4000,6000,7000,8000,9000],\n",
    "            'Predicted':[7000,8000,10000,2000,8000,9000]\n",
    "        }\n",
    "\n",
    "newdf = pd.DataFrame(data)"
   ]
  },
  {
   "cell_type": "code",
   "execution_count": 19,
   "metadata": {},
   "outputs": [],
   "source": [
    "newfig = BarChartCreator(newdf,1)"
   ]
  },
  {
   "cell_type": "code",
   "execution_count": 21,
   "metadata": {},
   "outputs": [
    {
     "data": {
      "application/vnd.plotly.v1+json": {
       "config": {
        "plotlyServerURL": "https://plot.ly"
       },
       "data": [
        {
         "marker": {
          "color": "#EF553B",
          "cornerradius": 5,
          "line": {
           "color": "black",
           "width": 0.5
          },
          "opacity": 0.6
         },
         "name": "ActEast",
         "opacity": 0.6,
         "showlegend": false,
         "type": "bar",
         "x": [
          "ActEast"
         ],
         "y": [
          0.8333333333333334
         ]
        },
        {
         "marker": {
          "color": "#00CC96",
          "cornerradius": 5,
          "line": {
           "color": "black",
           "width": 0.5
          },
          "opacity": 0.6
         },
         "name": "ActEast",
         "opacity": 0.6,
         "showlegend": false,
         "type": "bar",
         "width": 0.65,
         "x": [
          "ActEast"
         ],
         "y": [
          1.9444444444444444
         ]
        },
        {
         "marker": {
          "color": "#EF553B",
          "cornerradius": 5,
          "line": {
           "color": "black",
           "width": 0.5
          },
          "opacity": 0.6
         },
         "name": "West3",
         "opacity": 0.6,
         "showlegend": false,
         "type": "bar",
         "x": [
          "West3"
         ],
         "y": [
          2.2222222222222223
         ]
        },
        {
         "marker": {
          "color": "#00CC96",
          "cornerradius": 5,
          "line": {
           "color": "black",
           "width": 0.5
          },
          "opacity": 0.6
         },
         "name": "West3",
         "opacity": 0.6,
         "showlegend": false,
         "type": "bar",
         "width": 0.65,
         "x": [
          "West3"
         ],
         "y": [
          2.2222222222222223
         ]
        },
        {
         "marker": {
          "color": "#EF553B"
         },
         "name": "Actual",
         "type": "bar",
         "x": [
          null
         ],
         "y": [
          null
         ]
        },
        {
         "marker": {
          "color": "#00CC96"
         },
         "name": "Predicted",
         "type": "bar",
         "x": [
          null
         ],
         "y": [
          null
         ]
        }
       ],
       "layout": {
        "barmode": "overlay",
        "legend": {
         "orientation": "h",
         "x": 1,
         "xanchor": "right",
         "y": 1,
         "yanchor": "bottom"
        },
        "margin": {
         "b": 50,
         "l": 50,
         "r": 50,
         "t": 50
        },
        "template": {
         "data": {
          "bar": [
           {
            "error_x": {
             "color": "#2a3f5f"
            },
            "error_y": {
             "color": "#2a3f5f"
            },
            "marker": {
             "line": {
              "color": "#E5ECF6",
              "width": 0.5
             },
             "pattern": {
              "fillmode": "overlay",
              "size": 10,
              "solidity": 0.2
             }
            },
            "type": "bar"
           }
          ],
          "barpolar": [
           {
            "marker": {
             "line": {
              "color": "#E5ECF6",
              "width": 0.5
             },
             "pattern": {
              "fillmode": "overlay",
              "size": 10,
              "solidity": 0.2
             }
            },
            "type": "barpolar"
           }
          ],
          "carpet": [
           {
            "aaxis": {
             "endlinecolor": "#2a3f5f",
             "gridcolor": "white",
             "linecolor": "white",
             "minorgridcolor": "white",
             "startlinecolor": "#2a3f5f"
            },
            "baxis": {
             "endlinecolor": "#2a3f5f",
             "gridcolor": "white",
             "linecolor": "white",
             "minorgridcolor": "white",
             "startlinecolor": "#2a3f5f"
            },
            "type": "carpet"
           }
          ],
          "choropleth": [
           {
            "colorbar": {
             "outlinewidth": 0,
             "ticks": ""
            },
            "type": "choropleth"
           }
          ],
          "contour": [
           {
            "colorbar": {
             "outlinewidth": 0,
             "ticks": ""
            },
            "colorscale": [
             [
              0,
              "#0d0887"
             ],
             [
              0.1111111111111111,
              "#46039f"
             ],
             [
              0.2222222222222222,
              "#7201a8"
             ],
             [
              0.3333333333333333,
              "#9c179e"
             ],
             [
              0.4444444444444444,
              "#bd3786"
             ],
             [
              0.5555555555555556,
              "#d8576b"
             ],
             [
              0.6666666666666666,
              "#ed7953"
             ],
             [
              0.7777777777777778,
              "#fb9f3a"
             ],
             [
              0.8888888888888888,
              "#fdca26"
             ],
             [
              1,
              "#f0f921"
             ]
            ],
            "type": "contour"
           }
          ],
          "contourcarpet": [
           {
            "colorbar": {
             "outlinewidth": 0,
             "ticks": ""
            },
            "type": "contourcarpet"
           }
          ],
          "heatmap": [
           {
            "colorbar": {
             "outlinewidth": 0,
             "ticks": ""
            },
            "colorscale": [
             [
              0,
              "#0d0887"
             ],
             [
              0.1111111111111111,
              "#46039f"
             ],
             [
              0.2222222222222222,
              "#7201a8"
             ],
             [
              0.3333333333333333,
              "#9c179e"
             ],
             [
              0.4444444444444444,
              "#bd3786"
             ],
             [
              0.5555555555555556,
              "#d8576b"
             ],
             [
              0.6666666666666666,
              "#ed7953"
             ],
             [
              0.7777777777777778,
              "#fb9f3a"
             ],
             [
              0.8888888888888888,
              "#fdca26"
             ],
             [
              1,
              "#f0f921"
             ]
            ],
            "type": "heatmap"
           }
          ],
          "heatmapgl": [
           {
            "colorbar": {
             "outlinewidth": 0,
             "ticks": ""
            },
            "colorscale": [
             [
              0,
              "#0d0887"
             ],
             [
              0.1111111111111111,
              "#46039f"
             ],
             [
              0.2222222222222222,
              "#7201a8"
             ],
             [
              0.3333333333333333,
              "#9c179e"
             ],
             [
              0.4444444444444444,
              "#bd3786"
             ],
             [
              0.5555555555555556,
              "#d8576b"
             ],
             [
              0.6666666666666666,
              "#ed7953"
             ],
             [
              0.7777777777777778,
              "#fb9f3a"
             ],
             [
              0.8888888888888888,
              "#fdca26"
             ],
             [
              1,
              "#f0f921"
             ]
            ],
            "type": "heatmapgl"
           }
          ],
          "histogram": [
           {
            "marker": {
             "pattern": {
              "fillmode": "overlay",
              "size": 10,
              "solidity": 0.2
             }
            },
            "type": "histogram"
           }
          ],
          "histogram2d": [
           {
            "colorbar": {
             "outlinewidth": 0,
             "ticks": ""
            },
            "colorscale": [
             [
              0,
              "#0d0887"
             ],
             [
              0.1111111111111111,
              "#46039f"
             ],
             [
              0.2222222222222222,
              "#7201a8"
             ],
             [
              0.3333333333333333,
              "#9c179e"
             ],
             [
              0.4444444444444444,
              "#bd3786"
             ],
             [
              0.5555555555555556,
              "#d8576b"
             ],
             [
              0.6666666666666666,
              "#ed7953"
             ],
             [
              0.7777777777777778,
              "#fb9f3a"
             ],
             [
              0.8888888888888888,
              "#fdca26"
             ],
             [
              1,
              "#f0f921"
             ]
            ],
            "type": "histogram2d"
           }
          ],
          "histogram2dcontour": [
           {
            "colorbar": {
             "outlinewidth": 0,
             "ticks": ""
            },
            "colorscale": [
             [
              0,
              "#0d0887"
             ],
             [
              0.1111111111111111,
              "#46039f"
             ],
             [
              0.2222222222222222,
              "#7201a8"
             ],
             [
              0.3333333333333333,
              "#9c179e"
             ],
             [
              0.4444444444444444,
              "#bd3786"
             ],
             [
              0.5555555555555556,
              "#d8576b"
             ],
             [
              0.6666666666666666,
              "#ed7953"
             ],
             [
              0.7777777777777778,
              "#fb9f3a"
             ],
             [
              0.8888888888888888,
              "#fdca26"
             ],
             [
              1,
              "#f0f921"
             ]
            ],
            "type": "histogram2dcontour"
           }
          ],
          "mesh3d": [
           {
            "colorbar": {
             "outlinewidth": 0,
             "ticks": ""
            },
            "type": "mesh3d"
           }
          ],
          "parcoords": [
           {
            "line": {
             "colorbar": {
              "outlinewidth": 0,
              "ticks": ""
             }
            },
            "type": "parcoords"
           }
          ],
          "pie": [
           {
            "automargin": true,
            "type": "pie"
           }
          ],
          "scatter": [
           {
            "fillpattern": {
             "fillmode": "overlay",
             "size": 10,
             "solidity": 0.2
            },
            "type": "scatter"
           }
          ],
          "scatter3d": [
           {
            "line": {
             "colorbar": {
              "outlinewidth": 0,
              "ticks": ""
             }
            },
            "marker": {
             "colorbar": {
              "outlinewidth": 0,
              "ticks": ""
             }
            },
            "type": "scatter3d"
           }
          ],
          "scattercarpet": [
           {
            "marker": {
             "colorbar": {
              "outlinewidth": 0,
              "ticks": ""
             }
            },
            "type": "scattercarpet"
           }
          ],
          "scattergeo": [
           {
            "marker": {
             "colorbar": {
              "outlinewidth": 0,
              "ticks": ""
             }
            },
            "type": "scattergeo"
           }
          ],
          "scattergl": [
           {
            "marker": {
             "colorbar": {
              "outlinewidth": 0,
              "ticks": ""
             }
            },
            "type": "scattergl"
           }
          ],
          "scattermapbox": [
           {
            "marker": {
             "colorbar": {
              "outlinewidth": 0,
              "ticks": ""
             }
            },
            "type": "scattermapbox"
           }
          ],
          "scatterpolar": [
           {
            "marker": {
             "colorbar": {
              "outlinewidth": 0,
              "ticks": ""
             }
            },
            "type": "scatterpolar"
           }
          ],
          "scatterpolargl": [
           {
            "marker": {
             "colorbar": {
              "outlinewidth": 0,
              "ticks": ""
             }
            },
            "type": "scatterpolargl"
           }
          ],
          "scatterternary": [
           {
            "marker": {
             "colorbar": {
              "outlinewidth": 0,
              "ticks": ""
             }
            },
            "type": "scatterternary"
           }
          ],
          "surface": [
           {
            "colorbar": {
             "outlinewidth": 0,
             "ticks": ""
            },
            "colorscale": [
             [
              0,
              "#0d0887"
             ],
             [
              0.1111111111111111,
              "#46039f"
             ],
             [
              0.2222222222222222,
              "#7201a8"
             ],
             [
              0.3333333333333333,
              "#9c179e"
             ],
             [
              0.4444444444444444,
              "#bd3786"
             ],
             [
              0.5555555555555556,
              "#d8576b"
             ],
             [
              0.6666666666666666,
              "#ed7953"
             ],
             [
              0.7777777777777778,
              "#fb9f3a"
             ],
             [
              0.8888888888888888,
              "#fdca26"
             ],
             [
              1,
              "#f0f921"
             ]
            ],
            "type": "surface"
           }
          ],
          "table": [
           {
            "cells": {
             "fill": {
              "color": "#EBF0F8"
             },
             "line": {
              "color": "white"
             }
            },
            "header": {
             "fill": {
              "color": "#C8D4E3"
             },
             "line": {
              "color": "white"
             }
            },
            "type": "table"
           }
          ]
         },
         "layout": {
          "annotationdefaults": {
           "arrowcolor": "#2a3f5f",
           "arrowhead": 0,
           "arrowwidth": 1
          },
          "autotypenumbers": "strict",
          "coloraxis": {
           "colorbar": {
            "outlinewidth": 0,
            "ticks": ""
           }
          },
          "colorscale": {
           "diverging": [
            [
             0,
             "#8e0152"
            ],
            [
             0.1,
             "#c51b7d"
            ],
            [
             0.2,
             "#de77ae"
            ],
            [
             0.3,
             "#f1b6da"
            ],
            [
             0.4,
             "#fde0ef"
            ],
            [
             0.5,
             "#f7f7f7"
            ],
            [
             0.6,
             "#e6f5d0"
            ],
            [
             0.7,
             "#b8e186"
            ],
            [
             0.8,
             "#7fbc41"
            ],
            [
             0.9,
             "#4d9221"
            ],
            [
             1,
             "#276419"
            ]
           ],
           "sequential": [
            [
             0,
             "#0d0887"
            ],
            [
             0.1111111111111111,
             "#46039f"
            ],
            [
             0.2222222222222222,
             "#7201a8"
            ],
            [
             0.3333333333333333,
             "#9c179e"
            ],
            [
             0.4444444444444444,
             "#bd3786"
            ],
            [
             0.5555555555555556,
             "#d8576b"
            ],
            [
             0.6666666666666666,
             "#ed7953"
            ],
            [
             0.7777777777777778,
             "#fb9f3a"
            ],
            [
             0.8888888888888888,
             "#fdca26"
            ],
            [
             1,
             "#f0f921"
            ]
           ],
           "sequentialminus": [
            [
             0,
             "#0d0887"
            ],
            [
             0.1111111111111111,
             "#46039f"
            ],
            [
             0.2222222222222222,
             "#7201a8"
            ],
            [
             0.3333333333333333,
             "#9c179e"
            ],
            [
             0.4444444444444444,
             "#bd3786"
            ],
            [
             0.5555555555555556,
             "#d8576b"
            ],
            [
             0.6666666666666666,
             "#ed7953"
            ],
            [
             0.7777777777777778,
             "#fb9f3a"
            ],
            [
             0.8888888888888888,
             "#fdca26"
            ],
            [
             1,
             "#f0f921"
            ]
           ]
          },
          "colorway": [
           "#636efa",
           "#EF553B",
           "#00cc96",
           "#ab63fa",
           "#FFA15A",
           "#19d3f3",
           "#FF6692",
           "#B6E880",
           "#FF97FF",
           "#FECB52"
          ],
          "font": {
           "color": "#2a3f5f"
          },
          "geo": {
           "bgcolor": "white",
           "lakecolor": "white",
           "landcolor": "#E5ECF6",
           "showlakes": true,
           "showland": true,
           "subunitcolor": "white"
          },
          "hoverlabel": {
           "align": "left"
          },
          "hovermode": "closest",
          "mapbox": {
           "style": "light"
          },
          "paper_bgcolor": "white",
          "plot_bgcolor": "#E5ECF6",
          "polar": {
           "angularaxis": {
            "gridcolor": "white",
            "linecolor": "white",
            "ticks": ""
           },
           "bgcolor": "#E5ECF6",
           "radialaxis": {
            "gridcolor": "white",
            "linecolor": "white",
            "ticks": ""
           }
          },
          "scene": {
           "xaxis": {
            "backgroundcolor": "#E5ECF6",
            "gridcolor": "white",
            "gridwidth": 2,
            "linecolor": "white",
            "showbackground": true,
            "ticks": "",
            "zerolinecolor": "white"
           },
           "yaxis": {
            "backgroundcolor": "#E5ECF6",
            "gridcolor": "white",
            "gridwidth": 2,
            "linecolor": "white",
            "showbackground": true,
            "ticks": "",
            "zerolinecolor": "white"
           },
           "zaxis": {
            "backgroundcolor": "#E5ECF6",
            "gridcolor": "white",
            "gridwidth": 2,
            "linecolor": "white",
            "showbackground": true,
            "ticks": "",
            "zerolinecolor": "white"
           }
          },
          "shapedefaults": {
           "line": {
            "color": "#2a3f5f"
           }
          },
          "ternary": {
           "aaxis": {
            "gridcolor": "white",
            "linecolor": "white",
            "ticks": ""
           },
           "baxis": {
            "gridcolor": "white",
            "linecolor": "white",
            "ticks": ""
           },
           "bgcolor": "#E5ECF6",
           "caxis": {
            "gridcolor": "white",
            "linecolor": "white",
            "ticks": ""
           }
          },
          "title": {
           "x": 0.05
          },
          "xaxis": {
           "automargin": true,
           "gridcolor": "white",
           "linecolor": "white",
           "ticks": "",
           "title": {
            "standoff": 15
           },
           "zerolinecolor": "white",
           "zerolinewidth": 2
          },
          "yaxis": {
           "automargin": true,
           "gridcolor": "white",
           "linecolor": "white",
           "ticks": "",
           "title": {
            "standoff": 15
           },
           "zerolinecolor": "white",
           "zerolinewidth": 2
          }
         }
        },
        "xaxis": {
         "title": {
          "text": "<b>Building 1 Zones</b>"
         }
        },
        "yaxis": {
         "title": {
          "text": "<b>Total Time Fan On (hours)</b>"
         }
        }
       }
      }
     },
     "metadata": {},
     "output_type": "display_data"
    }
   ],
   "source": [
    "newfig.fig"
   ]
  },
  {
   "cell_type": "code",
   "execution_count": 22,
   "metadata": {},
   "outputs": [
    {
     "name": "stdout",
     "output_type": "stream",
     "text": [
      "(Bar({\n",
      "    'marker': {'color': '#EF553B', 'cornerradius': 5, 'line': {'color': 'black', 'width': 0.5}, 'opacity': 0.6},\n",
      "    'name': 'ActEast',\n",
      "    'opacity': 0.6,\n",
      "    'showlegend': False,\n",
      "    'x': [ActEast],\n",
      "    'y': [0.8333333333333334]\n",
      "}), Bar({\n",
      "    'marker': {'color': '#00CC96', 'cornerradius': 5, 'line': {'color': 'black', 'width': 0.5}, 'opacity': 0.6},\n",
      "    'name': 'ActEast',\n",
      "    'opacity': 0.6,\n",
      "    'showlegend': False,\n",
      "    'width': 0.65,\n",
      "    'x': [ActEast],\n",
      "    'y': [1.9444444444444444]\n",
      "}), Bar({\n",
      "    'marker': {'color': '#EF553B', 'cornerradius': 5, 'line': {'color': 'black', 'width': 0.5}, 'opacity': 0.6},\n",
      "    'name': 'West3',\n",
      "    'opacity': 0.6,\n",
      "    'showlegend': False,\n",
      "    'x': [West3],\n",
      "    'y': [2.2222222222222223]\n",
      "}), Bar({\n",
      "    'marker': {'color': '#00CC96', 'cornerradius': 5, 'line': {'color': 'black', 'width': 0.5}, 'opacity': 0.6},\n",
      "    'name': 'West3',\n",
      "    'opacity': 0.6,\n",
      "    'showlegend': False,\n",
      "    'width': 0.65,\n",
      "    'x': [West3],\n",
      "    'y': [2.2222222222222223]\n",
      "}), Bar({\n",
      "    'marker': {'color': '#EF553B'}, 'name': 'Actual', 'x': [None], 'y': [None]\n",
      "}), Bar({\n",
      "    'marker': {'color': '#00CC96'}, 'name': 'Predicted', 'x': [None], 'y': [None]\n",
      "}))\n"
     ]
    }
   ],
   "source": [
    "print(newfig.fig.data)"
   ]
  },
  {
   "cell_type": "code",
   "execution_count": 20,
   "metadata": {},
   "outputs": [
    {
     "data": {
      "text/plain": [
       "6"
      ]
     },
     "execution_count": 20,
     "metadata": {},
     "output_type": "execute_result"
    }
   ],
   "source": [
    "len(newfig.fig.data)"
   ]
  },
  {
   "cell_type": "code",
   "execution_count": 25,
   "metadata": {},
   "outputs": [
    {
     "data": {
      "application/vnd.plotly.v1+json": {
       "config": {
        "plotlyServerURL": "https://plot.ly"
       },
       "data": [
        {
         "hole": 0.2,
         "labels": [
          "Savings",
          "Regular Usage"
         ],
         "pull": [
          0,
          0.1
         ],
         "type": "pie",
         "values": [
          6634536.103284817,
          14449391.896715183
         ]
        }
       ],
       "layout": {
        "legend": {
         "orientation": "h",
         "x": 0.5,
         "xanchor": "center",
         "y": 1,
         "yanchor": "bottom"
        },
        "margin": {
         "b": 50,
         "l": 50,
         "r": 50,
         "t": 50
        },
        "template": {
         "data": {
          "bar": [
           {
            "error_x": {
             "color": "#2a3f5f"
            },
            "error_y": {
             "color": "#2a3f5f"
            },
            "marker": {
             "line": {
              "color": "#E5ECF6",
              "width": 0.5
             },
             "pattern": {
              "fillmode": "overlay",
              "size": 10,
              "solidity": 0.2
             }
            },
            "type": "bar"
           }
          ],
          "barpolar": [
           {
            "marker": {
             "line": {
              "color": "#E5ECF6",
              "width": 0.5
             },
             "pattern": {
              "fillmode": "overlay",
              "size": 10,
              "solidity": 0.2
             }
            },
            "type": "barpolar"
           }
          ],
          "carpet": [
           {
            "aaxis": {
             "endlinecolor": "#2a3f5f",
             "gridcolor": "white",
             "linecolor": "white",
             "minorgridcolor": "white",
             "startlinecolor": "#2a3f5f"
            },
            "baxis": {
             "endlinecolor": "#2a3f5f",
             "gridcolor": "white",
             "linecolor": "white",
             "minorgridcolor": "white",
             "startlinecolor": "#2a3f5f"
            },
            "type": "carpet"
           }
          ],
          "choropleth": [
           {
            "colorbar": {
             "outlinewidth": 0,
             "ticks": ""
            },
            "type": "choropleth"
           }
          ],
          "contour": [
           {
            "colorbar": {
             "outlinewidth": 0,
             "ticks": ""
            },
            "colorscale": [
             [
              0,
              "#0d0887"
             ],
             [
              0.1111111111111111,
              "#46039f"
             ],
             [
              0.2222222222222222,
              "#7201a8"
             ],
             [
              0.3333333333333333,
              "#9c179e"
             ],
             [
              0.4444444444444444,
              "#bd3786"
             ],
             [
              0.5555555555555556,
              "#d8576b"
             ],
             [
              0.6666666666666666,
              "#ed7953"
             ],
             [
              0.7777777777777778,
              "#fb9f3a"
             ],
             [
              0.8888888888888888,
              "#fdca26"
             ],
             [
              1,
              "#f0f921"
             ]
            ],
            "type": "contour"
           }
          ],
          "contourcarpet": [
           {
            "colorbar": {
             "outlinewidth": 0,
             "ticks": ""
            },
            "type": "contourcarpet"
           }
          ],
          "heatmap": [
           {
            "colorbar": {
             "outlinewidth": 0,
             "ticks": ""
            },
            "colorscale": [
             [
              0,
              "#0d0887"
             ],
             [
              0.1111111111111111,
              "#46039f"
             ],
             [
              0.2222222222222222,
              "#7201a8"
             ],
             [
              0.3333333333333333,
              "#9c179e"
             ],
             [
              0.4444444444444444,
              "#bd3786"
             ],
             [
              0.5555555555555556,
              "#d8576b"
             ],
             [
              0.6666666666666666,
              "#ed7953"
             ],
             [
              0.7777777777777778,
              "#fb9f3a"
             ],
             [
              0.8888888888888888,
              "#fdca26"
             ],
             [
              1,
              "#f0f921"
             ]
            ],
            "type": "heatmap"
           }
          ],
          "heatmapgl": [
           {
            "colorbar": {
             "outlinewidth": 0,
             "ticks": ""
            },
            "colorscale": [
             [
              0,
              "#0d0887"
             ],
             [
              0.1111111111111111,
              "#46039f"
             ],
             [
              0.2222222222222222,
              "#7201a8"
             ],
             [
              0.3333333333333333,
              "#9c179e"
             ],
             [
              0.4444444444444444,
              "#bd3786"
             ],
             [
              0.5555555555555556,
              "#d8576b"
             ],
             [
              0.6666666666666666,
              "#ed7953"
             ],
             [
              0.7777777777777778,
              "#fb9f3a"
             ],
             [
              0.8888888888888888,
              "#fdca26"
             ],
             [
              1,
              "#f0f921"
             ]
            ],
            "type": "heatmapgl"
           }
          ],
          "histogram": [
           {
            "marker": {
             "pattern": {
              "fillmode": "overlay",
              "size": 10,
              "solidity": 0.2
             }
            },
            "type": "histogram"
           }
          ],
          "histogram2d": [
           {
            "colorbar": {
             "outlinewidth": 0,
             "ticks": ""
            },
            "colorscale": [
             [
              0,
              "#0d0887"
             ],
             [
              0.1111111111111111,
              "#46039f"
             ],
             [
              0.2222222222222222,
              "#7201a8"
             ],
             [
              0.3333333333333333,
              "#9c179e"
             ],
             [
              0.4444444444444444,
              "#bd3786"
             ],
             [
              0.5555555555555556,
              "#d8576b"
             ],
             [
              0.6666666666666666,
              "#ed7953"
             ],
             [
              0.7777777777777778,
              "#fb9f3a"
             ],
             [
              0.8888888888888888,
              "#fdca26"
             ],
             [
              1,
              "#f0f921"
             ]
            ],
            "type": "histogram2d"
           }
          ],
          "histogram2dcontour": [
           {
            "colorbar": {
             "outlinewidth": 0,
             "ticks": ""
            },
            "colorscale": [
             [
              0,
              "#0d0887"
             ],
             [
              0.1111111111111111,
              "#46039f"
             ],
             [
              0.2222222222222222,
              "#7201a8"
             ],
             [
              0.3333333333333333,
              "#9c179e"
             ],
             [
              0.4444444444444444,
              "#bd3786"
             ],
             [
              0.5555555555555556,
              "#d8576b"
             ],
             [
              0.6666666666666666,
              "#ed7953"
             ],
             [
              0.7777777777777778,
              "#fb9f3a"
             ],
             [
              0.8888888888888888,
              "#fdca26"
             ],
             [
              1,
              "#f0f921"
             ]
            ],
            "type": "histogram2dcontour"
           }
          ],
          "mesh3d": [
           {
            "colorbar": {
             "outlinewidth": 0,
             "ticks": ""
            },
            "type": "mesh3d"
           }
          ],
          "parcoords": [
           {
            "line": {
             "colorbar": {
              "outlinewidth": 0,
              "ticks": ""
             }
            },
            "type": "parcoords"
           }
          ],
          "pie": [
           {
            "automargin": true,
            "type": "pie"
           }
          ],
          "scatter": [
           {
            "fillpattern": {
             "fillmode": "overlay",
             "size": 10,
             "solidity": 0.2
            },
            "type": "scatter"
           }
          ],
          "scatter3d": [
           {
            "line": {
             "colorbar": {
              "outlinewidth": 0,
              "ticks": ""
             }
            },
            "marker": {
             "colorbar": {
              "outlinewidth": 0,
              "ticks": ""
             }
            },
            "type": "scatter3d"
           }
          ],
          "scattercarpet": [
           {
            "marker": {
             "colorbar": {
              "outlinewidth": 0,
              "ticks": ""
             }
            },
            "type": "scattercarpet"
           }
          ],
          "scattergeo": [
           {
            "marker": {
             "colorbar": {
              "outlinewidth": 0,
              "ticks": ""
             }
            },
            "type": "scattergeo"
           }
          ],
          "scattergl": [
           {
            "marker": {
             "colorbar": {
              "outlinewidth": 0,
              "ticks": ""
             }
            },
            "type": "scattergl"
           }
          ],
          "scattermapbox": [
           {
            "marker": {
             "colorbar": {
              "outlinewidth": 0,
              "ticks": ""
             }
            },
            "type": "scattermapbox"
           }
          ],
          "scatterpolar": [
           {
            "marker": {
             "colorbar": {
              "outlinewidth": 0,
              "ticks": ""
             }
            },
            "type": "scatterpolar"
           }
          ],
          "scatterpolargl": [
           {
            "marker": {
             "colorbar": {
              "outlinewidth": 0,
              "ticks": ""
             }
            },
            "type": "scatterpolargl"
           }
          ],
          "scatterternary": [
           {
            "marker": {
             "colorbar": {
              "outlinewidth": 0,
              "ticks": ""
             }
            },
            "type": "scatterternary"
           }
          ],
          "surface": [
           {
            "colorbar": {
             "outlinewidth": 0,
             "ticks": ""
            },
            "colorscale": [
             [
              0,
              "#0d0887"
             ],
             [
              0.1111111111111111,
              "#46039f"
             ],
             [
              0.2222222222222222,
              "#7201a8"
             ],
             [
              0.3333333333333333,
              "#9c179e"
             ],
             [
              0.4444444444444444,
              "#bd3786"
             ],
             [
              0.5555555555555556,
              "#d8576b"
             ],
             [
              0.6666666666666666,
              "#ed7953"
             ],
             [
              0.7777777777777778,
              "#fb9f3a"
             ],
             [
              0.8888888888888888,
              "#fdca26"
             ],
             [
              1,
              "#f0f921"
             ]
            ],
            "type": "surface"
           }
          ],
          "table": [
           {
            "cells": {
             "fill": {
              "color": "#EBF0F8"
             },
             "line": {
              "color": "white"
             }
            },
            "header": {
             "fill": {
              "color": "#C8D4E3"
             },
             "line": {
              "color": "white"
             }
            },
            "type": "table"
           }
          ]
         },
         "layout": {
          "annotationdefaults": {
           "arrowcolor": "#2a3f5f",
           "arrowhead": 0,
           "arrowwidth": 1
          },
          "autotypenumbers": "strict",
          "coloraxis": {
           "colorbar": {
            "outlinewidth": 0,
            "ticks": ""
           }
          },
          "colorscale": {
           "diverging": [
            [
             0,
             "#8e0152"
            ],
            [
             0.1,
             "#c51b7d"
            ],
            [
             0.2,
             "#de77ae"
            ],
            [
             0.3,
             "#f1b6da"
            ],
            [
             0.4,
             "#fde0ef"
            ],
            [
             0.5,
             "#f7f7f7"
            ],
            [
             0.6,
             "#e6f5d0"
            ],
            [
             0.7,
             "#b8e186"
            ],
            [
             0.8,
             "#7fbc41"
            ],
            [
             0.9,
             "#4d9221"
            ],
            [
             1,
             "#276419"
            ]
           ],
           "sequential": [
            [
             0,
             "#0d0887"
            ],
            [
             0.1111111111111111,
             "#46039f"
            ],
            [
             0.2222222222222222,
             "#7201a8"
            ],
            [
             0.3333333333333333,
             "#9c179e"
            ],
            [
             0.4444444444444444,
             "#bd3786"
            ],
            [
             0.5555555555555556,
             "#d8576b"
            ],
            [
             0.6666666666666666,
             "#ed7953"
            ],
            [
             0.7777777777777778,
             "#fb9f3a"
            ],
            [
             0.8888888888888888,
             "#fdca26"
            ],
            [
             1,
             "#f0f921"
            ]
           ],
           "sequentialminus": [
            [
             0,
             "#0d0887"
            ],
            [
             0.1111111111111111,
             "#46039f"
            ],
            [
             0.2222222222222222,
             "#7201a8"
            ],
            [
             0.3333333333333333,
             "#9c179e"
            ],
            [
             0.4444444444444444,
             "#bd3786"
            ],
            [
             0.5555555555555556,
             "#d8576b"
            ],
            [
             0.6666666666666666,
             "#ed7953"
            ],
            [
             0.7777777777777778,
             "#fb9f3a"
            ],
            [
             0.8888888888888888,
             "#fdca26"
            ],
            [
             1,
             "#f0f921"
            ]
           ]
          },
          "colorway": [
           "#636efa",
           "#EF553B",
           "#00cc96",
           "#ab63fa",
           "#FFA15A",
           "#19d3f3",
           "#FF6692",
           "#B6E880",
           "#FF97FF",
           "#FECB52"
          ],
          "font": {
           "color": "#2a3f5f"
          },
          "geo": {
           "bgcolor": "white",
           "lakecolor": "white",
           "landcolor": "#E5ECF6",
           "showlakes": true,
           "showland": true,
           "subunitcolor": "white"
          },
          "hoverlabel": {
           "align": "left"
          },
          "hovermode": "closest",
          "mapbox": {
           "style": "light"
          },
          "paper_bgcolor": "white",
          "plot_bgcolor": "#E5ECF6",
          "polar": {
           "angularaxis": {
            "gridcolor": "white",
            "linecolor": "white",
            "ticks": ""
           },
           "bgcolor": "#E5ECF6",
           "radialaxis": {
            "gridcolor": "white",
            "linecolor": "white",
            "ticks": ""
           }
          },
          "scene": {
           "xaxis": {
            "backgroundcolor": "#E5ECF6",
            "gridcolor": "white",
            "gridwidth": 2,
            "linecolor": "white",
            "showbackground": true,
            "ticks": "",
            "zerolinecolor": "white"
           },
           "yaxis": {
            "backgroundcolor": "#E5ECF6",
            "gridcolor": "white",
            "gridwidth": 2,
            "linecolor": "white",
            "showbackground": true,
            "ticks": "",
            "zerolinecolor": "white"
           },
           "zaxis": {
            "backgroundcolor": "#E5ECF6",
            "gridcolor": "white",
            "gridwidth": 2,
            "linecolor": "white",
            "showbackground": true,
            "ticks": "",
            "zerolinecolor": "white"
           }
          },
          "shapedefaults": {
           "line": {
            "color": "#2a3f5f"
           }
          },
          "ternary": {
           "aaxis": {
            "gridcolor": "white",
            "linecolor": "white",
            "ticks": ""
           },
           "baxis": {
            "gridcolor": "white",
            "linecolor": "white",
            "ticks": ""
           },
           "bgcolor": "#E5ECF6",
           "caxis": {
            "gridcolor": "white",
            "linecolor": "white",
            "ticks": ""
           }
          },
          "title": {
           "x": 0.05
          },
          "xaxis": {
           "automargin": true,
           "gridcolor": "white",
           "linecolor": "white",
           "ticks": "",
           "title": {
            "standoff": 15
           },
           "zerolinecolor": "white",
           "zerolinewidth": 2
          },
          "yaxis": {
           "automargin": true,
           "gridcolor": "white",
           "linecolor": "white",
           "ticks": "",
           "title": {
            "standoff": 15
           },
           "zerolinecolor": "white",
           "zerolinewidth": 2
          }
         }
        }
       }
      }
     },
     "metadata": {},
     "output_type": "display_data"
    }
   ],
   "source": [
    "pie = PieChartCreator(df,1,\"Acu101\")\n",
    "pie.fig"
   ]
  },
  {
   "cell_type": "code",
   "execution_count": 34,
   "metadata": {},
   "outputs": [
    {
     "name": "stdout",
     "output_type": "stream",
     "text": [
      "(6634536.103284817, 14449391.896715183)\n"
     ]
    }
   ],
   "source": [
    "print(pie.fig.data[0].values)"
   ]
  },
  {
   "cell_type": "code",
   "execution_count": 75,
   "metadata": {},
   "outputs": [
    {
     "name": "stdout",
     "output_type": "stream",
     "text": [
      "Scattergl({\n",
      "    'marker': {'color': '#00CC96', 'line': {'color': 'black', 'width': 0.5}, 'size': 6},\n",
      "    'mode': 'markers+lines',\n",
      "    'name': 'Predicted',\n",
      "    'x': array([datetime.date(2023, 4, 24), datetime.date(2023, 5, 1),\n",
      "                datetime.date(2023, 5, 8), datetime.date(2023, 5, 15),\n",
      "                datetime.date(2023, 5, 22), datetime.date(2023, 5, 29),\n",
      "                datetime.date(2023, 5, 29), datetime.date(2023, 6, 5),\n",
      "                datetime.date(2023, 6, 12), datetime.date(2023, 6, 26),\n",
      "                datetime.date(2023, 7, 3), datetime.date(2023, 7, 10),\n",
      "                datetime.date(2023, 7, 17), datetime.date(2023, 7, 24),\n",
      "                datetime.date(2023, 7, 31), datetime.date(2023, 8, 7),\n",
      "                datetime.date(2023, 8, 14), datetime.date(2023, 8, 21),\n",
      "                datetime.date(2023, 8, 28), datetime.date(2023, 8, 28),\n",
      "                datetime.date(2023, 9, 4), datetime.date(2023, 9, 11),\n",
      "                datetime.date(2023, 9, 18), datetime.date(2023, 9, 25),\n",
      "                datetime.date(2023, 10, 2), datetime.date(2023, 10, 16),\n",
      "                datetime.date(2023, 10, 23), datetime.date(2023, 10, 30),\n",
      "                datetime.date(2023, 11, 6), datetime.date(2023, 11, 13),\n",
      "                datetime.date(2023, 11, 20), datetime.date(2023, 11, 27),\n",
      "                datetime.date(2023, 11, 27), datetime.date(2023, 12, 4),\n",
      "                datetime.date(2023, 12, 11), datetime.date(2023, 12, 18),\n",
      "                datetime.date(2023, 12, 25), datetime.date(2024, 1, 8),\n",
      "                datetime.date(2024, 1, 15), datetime.date(2024, 1, 22),\n",
      "                datetime.date(2024, 1, 29), datetime.date(2024, 2, 5),\n",
      "                datetime.date(2024, 2, 12), datetime.date(2024, 2, 19),\n",
      "                datetime.date(2024, 2, 26), datetime.date(2024, 2, 26),\n",
      "                datetime.date(2024, 3, 4), datetime.date(2024, 3, 11),\n",
      "                datetime.date(2024, 3, 18)], dtype=object),\n",
      "    'y': array([275901.57542951, 445214.23067524, 302611.94912126, 182684.55328499,\n",
      "                482120.70148315, 204767.03628546, 196155.52522167, 405921.23514871,\n",
      "                438698.00633043, 300048.42384179, 332401.98922272, 425074.71573393,\n",
      "                200833.01040216, 422304.46609633, 458459.21855355, 210756.33288467,\n",
      "                180493.88599077, 224062.27151317, 139817.59592009,  78113.0020326 ,\n",
      "                154154.60995841, 273220.79214467, 408443.38367175, 379514.24299161,\n",
      "                256423.51087839, 361534.40638277, 327892.16077921, 207781.110549  ,\n",
      "                177735.780467  , 385576.72404673, 339181.58749467, 158569.91542075,\n",
      "                244447.55482676, 353573.32785437, 443833.1720416 , 415835.23272407,\n",
      "                 74619.27361934, 370096.07344768, 433938.38327396, 236054.69700585,\n",
      "                247232.58212205, 376155.47714923, 265704.26508172, 384576.29972236,\n",
      "                203254.91510955, 178225.12198252, 410952.5075281 , 214997.88143759,\n",
      "                259427.18183131])\n",
      "})\n"
     ]
    }
   ],
   "source": [
    "line_fig = LineChartCreator(df,1,\"Acu101\",agg='week')\n",
    "print(line_fig.fig.data[1])"
   ]
  },
  {
   "cell_type": "code",
   "execution_count": 86,
   "metadata": {},
   "outputs": [
    {
     "data": {
      "text/plain": [
       "(Scattergl({\n",
       "     'marker': {'color': '#EF553B', 'line': {'color': 'black', 'width': 0.5}, 'size': 6},\n",
       "     'mode': 'markers+lines',\n",
       "     'name': 'Actual',\n",
       "     'x': array([datetime.date(2023, 4, 1), datetime.date(2023, 5, 1),\n",
       "                 datetime.date(2023, 6, 1), datetime.date(2023, 7, 1),\n",
       "                 datetime.date(2023, 8, 1), datetime.date(2023, 9, 1),\n",
       "                 datetime.date(2023, 10, 1), datetime.date(2023, 11, 1),\n",
       "                 datetime.date(2023, 12, 1), datetime.date(2024, 1, 1),\n",
       "                 datetime.date(2024, 2, 1), datetime.date(2024, 3, 1)], dtype=object),\n",
       "     'y': array([ 397801., 2230799., 1756800., 2204998., 1682964., 1832983., 1452595.,\n",
       "                 1934400., 2219400., 1759189., 2036400., 1575599.])\n",
       " }),\n",
       " Scattergl({\n",
       "     'marker': {'color': '#00CC96', 'line': {'color': 'black', 'width': 0.5}, 'size': 6},\n",
       "     'mode': 'markers+lines',\n",
       "     'name': 'Predicted',\n",
       "     'x': array([datetime.date(2023, 4, 1), datetime.date(2023, 5, 1),\n",
       "                 datetime.date(2023, 6, 1), datetime.date(2023, 7, 1),\n",
       "                 datetime.date(2023, 8, 1), datetime.date(2023, 9, 1),\n",
       "                 datetime.date(2023, 10, 1), datetime.date(2023, 11, 1),\n",
       "                 datetime.date(2023, 12, 1), datetime.date(2024, 1, 1),\n",
       "                 datetime.date(2024, 2, 1), datetime.date(2024, 3, 1)], dtype=object),\n",
       "     'y': array([ 275901.57542951, 1608786.95978632, 1221922.90036206, 1552403.47039269,\n",
       "                 1169311.81716901, 1240513.82173008, 1067421.18713053, 1286083.85736294,\n",
       "                 1446430.92166012, 1174194.6886178 , 1342818.0042946 , 1063602.69277952])\n",
       " }))"
      ]
     },
     "execution_count": 86,
     "metadata": {},
     "output_type": "execute_result"
    }
   ],
   "source": [
    "line_fig.update_fig(df,1,'Acu101',agg='month').data"
   ]
  },
  {
   "cell_type": "code",
   "execution_count": 79,
   "metadata": {},
   "outputs": [
    {
     "name": "stdout",
     "output_type": "stream",
     "text": [
      "[datetime.date(2023, 4, 24) datetime.date(2023, 5, 1)\n",
      " datetime.date(2023, 5, 8) datetime.date(2023, 5, 15)\n",
      " datetime.date(2023, 5, 22) datetime.date(2023, 5, 29)\n",
      " datetime.date(2023, 5, 29) datetime.date(2023, 6, 5)\n",
      " datetime.date(2023, 6, 12) datetime.date(2023, 6, 26)\n",
      " datetime.date(2023, 7, 3) datetime.date(2023, 7, 10)\n",
      " datetime.date(2023, 7, 17) datetime.date(2023, 7, 24)\n",
      " datetime.date(2023, 7, 31) datetime.date(2023, 8, 7)\n",
      " datetime.date(2023, 8, 14) datetime.date(2023, 8, 21)\n",
      " datetime.date(2023, 8, 28) datetime.date(2023, 8, 28)\n",
      " datetime.date(2023, 9, 4) datetime.date(2023, 9, 11)\n",
      " datetime.date(2023, 9, 18) datetime.date(2023, 9, 25)\n",
      " datetime.date(2023, 10, 2) datetime.date(2023, 10, 16)\n",
      " datetime.date(2023, 10, 23) datetime.date(2023, 10, 30)\n",
      " datetime.date(2023, 11, 6) datetime.date(2023, 11, 13)\n",
      " datetime.date(2023, 11, 20) datetime.date(2023, 11, 27)\n",
      " datetime.date(2023, 11, 27) datetime.date(2023, 12, 4)\n",
      " datetime.date(2023, 12, 11) datetime.date(2023, 12, 18)\n",
      " datetime.date(2023, 12, 25) datetime.date(2024, 1, 8)\n",
      " datetime.date(2024, 1, 15) datetime.date(2024, 1, 22)\n",
      " datetime.date(2024, 1, 29) datetime.date(2024, 2, 5)\n",
      " datetime.date(2024, 2, 12) datetime.date(2024, 2, 19)\n",
      " datetime.date(2024, 2, 26) datetime.date(2024, 2, 26)\n",
      " datetime.date(2024, 3, 4) datetime.date(2024, 3, 11)\n",
      " datetime.date(2024, 3, 18)]\n"
     ]
    }
   ],
   "source": [
    "print(line_fig.fig.data[0].x)"
   ]
  },
  {
   "cell_type": "code",
   "execution_count": 55,
   "metadata": {},
   "outputs": [],
   "source": [
    "data = {\n",
    "            \"building_no\": [1, 1, 1, 2, 3, 1, 1, 2, 3, 1, 2, 3, 1, 2, 3, 1, 1, 2, 3, 1],\n",
    "            'Zone_name': ['ActEast', 'ActEast', 'ActEast', 'Ac-2-1', 'Ahu-G-01', 'West3', 'West3', 'Ac-2-1', 'Ahu-G-01', 'ActEast', 'Ac-2-1', 'Ahu-G-01', 'West3', 'Ac-2-1', 'Ahu-G-01', 'ActEast', 'West3', 'Ac-2-1', 'Ahu-G-01', 'ActEast'],\n",
    "            'Datetime': pd.date_range('2023-03-01', periods=20, freq='D'),\n",
    "            'Season': [2]*20,\n",
    "            'Faulty': [True, True, True, False, False, True, False, True, False,  True, False, False, True, False, True, False, True, False, True, False],\n",
    "            'Fan_status': ['On', 'On', 'On', 'Off', 'Off', 'On', 'Off', 'On', 'Off', 'On', \n",
    "                        'Off', 'Off', 'On', 'On', 'Off', 'On', 'On', 'Off', 'On', 'On'],\n",
    "            'Fan_time_diff': [1000,3000,4000,5000,6000,9000,10000,12000,8000,7000,8800,9000,10000,13000,1000,2000,3000,4000,7000,1000],\n",
    "            'Predicted': [2000,4000,6000,3000,10000,12000,8000,10000,3000,2000,8200,5700,3000,9500,8100,4300,7500,6700,8900,3000]\n",
    "        }"
   ]
  },
  {
   "cell_type": "code",
   "execution_count": 56,
   "metadata": {},
   "outputs": [],
   "source": [
    "line_df = pd.DataFrame(data)"
   ]
  },
  {
   "cell_type": "code",
   "execution_count": 65,
   "metadata": {},
   "outputs": [],
   "source": [
    "line_df = line_df[(line_df.building_no==1)&(line_df.Fan_status=='On')&(line_df.Zone_name==\"ActEast\")]"
   ]
  },
  {
   "cell_type": "code",
   "execution_count": 68,
   "metadata": {},
   "outputs": [],
   "source": [
    "temp = pd.Series(pd.to_datetime(line_df.Datetime, errors='coerce').values, index=line_df.index, name='Datetime')\n",
    "group_mapping = {\n",
    "            'day': temp.dt.date,\n",
    "            'week': temp.dt.to_period('W').apply(lambda r: r.start_time).dt.date,\n",
    "            'month': temp.dt.to_period('M').apply(lambda r: r.start_time).dt.date\n",
    "        }"
   ]
  },
  {
   "cell_type": "code",
   "execution_count": 87,
   "metadata": {},
   "outputs": [
    {
     "data": {
      "text/plain": [
       "2"
      ]
     },
     "execution_count": 87,
     "metadata": {},
     "output_type": "execute_result"
    }
   ],
   "source": [
    "week_df = line_df.groupby(['building_no','Zone_name','Season','Faulty','Fan_status',group_mapping['month']])[['Fan_time_diff','Predicted']].sum().reset_index().sort_values(by='Datetime')\n",
    "len(week_df)\n"
   ]
  },
  {
   "cell_type": "code",
   "execution_count": 3,
   "metadata": {},
   "outputs": [],
   "source": [
    "model = load(\"trained_RFC.joblib\")"
   ]
  },
  {
   "cell_type": "code",
   "execution_count": 12,
   "metadata": {},
   "outputs": [
    {
     "ename": "AttributeError",
     "evalue": "'RandomForestClassifier' object has no attribute 'feature_importance'",
     "output_type": "error",
     "traceback": [
      "\u001b[1;31m---------------------------------------------------------------------------\u001b[0m",
      "\u001b[1;31mAttributeError\u001b[0m                            Traceback (most recent call last)",
      "Cell \u001b[1;32mIn[12], line 1\u001b[0m\n\u001b[1;32m----> 1\u001b[0m \u001b[38;5;28mlist\u001b[39m(\u001b[43mmodel\u001b[49m\u001b[38;5;241;43m.\u001b[39;49m\u001b[43mfeature_importance\u001b[49m)\n",
      "\u001b[1;31mAttributeError\u001b[0m: 'RandomForestClassifier' object has no attribute 'feature_importance'"
     ]
    }
   ],
   "source": [
    "list(model.feature_importance)"
   ]
  },
  {
   "cell_type": "code",
   "execution_count": 5,
   "metadata": {},
   "outputs": [],
   "source": [
    "feature_import = FeatureImportanceCreator(model)"
   ]
  },
  {
   "cell_type": "code",
   "execution_count": 11,
   "metadata": {},
   "outputs": [
    {
     "data": {
      "text/plain": [
       "['Ambient_temp_diff',\n",
       " 'Slab_temp_diff',\n",
       " 'Zone_temp_diff',\n",
       " 'Dew_temp_diff',\n",
       " 'Dew_temp',\n",
       " 'Ambient_temp',\n",
       " 'Slab_temp',\n",
       " 'Zone_co2',\n",
       " 'Damper_status',\n",
       " 'Time',\n",
       " 'Zone_temp']"
      ]
     },
     "execution_count": 11,
     "metadata": {},
     "output_type": "execute_result"
    }
   ],
   "source": [
    "list(feature_import.fig.data[0].y)"
   ]
  },
  {
   "cell_type": "code",
   "execution_count": 44,
   "metadata": {},
   "outputs": [
    {
     "data": {
      "text/html": [
       "<div>\n",
       "<style scoped>\n",
       "    .dataframe tbody tr th:only-of-type {\n",
       "        vertical-align: middle;\n",
       "    }\n",
       "\n",
       "    .dataframe tbody tr th {\n",
       "        vertical-align: top;\n",
       "    }\n",
       "\n",
       "    .dataframe thead th {\n",
       "        text-align: right;\n",
       "    }\n",
       "</style>\n",
       "<table border=\"1\" class=\"dataframe\">\n",
       "  <thead>\n",
       "    <tr style=\"text-align: right;\">\n",
       "      <th></th>\n",
       "      <th>Zone_name</th>\n",
       "      <th>Datetime</th>\n",
       "      <th>Zone_temp</th>\n",
       "      <th>Slab_temp</th>\n",
       "      <th>Dew_temp</th>\n",
       "      <th>Ambient_temp</th>\n",
       "      <th>Zone_co2</th>\n",
       "      <th>Damper_status</th>\n",
       "      <th>Fan_status</th>\n",
       "      <th>Datetime_diff_mins</th>\n",
       "      <th>...</th>\n",
       "      <th>Cumulative_fan_on_mins</th>\n",
       "      <th>Fan_on_group</th>\n",
       "      <th>Cumulative_damper_open_mins</th>\n",
       "      <th>Damper_open_group</th>\n",
       "      <th>building_no</th>\n",
       "      <th>x</th>\n",
       "      <th>y</th>\n",
       "      <th>Predicted</th>\n",
       "      <th>DOW_string</th>\n",
       "      <th>Season_string</th>\n",
       "    </tr>\n",
       "  </thead>\n",
       "  <tbody>\n",
       "    <tr>\n",
       "      <th>0</th>\n",
       "      <td>G-01</td>\n",
       "      <td>2023-01-02 06:54:35</td>\n",
       "      <td>23.0</td>\n",
       "      <td>23.47</td>\n",
       "      <td>14.61</td>\n",
       "      <td>26.8</td>\n",
       "      <td>477.0</td>\n",
       "      <td>10.0</td>\n",
       "      <td>Off</td>\n",
       "      <td>11</td>\n",
       "      <td>...</td>\n",
       "      <td>NaN</td>\n",
       "      <td>NaN</td>\n",
       "      <td>NaN</td>\n",
       "      <td>NaN</td>\n",
       "      <td>3</td>\n",
       "      <td>-51478.434611</td>\n",
       "      <td>25.276090</td>\n",
       "      <td>Off</td>\n",
       "      <td>Monday</td>\n",
       "      <td>Summer</td>\n",
       "    </tr>\n",
       "    <tr>\n",
       "      <th>1</th>\n",
       "      <td>G-01</td>\n",
       "      <td>2023-01-02 09:41:42</td>\n",
       "      <td>22.0</td>\n",
       "      <td>23.08</td>\n",
       "      <td>14.76</td>\n",
       "      <td>28.5</td>\n",
       "      <td>458.4</td>\n",
       "      <td>75.0</td>\n",
       "      <td>Off</td>\n",
       "      <td>11</td>\n",
       "      <td>...</td>\n",
       "      <td>NaN</td>\n",
       "      <td>NaN</td>\n",
       "      <td>NaN</td>\n",
       "      <td>NaN</td>\n",
       "      <td>3</td>\n",
       "      <td>-22771.432149</td>\n",
       "      <td>18.394476</td>\n",
       "      <td>Off</td>\n",
       "      <td>Monday</td>\n",
       "      <td>Summer</td>\n",
       "    </tr>\n",
       "    <tr>\n",
       "      <th>2</th>\n",
       "      <td>G-01</td>\n",
       "      <td>2023-01-02 10:03:57</td>\n",
       "      <td>22.0</td>\n",
       "      <td>23.04</td>\n",
       "      <td>14.78</td>\n",
       "      <td>28.9</td>\n",
       "      <td>470.6</td>\n",
       "      <td>75.0</td>\n",
       "      <td>Off</td>\n",
       "      <td>11</td>\n",
       "      <td>...</td>\n",
       "      <td>NaN</td>\n",
       "      <td>NaN</td>\n",
       "      <td>NaN</td>\n",
       "      <td>NaN</td>\n",
       "      <td>3</td>\n",
       "      <td>-16556.432641</td>\n",
       "      <td>30.650878</td>\n",
       "      <td>Off</td>\n",
       "      <td>Monday</td>\n",
       "      <td>Summer</td>\n",
       "    </tr>\n",
       "    <tr>\n",
       "      <th>3</th>\n",
       "      <td>G-01</td>\n",
       "      <td>2023-01-02 11:10:46</td>\n",
       "      <td>22.0</td>\n",
       "      <td>22.91</td>\n",
       "      <td>14.92</td>\n",
       "      <td>29.0</td>\n",
       "      <td>462.6</td>\n",
       "      <td>75.0</td>\n",
       "      <td>Off</td>\n",
       "      <td>11</td>\n",
       "      <td>...</td>\n",
       "      <td>NaN</td>\n",
       "      <td>NaN</td>\n",
       "      <td>NaN</td>\n",
       "      <td>NaN</td>\n",
       "      <td>3</td>\n",
       "      <td>-5867.432332</td>\n",
       "      <td>23.134549</td>\n",
       "      <td>Off</td>\n",
       "      <td>Monday</td>\n",
       "      <td>Summer</td>\n",
       "    </tr>\n",
       "    <tr>\n",
       "      <th>4</th>\n",
       "      <td>G-01</td>\n",
       "      <td>2023-01-02 13:46:48</td>\n",
       "      <td>22.0</td>\n",
       "      <td>22.70</td>\n",
       "      <td>15.30</td>\n",
       "      <td>33.2</td>\n",
       "      <td>466.6</td>\n",
       "      <td>75.0</td>\n",
       "      <td>Off</td>\n",
       "      <td>11</td>\n",
       "      <td>...</td>\n",
       "      <td>NaN</td>\n",
       "      <td>NaN</td>\n",
       "      <td>NaN</td>\n",
       "      <td>NaN</td>\n",
       "      <td>3</td>\n",
       "      <td>17734.567545</td>\n",
       "      <td>27.873781</td>\n",
       "      <td>Off</td>\n",
       "      <td>Monday</td>\n",
       "      <td>Summer</td>\n",
       "    </tr>\n",
       "  </tbody>\n",
       "</table>\n",
       "<p>5 rows × 31 columns</p>\n",
       "</div>"
      ],
      "text/plain": [
       "  Zone_name            Datetime  Zone_temp  Slab_temp  Dew_temp  Ambient_temp  \\\n",
       "0      G-01 2023-01-02 06:54:35       23.0      23.47     14.61          26.8   \n",
       "1      G-01 2023-01-02 09:41:42       22.0      23.08     14.76          28.5   \n",
       "2      G-01 2023-01-02 10:03:57       22.0      23.04     14.78          28.9   \n",
       "3      G-01 2023-01-02 11:10:46       22.0      22.91     14.92          29.0   \n",
       "4      G-01 2023-01-02 13:46:48       22.0      22.70     15.30          33.2   \n",
       "\n",
       "   Zone_co2  Damper_status Fan_status  Datetime_diff_mins  ...  \\\n",
       "0     477.0           10.0        Off                  11  ...   \n",
       "1     458.4           75.0        Off                  11  ...   \n",
       "2     470.6           75.0        Off                  11  ...   \n",
       "3     462.6           75.0        Off                  11  ...   \n",
       "4     466.6           75.0        Off                  11  ...   \n",
       "\n",
       "  Cumulative_fan_on_mins Fan_on_group  Cumulative_damper_open_mins  \\\n",
       "0                    NaN          NaN                          NaN   \n",
       "1                    NaN          NaN                          NaN   \n",
       "2                    NaN          NaN                          NaN   \n",
       "3                    NaN          NaN                          NaN   \n",
       "4                    NaN          NaN                          NaN   \n",
       "\n",
       "   Damper_open_group  building_no             x          y  Predicted  \\\n",
       "0                NaN            3 -51478.434611  25.276090        Off   \n",
       "1                NaN            3 -22771.432149  18.394476        Off   \n",
       "2                NaN            3 -16556.432641  30.650878        Off   \n",
       "3                NaN            3  -5867.432332  23.134549        Off   \n",
       "4                NaN            3  17734.567545  27.873781        Off   \n",
       "\n",
       "   DOW_string  Season_string  \n",
       "0      Monday         Summer  \n",
       "1      Monday         Summer  \n",
       "2      Monday         Summer  \n",
       "3      Monday         Summer  \n",
       "4      Monday         Summer  \n",
       "\n",
       "[5 rows x 31 columns]"
      ]
     },
     "execution_count": 44,
     "metadata": {},
     "output_type": "execute_result"
    }
   ],
   "source": [
    "new = pd.read_parquet(\"model_comparison_test_data.parquet\")\n",
    "new.head()"
   ]
  },
  {
   "cell_type": "code",
   "execution_count": 55,
   "metadata": {},
   "outputs": [],
   "source": [
    "TP = new[(new['Fan_status'] == \"On\") & (new['Predicted'] == \"On\")].iloc[:5]\n",
    "TN = new[(new['Fan_status'] == \"Off\") & (new['Predicted'] == \"Off\")].iloc[:5]\n",
    "FP = new[(new['Fan_status'] == \"Off\") & (new['Predicted'] == \"On\")].iloc[:5]\n",
    "FN = new[(new['Fan_status'] == \"On\") & (new['Predicted'] == \"Off\")].iloc[:5]"
   ]
  },
  {
   "cell_type": "code",
   "execution_count": 58,
   "metadata": {},
   "outputs": [
    {
     "name": "stderr",
     "output_type": "stream",
     "text": [
      "C:\\Users\\tousi\\AppData\\Local\\Temp\\ipykernel_13840\\1983548458.py:4: FutureWarning:\n",
      "\n",
      "The behavior of DataFrame concatenation with empty or all-NA entries is deprecated. In a future version, this will no longer exclude empty or all-NA columns when determining the result dtypes. To retain the old behavior, exclude the relevant entries before the concat operation.\n",
      "\n"
     ]
    }
   ],
   "source": [
    "values = [TP,TN,FP,FN]\n",
    "test = pd.DataFrame(columns=new.columns)\n",
    "for i in values:\n",
    "    test = pd.concat([test,i],axis=0,ignore_index=True)"
   ]
  },
  {
   "cell_type": "code",
   "execution_count": 59,
   "metadata": {},
   "outputs": [
    {
     "data": {
      "text/plain": [
       "20"
      ]
     },
     "execution_count": 59,
     "metadata": {},
     "output_type": "execute_result"
    }
   ],
   "source": [
    "len(test)"
   ]
  },
  {
   "cell_type": "code",
   "execution_count": 57,
   "metadata": {},
   "outputs": [],
   "source": [
    "del test"
   ]
  },
  {
   "cell_type": "code",
   "execution_count": 45,
   "metadata": {},
   "outputs": [
    {
     "data": {
      "text/plain": [
       "Index(['Zone_name', 'Datetime', 'Zone_temp', 'Slab_temp', 'Dew_temp',\n",
       "       'Ambient_temp', 'Zone_co2', 'Damper_status', 'Fan_status',\n",
       "       'Datetime_diff_mins', 'Date', 'Time', 'Year', 'Month', 'Day', 'DOW',\n",
       "       'Season', 'Zone_temp_diff', 'Slab_temp_diff', 'Dew_temp_diff',\n",
       "       'Ambient_temp_diff', 'Cumulative_fan_on_mins', 'Fan_on_group',\n",
       "       'Cumulative_damper_open_mins', 'Damper_open_group', 'building_no', 'x',\n",
       "       'y', 'Predicted', 'DOW_string', 'Season_string'],\n",
       "      dtype='object')"
      ]
     },
     "execution_count": 45,
     "metadata": {},
     "output_type": "execute_result"
    }
   ],
   "source": [
    "new.columns"
   ]
  },
  {
   "cell_type": "code",
   "execution_count": 29,
   "metadata": {},
   "outputs": [
    {
     "name": "stderr",
     "output_type": "stream",
     "text": [
      "C:\\Users\\tousi\\AppData\\Local\\Temp\\ipykernel_13840\\1566058927.py:2: FutureWarning:\n",
      "\n",
      "The behavior of DataFrame concatenation with empty or all-NA entries is deprecated. In a future version, this will no longer exclude empty or all-NA columns when determining the result dtypes. To retain the old behavior, exclude the relevant entries before the concat operation.\n",
      "\n"
     ]
    }
   ],
   "source": [
    "test = pd.DataFrame(columns=new.columns)\n",
    "updated_data = pd.concat([test,pd.DataFrame([new.iloc[1]])],axis=0,ignore_index=True)"
   ]
  },
  {
   "cell_type": "code",
   "execution_count": 34,
   "metadata": {},
   "outputs": [
    {
     "data": {
      "text/plain": [
       "21"
      ]
     },
     "execution_count": 34,
     "metadata": {},
     "output_type": "execute_result"
    }
   ],
   "source": [
    "random = [1,500,1000,5000,2,4,9,11,88,99,16000,30000,1245,6789,1290,4536,5810,9999,13932,12903,30113]\n",
    "len(random)"
   ]
  },
  {
   "cell_type": "code",
   "execution_count": 46,
   "metadata": {},
   "outputs": [],
   "source": [
    "del test"
   ]
  },
  {
   "cell_type": "code",
   "execution_count": 47,
   "metadata": {},
   "outputs": [
    {
     "name": "stderr",
     "output_type": "stream",
     "text": [
      "C:\\Users\\tousi\\AppData\\Local\\Temp\\ipykernel_13840\\2598940143.py:4: FutureWarning:\n",
      "\n",
      "The behavior of DataFrame concatenation with empty or all-NA entries is deprecated. In a future version, this will no longer exclude empty or all-NA columns when determining the result dtypes. To retain the old behavior, exclude the relevant entries before the concat operation.\n",
      "\n"
     ]
    }
   ],
   "source": [
    "random = [1,500,1000,5000,2,4,9,11,88,99,16000,30000,1245,6789,1290,4536,5810,9999,13932,30113]\n",
    "test = pd.DataFrame(columns=new.columns)\n",
    "for i in random:\n",
    "    test = pd.concat([test,pd.DataFrame([new.iloc[i]])],axis=0,ignore_index=True)\n"
   ]
  },
  {
   "cell_type": "code",
   "execution_count": 36,
   "metadata": {},
   "outputs": [
    {
     "name": "stdout",
     "output_type": "stream",
     "text": [
      "   Zone_name            Datetime  Zone_temp  Slab_temp   Dew_temp  \\\n",
      "0       G-01 2023-01-02 09:41:42       22.0      23.08  14.760000   \n",
      "1       G-01 2023-02-02 01:15:11       21.0      21.04  11.300000   \n",
      "2       G-01 2023-12-30 22:30:09       21.0      20.26  12.096667   \n",
      "3       G-02 2023-02-18 16:41:30       23.0      22.01  13.510000   \n",
      "4       G-01 2023-01-02 10:03:57       22.0      23.04  14.780000   \n",
      "5       G-01 2023-01-02 13:46:48       22.0      22.70  15.300000   \n",
      "6       G-01 2023-01-09 05:33:06       24.0      22.57  13.550000   \n",
      "7       G-01 2023-01-09 20:15:47       22.0      21.66  13.730000   \n",
      "8       G-01 2024-01-16 05:50:09       23.5      22.25  15.150000   \n",
      "9       G-01 2024-01-23 17:40:08       25.0      21.46  12.890000   \n",
      "10      G-04 2023-08-14 20:52:10       20.5      20.57   8.110000   \n",
      "11      G-07 2023-10-03 01:05:38       24.5      21.58  12.010000   \n",
      "12      G-01 2023-03-30 11:11:45       21.0      20.53  11.360000   \n",
      "13      G-02 2023-06-24 10:38:56       19.0      20.53   8.210000   \n",
      "14      G-01 2023-03-24 16:42:23       21.5      21.18  12.460000   \n",
      "15      G-02 2024-01-18 01:20:09       23.5      22.72  14.770000   \n",
      "16      G-02 2023-04-17 19:19:11       21.0      20.37  12.270000   \n",
      "17      G-03 2023-03-04 05:58:30       21.5      20.86  12.400000   \n",
      "18      G-04 2023-12-07 20:20:09       23.0      22.07  12.920000   \n",
      "19      G-07 2023-10-05 21:38:28       22.0      20.48  11.690000   \n",
      "\n",
      "    Ambient_temp    Zone_co2  Damper_status Fan_status Datetime_diff_mins  \\\n",
      "0           28.5  458.400000           75.0        Off                 11   \n",
      "1           16.2  506.000000           10.0        Off                 11   \n",
      "2           15.8  477.533333           10.0        Off                 10   \n",
      "3           23.3  374.200000            0.0        Off                 11   \n",
      "4           28.9  470.600000           75.0        Off                 11   \n",
      "5           33.2  466.600000           75.0        Off                 11   \n",
      "6           19.8  471.000000           10.0        Off                 11   \n",
      "7           19.6  437.000000           10.0        Off                 11   \n",
      "8           21.5  460.200000           10.0        Off                 10   \n",
      "9           31.6  429.800000          100.0        Off                 10   \n",
      "10          10.2  439.200000            0.0        Off                 11   \n",
      "11          23.7  466.600000            0.0        Off                 11   \n",
      "12          17.2  460.200000          100.0        Off                 11   \n",
      "13          12.8  432.600000            0.0        Off                 11   \n",
      "14          19.1  410.000000          100.0        Off                 11   \n",
      "15          15.7  470.000000            0.0        Off                 10   \n",
      "16          18.1  514.000000            0.0        Off                 11   \n",
      "17          14.1  445.400000            0.0        Off                 11   \n",
      "18          23.3  385.200000            0.0        Off                 10   \n",
      "19          13.0  464.400000            0.0        Off                 11   \n",
      "\n",
      "    ... Cumulative_fan_on_mins Fan_on_group Cumulative_damper_open_mins  \\\n",
      "0   ...                    NaN          NaN                         NaN   \n",
      "1   ...                    NaN          NaN                         NaN   \n",
      "2   ...                    NaN          NaN                         NaN   \n",
      "3   ...                    NaN          NaN                         NaN   \n",
      "4   ...                    NaN          NaN                         NaN   \n",
      "5   ...                    NaN          NaN                         NaN   \n",
      "6   ...                    NaN          NaN                         NaN   \n",
      "7   ...                    NaN          NaN                         NaN   \n",
      "8   ...                    NaN          NaN                         NaN   \n",
      "9   ...                    NaN          NaN                       137.0   \n",
      "10  ...                    NaN          NaN                         NaN   \n",
      "11  ...                    NaN          NaN                         NaN   \n",
      "12  ...                    NaN          NaN                        22.0   \n",
      "13  ...                    NaN          NaN                         NaN   \n",
      "14  ...                    NaN          NaN                       319.0   \n",
      "15  ...                    NaN          NaN                         NaN   \n",
      "16  ...                    NaN          NaN                         NaN   \n",
      "17  ...                    NaN          NaN                         NaN   \n",
      "18  ...                    NaN          NaN                         NaN   \n",
      "19  ...                    NaN          NaN                         NaN   \n",
      "\n",
      "   Damper_open_group building_no              x          y  prediction  \\\n",
      "0                NaN           3  -22771.432149  18.394476         Off   \n",
      "1                NaN           3 -105402.435890  52.119153         Off   \n",
      "2                NaN           3  106095.564976  31.550987         Off   \n",
      "3                NaN           3   47216.569067 -74.228396         Off   \n",
      "4                NaN           3  -16556.432641  30.650878         Off   \n",
      "5                NaN           3   17734.567545  27.873781         Off   \n",
      "6                NaN           3  -63607.434465  19.003662         Off   \n",
      "7                NaN           3   84633.566700  -9.268063         Off   \n",
      "8                NaN           3  -61904.434004   8.382535         Off   \n",
      "9              308.0           3   57094.569614  -2.996051         Off   \n",
      "10               NaN           3   88296.566173  -8.442667         Off   \n",
      "11               NaN           3 -106375.434440  11.493557         Off   \n",
      "12              53.0           3   -5768.431771  24.948814         Off   \n",
      "13               NaN           3  -13057.433394 -18.584950         Off   \n",
      "14              50.0           3   47309.570212 -22.732728         Off   \n",
      "15               NaN           3 -104904.434701  14.978693         Off   \n",
      "16               NaN           3   74997.563322  64.795779         Off   \n",
      "17               NaN           3  -61083.433807  -7.702119         Off   \n",
      "18               NaN           3   85095.568575 -62.023139         Off   \n",
      "19               NaN           3   96914.565207  16.682107         Off   \n",
      "\n",
      "    DOW_string  Season_string  \n",
      "0       Monday         Summer  \n",
      "1     Thursday         Summer  \n",
      "2     Saturday         Summer  \n",
      "3     Saturday         Summer  \n",
      "4       Monday         Summer  \n",
      "5       Monday         Summer  \n",
      "6       Monday         Summer  \n",
      "7       Monday         Summer  \n",
      "8      Tuesday         Summer  \n",
      "9      Tuesday         Summer  \n",
      "10      Monday         Winter  \n",
      "11     Tuesday         Spring  \n",
      "12    Thursday         Autumn  \n",
      "13    Saturday         Winter  \n",
      "14      Friday         Autumn  \n",
      "15    Thursday         Summer  \n",
      "16      Monday         Autumn  \n",
      "17    Saturday         Autumn  \n",
      "18    Thursday         Summer  \n",
      "19    Thursday         Spring  \n",
      "\n",
      "[20 rows x 31 columns]\n"
     ]
    }
   ],
   "source": [
    "print(test)"
   ]
  },
  {
   "cell_type": "code",
   "execution_count": 48,
   "metadata": {},
   "outputs": [
    {
     "data": {
      "text/plain": [
       "Index(['Zone_name', 'Datetime', 'Zone_temp', 'Slab_temp', 'Dew_temp',\n",
       "       'Ambient_temp', 'Zone_co2', 'Damper_status', 'Fan_status',\n",
       "       'Datetime_diff_mins', 'Date', 'Time', 'Year', 'Month', 'Day', 'DOW',\n",
       "       'Season', 'Zone_temp_diff', 'Slab_temp_diff', 'Dew_temp_diff',\n",
       "       'Ambient_temp_diff', 'Cumulative_fan_on_mins', 'Fan_on_group',\n",
       "       'Cumulative_damper_open_mins', 'Damper_open_group', 'building_no', 'x',\n",
       "       'y', 'Predicted', 'DOW_string', 'Season_string'],\n",
       "      dtype='object')"
      ]
     },
     "execution_count": 48,
     "metadata": {},
     "output_type": "execute_result"
    }
   ],
   "source": [
    "test.columns"
   ]
  },
  {
   "cell_type": "code",
   "execution_count": 72,
   "metadata": {},
   "outputs": [
    {
     "data": {
      "text/plain": [
       "0      On\n",
       "1      On\n",
       "2      On\n",
       "3      On\n",
       "4      On\n",
       "5     Off\n",
       "6     Off\n",
       "7     Off\n",
       "8     Off\n",
       "9     Off\n",
       "10    Off\n",
       "11    Off\n",
       "12    Off\n",
       "13    Off\n",
       "14    Off\n",
       "15     On\n",
       "16     On\n",
       "17     On\n",
       "18     On\n",
       "19     On\n",
       "Name: Fan_status, dtype: object"
      ]
     },
     "execution_count": 72,
     "metadata": {},
     "output_type": "execute_result"
    }
   ],
   "source": [
    "test.Fan_status"
   ]
  },
  {
   "cell_type": "code",
   "execution_count": null,
   "metadata": {},
   "outputs": [],
   "source": []
  },
  {
   "cell_type": "code",
   "execution_count": 73,
   "metadata": {},
   "outputs": [],
   "source": [
    "test.to_parquet(\"test_data.parquet\")"
   ]
  },
  {
   "cell_type": "code",
   "execution_count": 84,
   "metadata": {},
   "outputs": [
    {
     "data": {
      "text/html": [
       "<div>\n",
       "<style scoped>\n",
       "    .dataframe tbody tr th:only-of-type {\n",
       "        vertical-align: middle;\n",
       "    }\n",
       "\n",
       "    .dataframe tbody tr th {\n",
       "        vertical-align: top;\n",
       "    }\n",
       "\n",
       "    .dataframe thead th {\n",
       "        text-align: right;\n",
       "    }\n",
       "</style>\n",
       "<table border=\"1\" class=\"dataframe\">\n",
       "  <thead>\n",
       "    <tr style=\"text-align: right;\">\n",
       "      <th></th>\n",
       "      <th>Fan_status</th>\n",
       "      <th>Predicted</th>\n",
       "      <th>Datetime</th>\n",
       "    </tr>\n",
       "  </thead>\n",
       "  <tbody>\n",
       "    <tr>\n",
       "      <th>0</th>\n",
       "      <td>On</td>\n",
       "      <td>On</td>\n",
       "      <td>2023-12-08 15:20:09</td>\n",
       "    </tr>\n",
       "    <tr>\n",
       "      <th>1</th>\n",
       "      <td>On</td>\n",
       "      <td>On</td>\n",
       "      <td>2023-03-27 06:16:08</td>\n",
       "    </tr>\n",
       "    <tr>\n",
       "      <th>2</th>\n",
       "      <td>On</td>\n",
       "      <td>On</td>\n",
       "      <td>2023-03-27 06:27:18</td>\n",
       "    </tr>\n",
       "    <tr>\n",
       "      <th>3</th>\n",
       "      <td>On</td>\n",
       "      <td>On</td>\n",
       "      <td>2023-03-09 06:17:12</td>\n",
       "    </tr>\n",
       "    <tr>\n",
       "      <th>4</th>\n",
       "      <td>On</td>\n",
       "      <td>On</td>\n",
       "      <td>2023-03-09 06:28:22</td>\n",
       "    </tr>\n",
       "    <tr>\n",
       "      <th>5</th>\n",
       "      <td>Off</td>\n",
       "      <td>Off</td>\n",
       "      <td>2023-01-02 06:54:35</td>\n",
       "    </tr>\n",
       "    <tr>\n",
       "      <th>6</th>\n",
       "      <td>Off</td>\n",
       "      <td>Off</td>\n",
       "      <td>2023-01-02 09:41:42</td>\n",
       "    </tr>\n",
       "    <tr>\n",
       "      <th>7</th>\n",
       "      <td>Off</td>\n",
       "      <td>Off</td>\n",
       "      <td>2023-01-02 10:03:57</td>\n",
       "    </tr>\n",
       "    <tr>\n",
       "      <th>8</th>\n",
       "      <td>Off</td>\n",
       "      <td>Off</td>\n",
       "      <td>2023-01-02 11:10:46</td>\n",
       "    </tr>\n",
       "    <tr>\n",
       "      <th>9</th>\n",
       "      <td>Off</td>\n",
       "      <td>Off</td>\n",
       "      <td>2023-01-02 13:46:48</td>\n",
       "    </tr>\n",
       "    <tr>\n",
       "      <th>10</th>\n",
       "      <td>Off</td>\n",
       "      <td>On</td>\n",
       "      <td>2023-12-13 17:10:09</td>\n",
       "    </tr>\n",
       "    <tr>\n",
       "      <th>11</th>\n",
       "      <td>Off</td>\n",
       "      <td>On</td>\n",
       "      <td>2023-07-20 09:27:22</td>\n",
       "    </tr>\n",
       "    <tr>\n",
       "      <th>12</th>\n",
       "      <td>Off</td>\n",
       "      <td>On</td>\n",
       "      <td>2023-08-14 14:00:26</td>\n",
       "    </tr>\n",
       "    <tr>\n",
       "      <th>13</th>\n",
       "      <td>Off</td>\n",
       "      <td>On</td>\n",
       "      <td>2023-08-14 17:03:32</td>\n",
       "    </tr>\n",
       "    <tr>\n",
       "      <th>14</th>\n",
       "      <td>Off</td>\n",
       "      <td>On</td>\n",
       "      <td>2023-10-31 06:10:14</td>\n",
       "    </tr>\n",
       "    <tr>\n",
       "      <th>15</th>\n",
       "      <td>On</td>\n",
       "      <td>Off</td>\n",
       "      <td>2023-05-02 06:09:08</td>\n",
       "    </tr>\n",
       "    <tr>\n",
       "      <th>16</th>\n",
       "      <td>On</td>\n",
       "      <td>Off</td>\n",
       "      <td>2023-05-05 06:08:32</td>\n",
       "    </tr>\n",
       "    <tr>\n",
       "      <th>17</th>\n",
       "      <td>On</td>\n",
       "      <td>Off</td>\n",
       "      <td>2023-06-19 06:10:56</td>\n",
       "    </tr>\n",
       "    <tr>\n",
       "      <th>18</th>\n",
       "      <td>On</td>\n",
       "      <td>Off</td>\n",
       "      <td>2023-06-22 06:11:35</td>\n",
       "    </tr>\n",
       "    <tr>\n",
       "      <th>19</th>\n",
       "      <td>On</td>\n",
       "      <td>Off</td>\n",
       "      <td>2023-07-25 06:41:17</td>\n",
       "    </tr>\n",
       "  </tbody>\n",
       "</table>\n",
       "</div>"
      ],
      "text/plain": [
       "   Fan_status Predicted            Datetime\n",
       "0          On        On 2023-12-08 15:20:09\n",
       "1          On        On 2023-03-27 06:16:08\n",
       "2          On        On 2023-03-27 06:27:18\n",
       "3          On        On 2023-03-09 06:17:12\n",
       "4          On        On 2023-03-09 06:28:22\n",
       "5         Off       Off 2023-01-02 06:54:35\n",
       "6         Off       Off 2023-01-02 09:41:42\n",
       "7         Off       Off 2023-01-02 10:03:57\n",
       "8         Off       Off 2023-01-02 11:10:46\n",
       "9         Off       Off 2023-01-02 13:46:48\n",
       "10        Off        On 2023-12-13 17:10:09\n",
       "11        Off        On 2023-07-20 09:27:22\n",
       "12        Off        On 2023-08-14 14:00:26\n",
       "13        Off        On 2023-08-14 17:03:32\n",
       "14        Off        On 2023-10-31 06:10:14\n",
       "15         On       Off 2023-05-02 06:09:08\n",
       "16         On       Off 2023-05-05 06:08:32\n",
       "17         On       Off 2023-06-19 06:10:56\n",
       "18         On       Off 2023-06-22 06:11:35\n",
       "19         On       Off 2023-07-25 06:41:17"
      ]
     },
     "execution_count": 84,
     "metadata": {},
     "output_type": "execute_result"
    }
   ],
   "source": [
    "test_data = pd.read_parquet(\"test_data.parquet\")\n",
    "test.iloc[:21][[\"Fan_status\",\"Predicted\",'Datetime']]"
   ]
  },
  {
   "cell_type": "code",
   "execution_count": 75,
   "metadata": {},
   "outputs": [],
   "source": [
    "from viz_classes import ConfusionMatrixCreator,ScatterPlotCreator\n",
    "cm = ConfusionMatrixCreator(test_data)"
   ]
  },
  {
   "cell_type": "code",
   "execution_count": 74,
   "metadata": {},
   "outputs": [
    {
     "data": {
      "text/plain": [
       "tuple"
      ]
     },
     "execution_count": 74,
     "metadata": {},
     "output_type": "execute_result"
    }
   ],
   "source": [
    "type(cm.fig.data[0].z)"
   ]
  },
  {
   "cell_type": "code",
   "execution_count": 147,
   "metadata": {},
   "outputs": [
    {
     "data": {
      "text/plain": [
       "Timestamp('2023-05-02 06:09:08')"
      ]
     },
     "execution_count": 147,
     "metadata": {},
     "output_type": "execute_result"
    }
   ],
   "source": [
    "input = \"2023-12-08\"\n",
    "calculated_data = test_data[((test_data['Fan_status'] == \"On\") & (test_data['Predicted'] == \"Off\"))].Datetime\n",
    "calculated_data.iloc[0]"
   ]
  },
  {
   "cell_type": "code",
   "execution_count": 151,
   "metadata": {},
   "outputs": [
    {
     "data": {
      "text/plain": [
       "(Scattergl({\n",
       "     'legendgroup': 'keys',\n",
       "     'legendgrouptitle': {'text': '<b>Keys</b>'},\n",
       "     'marker': {'color': 'lightgrey', 'line': {'color': 'lightgrey', 'width': 1}, 'size': 12, 'symbol': 'circle'},\n",
       "     'mode': 'markers',\n",
       "     'name': 'Fan ON, Prediction On',\n",
       "     'x': [None],\n",
       "     'y': [None]\n",
       " }),\n",
       " Scattergl({\n",
       "     'legendgroup': 'keys',\n",
       "     'legendgrouptitle': {'text': '<b>Keys</b>'},\n",
       "     'marker': {'color': 'lightgrey', 'line': {'color': 'lightgrey', 'width': 1}, 'size': 12, 'symbol': 'cross'},\n",
       "     'mode': 'markers',\n",
       "     'name': 'Fan OFF, Prediction OFF',\n",
       "     'x': [None],\n",
       "     'y': [None]\n",
       " }),\n",
       " Scattergl({\n",
       "     'legendgroup': 'keys',\n",
       "     'legendgrouptitle': {'text': '<b>Keys</b>'},\n",
       "     'marker': {'color': 'lightgrey', 'line': {'color': 'black', 'width': 1}, 'size': 12, 'symbol': 'circle'},\n",
       "     'mode': 'markers',\n",
       "     'name': 'Fan ON, Prediction OFF',\n",
       "     'x': [None],\n",
       "     'y': [None]\n",
       " }),\n",
       " Scattergl({\n",
       "     'legendgroup': 'keys',\n",
       "     'legendgrouptitle': {'text': '<b>Keys</b>'},\n",
       "     'marker': {'color': 'lightgrey', 'line': {'color': 'black', 'width': 1}, 'size': 12, 'symbol': 'cross'},\n",
       "     'mode': 'markers',\n",
       "     'name': 'Fan OFF, Prediction ON',\n",
       "     'x': [None],\n",
       "     'y': [None]\n",
       " }))"
      ]
     },
     "execution_count": 151,
     "metadata": {},
     "output_type": "execute_result"
    }
   ],
   "source": [
    "scatter = ScatterPlotCreator(test_data,\"2023-01-03\")\n",
    "scatter.fig.data"
   ]
  },
  {
   "cell_type": "code",
   "execution_count": 103,
   "metadata": {},
   "outputs": [],
   "source": [
    "scatters = scatter.fig.data\n",
    "data = []\n",
    "for scatter in scatters:\n",
    "    if scatter.name == 'Fan: On, Prediction: On':\n",
    "        for i in scatter.x:\n",
    "            data.append(i)"
   ]
  },
  {
   "cell_type": "code",
   "execution_count": 104,
   "metadata": {},
   "outputs": [
    {
     "data": {
      "text/plain": [
       "[35095.56196656993]"
      ]
     },
     "execution_count": 104,
     "metadata": {},
     "output_type": "execute_result"
    }
   ],
   "source": [
    "data "
   ]
  },
  {
   "cell_type": "code",
   "execution_count": 93,
   "metadata": {},
   "outputs": [],
   "source": [
    "scatters = scatter"
   ]
  }
 ],
 "metadata": {
  "kernelspec": {
   "display_name": "newenv",
   "language": "python",
   "name": "python3"
  },
  "language_info": {
   "codemirror_mode": {
    "name": "ipython",
    "version": 3
   },
   "file_extension": ".py",
   "mimetype": "text/x-python",
   "name": "python",
   "nbconvert_exporter": "python",
   "pygments_lexer": "ipython3",
   "version": "3.10.11"
  }
 },
 "nbformat": 4,
 "nbformat_minor": 2
}
